{
    "metadata": {
        "kernelspec": {
            "name": "SQL",
            "display_name": "SQL",
            "language": "sql"
        },
        "language_info": {
            "name": "sql",
            "version": ""
        }
    },
    "nbformat_minor": 2,
    "nbformat": 4,
    "cells": [
        {
            "cell_type": "markdown",
            "source": [
                "![Kursysql.pl](..\\logo.jpg)\n",
                "\n",
                "# TSQL Funkcje\n",
                "\n",
                "20 stycznia 2021 - webinar - Tomasz Libera [libera@kursysql.pl](mailto:libera@kursysql.pl)\n",
                "\n",
                "## Agenda\n",
                "\n",
                "- Funkcje skalarne i funkcje agregujące\n",
                "- Rodzaje funkcji skalarnych\n",
                "    - Funkcje konwersji\n",
                "    - Funkcje tekstowe\n",
                "    - Funkcje daty i czasu\n",
                "    - Funkcje logiczne\n",
                "- Tworzenie funkcji skalarnych - wprowadzenie\n",
                "- Funkcje agregujące\n",
                "- Zadania \n",
                "\n",
                "## Zasoby\n",
                "\n",
                "- [GitHub](https://github.com/kursysql/kursysql-live)\n",
                "- [SQL w 120 min](https://www.kursysql.pl/szkolenie-sql-w-120-minut/)\n",
                "- [SQL od podstaw](https://www.kursysql.pl/szkolenie-sql-od-podstaw/) (zapisy do 29 stycznia)\n",
                "- [Instalacja i konfiguracja SQL Server](https://www.youtube.com/watch?v=d_iApF0FC9Q) (zapis webinaru)\n",
                "- [Pobierz: SQL Server 2019](https://www.microsoft.com/pl-pl/sql-server/sql-server-downloads)\n",
                "- [What are the SQL database functions?](https://docs.microsoft.com/en-us/sql/t-sql/functions/functions?view=sql-server-ver15) (docs.microsoft.com)\n",
                "\n",
                "## Northwind\n",
                "\n",
                "- [Northwind and pubs sample databases for Microsoft SQL Server](https://github.com/microsoft/sql-server-samples/tree/master/samples/databases/northwind-pubs)\n",
                "- nie trzeba odtwarzać kopii zapasowej - wystarczy wykonać [ten](https://raw.githubusercontent.com/microsoft/sql-server-samples/master/samples/databases/northwind-pubs/instnwnd.sql) skrypt\n",
                "- przykładowa baza danych dołączana do SQL Server 2000 i MS Access\n",
                "- prosta, tylko 13 tabel, wszystkie w schemacie dbo\n",
                "- obecnie jako przykładowe bazy danych częściej wykorzystywane\n",
                "    - [AdventureWorks](https://github.com/Microsoft/sql-server-samples/releases/tag/adventureworks)\n",
                "    - [Wide World Importers](https://github.com/Microsoft/sql-server-samples/releases/tag/wide-world-importers-v1.0)\n",
                "- Tabele: Orders, OrderDetails, Territories, Region, Employees, Product, Categories...\n",
                "\n",
                "## Funkcje skalarne i funkcje agregujące"
            ],
            "metadata": {
                "azdata_cell_guid": "bc310f0b-6e65-4950-954f-cf3106599bf4"
            }
        },
        {
            "cell_type": "markdown",
            "source": [
                "## Zadania \n",
                "\n",
                "1. Wyświetl daty zamówień w formacie: dd.mm.yyyy\n",
                "2. Wyświetl w jednej kolumnie identyfikator produktu i nazwę: \"1/ Chai\"\n",
                "3. Wyświetl pierwsze 3 litery nazwy kraju klientów, wyróżnione wielkimi literami\n",
                "4. Wyświetl inicjały klientów\n",
                "5. Wyświetl z tabeli klientami kraje, które zaczynają się na literę 'B'\n",
                "6. Wyświetl pracownika, który urodzili się w maju\n",
                "7. Wylicz wiek pracowników\n",
                "8. Sprawdź wartość pozycji zamówień (UnitPrice x Quantity) i zaokrąglij je do setek\n",
                "9. Wyświetl zamówienia, których dostawa trwała ponad tydzień\n",
                "10. Dla zamówień których dostawa trwała ponad tydzień - wyświetl w dodatkowej kolumnie 'opóźnione'"
            ],
            "metadata": {
                "azdata_cell_guid": "baf3921c-e6b5-4332-a8d9-3a2203b51fc0"
            }
        }
    ]
}