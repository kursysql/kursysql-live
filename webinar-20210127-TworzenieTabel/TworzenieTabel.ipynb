{
    "metadata": {
        "kernelspec": {
            "name": "SQL",
            "display_name": "SQL",
            "language": "sql"
        },
        "language_info": {
            "name": "sql",
            "version": ""
        }
    },
    "nbformat_minor": 2,
    "nbformat": 4,
    "cells": [
        {
            "cell_type": "markdown",
            "source": [
                "![Kursysql.pl](..\\logo.jpg)\n",
                "\n",
                "# Tworzenie tabel\n",
                "\n",
                "27 stycznia 2021 - webinar - Tomasz Libera [libera@kursysql.pl](mailto:libera@kursysql.pl)\n",
                "\n",
                "## Agenda\n",
                "\n",
                "- Pierwsza tabela\n",
                "    - klucze główne\n",
                "    - IDENTITY\n",
                "    - NULL/ NOT NULL\n",
                "- Modyfikowanie danych\n",
                "- Typy danych\n",
                "- Normalizacja\n",
                "    - diagram\n",
                "    - klucze obce\n",
                "    - jeden do wielu VS wiele do wielu\n",
                "- Constraints: DEFAULT, UNIQUE, CHECK\n",
                "\n",
                "- Zadanie: dokończ bazę danych na podstawie diagramu\n",
                "\n",
                "## Zasoby\n",
                "\n",
                "- [GitHub KursySQL-live](https://github.com/kursysql/kursysql-live)\n",
                "- [SQL w 120 min](https://www.kursysql.pl/szkolenie-sql-w-120-minut/)\n",
                "- [SQL od podstaw](https://www.kursysql.pl/szkolenie-sql-od-podstaw/) (zapisy do 29 stycznia)\n",
                "- [Instalacja i konfiguracja SQL Server](https://www.youtube.com/watch?v=d_iApF0FC9Q) (zapis webinaru)\n",
                "- [Pobierz: SQL Server 2019](https://www.microsoft.com/pl-pl/sql-server/sql-server-downloads)\n",
                "- [Spotkanie MS TEAMS](https://teams.microsoft.com/l/meetup-join/19%3ameeting_NjVhZTAwYzgtMGQ1Mi00MTQ3LTliMzYtM2NmM2ViYzhjYjcx%40thread.v2/0?context=%7b%22Tid%22%3a%22df754217-29e5-4804-8f67-a71311a3cd0f%22%2c%22Oid%22%3a%22fce6fbbd-e275-4379-9253-9f40c2bc8f48%22%7d) (zaraz po webinarze)\n",
                "\n",
                "## Pierwsza tabela\n",
                "\n",
                "Podczas tworzenia tabeli:\n",
                "\n",
                "- Muszą zostać określone kolumny i typy danych\n",
                "- Powinien być określony Primary key (klucz główny)\n",
                "- Powinno być określone czy kolumny mogą przechowywać wartości nieokreślone"
            ],
            "metadata": {
                "azdata_cell_guid": "bc310f0b-6e65-4950-954f-cf3106599bf4"
            }
        },
        {
            "cell_type": "code",
            "source": [
                "CREATE TABLE RodzajPokoju (\r\n",
                "\tRodzajPokojuID int PRIMARY KEY IDENTITY,\r\n",
                "\tRodzajPokoju nvarchar(50) NOT NULL\r\n",
                ")"
            ],
            "metadata": {
                "azdata_cell_guid": "26381650-dc8f-48be-8c19-b989f390e802",
                "tags": []
            },
            "outputs": [],
            "execution_count": null
        },
        {
            "cell_type": "markdown",
            "source": [
                "## Modyfikowanie danych\r\n",
                "- INSERT – wstawianie\r\n",
                "- UPDATE – modyfikowanie\r\n",
                "- DELETE – kasowanie\r\n",
                "- MERGE – wstawianie/ modyfikowanie/ kasowanie\r\n",
                "- TRUNCATE – skasowanie całej zawartości tabeli"
            ],
            "metadata": {
                "azdata_cell_guid": "c85b0120-26c4-489f-92b6-52e4b595662d"
            }
        },
        {
            "cell_type": "code",
            "source": [
                "INSERT INTO RodzajPokoju (RodzajPokoju) VALUES ('1 osob')\r\n",
                "INSERT INTO RodzajPokoju (RodzajPokoju) VALUES ('2 osobowy')\r\n",
                "\r\n",
                "-- wstawianie wielu wierszy jednocześnie\r\n",
                "INSERT INTO RodzajPokoju (RodzajPokoju) VALUES ('3 osobowy'), ('4 osobowy'), ('apartament 2 os'), ('do skasowania')\r\n",
                "\r\n",
                "-- modyfikowanie dnaych\r\n",
                "UPDATE RodzajPokoju SET RodzajPokoju = '1 osobbowy' WHERE RodzajPokojuID = 1\r\n",
                "\r\n",
                "DELETE FROM RodzajPokoju WHERE RodzajPokoju = 'do skasowania'\r\n",
                ""
            ],
            "metadata": {
                "azdata_cell_guid": "2ede9246-a66c-4067-a1ab-84a8748b15e8"
            },
            "outputs": [],
            "execution_count": null
        },
        {
            "cell_type": "markdown",
            "source": [
                "## Typy danych\r\n",
                "### Liczbowe\r\n",
                "- Całkowite: bigint | int | smallint | tinyint | bit | decimal(p,s) | numeric | money | smallmoney\r\n",
                "- O zmiennej dokładności (aproksymowane): float (n) | real\r\n",
                "\r\n",
                "### Daty i czasu\r\n",
                "- datetime | smalldatetime | datetime2 | datetimeoffset | date | time\r\n",
                "\r\n",
                "### Tekstowe (łańcuchy znaków)\r\n",
                "- char | varchar | nchar | nvarchar | text | ntext\r\n",
                "\r\n",
                "### Dane binarne\r\n",
                "- binary | varbinary | image\r\n",
                "\r\n",
                "### Inne\r\n",
                "- cursor | sql_variant | table | uniqueidentifier | xml | spatial | timestamp |\r\n",
                "rowversion"
            ],
            "metadata": {
                "azdata_cell_guid": "6d1925d8-3934-4cac-8245-2bf2fb02ff05"
            }
        },
        {
            "cell_type": "markdown",
            "source": [
                "## Normalizacja\r\n",
                "Organizacja danych w tabelach i kolumnach w celu usunięcia nadmiarowych danych (duplikatów) i innych anomalii.\r\n",
                "\r\n",
                "Postacie normalne - postulaty Edgara F. Codd-a, przedstawione w \"A Relational Model of Data for Large Shared Data Banks\".\r\n",
                "\r\n",
                "### Tabela przed normalizacją\r\n",
                "\r\n",
                ""
            ],
            "metadata": {
                "azdata_cell_guid": "61a8c482-9723-46f4-b6d5-6bf362e0e047"
            }
        },
        {
            "cell_type": "code",
            "source": [
                "SELECT  * FROM Wczasy1"
            ],
            "metadata": {
                "azdata_cell_guid": "4b691e0f-5cf4-4bd8-b032-a1af13a54f59"
            },
            "outputs": [
                {
                    "output_type": "display_data",
                    "data": {
                        "text/html": "(2 rows affected)"
                    },
                    "metadata": {}
                },
                {
                    "output_type": "display_data",
                    "data": {
                        "text/html": "Total execution time: 00:00:00.003"
                    },
                    "metadata": {}
                },
                {
                    "output_type": "execute_result",
                    "execution_count": 3,
                    "data": {
                        "application/vnd.dataresource+json": {
                            "schema": {
                                "fields": [
                                    {
                                        "name": "ID"
                                    },
                                    {
                                        "name": "NazwaHotelu"
                                    },
                                    {
                                        "name": "IleGwiazdek"
                                    },
                                    {
                                        "name": "Miejsce"
                                    },
                                    {
                                        "name": "MiejsceOpis"
                                    },
                                    {
                                        "name": "Panstwo"
                                    },
                                    {
                                        "name": "PanstwoOpis"
                                    },
                                    {
                                        "name": "OpisOferty"
                                    },
                                    {
                                        "name": "Kategoria"
                                    }
                                ]
                            },
                            "data": [
                                {
                                    "0": "1",
                                    "1": "Hotel Sea Gull Beach Resort",
                                    "2": "5",
                                    "3": "Hurghada",
                                    "4": "Świetny punkt wypadowy do zwiedzania zabytków starożytnego świata",
                                    "5": "Egipt",
                                    "6": "Królestwo faraonów i tajemnicze piramidy",
                                    "7": "Czterogwiazdkowy, stylowy, otwarty w 2001 r., częściowo odnowiony w 2019 r.",
                                    "8": "Wypocznij z rodziną"
                                },
                                {
                                    "0": "2",
                                    "1": "Hotel Albatros Aqua Park",
                                    "2": "4",
                                    "3": "Hurghada",
                                    "4": "Świetny punkt wypadowy do zwiedzania zabytków starożytnego świata",
                                    "5": "Egipt",
                                    "6": "Królestwo faraonów i tajemnicze piramidy",
                                    "7": "243 pokoje, przestronne lobby, całodobowa recepcja",
                                    "8": "Wypocznij z rodziną"
                                }
                            ]
                        },
                        "text/html": "<table><tr><th>ID</th><th>NazwaHotelu</th><th>IleGwiazdek</th><th>Miejsce</th><th>MiejsceOpis</th><th>Panstwo</th><th>PanstwoOpis</th><th>OpisOferty</th><th>Kategoria</th></tr><tr><td>1</td><td>Hotel Sea Gull Beach Resort</td><td>5</td><td>Hurghada</td><td>Świetny punkt wypadowy do zwiedzania zabytków starożytnego świata</td><td>Egipt</td><td>Królestwo faraonów i tajemnicze piramidy</td><td>Czterogwiazdkowy, stylowy, otwarty w 2001 r., częściowo odnowiony w 2019 r.</td><td>Wypocznij z rodziną</td></tr><tr><td>2</td><td>Hotel Albatros Aqua Park</td><td>4</td><td>Hurghada</td><td>Świetny punkt wypadowy do zwiedzania zabytków starożytnego świata</td><td>Egipt</td><td>Królestwo faraonów i tajemnicze piramidy</td><td>243 pokoje, przestronne lobby, całodobowa recepcja</td><td>Wypocznij z rodziną</td></tr></table>"
                    },
                    "metadata": {
                        "resultSet": {
                            "id": 0,
                            "batchId": 0,
                            "rowCount": 2,
                            "complete": true,
                            "columnInfo": [
                                {
                                    "isBytes": false,
                                    "isChars": false,
                                    "isSqlVariant": false,
                                    "isUdt": false,
                                    "isXml": false,
                                    "isJson": false,
                                    "sqlDbType": 8,
                                    "isHierarchyId": false,
                                    "isSqlXmlType": false,
                                    "isUnknownType": false,
                                    "isUpdatable": false,
                                    "allowDBNull": false,
                                    "baseCatalogName": null,
                                    "baseColumnName": null,
                                    "baseSchemaName": null,
                                    "baseServerName": null,
                                    "baseTableName": null,
                                    "columnName": "ID",
                                    "columnOrdinal": 0,
                                    "columnSize": 4,
                                    "isAliased": null,
                                    "isAutoIncrement": true,
                                    "isExpression": null,
                                    "isHidden": null,
                                    "isIdentity": true,
                                    "isKey": null,
                                    "isLong": false,
                                    "isReadOnly": true,
                                    "isUnique": false,
                                    "numericPrecision": 10,
                                    "numericScale": 255,
                                    "udtAssemblyQualifiedName": null,
                                    "dataType": "System.Int32, System.Private.CoreLib, Version=4.0.0.0, Culture=neutral, PublicKeyToken=7cec85d7bea7798e",
                                    "dataTypeName": "int"
                                },
                                {
                                    "isBytes": false,
                                    "isChars": true,
                                    "isSqlVariant": false,
                                    "isUdt": false,
                                    "isXml": false,
                                    "isJson": false,
                                    "sqlDbType": 12,
                                    "isHierarchyId": false,
                                    "isSqlXmlType": false,
                                    "isUnknownType": false,
                                    "isUpdatable": true,
                                    "allowDBNull": true,
                                    "baseCatalogName": null,
                                    "baseColumnName": null,
                                    "baseSchemaName": null,
                                    "baseServerName": null,
                                    "baseTableName": null,
                                    "columnName": "NazwaHotelu",
                                    "columnOrdinal": 1,
                                    "columnSize": 50,
                                    "isAliased": null,
                                    "isAutoIncrement": false,
                                    "isExpression": null,
                                    "isHidden": null,
                                    "isIdentity": false,
                                    "isKey": null,
                                    "isLong": false,
                                    "isReadOnly": false,
                                    "isUnique": false,
                                    "numericPrecision": 255,
                                    "numericScale": 255,
                                    "udtAssemblyQualifiedName": null,
                                    "dataType": "System.String, System.Private.CoreLib, Version=4.0.0.0, Culture=neutral, PublicKeyToken=7cec85d7bea7798e",
                                    "dataTypeName": "nvarchar"
                                },
                                {
                                    "isBytes": false,
                                    "isChars": false,
                                    "isSqlVariant": false,
                                    "isUdt": false,
                                    "isXml": false,
                                    "isJson": false,
                                    "sqlDbType": 8,
                                    "isHierarchyId": false,
                                    "isSqlXmlType": false,
                                    "isUnknownType": false,
                                    "isUpdatable": true,
                                    "allowDBNull": true,
                                    "baseCatalogName": null,
                                    "baseColumnName": null,
                                    "baseSchemaName": null,
                                    "baseServerName": null,
                                    "baseTableName": null,
                                    "columnName": "IleGwiazdek",
                                    "columnOrdinal": 2,
                                    "columnSize": 4,
                                    "isAliased": null,
                                    "isAutoIncrement": false,
                                    "isExpression": null,
                                    "isHidden": null,
                                    "isIdentity": false,
                                    "isKey": null,
                                    "isLong": false,
                                    "isReadOnly": false,
                                    "isUnique": false,
                                    "numericPrecision": 10,
                                    "numericScale": 255,
                                    "udtAssemblyQualifiedName": null,
                                    "dataType": "System.Int32, System.Private.CoreLib, Version=4.0.0.0, Culture=neutral, PublicKeyToken=7cec85d7bea7798e",
                                    "dataTypeName": "int"
                                },
                                {
                                    "isBytes": false,
                                    "isChars": true,
                                    "isSqlVariant": false,
                                    "isUdt": false,
                                    "isXml": false,
                                    "isJson": false,
                                    "sqlDbType": 12,
                                    "isHierarchyId": false,
                                    "isSqlXmlType": false,
                                    "isUnknownType": false,
                                    "isUpdatable": true,
                                    "allowDBNull": true,
                                    "baseCatalogName": null,
                                    "baseColumnName": null,
                                    "baseSchemaName": null,
                                    "baseServerName": null,
                                    "baseTableName": null,
                                    "columnName": "Miejsce",
                                    "columnOrdinal": 3,
                                    "columnSize": 100,
                                    "isAliased": null,
                                    "isAutoIncrement": false,
                                    "isExpression": null,
                                    "isHidden": null,
                                    "isIdentity": false,
                                    "isKey": null,
                                    "isLong": false,
                                    "isReadOnly": false,
                                    "isUnique": false,
                                    "numericPrecision": 255,
                                    "numericScale": 255,
                                    "udtAssemblyQualifiedName": null,
                                    "dataType": "System.String, System.Private.CoreLib, Version=4.0.0.0, Culture=neutral, PublicKeyToken=7cec85d7bea7798e",
                                    "dataTypeName": "nvarchar"
                                },
                                {
                                    "isBytes": false,
                                    "isChars": true,
                                    "isSqlVariant": false,
                                    "isUdt": false,
                                    "isXml": false,
                                    "isJson": false,
                                    "sqlDbType": 12,
                                    "isHierarchyId": false,
                                    "isSqlXmlType": false,
                                    "isUnknownType": false,
                                    "isUpdatable": true,
                                    "allowDBNull": true,
                                    "baseCatalogName": null,
                                    "baseColumnName": null,
                                    "baseSchemaName": null,
                                    "baseServerName": null,
                                    "baseTableName": null,
                                    "columnName": "MiejsceOpis",
                                    "columnOrdinal": 4,
                                    "columnSize": 2147483647,
                                    "isAliased": null,
                                    "isAutoIncrement": false,
                                    "isExpression": null,
                                    "isHidden": null,
                                    "isIdentity": false,
                                    "isKey": null,
                                    "isLong": true,
                                    "isReadOnly": false,
                                    "isUnique": false,
                                    "numericPrecision": 255,
                                    "numericScale": 255,
                                    "udtAssemblyQualifiedName": null,
                                    "dataType": "System.String, System.Private.CoreLib, Version=4.0.0.0, Culture=neutral, PublicKeyToken=7cec85d7bea7798e",
                                    "dataTypeName": "nvarchar"
                                },
                                {
                                    "isBytes": false,
                                    "isChars": true,
                                    "isSqlVariant": false,
                                    "isUdt": false,
                                    "isXml": false,
                                    "isJson": false,
                                    "sqlDbType": 12,
                                    "isHierarchyId": false,
                                    "isSqlXmlType": false,
                                    "isUnknownType": false,
                                    "isUpdatable": true,
                                    "allowDBNull": true,
                                    "baseCatalogName": null,
                                    "baseColumnName": null,
                                    "baseSchemaName": null,
                                    "baseServerName": null,
                                    "baseTableName": null,
                                    "columnName": "Panstwo",
                                    "columnOrdinal": 5,
                                    "columnSize": 100,
                                    "isAliased": null,
                                    "isAutoIncrement": false,
                                    "isExpression": null,
                                    "isHidden": null,
                                    "isIdentity": false,
                                    "isKey": null,
                                    "isLong": false,
                                    "isReadOnly": false,
                                    "isUnique": false,
                                    "numericPrecision": 255,
                                    "numericScale": 255,
                                    "udtAssemblyQualifiedName": null,
                                    "dataType": "System.String, System.Private.CoreLib, Version=4.0.0.0, Culture=neutral, PublicKeyToken=7cec85d7bea7798e",
                                    "dataTypeName": "nvarchar"
                                },
                                {
                                    "isBytes": false,
                                    "isChars": true,
                                    "isSqlVariant": false,
                                    "isUdt": false,
                                    "isXml": false,
                                    "isJson": false,
                                    "sqlDbType": 12,
                                    "isHierarchyId": false,
                                    "isSqlXmlType": false,
                                    "isUnknownType": false,
                                    "isUpdatable": true,
                                    "allowDBNull": true,
                                    "baseCatalogName": null,
                                    "baseColumnName": null,
                                    "baseSchemaName": null,
                                    "baseServerName": null,
                                    "baseTableName": null,
                                    "columnName": "PanstwoOpis",
                                    "columnOrdinal": 6,
                                    "columnSize": 2147483647,
                                    "isAliased": null,
                                    "isAutoIncrement": false,
                                    "isExpression": null,
                                    "isHidden": null,
                                    "isIdentity": false,
                                    "isKey": null,
                                    "isLong": true,
                                    "isReadOnly": false,
                                    "isUnique": false,
                                    "numericPrecision": 255,
                                    "numericScale": 255,
                                    "udtAssemblyQualifiedName": null,
                                    "dataType": "System.String, System.Private.CoreLib, Version=4.0.0.0, Culture=neutral, PublicKeyToken=7cec85d7bea7798e",
                                    "dataTypeName": "nvarchar"
                                },
                                {
                                    "isBytes": false,
                                    "isChars": true,
                                    "isSqlVariant": false,
                                    "isUdt": false,
                                    "isXml": false,
                                    "isJson": false,
                                    "sqlDbType": 12,
                                    "isHierarchyId": false,
                                    "isSqlXmlType": false,
                                    "isUnknownType": false,
                                    "isUpdatable": true,
                                    "allowDBNull": true,
                                    "baseCatalogName": null,
                                    "baseColumnName": null,
                                    "baseSchemaName": null,
                                    "baseServerName": null,
                                    "baseTableName": null,
                                    "columnName": "OpisOferty",
                                    "columnOrdinal": 7,
                                    "columnSize": 2147483647,
                                    "isAliased": null,
                                    "isAutoIncrement": false,
                                    "isExpression": null,
                                    "isHidden": null,
                                    "isIdentity": false,
                                    "isKey": null,
                                    "isLong": true,
                                    "isReadOnly": false,
                                    "isUnique": false,
                                    "numericPrecision": 255,
                                    "numericScale": 255,
                                    "udtAssemblyQualifiedName": null,
                                    "dataType": "System.String, System.Private.CoreLib, Version=4.0.0.0, Culture=neutral, PublicKeyToken=7cec85d7bea7798e",
                                    "dataTypeName": "nvarchar"
                                },
                                {
                                    "isBytes": false,
                                    "isChars": true,
                                    "isSqlVariant": false,
                                    "isUdt": false,
                                    "isXml": false,
                                    "isJson": false,
                                    "sqlDbType": 12,
                                    "isHierarchyId": false,
                                    "isSqlXmlType": false,
                                    "isUnknownType": false,
                                    "isUpdatable": true,
                                    "allowDBNull": true,
                                    "baseCatalogName": null,
                                    "baseColumnName": null,
                                    "baseSchemaName": null,
                                    "baseServerName": null,
                                    "baseTableName": null,
                                    "columnName": "Kategoria",
                                    "columnOrdinal": 8,
                                    "columnSize": 20,
                                    "isAliased": null,
                                    "isAutoIncrement": false,
                                    "isExpression": null,
                                    "isHidden": null,
                                    "isIdentity": false,
                                    "isKey": null,
                                    "isLong": false,
                                    "isReadOnly": false,
                                    "isUnique": false,
                                    "numericPrecision": 255,
                                    "numericScale": 255,
                                    "udtAssemblyQualifiedName": null,
                                    "dataType": "System.String, System.Private.CoreLib, Version=4.0.0.0, Culture=neutral, PublicKeyToken=7cec85d7bea7798e",
                                    "dataTypeName": "nvarchar"
                                }
                            ],
                            "specialAction": {
                                "none": true,
                                "expectYukonXMLShowPlan": false
                            }
                        }
                    }
                }
            ],
            "execution_count": 3
        },
        {
            "cell_type": "markdown",
            "source": [
                "### Tabele po normalizacji"
            ],
            "metadata": {
                "azdata_cell_guid": "7b8d3d72-deac-49be-81ed-04a0ea44b43f"
            }
        },
        {
            "cell_type": "code",
            "source": [
                "SELECT w.NazwaHotelu, w.IleGwiazdek, \r\n",
                "\tm.Miejsce, \r\n",
                "\tp.Panstwo\r\n",
                "FROM Wczasy AS w\r\n",
                "JOIN Miejsce m ON m.MiejsceID = w.MiejsceID\r\n",
                "JOIN Panstwo p ON p.PanstwoID = m.PanstwoID\r\n",
                "\r\n",
                "\r\n",
                "SELECT w.NazwaHotelu, w.IleGwiazdek, \r\n",
                "\tm.Miejsce, m.Opis AS MiejsceOpis, \r\n",
                "\tp.Panstwo, p.Opis AS PanstwoOpis, \r\n",
                "\tk.Kategoria\r\n",
                "FROM Wczasy AS w\r\n",
                "JOIN Miejsce m ON m.MiejsceID = w.MiejsceID\r\n",
                "JOIN Panstwo p ON p.PanstwoID = m.PanstwoID\r\n",
                "JOIN WczasyKategoria AS wk ON wk.WczasyID = w.WczasyID\r\n",
                "JOIN Kategoria AS k ON k.KategoriaID = wk.KategoriaID\r\n",
                ""
            ],
            "metadata": {
                "azdata_cell_guid": "578f70a2-2202-42fa-bf3d-1228e32b406d"
            },
            "outputs": [
                {
                    "output_type": "display_data",
                    "data": {
                        "text/html": "(2 rows affected)"
                    },
                    "metadata": {}
                },
                {
                    "output_type": "display_data",
                    "data": {
                        "text/html": "(3 rows affected)"
                    },
                    "metadata": {}
                },
                {
                    "output_type": "display_data",
                    "data": {
                        "text/html": "Total execution time: 00:00:00.012"
                    },
                    "metadata": {}
                },
                {
                    "output_type": "execute_result",
                    "execution_count": 11,
                    "data": {
                        "application/vnd.dataresource+json": {
                            "schema": {
                                "fields": [
                                    {
                                        "name": "NazwaHotelu"
                                    },
                                    {
                                        "name": "IleGwiazdek"
                                    },
                                    {
                                        "name": "Miejsce"
                                    },
                                    {
                                        "name": "Panstwo"
                                    }
                                ]
                            },
                            "data": [
                                {
                                    "0": "Hotel Sea Gull Beach Resort",
                                    "1": "4",
                                    "2": "Hurghada",
                                    "3": "Egipt"
                                },
                                {
                                    "0": "Hotel Albatros Aqua Park",
                                    "1": "4",
                                    "2": "Hurghada",
                                    "3": "Egipt"
                                }
                            ]
                        },
                        "text/html": "<table><tr><th>NazwaHotelu</th><th>IleGwiazdek</th><th>Miejsce</th><th>Panstwo</th></tr><tr><td>Hotel Sea Gull Beach Resort</td><td>4</td><td>Hurghada</td><td>Egipt</td></tr><tr><td>Hotel Albatros Aqua Park</td><td>4</td><td>Hurghada</td><td>Egipt</td></tr></table>"
                    },
                    "metadata": {
                        "resultSet": {
                            "id": 0,
                            "batchId": 0,
                            "rowCount": 2,
                            "complete": true,
                            "columnInfo": [
                                {
                                    "isBytes": false,
                                    "isChars": true,
                                    "isSqlVariant": false,
                                    "isUdt": false,
                                    "isXml": false,
                                    "isJson": false,
                                    "sqlDbType": 12,
                                    "isHierarchyId": false,
                                    "isSqlXmlType": false,
                                    "isUnknownType": false,
                                    "isUpdatable": true,
                                    "allowDBNull": true,
                                    "baseCatalogName": null,
                                    "baseColumnName": null,
                                    "baseSchemaName": null,
                                    "baseServerName": null,
                                    "baseTableName": null,
                                    "columnName": "NazwaHotelu",
                                    "columnOrdinal": 0,
                                    "columnSize": 50,
                                    "isAliased": null,
                                    "isAutoIncrement": false,
                                    "isExpression": null,
                                    "isHidden": null,
                                    "isIdentity": false,
                                    "isKey": null,
                                    "isLong": false,
                                    "isReadOnly": false,
                                    "isUnique": false,
                                    "numericPrecision": 255,
                                    "numericScale": 255,
                                    "udtAssemblyQualifiedName": null,
                                    "dataType": "System.String, System.Private.CoreLib, Version=4.0.0.0, Culture=neutral, PublicKeyToken=7cec85d7bea7798e",
                                    "dataTypeName": "nvarchar"
                                },
                                {
                                    "isBytes": false,
                                    "isChars": false,
                                    "isSqlVariant": false,
                                    "isUdt": false,
                                    "isXml": false,
                                    "isJson": false,
                                    "sqlDbType": 8,
                                    "isHierarchyId": false,
                                    "isSqlXmlType": false,
                                    "isUnknownType": false,
                                    "isUpdatable": true,
                                    "allowDBNull": true,
                                    "baseCatalogName": null,
                                    "baseColumnName": null,
                                    "baseSchemaName": null,
                                    "baseServerName": null,
                                    "baseTableName": null,
                                    "columnName": "IleGwiazdek",
                                    "columnOrdinal": 1,
                                    "columnSize": 4,
                                    "isAliased": null,
                                    "isAutoIncrement": false,
                                    "isExpression": null,
                                    "isHidden": null,
                                    "isIdentity": false,
                                    "isKey": null,
                                    "isLong": false,
                                    "isReadOnly": false,
                                    "isUnique": false,
                                    "numericPrecision": 10,
                                    "numericScale": 255,
                                    "udtAssemblyQualifiedName": null,
                                    "dataType": "System.Int32, System.Private.CoreLib, Version=4.0.0.0, Culture=neutral, PublicKeyToken=7cec85d7bea7798e",
                                    "dataTypeName": "int"
                                },
                                {
                                    "isBytes": false,
                                    "isChars": true,
                                    "isSqlVariant": false,
                                    "isUdt": false,
                                    "isXml": false,
                                    "isJson": false,
                                    "sqlDbType": 12,
                                    "isHierarchyId": false,
                                    "isSqlXmlType": false,
                                    "isUnknownType": false,
                                    "isUpdatable": true,
                                    "allowDBNull": true,
                                    "baseCatalogName": null,
                                    "baseColumnName": null,
                                    "baseSchemaName": null,
                                    "baseServerName": null,
                                    "baseTableName": null,
                                    "columnName": "Miejsce",
                                    "columnOrdinal": 2,
                                    "columnSize": 50,
                                    "isAliased": null,
                                    "isAutoIncrement": false,
                                    "isExpression": null,
                                    "isHidden": null,
                                    "isIdentity": false,
                                    "isKey": null,
                                    "isLong": false,
                                    "isReadOnly": false,
                                    "isUnique": false,
                                    "numericPrecision": 255,
                                    "numericScale": 255,
                                    "udtAssemblyQualifiedName": null,
                                    "dataType": "System.String, System.Private.CoreLib, Version=4.0.0.0, Culture=neutral, PublicKeyToken=7cec85d7bea7798e",
                                    "dataTypeName": "nvarchar"
                                },
                                {
                                    "isBytes": false,
                                    "isChars": true,
                                    "isSqlVariant": false,
                                    "isUdt": false,
                                    "isXml": false,
                                    "isJson": false,
                                    "sqlDbType": 12,
                                    "isHierarchyId": false,
                                    "isSqlXmlType": false,
                                    "isUnknownType": false,
                                    "isUpdatable": true,
                                    "allowDBNull": true,
                                    "baseCatalogName": null,
                                    "baseColumnName": null,
                                    "baseSchemaName": null,
                                    "baseServerName": null,
                                    "baseTableName": null,
                                    "columnName": "Panstwo",
                                    "columnOrdinal": 3,
                                    "columnSize": 50,
                                    "isAliased": null,
                                    "isAutoIncrement": false,
                                    "isExpression": null,
                                    "isHidden": null,
                                    "isIdentity": false,
                                    "isKey": null,
                                    "isLong": false,
                                    "isReadOnly": false,
                                    "isUnique": false,
                                    "numericPrecision": 255,
                                    "numericScale": 255,
                                    "udtAssemblyQualifiedName": null,
                                    "dataType": "System.String, System.Private.CoreLib, Version=4.0.0.0, Culture=neutral, PublicKeyToken=7cec85d7bea7798e",
                                    "dataTypeName": "nvarchar"
                                }
                            ],
                            "specialAction": {
                                "none": true,
                                "expectYukonXMLShowPlan": false
                            }
                        }
                    }
                },
                {
                    "output_type": "execute_result",
                    "execution_count": 11,
                    "data": {
                        "application/vnd.dataresource+json": {
                            "schema": {
                                "fields": [
                                    {
                                        "name": "NazwaHotelu"
                                    },
                                    {
                                        "name": "IleGwiazdek"
                                    },
                                    {
                                        "name": "Miejsce"
                                    },
                                    {
                                        "name": "MiejsceOpis"
                                    },
                                    {
                                        "name": "Panstwo"
                                    },
                                    {
                                        "name": "PanstwoOpis"
                                    },
                                    {
                                        "name": "Kategoria"
                                    }
                                ]
                            },
                            "data": [
                                {
                                    "0": "Hotel Sea Gull Beach Resort",
                                    "1": "4",
                                    "2": "Hurghada",
                                    "3": "Świetny punkt wypadowy do zwiedzania zabytków starożytnego świata",
                                    "4": "Egipt",
                                    "5": "Królestwo faraonów i tajemnicze piramidy",
                                    "6": "Animacje dla dzieci"
                                },
                                {
                                    "0": "Hotel Sea Gull Beach Resort",
                                    "1": "4",
                                    "2": "Hurghada",
                                    "3": "Świetny punkt wypadowy do zwiedzania zabytków starożytnego świata",
                                    "4": "Egipt",
                                    "5": "Królestwo faraonów i tajemnicze piramidy",
                                    "6": "Wypocznij z rodziną"
                                },
                                {
                                    "0": "Hotel Albatros Aqua Park",
                                    "1": "4",
                                    "2": "Hurghada",
                                    "3": "Świetny punkt wypadowy do zwiedzania zabytków starożytnego świata",
                                    "4": "Egipt",
                                    "5": "Królestwo faraonów i tajemnicze piramidy",
                                    "6": "Wypocznij z rodziną"
                                }
                            ]
                        },
                        "text/html": "<table><tr><th>NazwaHotelu</th><th>IleGwiazdek</th><th>Miejsce</th><th>MiejsceOpis</th><th>Panstwo</th><th>PanstwoOpis</th><th>Kategoria</th></tr><tr><td>Hotel Sea Gull Beach Resort</td><td>4</td><td>Hurghada</td><td>Świetny punkt wypadowy do zwiedzania zabytków starożytnego świata</td><td>Egipt</td><td>Królestwo faraonów i tajemnicze piramidy</td><td>Animacje dla dzieci</td></tr><tr><td>Hotel Sea Gull Beach Resort</td><td>4</td><td>Hurghada</td><td>Świetny punkt wypadowy do zwiedzania zabytków starożytnego świata</td><td>Egipt</td><td>Królestwo faraonów i tajemnicze piramidy</td><td>Wypocznij z rodziną</td></tr><tr><td>Hotel Albatros Aqua Park</td><td>4</td><td>Hurghada</td><td>Świetny punkt wypadowy do zwiedzania zabytków starożytnego świata</td><td>Egipt</td><td>Królestwo faraonów i tajemnicze piramidy</td><td>Wypocznij z rodziną</td></tr></table>"
                    },
                    "metadata": {
                        "resultSet": {
                            "id": 1,
                            "batchId": 0,
                            "rowCount": 3,
                            "complete": true,
                            "columnInfo": [
                                {
                                    "isBytes": false,
                                    "isChars": true,
                                    "isSqlVariant": false,
                                    "isUdt": false,
                                    "isXml": false,
                                    "isJson": false,
                                    "sqlDbType": 12,
                                    "isHierarchyId": false,
                                    "isSqlXmlType": false,
                                    "isUnknownType": false,
                                    "isUpdatable": true,
                                    "allowDBNull": true,
                                    "baseCatalogName": null,
                                    "baseColumnName": null,
                                    "baseSchemaName": null,
                                    "baseServerName": null,
                                    "baseTableName": null,
                                    "columnName": "NazwaHotelu",
                                    "columnOrdinal": 0,
                                    "columnSize": 50,
                                    "isAliased": null,
                                    "isAutoIncrement": false,
                                    "isExpression": null,
                                    "isHidden": null,
                                    "isIdentity": false,
                                    "isKey": null,
                                    "isLong": false,
                                    "isReadOnly": false,
                                    "isUnique": false,
                                    "numericPrecision": 255,
                                    "numericScale": 255,
                                    "udtAssemblyQualifiedName": null,
                                    "dataType": "System.String, System.Private.CoreLib, Version=4.0.0.0, Culture=neutral, PublicKeyToken=7cec85d7bea7798e",
                                    "dataTypeName": "nvarchar"
                                },
                                {
                                    "isBytes": false,
                                    "isChars": false,
                                    "isSqlVariant": false,
                                    "isUdt": false,
                                    "isXml": false,
                                    "isJson": false,
                                    "sqlDbType": 8,
                                    "isHierarchyId": false,
                                    "isSqlXmlType": false,
                                    "isUnknownType": false,
                                    "isUpdatable": true,
                                    "allowDBNull": true,
                                    "baseCatalogName": null,
                                    "baseColumnName": null,
                                    "baseSchemaName": null,
                                    "baseServerName": null,
                                    "baseTableName": null,
                                    "columnName": "IleGwiazdek",
                                    "columnOrdinal": 1,
                                    "columnSize": 4,
                                    "isAliased": null,
                                    "isAutoIncrement": false,
                                    "isExpression": null,
                                    "isHidden": null,
                                    "isIdentity": false,
                                    "isKey": null,
                                    "isLong": false,
                                    "isReadOnly": false,
                                    "isUnique": false,
                                    "numericPrecision": 10,
                                    "numericScale": 255,
                                    "udtAssemblyQualifiedName": null,
                                    "dataType": "System.Int32, System.Private.CoreLib, Version=4.0.0.0, Culture=neutral, PublicKeyToken=7cec85d7bea7798e",
                                    "dataTypeName": "int"
                                },
                                {
                                    "isBytes": false,
                                    "isChars": true,
                                    "isSqlVariant": false,
                                    "isUdt": false,
                                    "isXml": false,
                                    "isJson": false,
                                    "sqlDbType": 12,
                                    "isHierarchyId": false,
                                    "isSqlXmlType": false,
                                    "isUnknownType": false,
                                    "isUpdatable": true,
                                    "allowDBNull": true,
                                    "baseCatalogName": null,
                                    "baseColumnName": null,
                                    "baseSchemaName": null,
                                    "baseServerName": null,
                                    "baseTableName": null,
                                    "columnName": "Miejsce",
                                    "columnOrdinal": 2,
                                    "columnSize": 50,
                                    "isAliased": null,
                                    "isAutoIncrement": false,
                                    "isExpression": null,
                                    "isHidden": null,
                                    "isIdentity": false,
                                    "isKey": null,
                                    "isLong": false,
                                    "isReadOnly": false,
                                    "isUnique": false,
                                    "numericPrecision": 255,
                                    "numericScale": 255,
                                    "udtAssemblyQualifiedName": null,
                                    "dataType": "System.String, System.Private.CoreLib, Version=4.0.0.0, Culture=neutral, PublicKeyToken=7cec85d7bea7798e",
                                    "dataTypeName": "nvarchar"
                                },
                                {
                                    "isBytes": false,
                                    "isChars": true,
                                    "isSqlVariant": false,
                                    "isUdt": false,
                                    "isXml": false,
                                    "isJson": false,
                                    "sqlDbType": 12,
                                    "isHierarchyId": false,
                                    "isSqlXmlType": false,
                                    "isUnknownType": false,
                                    "isUpdatable": true,
                                    "allowDBNull": true,
                                    "baseCatalogName": null,
                                    "baseColumnName": null,
                                    "baseSchemaName": null,
                                    "baseServerName": null,
                                    "baseTableName": null,
                                    "columnName": "MiejsceOpis",
                                    "columnOrdinal": 3,
                                    "columnSize": 2147483647,
                                    "isAliased": null,
                                    "isAutoIncrement": false,
                                    "isExpression": null,
                                    "isHidden": null,
                                    "isIdentity": false,
                                    "isKey": null,
                                    "isLong": true,
                                    "isReadOnly": false,
                                    "isUnique": false,
                                    "numericPrecision": 255,
                                    "numericScale": 255,
                                    "udtAssemblyQualifiedName": null,
                                    "dataType": "System.String, System.Private.CoreLib, Version=4.0.0.0, Culture=neutral, PublicKeyToken=7cec85d7bea7798e",
                                    "dataTypeName": "nvarchar"
                                },
                                {
                                    "isBytes": false,
                                    "isChars": true,
                                    "isSqlVariant": false,
                                    "isUdt": false,
                                    "isXml": false,
                                    "isJson": false,
                                    "sqlDbType": 12,
                                    "isHierarchyId": false,
                                    "isSqlXmlType": false,
                                    "isUnknownType": false,
                                    "isUpdatable": true,
                                    "allowDBNull": true,
                                    "baseCatalogName": null,
                                    "baseColumnName": null,
                                    "baseSchemaName": null,
                                    "baseServerName": null,
                                    "baseTableName": null,
                                    "columnName": "Panstwo",
                                    "columnOrdinal": 4,
                                    "columnSize": 50,
                                    "isAliased": null,
                                    "isAutoIncrement": false,
                                    "isExpression": null,
                                    "isHidden": null,
                                    "isIdentity": false,
                                    "isKey": null,
                                    "isLong": false,
                                    "isReadOnly": false,
                                    "isUnique": false,
                                    "numericPrecision": 255,
                                    "numericScale": 255,
                                    "udtAssemblyQualifiedName": null,
                                    "dataType": "System.String, System.Private.CoreLib, Version=4.0.0.0, Culture=neutral, PublicKeyToken=7cec85d7bea7798e",
                                    "dataTypeName": "nvarchar"
                                },
                                {
                                    "isBytes": false,
                                    "isChars": true,
                                    "isSqlVariant": false,
                                    "isUdt": false,
                                    "isXml": false,
                                    "isJson": false,
                                    "sqlDbType": 12,
                                    "isHierarchyId": false,
                                    "isSqlXmlType": false,
                                    "isUnknownType": false,
                                    "isUpdatable": true,
                                    "allowDBNull": true,
                                    "baseCatalogName": null,
                                    "baseColumnName": null,
                                    "baseSchemaName": null,
                                    "baseServerName": null,
                                    "baseTableName": null,
                                    "columnName": "PanstwoOpis",
                                    "columnOrdinal": 5,
                                    "columnSize": 2147483647,
                                    "isAliased": null,
                                    "isAutoIncrement": false,
                                    "isExpression": null,
                                    "isHidden": null,
                                    "isIdentity": false,
                                    "isKey": null,
                                    "isLong": true,
                                    "isReadOnly": false,
                                    "isUnique": false,
                                    "numericPrecision": 255,
                                    "numericScale": 255,
                                    "udtAssemblyQualifiedName": null,
                                    "dataType": "System.String, System.Private.CoreLib, Version=4.0.0.0, Culture=neutral, PublicKeyToken=7cec85d7bea7798e",
                                    "dataTypeName": "nvarchar"
                                },
                                {
                                    "isBytes": false,
                                    "isChars": true,
                                    "isSqlVariant": false,
                                    "isUdt": false,
                                    "isXml": false,
                                    "isJson": false,
                                    "sqlDbType": 12,
                                    "isHierarchyId": false,
                                    "isSqlXmlType": false,
                                    "isUnknownType": false,
                                    "isUpdatable": true,
                                    "allowDBNull": true,
                                    "baseCatalogName": null,
                                    "baseColumnName": null,
                                    "baseSchemaName": null,
                                    "baseServerName": null,
                                    "baseTableName": null,
                                    "columnName": "Kategoria",
                                    "columnOrdinal": 6,
                                    "columnSize": 20,
                                    "isAliased": null,
                                    "isAutoIncrement": false,
                                    "isExpression": null,
                                    "isHidden": null,
                                    "isIdentity": false,
                                    "isKey": null,
                                    "isLong": false,
                                    "isReadOnly": false,
                                    "isUnique": false,
                                    "numericPrecision": 255,
                                    "numericScale": 255,
                                    "udtAssemblyQualifiedName": null,
                                    "dataType": "System.String, System.Private.CoreLib, Version=4.0.0.0, Culture=neutral, PublicKeyToken=7cec85d7bea7798e",
                                    "dataTypeName": "nvarchar"
                                }
                            ],
                            "specialAction": {
                                "none": true,
                                "expectYukonXMLShowPlan": false
                            }
                        }
                    }
                }
            ],
            "execution_count": 11
        },
        {
            "cell_type": "markdown",
            "source": [
                "## Diagram bazy danych\r\n",
                "![Kursysql.pl](.\\WczasyDB_Diagram.jpg)"
            ],
            "metadata": {
                "azdata_cell_guid": "37fd4f09-5a05-464c-be50-9cb93007d40b"
            }
        }
    ]
}