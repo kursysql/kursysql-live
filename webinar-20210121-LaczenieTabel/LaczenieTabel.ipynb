{
    "metadata": {
        "kernelspec": {
            "name": "SQL",
            "display_name": "SQL",
            "language": "sql"
        },
        "language_info": {
            "name": "sql",
            "version": ""
        }
    },
    "nbformat_minor": 2,
    "nbformat": 4,
    "cells": [
        {
            "cell_type": "markdown",
            "source": [
                "![Kursysql.pl](..\\logo.jpg)\n",
                "\n",
                "# Łączenie tabel\n",
                "\n",
                "21 stycznia 2021 - webinar - Tomasz Libera [libera@kursysql.pl](mailto:libera@kursysql.pl)\n",
                "\n",
                "## Agenda\n",
                "\n",
                "- INNER Join\n",
                "- OUTER Join\n",
                "- Podzapytania\n",
                "- UNION, EXCEPT, INTERSECT\n",
                "- CTE\n",
                "- Zadania \n",
                "- Funkcje agregujące\n",
                "- Zadania\n",
                "\n",
                "## Zasoby\n",
                "\n",
                "- [GitHub KursySQL-live](https://github.com/kursysql/kursysql-live)\n",
                " - [webinar-20210121-LaczenieTabel](https://github.com/kursysql/kursysql-live/tree/master/webinar-20210121-LaczenieTabel)\n",
                "- [SQL w 120 min](https://www.kursysql.pl/szkolenie-sql-w-120-minut/)\n",
                "- [SQL od podstaw](https://www.kursysql.pl/szkolenie-sql-od-podstaw/) (zapisy do 29 stycznia)\n",
                "- [Instalacja i konfiguracja SQL Server](https://www.youtube.com/watch?v=d_iApF0FC9Q) (zapis webinaru)\n",
                "- [Pobierz: SQL Server 2019](https://www.microsoft.com/pl-pl/sql-server/sql-server-downloads)\n",
                "- CTE\n",
                " - [GitHub - CTE.sql](https://github.com/kursysql/TSQL/blob/master/02%20CTE.sql)\n",
                " - [CTE w SQL Server](https://www.youtube.com/watch?v=4QuT6OwZ9ic)\n",
                "- [Spotkanie MS TEAMS](https://teams.microsoft.com/l/meetup-join/19%3ameeting_MGEzYTBiNDAtMzFmNS00MDhkLWI2MTQtNGNlMjM5MDliMDI0%40thread.v2/0?context=%7b%22Tid%22%3a%22df754217-29e5-4804-8f67-a71311a3cd0f%22%2c%22Oid%22%3a%22fce6fbbd-e275-4379-9253-9f40c2bc8f48%22%7d) (zaraz po webinarze)\n",
                "\n",
                "## Northwind\n",
                "\n",
                "- [Northwind and pubs sample databases for Microsoft SQL Server](https://github.com/microsoft/sql-server-samples/tree/master/samples/databases/northwind-pubs)\n",
                "- nie trzeba odtwarzać kopii zapasowej - wystarczy wykonać [ten](https://raw.githubusercontent.com/microsoft/sql-server-samples/master/samples/databases/northwind-pubs/instnwnd.sql) skrypt\n",
                "- przykładowa baza danych dołączana do SQL Server 2000 i MS Access\n",
                "- prosta, tylko 13 tabel, wszystkie w schemacie dbo\n",
                "- obecnie jako przykładowe bazy danych częściej wykorzystywane\n",
                "    - [AdventureWorks](https://github.com/Microsoft/sql-server-samples/releases/tag/adventureworks)\n",
                "    - [Wide World Importers](https://github.com/Microsoft/sql-server-samples/releases/tag/wide-world-importers-v1.0)\n",
                "- Tabele: Orders, OrderDetails, Territories, Region, Employees, Product, Categories...\n",
                ""
            ],
            "metadata": {
                "azdata_cell_guid": "bc310f0b-6e65-4950-954f-cf3106599bf4"
            }
        },
        {
            "cell_type": "markdown",
            "source": [
                "## Zadania \n",
                "\n",
                "1. Wyświetl zamówienia - numer, datę, id klienta i identyfikartor produktu oraz cenę\n",
                "2. Dodaj do powyższego zapytania nazwę kategorii produktu\n",
                "3. Ogranicz powyższe zapytanie do zamówień klientów z Niemiec\n",
                "4. Wyświetl nazwy dostawców, którzy realizowali zamówienia w 1997 roku\n",
                "5. Wyświetl nazwiska klientów który składali zamówienia zarówno w 1996, jak i 1997 i 1998"
            ],
            "metadata": {
                "azdata_cell_guid": "baf3921c-e6b5-4332-a8d9-3a2203b51fc0"
            }
        }
    ]
}