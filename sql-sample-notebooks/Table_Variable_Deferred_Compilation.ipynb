{
    "metadata": {
        "kernelspec": {
            "name": "SQL",
            "display_name": "SQL",
            "language": "sql"
        },
        "language_info": {
            "name": "sql",
            "version": ""
        }
    },
    "nbformat_minor": 2,
    "nbformat": 4,
    "cells": [
        {
            "cell_type": "markdown",
            "source": [
                "# Table Variable Deferred Compilation\r\n",
                "Table Variable Deferred Compilation (TVDC) improves plan quality and overall performance for queries that reference table variables. TVDC is a feature under the [**Intelligent Query Processing**](https://aka.ms/iqp) suite of features.  \r\n",
                "\r\n",
                "This example will show you how upgrading to **Database Compatibility Level 150** could improve performance due to Table Variable Deferred Compilation, when your workload references table variables.\r\n",
                "\r\n",
                "More information about this feature is available [here](https://docs.microsoft.com/sql/relational-databases/performance/intelligent-query-processing?view=sql-server-ver15#table-variable-deferred-compilation)."
            ],
            "metadata": {
                "azdata_cell_guid": "7870ea3f-b017-46d9-bec6-15369f4ade69"
            }
        },
        {
            "cell_type": "markdown",
            "source": [
                "## Step 1: Setup WideWorldImportersDW database\r\n",
                "\r\n",
                "You could choose to use a container to evaluate this feature. Create an instance of SQL Server 2019 using a Docker image and restore the WideWorldImportersDW database backup\r\n",
                "\r\n",
                "You will need the **WideWorldImportersDW** database for this exercise. If you don't have this sample database, then you download the sample database [here](https://github.com/Microsoft/sql-server-samples/releases/download/wide-world-importers-v1.0/WideWorldImportersDW-Full.bak \"WideWorldImportersDW-Full download\").\r\n",
                "\r\n",
                "Restore the copied WideWorldImportersDW database backup into the container and restore the backup.\r\n",
                "\r\n",
                "##### Docker Commands\r\n",
                "```\r\n",
                "docker pull mcr.microsoft.com/mssql/server:2019-latest\r\n",
                "\r\n",
                "docker run -e \"ACCEPT_EULA=Y\" -e \"SA_PASSWORD=`<A Strong Password`>\" -p 1445:1433 --name sql2019demo -d mcr.microsoft.com/mssql/server:2019-latest\r\n",
                "\r\n",
                "docker cp \".\\Downloads\\WideWorldImportersDW-Full.bak\" sql2019demo:/var/opt/mssql/data\r\n",
                "```\r\n",
                "\r\n",
                "**Note**: *For Linux installations the default path to use is /var/opt/mssql*\r\n",
                ""
            ],
            "metadata": {
                "azdata_cell_guid": "975f5a9f-300f-450b-8981-cebb9ed6c719"
            }
        },
        {
            "cell_type": "code",
            "source": [
                "USE [master]\r\n",
                "GO\r\n",
                "IF EXISTS (SELECT [database_id] FROM sys.databases WHERE [name] = 'WideWorldImportersDW')\r\n",
                "ALTER DATABASE [WideWorldImportersDW] SET SINGLE_USER WITH ROLLBACK IMMEDIATE\r\n",
                "GO\r\n",
                "\r\n",
                "DECLARE @datafilepath VARCHAR(8000) = CAST(SERVERPROPERTY('InstanceDefaultDataPath') AS VARCHAR(4000)) + 'WideWorldImportersDW.mdf'\r\n",
                "DECLARE @logfilepath VARCHAR(8000) = CAST(SERVERPROPERTY('InstanceDefaultLogPath') AS VARCHAR(4000)) + 'WideWorldImportersDW.ldf'\r\n",
                "DECLARE @inmemfilepath VARCHAR(8000) = CAST(SERVERPROPERTY('InstanceDefaultDataPath') AS VARCHAR(4000)) + 'WideWorldImportersDW_InMemory_Data_1'\r\n",
                "DECLARE @secondaryfilepath VARCHAR(8000) = CAST(SERVERPROPERTY('InstanceDefaultDataPath') AS VARCHAR(4000))+ 'WideWorldImportersDW_2.ndf'\r\n",
                "\r\n",
                "-- Change @backupfile file path as needed\r\n",
                "DECLARE @backupfile VARCHAR(8000) = 'E:\\SampleDBs\\WideWorldImportersDW-Full.bak'\r\n",
                "RESTORE DATABASE WideWorldImportersDW\r\n",
                "FROM DISK = @backupfile \r\n",
                "WITH MOVE 'WWI_Primary' TO @datafilepath,\r\n",
                "    MOVE 'WWI_UserData' TO @secondaryfilepath,\r\n",
                "    MOVE 'WWIDW_InMemory_Data_1' TO @inmemfilepath,\r\n",
                "    MOVE 'WWI_Log' TO @logfilepath, NOUNLOAD, REPLACE, STATS = 10\r\n",
                "GO\r\n",
                "\r\n",
                "USE [master]\r\n",
                "GO\r\n",
                "ALTER DATABASE [WideWorldImportersDW] MODIFY FILE ( NAME = N'WWI_Log', SIZE = 4GB )\r\n",
                "GO"
            ],
            "metadata": {
                "azdata_cell_guid": "b48b5a47-55d7-4c3c-ba51-2efa8d801029"
            },
            "outputs": [],
            "execution_count": 7
        },
        {
            "cell_type": "markdown",
            "source": [
                "## Step 2: Enlarge the WideWorldImportersDW database"
            ],
            "metadata": {
                "azdata_cell_guid": "4e07d47f-3833-40dd-8203-1d43af8bacd8"
            }
        },
        {
            "cell_type": "code",
            "source": [
                "USE WideWorldImportersDW;\r\n",
                "GO\r\n",
                "\r\n",
                "/*\r\n",
                "Assumes a fresh restore of WideWorldImportersDW\r\n",
                "*/\r\n",
                "\r\n",
                "IF OBJECT_ID('Fact.OrderHistory') IS NULL \r\n",
                "BEGIN\r\n",
                "    SELECT [Order Key], [City Key], [Customer Key], [Stock Item Key], [Order Date Key], [Picked Date Key], [Salesperson Key], [Picker Key], [WWI Order ID], [WWI Backorder ID], Description, Package, Quantity, [Unit Price], [Tax Rate], [Total Excluding Tax], [Tax Amount], [Total Including Tax], [Lineage Key]\r\n",
                "    INTO Fact.OrderHistory\r\n",
                "    FROM Fact.[Order];\r\n",
                "END;\r\n",
                "\r\n",
                "ALTER TABLE Fact.OrderHistory\r\n",
                "ADD CONSTRAINT PK_Fact_OrderHistory PRIMARY KEY NONCLUSTERED ([Order Key] ASC, [Order Date Key] ASC) WITH (DATA_COMPRESSION = PAGE);\r\n",
                "GO\r\n",
                "\r\n",
                "CREATE INDEX IX_Stock_Item_Key\r\n",
                "ON Fact.OrderHistory ([Stock Item Key])\r\n",
                "INCLUDE(Quantity)\r\n",
                "WITH (DATA_COMPRESSION = PAGE);\r\n",
                "GO\r\n",
                "\r\n",
                "CREATE INDEX IX_OrderHistory_Quantity\r\n",
                "ON Fact.OrderHistory ([Quantity])\r\n",
                "INCLUDE([Order Key])\r\n",
                "WITH (DATA_COMPRESSION = PAGE);\r\n",
                "GO\r\n",
                "\r\n",
                "CREATE INDEX IX_OrderHistory_CustomerKey\r\n",
                "ON Fact.OrderHistory([Customer Key])\r\n",
                "INCLUDE ([Total Including Tax])\r\n",
                "WITH (DATA_COMPRESSION = PAGE);\r\n",
                "GO\r\n",
                "\r\n",
                "IF (SELECT COUNT(*) FROM [Fact].[OrderHistory]) < 3702592\r\n",
                "BEGIN\r\n",
                "\tDECLARE @i smallint\r\n",
                "\tSET @i = 0\r\n",
                "\tWHILE @i < 4\r\n",
                "\tBEGIN\r\n",
                "\t\tINSERT INTO [Fact].[OrderHistory] ([City Key], [Customer Key], [Stock Item Key], [Order Date Key], [Picked Date Key], [Salesperson Key], [Picker Key], [WWI Order ID], [WWI Backorder ID], Description, Package, Quantity, [Unit Price], [Tax Rate], [Total Excluding Tax], [Tax Amount], [Total Including Tax], [Lineage Key])\r\n",
                "\t\tSELECT [City Key], [Customer Key], [Stock Item Key], [Order Date Key], [Picked Date Key], [Salesperson Key], [Picker Key], [WWI Order ID], [WWI Backorder ID], Description, Package, Quantity, [Unit Price], [Tax Rate], [Total Excluding Tax], [Tax Amount], [Total Including Tax], [Lineage Key]\r\n",
                "\t\tFROM [Fact].[OrderHistory];\r\n",
                "\r\n",
                "\t\tSET @i = @i +1\r\n",
                "\tEND;\r\n",
                "END\r\n",
                "GO\r\n",
                "\r\n",
                "IF OBJECT_ID('Fact.OrderHistoryExtended') IS NULL \r\n",
                "BEGIN\r\n",
                "    SELECT [Order Key], [City Key], [Customer Key], [Stock Item Key], [Order Date Key], [Picked Date Key], [Salesperson Key], [Picker Key], [WWI Order ID], [WWI Backorder ID], Description, Package, Quantity, [Unit Price], [Tax Rate], [Total Excluding Tax], [Tax Amount], [Total Including Tax], [Lineage Key]\r\n",
                "    INTO Fact.OrderHistoryExtended\r\n",
                "    FROM Fact.[OrderHistory];\r\n",
                "END;\r\n",
                "\r\n",
                "ALTER TABLE Fact.OrderHistoryExtended\r\n",
                "ADD CONSTRAINT PK_Fact_OrderHistoryExtended PRIMARY KEY NONCLUSTERED ([Order Key] ASC, [Order Date Key] ASC)\r\n",
                "WITH (DATA_COMPRESSION = PAGE);\r\n",
                "GO\r\n",
                "\r\n",
                "CREATE INDEX IX_Stock_Item_Key\r\n",
                "ON Fact.OrderHistoryExtended ([Stock Item Key])\r\n",
                "INCLUDE (Quantity);\r\n",
                "GO\r\n",
                "\r\n",
                "IF (SELECT COUNT(*) FROM [Fact].[OrderHistory]) < 29620736\r\n",
                "BEGIN\r\n",
                "\tDECLARE @i smallint\r\n",
                "\tSET @i = 0\r\n",
                "\tWHILE @i < 3\r\n",
                "\tBEGIN\r\n",
                "\t\tINSERT Fact.OrderHistoryExtended([City Key], [Customer Key], [Stock Item Key], [Order Date Key], [Picked Date Key], [Salesperson Key], [Picker Key], [WWI Order ID], [WWI Backorder ID], Description, Package, Quantity, [Unit Price], [Tax Rate], [Total Excluding Tax], [Tax Amount], [Total Including Tax], [Lineage Key])\r\n",
                "\t\tSELECT [City Key], [Customer Key], [Stock Item Key], [Order Date Key], [Picked Date Key], [Salesperson Key], [Picker Key], [WWI Order ID], [WWI Backorder ID], Description, Package, Quantity, [Unit Price], [Tax Rate], [Total Excluding Tax], [Tax Amount], [Total Including Tax], [Lineage Key]\r\n",
                "\t\tFROM Fact.OrderHistoryExtended;\r\n",
                "\r\n",
                "\t\tSET @i = @i +1\r\n",
                "\tEND;\r\n",
                "END\r\n",
                "GO\r\n",
                "\r\n",
                "UPDATE Fact.OrderHistoryExtended\r\n",
                "SET [WWI Order ID] = [Order Key];\r\n",
                "GO\r\n",
                "\r\n",
                "-- Repeat the following until log shrinks. These demos don't require much log space.\r\n",
                "CHECKPOINT\r\n",
                "GO\r\n",
                "DBCC SHRINKFILE (N'WWI_Log' , 0, TRUNCATEONLY)\r\n",
                "GO\r\n",
                "SELECT * FROM sys.dm_db_log_space_usage\r\n",
                "GO"
            ],
            "metadata": {
                "azdata_cell_guid": "a7421321-3652-49c5-b83a-e25e69c48aed"
            },
            "outputs": [],
            "execution_count": 3
        },
        {
            "cell_type": "markdown",
            "source": [
                "## Step 3: Execute the query without Table Variable Deferred Compilation\r\n",
                "\r\n",
                "If the database is configured with a non-default compatibility level scuh as 140 (which maps to SQL Server 2017), then TVDC is disabled.\r\n",
                ""
            ],
            "metadata": {
                "azdata_cell_guid": "cc613f99-f3c2-462f-93df-bd197de31bbc"
            }
        },
        {
            "cell_type": "code",
            "source": [
                "USE [WideWorldImportersDW];\r\n",
                "GO\r\n",
                "ALTER DATABASE [WideWorldImportersDW] SET COMPATIBILITY_LEVEL = 140;\r\n",
                "GO\r\n",
                "ALTER DATABASE SCOPED CONFIGURATION CLEAR PROCEDURE_CACHE;\r\n",
                "GO\r\n",
                "\r\n",
                "DECLARE @Order TABLE \r\n",
                "\t([Order Key] BIGINT NOT NULL,\r\n",
                "\t [Quantity] INT NOT NULL\r\n",
                "\t);\r\n",
                "\r\n",
                "INSERT @Order\r\n",
                "SELECT [Order Key], [Quantity]\r\n",
                "FROM [Fact].[OrderHistory]\r\n",
                "WHERE  [Quantity] > 99;\r\n",
                "\r\n",
                "SELECT oh.[Order Key], oh.[Order Date Key],\r\n",
                "\t   oh.[Unit Price], o.Quantity\r\n",
                "FROM Fact.OrderHistoryExtended AS oh\r\n",
                "INNER JOIN @Order AS o\r\n",
                "\tON o.[Order Key] = oh.[Order Key]\r\n",
                "WHERE oh.[Unit Price] > 0.10\r\n",
                "ORDER BY oh.[Unit Price] DESC;\r\n",
                "GO"
            ],
            "metadata": {
                "azdata_cell_guid": "71483984-6bdd-4866-8ddc-e40fe692c0db"
            },
            "outputs": [
                {
                    "output_type": "display_data",
                    "data": {
                        "text/html": "Commands completed successfully."
                    },
                    "metadata": {}
                },
                {
                    "output_type": "display_data",
                    "data": {
                        "text/html": "Commands completed successfully."
                    },
                    "metadata": {}
                },
                {
                    "output_type": "display_data",
                    "data": {
                        "text/html": "Commands completed successfully."
                    },
                    "metadata": {}
                },
                {
                    "output_type": "display_data",
                    "data": {
                        "text/html": "(490928 rows affected)"
                    },
                    "metadata": {}
                },
                {
                    "output_type": "display_data",
                    "data": {
                        "text/html": "(490928 rows affected)"
                    },
                    "metadata": {}
                },
                {
                    "output_type": "display_data",
                    "data": {
                        "text/html": "Displaying Top 500 rows."
                    },
                    "metadata": {}
                },
                {
                    "output_type": "display_data",
                    "data": {
                        "text/html": "Total execution time: 00:00:17.819"
                    },
                    "metadata": {}
                },
                {
                    "output_type": "execute_result",
                    "metadata": {},
                    "execution_count": 1,
                    "data": {
                        "application/vnd.dataresource+json": {
                            "schema": {
                                "fields": [
                                    {
                                        "name": "Order Key"
                                    },
                                    {
                                        "name": "Order Date Key"
                                    },
                                    {
                                        "name": "Unit Price"
                                    },
                                    {
                                        "name": "Quantity"
                                    }
                                ]
                            },
                            "data": [
                                {
                                    "0": "797013",
                                    "1": "2015-10-14",
                                    "2": "112.00",
                                    "3": "100"
                                },
                                {
                                    "0": "593327",
                                    "1": "2014-02-28",
                                    "2": "112.00",
                                    "3": "100"
                                },
                                {
                                    "0": "804535",
                                    "1": "2014-12-05",
                                    "2": "112.00",
                                    "3": "100"
                                },
                                {
                                    "0": "907476",
                                    "1": "2013-03-11",
                                    "2": "112.00",
                                    "3": "100"
                                },
                                {
                                    "0": "826912",
                                    "1": "2014-05-19",
                                    "2": "112.00",
                                    "3": "100"
                                },
                                {
                                    "0": "834650",
                                    "1": "2015-11-16",
                                    "2": "112.00",
                                    "3": "100"
                                },
                                {
                                    "0": "666744",
                                    "1": "2013-12-09",
                                    "2": "112.00",
                                    "3": "100"
                                },
                                {
                                    "0": "646938",
                                    "1": "2013-09-12",
                                    "2": "112.00",
                                    "3": "100"
                                },
                                {
                                    "0": "894950",
                                    "1": "2015-07-18",
                                    "2": "112.00",
                                    "3": "100"
                                },
                                {
                                    "0": "847187",
                                    "1": "2015-01-13",
                                    "2": "112.00",
                                    "3": "100"
                                },
                                {
                                    "0": "997865",
                                    "1": "2013-07-25",
                                    "2": "112.00",
                                    "3": "100"
                                },
                                {
                                    "0": "997875",
                                    "1": "2013-09-19",
                                    "2": "112.00",
                                    "3": "100"
                                },
                                {
                                    "0": "997882",
                                    "1": "2013-10-10",
                                    "2": "112.00",
                                    "3": "100"
                                },
                                {
                                    "0": "997972",
                                    "1": "2015-07-16",
                                    "2": "112.00",
                                    "3": "100"
                                },
                                {
                                    "0": "967326",
                                    "1": "2015-07-18",
                                    "2": "112.00",
                                    "3": "100"
                                },
                                {
                                    "0": "1195710",
                                    "1": "2014-01-24",
                                    "2": "112.00",
                                    "3": "100"
                                },
                                {
                                    "0": "977452",
                                    "1": "2013-04-19",
                                    "2": "112.00",
                                    "3": "100"
                                },
                                {
                                    "0": "977454",
                                    "1": "2013-04-19",
                                    "2": "112.00",
                                    "3": "100"
                                },
                                {
                                    "0": "977467",
                                    "1": "2013-05-02",
                                    "2": "112.00",
                                    "3": "100"
                                },
                                {
                                    "0": "977470",
                                    "1": "2013-05-08",
                                    "2": "112.00",
                                    "3": "100"
                                },
                                {
                                    "0": "977620",
                                    "1": "2013-06-14",
                                    "2": "112.00",
                                    "3": "100"
                                },
                                {
                                    "0": "1396345",
                                    "1": "2015-07-18",
                                    "2": "112.00",
                                    "3": "100"
                                },
                                {
                                    "0": "1398855",
                                    "1": "2015-12-09",
                                    "2": "112.00",
                                    "3": "100"
                                },
                                {
                                    "0": "1020660",
                                    "1": "2015-12-18",
                                    "2": "112.00",
                                    "3": "100"
                                },
                                {
                                    "0": "1576788",
                                    "1": "2014-07-04",
                                    "2": "112.00",
                                    "3": "100"
                                },
                                {
                                    "0": "1140180",
                                    "1": "2015-01-26",
                                    "2": "112.00",
                                    "3": "100"
                                },
                                {
                                    "0": "1476688",
                                    "1": "2015-03-10",
                                    "2": "112.00",
                                    "3": "100"
                                },
                                {
                                    "0": "1336420",
                                    "1": "2015-03-03",
                                    "2": "112.00",
                                    "3": "100"
                                },
                                {
                                    "0": "1339003",
                                    "1": "2015-08-12",
                                    "2": "112.00",
                                    "3": "100"
                                },
                                {
                                    "0": "1536395",
                                    "1": "2015-04-22",
                                    "2": "112.00",
                                    "3": "100"
                                },
                                {
                                    "0": "1536686",
                                    "1": "2015-05-21",
                                    "2": "112.00",
                                    "3": "100"
                                },
                                {
                                    "0": "1204298",
                                    "1": "2014-11-10",
                                    "2": "112.00",
                                    "3": "100"
                                },
                                {
                                    "0": "1446337",
                                    "1": "2014-01-29",
                                    "2": "112.00",
                                    "3": "100"
                                },
                                {
                                    "0": "1486575",
                                    "1": "2014-02-14",
                                    "2": "112.00",
                                    "3": "100"
                                },
                                {
                                    "0": "1486722",
                                    "1": "2015-01-14",
                                    "2": "112.00",
                                    "3": "100"
                                },
                                {
                                    "0": "1326484",
                                    "1": "2015-03-16",
                                    "2": "112.00",
                                    "3": "100"
                                },
                                {
                                    "0": "1846919",
                                    "1": "2014-04-24",
                                    "2": "112.00",
                                    "3": "100"
                                },
                                {
                                    "0": "1910787",
                                    "1": "2015-08-20",
                                    "2": "112.00",
                                    "3": "100"
                                },
                                {
                                    "0": "2376042",
                                    "1": "2015-03-16",
                                    "2": "112.00",
                                    "3": "100"
                                },
                                {
                                    "0": "2042282",
                                    "1": "2015-09-23",
                                    "2": "112.00",
                                    "3": "100"
                                },
                                {
                                    "0": "2131543",
                                    "1": "2014-03-05",
                                    "2": "112.00",
                                    "3": "100"
                                },
                                {
                                    "0": "1687346",
                                    "1": "2015-07-29",
                                    "2": "112.00",
                                    "3": "100"
                                },
                                {
                                    "0": "2181115",
                                    "1": "2014-03-12",
                                    "2": "112.00",
                                    "3": "100"
                                },
                                {
                                    "0": "2109470",
                                    "1": "2015-08-26",
                                    "2": "112.00",
                                    "3": "100"
                                },
                                {
                                    "0": "2423537",
                                    "1": "2014-11-10",
                                    "2": "112.00",
                                    "3": "100"
                                },
                                {
                                    "0": "2426127",
                                    "1": "2015-12-15",
                                    "2": "112.00",
                                    "3": "100"
                                },
                                {
                                    "0": "2524449",
                                    "1": "2013-03-11",
                                    "2": "112.00",
                                    "3": "100"
                                },
                                {
                                    "0": "2343435",
                                    "1": "2014-09-25",
                                    "2": "112.00",
                                    "3": "100"
                                },
                                {
                                    "0": "2303411",
                                    "1": "2013-04-12",
                                    "2": "112.00",
                                    "3": "100"
                                },
                                {
                                    "0": "2303418",
                                    "1": "2013-04-18",
                                    "2": "112.00",
                                    "3": "100"
                                },
                                {
                                    "0": "2383507",
                                    "1": "2014-03-05",
                                    "2": "112.00",
                                    "3": "100"
                                },
                                {
                                    "0": "2883067",
                                    "1": "2014-09-25",
                                    "2": "112.00",
                                    "3": "100"
                                },
                                {
                                    "0": "2637457",
                                    "1": "2015-08-26",
                                    "2": "112.00",
                                    "3": "100"
                                },
                                {
                                    "0": "2645282",
                                    "1": "2014-12-05",
                                    "2": "112.00",
                                    "3": "100"
                                },
                                {
                                    "0": "2647675",
                                    "1": "2013-11-11",
                                    "2": "112.00",
                                    "3": "100"
                                },
                                {
                                    "0": "2617201",
                                    "1": "2015-05-21",
                                    "2": "112.00",
                                    "3": "100"
                                },
                                {
                                    "0": "2695895",
                                    "1": "2013-07-20",
                                    "2": "112.00",
                                    "3": "100"
                                },
                                {
                                    "0": "2913090",
                                    "1": "2016-05-02",
                                    "2": "112.00",
                                    "3": "100"
                                },
                                {
                                    "0": "2915427",
                                    "1": "2013-03-11",
                                    "2": "112.00",
                                    "3": "100"
                                },
                                {
                                    "0": "2685543",
                                    "1": "2013-03-11",
                                    "2": "112.00",
                                    "3": "100"
                                },
                                {
                                    "0": "2733560",
                                    "1": "2013-09-12",
                                    "2": "112.00",
                                    "3": "100"
                                },
                                {
                                    "0": "3258043",
                                    "1": "2014-02-14",
                                    "2": "112.00",
                                    "3": "100"
                                },
                                {
                                    "0": "3219065",
                                    "1": "2014-03-12",
                                    "2": "112.00",
                                    "3": "100"
                                },
                                {
                                    "0": "3221612",
                                    "1": "2015-12-09",
                                    "2": "112.00",
                                    "3": "100"
                                },
                                {
                                    "0": "2765666",
                                    "1": "2015-04-15",
                                    "2": "112.00",
                                    "3": "100"
                                },
                                {
                                    "0": "2966472",
                                    "1": "2015-07-10",
                                    "2": "112.00",
                                    "3": "100"
                                },
                                {
                                    "0": "2948135",
                                    "1": "2015-10-20",
                                    "2": "112.00",
                                    "3": "100"
                                },
                                {
                                    "0": "3032792",
                                    "1": "2014-07-04",
                                    "2": "112.00",
                                    "3": "100"
                                },
                                {
                                    "0": "3104547",
                                    "1": "2014-03-05",
                                    "2": "112.00",
                                    "3": "100"
                                },
                                {
                                    "0": "3113511",
                                    "1": "2015-09-23",
                                    "2": "112.00",
                                    "3": "100"
                                },
                                {
                                    "0": "3385795",
                                    "1": "2015-12-18",
                                    "2": "112.00",
                                    "3": "100"
                                },
                                {
                                    "0": "3425505",
                                    "1": "2015-02-25",
                                    "2": "112.00",
                                    "3": "100"
                                },
                                {
                                    "0": "3427939",
                                    "1": "2013-03-19",
                                    "2": "112.00",
                                    "3": "100"
                                },
                                {
                                    "0": "3290854",
                                    "1": "2014-12-17",
                                    "2": "112.00",
                                    "3": "100"
                                },
                                {
                                    "0": "3643819",
                                    "1": "2014-11-10",
                                    "2": "112.00",
                                    "3": "100"
                                },
                                {
                                    "0": "158006",
                                    "1": "2015-05-29",
                                    "2": "112.00",
                                    "3": "100"
                                },
                                {
                                    "0": "40963",
                                    "1": "2013-08-28",
                                    "2": "112.00",
                                    "3": "100"
                                },
                                {
                                    "0": "40193",
                                    "1": "2013-08-23",
                                    "2": "112.00",
                                    "3": "100"
                                },
                                {
                                    "0": "43448",
                                    "1": "2013-09-12",
                                    "2": "112.00",
                                    "3": "100"
                                },
                                {
                                    "0": "182011",
                                    "1": "2015-09-23",
                                    "2": "112.00",
                                    "3": "100"
                                },
                                {
                                    "0": "276176",
                                    "1": "2015-11-14",
                                    "2": "112.00",
                                    "3": "100"
                                },
                                {
                                    "0": "276254",
                                    "1": "2015-01-13",
                                    "2": "112.00",
                                    "3": "100"
                                },
                                {
                                    "0": "276258",
                                    "1": "2015-01-14",
                                    "2": "112.00",
                                    "3": "100"
                                },
                                {
                                    "0": "1065768",
                                    "1": "2014-12-10",
                                    "2": "112.00",
                                    "3": "100"
                                },
                                {
                                    "0": "1332309",
                                    "1": "2015-04-17",
                                    "2": "112.00",
                                    "3": "100"
                                },
                                {
                                    "0": "1339219",
                                    "1": "2016-02-10",
                                    "2": "112.00",
                                    "3": "100"
                                },
                                {
                                    "0": "1322349",
                                    "1": "2016-05-02",
                                    "2": "112.00",
                                    "3": "100"
                                },
                                {
                                    "0": "1322676",
                                    "1": "2015-06-06",
                                    "2": "112.00",
                                    "3": "100"
                                },
                                {
                                    "0": "1219828",
                                    "1": "2015-01-26",
                                    "2": "112.00",
                                    "3": "100"
                                },
                                {
                                    "0": "1519419",
                                    "1": "2016-02-11",
                                    "2": "112.00",
                                    "3": "100"
                                },
                                {
                                    "0": "1640051",
                                    "1": "2015-05-21",
                                    "2": "112.00",
                                    "3": "100"
                                },
                                {
                                    "0": "2075497",
                                    "1": "2015-12-15",
                                    "2": "112.00",
                                    "3": "100"
                                },
                                {
                                    "0": "1482324",
                                    "1": "2015-11-14",
                                    "2": "112.00",
                                    "3": "100"
                                },
                                {
                                    "0": "1898852",
                                    "1": "2014-10-06",
                                    "2": "112.00",
                                    "3": "100"
                                },
                                {
                                    "0": "1462489",
                                    "1": "2013-11-20",
                                    "2": "112.00",
                                    "3": "100"
                                },
                                {
                                    "0": "1569315",
                                    "1": "2015-07-10",
                                    "2": "112.00",
                                    "3": "100"
                                },
                                {
                                    "0": "1703441",
                                    "1": "2015-11-27",
                                    "2": "112.00",
                                    "3": "100"
                                },
                                {
                                    "0": "1225553",
                                    "1": "2014-02-18",
                                    "2": "112.00",
                                    "3": "100"
                                },
                                {
                                    "0": "1743241",
                                    "1": "2015-07-16",
                                    "2": "112.00",
                                    "3": "100"
                                },
                                {
                                    "0": "1964371",
                                    "1": "2014-02-28",
                                    "2": "112.00",
                                    "3": "100"
                                },
                                {
                                    "0": "2416212",
                                    "1": "2015-03-19",
                                    "2": "112.00",
                                    "3": "100"
                                },
                                {
                                    "0": "2194592",
                                    "1": "2014-10-06",
                                    "2": "112.00",
                                    "3": "100"
                                },
                                {
                                    "0": "3632623",
                                    "1": "2013-07-23",
                                    "2": "112.00",
                                    "3": "100"
                                },
                                {
                                    "0": "350404",
                                    "1": "2014-12-17",
                                    "2": "112.00",
                                    "3": "100"
                                },
                                {
                                    "0": "289738",
                                    "1": "2013-05-02",
                                    "2": "112.00",
                                    "3": "100"
                                },
                                {
                                    "0": "289741",
                                    "1": "2013-05-08",
                                    "2": "112.00",
                                    "3": "100"
                                },
                                {
                                    "0": "320315",
                                    "1": "2014-12-05",
                                    "2": "112.00",
                                    "3": "100"
                                },
                                {
                                    "0": "402037",
                                    "1": "2015-01-26",
                                    "2": "112.00",
                                    "3": "100"
                                },
                                {
                                    "0": "441819",
                                    "1": "2015-09-08",
                                    "2": "112.00",
                                    "3": "100"
                                },
                                {
                                    "0": "371119",
                                    "1": "2013-11-11",
                                    "2": "112.00",
                                    "3": "100"
                                },
                                {
                                    "0": "371236",
                                    "1": "2015-09-26",
                                    "2": "112.00",
                                    "3": "100"
                                },
                                {
                                    "0": "441966",
                                    "1": "2015-10-14",
                                    "2": "112.00",
                                    "3": "100"
                                },
                                {
                                    "0": "392108",
                                    "1": "2015-11-03",
                                    "2": "112.00",
                                    "3": "100"
                                },
                                {
                                    "0": "371407",
                                    "1": "2013-11-20",
                                    "2": "112.00",
                                    "3": "100"
                                },
                                {
                                    "0": "498799",
                                    "1": "2014-09-25",
                                    "2": "112.00",
                                    "3": "100"
                                },
                                {
                                    "0": "505917",
                                    "1": "2014-10-06",
                                    "2": "112.00",
                                    "3": "100"
                                },
                                {
                                    "0": "606096",
                                    "1": "2015-12-09",
                                    "2": "112.00",
                                    "3": "100"
                                },
                                {
                                    "0": "529434",
                                    "1": "2014-08-02",
                                    "2": "112.00",
                                    "3": "100"
                                },
                                {
                                    "0": "586197",
                                    "1": "2015-04-17",
                                    "2": "112.00",
                                    "3": "100"
                                },
                                {
                                    "0": "609494",
                                    "1": "2016-02-20",
                                    "2": "112.00",
                                    "3": "100"
                                },
                                {
                                    "0": "1834535",
                                    "1": "2015-03-20",
                                    "2": "112.00",
                                    "3": "100"
                                },
                                {
                                    "0": "1896830",
                                    "1": "2016-02-10",
                                    "2": "112.00",
                                    "3": "100"
                                },
                                {
                                    "0": "2060033",
                                    "1": "2014-01-24",
                                    "2": "112.00",
                                    "3": "100"
                                },
                                {
                                    "0": "1824468",
                                    "1": "2015-08-10",
                                    "2": "112.00",
                                    "3": "100"
                                },
                                {
                                    "0": "2232875",
                                    "1": "2013-07-25",
                                    "2": "112.00",
                                    "3": "100"
                                },
                                {
                                    "0": "1885573",
                                    "1": "2015-05-26",
                                    "2": "112.00",
                                    "3": "100"
                                },
                                {
                                    "0": "2299049",
                                    "1": "2015-04-22",
                                    "2": "112.00",
                                    "3": "100"
                                },
                                {
                                    "0": "1923139",
                                    "1": "2015-09-26",
                                    "2": "112.00",
                                    "3": "100"
                                },
                                {
                                    "0": "1923259",
                                    "1": "2015-10-06",
                                    "2": "112.00",
                                    "3": "100"
                                },
                                {
                                    "0": "1923265",
                                    "1": "2015-10-09",
                                    "2": "112.00",
                                    "3": "100"
                                },
                                {
                                    "0": "2496748",
                                    "1": "2013-11-20",
                                    "2": "112.00",
                                    "3": "100"
                                },
                                {
                                    "0": "2499834",
                                    "1": "2015-08-15",
                                    "2": "112.00",
                                    "3": "100"
                                },
                                {
                                    "0": "2499902",
                                    "1": "2015-01-26",
                                    "2": "112.00",
                                    "3": "100"
                                },
                                {
                                    "0": "2121790",
                                    "1": "2015-03-10",
                                    "2": "112.00",
                                    "3": "100"
                                },
                                {
                                    "0": "2536949",
                                    "1": "2014-04-24",
                                    "2": "112.00",
                                    "3": "100"
                                },
                                {
                                    "0": "2181191",
                                    "1": "2014-08-02",
                                    "2": "112.00",
                                    "3": "100"
                                },
                                {
                                    "0": "2183489",
                                    "1": "2014-04-24",
                                    "2": "112.00",
                                    "3": "100"
                                },
                                {
                                    "0": "2319235",
                                    "1": "2014-03-24",
                                    "2": "112.00",
                                    "3": "100"
                                },
                                {
                                    "0": "2915717",
                                    "1": "2013-06-14",
                                    "2": "112.00",
                                    "3": "100"
                                },
                                {
                                    "0": "2736430",
                                    "1": "2013-12-23",
                                    "2": "112.00",
                                    "3": "100"
                                },
                                {
                                    "0": "2469529",
                                    "1": "2013-02-11",
                                    "2": "112.00",
                                    "3": "100"
                                },
                                {
                                    "0": "2658065",
                                    "1": "2015-08-26",
                                    "2": "112.00",
                                    "3": "100"
                                },
                                {
                                    "0": "2570267",
                                    "1": "2014-06-19",
                                    "2": "112.00",
                                    "3": "100"
                                },
                                {
                                    "0": "2779334",
                                    "1": "2015-11-11",
                                    "2": "112.00",
                                    "3": "100"
                                },
                                {
                                    "0": "2590121",
                                    "1": "2014-12-10",
                                    "2": "112.00",
                                    "3": "100"
                                },
                                {
                                    "0": "2846340",
                                    "1": "2015-11-11",
                                    "2": "112.00",
                                    "3": "100"
                                },
                                {
                                    "0": "2788944",
                                    "1": "2013-08-23",
                                    "2": "112.00",
                                    "3": "100"
                                },
                                {
                                    "0": "2789003",
                                    "1": "2015-08-12",
                                    "2": "112.00",
                                    "3": "100"
                                },
                                {
                                    "0": "3062085",
                                    "1": "2013-09-19",
                                    "2": "112.00",
                                    "3": "100"
                                },
                                {
                                    "0": "2935571",
                                    "1": "2016-01-04",
                                    "2": "112.00",
                                    "3": "100"
                                },
                                {
                                    "0": "3421373",
                                    "1": "2015-05-29",
                                    "2": "112.00",
                                    "3": "100"
                                },
                                {
                                    "0": "3224735",
                                    "1": "2015-09-05",
                                    "2": "112.00",
                                    "3": "100"
                                },
                                {
                                    "0": "3284235",
                                    "1": "2015-08-10",
                                    "2": "112.00",
                                    "3": "100"
                                },
                                {
                                    "0": "2866033",
                                    "1": "2015-10-06",
                                    "2": "112.00",
                                    "3": "100"
                                },
                                {
                                    "0": "3012213",
                                    "1": "2016-02-11",
                                    "2": "112.00",
                                    "3": "100"
                                },
                                {
                                    "0": "3441136",
                                    "1": "2014-06-19",
                                    "2": "112.00",
                                    "3": "100"
                                },
                                {
                                    "0": "2971092",
                                    "1": "2014-08-02",
                                    "2": "112.00",
                                    "3": "100"
                                },
                                {
                                    "0": "3046121",
                                    "1": "2013-06-03",
                                    "2": "112.00",
                                    "3": "100"
                                },
                                {
                                    "0": "2711887",
                                    "1": "2015-01-13",
                                    "2": "112.00",
                                    "3": "100"
                                },
                                {
                                    "0": "3028193",
                                    "1": "2016-01-04",
                                    "2": "112.00",
                                    "3": "100"
                                },
                                {
                                    "0": "3031218",
                                    "1": "2013-07-23",
                                    "2": "112.00",
                                    "3": "100"
                                },
                                {
                                    "0": "3107060",
                                    "1": "2015-10-14",
                                    "2": "112.00",
                                    "3": "100"
                                },
                                {
                                    "0": "3559784",
                                    "1": "2014-04-24",
                                    "2": "112.00",
                                    "3": "100"
                                },
                                {
                                    "0": "3273967",
                                    "1": "2016-01-04",
                                    "2": "112.00",
                                    "3": "100"
                                },
                                {
                                    "0": "3351180",
                                    "1": "2013-04-18",
                                    "2": "112.00",
                                    "3": "100"
                                },
                                {
                                    "0": "3493758",
                                    "1": "2015-08-22",
                                    "2": "112.00",
                                    "3": "100"
                                },
                                {
                                    "0": "3175116",
                                    "1": "2014-05-19",
                                    "2": "112.00",
                                    "3": "100"
                                },
                                {
                                    "0": "3624193",
                                    "1": "2013-06-03",
                                    "2": "112.00",
                                    "3": "100"
                                },
                                {
                                    "0": "3632406",
                                    "1": "2013-06-14",
                                    "2": "112.00",
                                    "3": "100"
                                },
                                {
                                    "0": "3549730",
                                    "1": "2013-06-26",
                                    "2": "112.00",
                                    "3": "100"
                                },
                                {
                                    "0": "820116",
                                    "1": "2014-08-18",
                                    "2": "112.00",
                                    "3": "100"
                                },
                                {
                                    "0": "730549",
                                    "1": "2015-12-18",
                                    "2": "112.00",
                                    "3": "100"
                                },
                                {
                                    "0": "730790",
                                    "1": "2015-11-03",
                                    "2": "112.00",
                                    "3": "100"
                                },
                                {
                                    "0": "867649",
                                    "1": "2016-02-10",
                                    "2": "112.00",
                                    "3": "100"
                                },
                                {
                                    "0": "720483",
                                    "1": "2013-11-11",
                                    "2": "112.00",
                                    "3": "100"
                                },
                                {
                                    "0": "720618",
                                    "1": "2013-11-20",
                                    "2": "112.00",
                                    "3": "100"
                                },
                                {
                                    "0": "800330",
                                    "1": "2014-01-24",
                                    "2": "112.00",
                                    "3": "100"
                                },
                                {
                                    "0": "928751",
                                    "1": "2016-05-02",
                                    "2": "112.00",
                                    "3": "100"
                                },
                                {
                                    "0": "797100",
                                    "1": "2013-07-20",
                                    "2": "112.00",
                                    "3": "100"
                                },
                                {
                                    "0": "827297",
                                    "1": "2013-04-19",
                                    "2": "112.00",
                                    "3": "100"
                                },
                                {
                                    "0": "827299",
                                    "1": "2013-04-19",
                                    "2": "112.00",
                                    "3": "100"
                                },
                                {
                                    "0": "837225",
                                    "1": "2015-04-22",
                                    "2": "112.00",
                                    "3": "100"
                                },
                                {
                                    "0": "830338",
                                    "1": "2014-07-04",
                                    "2": "112.00",
                                    "3": "100"
                                },
                                {
                                    "0": "993688",
                                    "1": "2015-03-03",
                                    "2": "112.00",
                                    "3": "100"
                                },
                                {
                                    "0": "1094714",
                                    "1": "2014-01-29",
                                    "2": "112.00",
                                    "3": "100"
                                },
                                {
                                    "0": "1359014",
                                    "1": "2014-07-07",
                                    "2": "112.00",
                                    "3": "100"
                                },
                                {
                                    "0": "1000561",
                                    "1": "2014-01-06",
                                    "2": "112.00",
                                    "3": "100"
                                },
                                {
                                    "0": "1459069",
                                    "1": "2014-03-05",
                                    "2": "112.00",
                                    "3": "100"
                                },
                                {
                                    "0": "1120618",
                                    "1": "2015-11-16",
                                    "2": "112.00",
                                    "3": "100"
                                },
                                {
                                    "0": "1151157",
                                    "1": "2015-05-26",
                                    "2": "112.00",
                                    "3": "100"
                                },
                                {
                                    "0": "1572398",
                                    "1": "2015-11-16",
                                    "2": "112.00",
                                    "3": "100"
                                },
                                {
                                    "0": "53082",
                                    "1": "2013-11-11",
                                    "2": "112.00",
                                    "3": "100"
                                },
                                {
                                    "0": "54877",
                                    "1": "2013-11-20",
                                    "2": "112.00",
                                    "3": "100"
                                },
                                {
                                    "0": "58034",
                                    "1": "2013-12-09",
                                    "2": "112.00",
                                    "3": "100"
                                },
                                {
                                    "0": "202005",
                                    "1": "2016-01-04",
                                    "2": "112.00",
                                    "3": "100"
                                },
                                {
                                    "0": "202038",
                                    "1": "2016-01-04",
                                    "2": "112.00",
                                    "3": "100"
                                },
                                {
                                    "0": "9549",
                                    "1": "2013-03-04",
                                    "2": "112.00",
                                    "3": "100"
                                },
                                {
                                    "0": "17717",
                                    "1": "2013-04-19",
                                    "2": "112.00",
                                    "3": "100"
                                },
                                {
                                    "0": "19893",
                                    "1": "2013-05-02",
                                    "2": "112.00",
                                    "3": "100"
                                },
                                {
                                    "0": "17861",
                                    "1": "2013-04-19",
                                    "2": "112.00",
                                    "3": "100"
                                },
                                {
                                    "0": "21244",
                                    "1": "2013-05-08",
                                    "2": "112.00",
                                    "3": "100"
                                },
                                {
                                    "0": "27904",
                                    "1": "2013-06-14",
                                    "2": "112.00",
                                    "3": "100"
                                },
                                {
                                    "0": "35147",
                                    "1": "2013-07-23",
                                    "2": "112.00",
                                    "3": "100"
                                },
                                {
                                    "0": "149422",
                                    "1": "2015-04-17",
                                    "2": "112.00",
                                    "3": "100"
                                },
                                {
                                    "0": "126886",
                                    "1": "2014-12-24",
                                    "2": "112.00",
                                    "3": "100"
                                },
                                {
                                    "0": "316882",
                                    "1": "2014-01-24",
                                    "2": "112.00",
                                    "3": "100"
                                },
                                {
                                    "0": "286389",
                                    "1": "2013-04-16",
                                    "2": "112.00",
                                    "3": "100"
                                },
                                {
                                    "0": "365129",
                                    "1": "2013-08-23",
                                    "2": "112.00",
                                    "3": "100"
                                },
                                {
                                    "0": "365142",
                                    "1": "2013-08-28",
                                    "2": "112.00",
                                    "3": "100"
                                },
                                {
                                    "0": "304100",
                                    "1": "2016-03-01",
                                    "2": "112.00",
                                    "3": "100"
                                },
                                {
                                    "0": "283874",
                                    "1": "2015-08-26",
                                    "2": "112.00",
                                    "3": "100"
                                },
                                {
                                    "0": "436405",
                                    "1": "2013-12-23",
                                    "2": "112.00",
                                    "3": "100"
                                },
                                {
                                    "0": "406590",
                                    "1": "2015-03-16",
                                    "2": "112.00",
                                    "3": "100"
                                },
                                {
                                    "0": "865076",
                                    "1": "2014-12-17",
                                    "2": "112.00",
                                    "3": "100"
                                },
                                {
                                    "0": "513161",
                                    "1": "2015-03-19",
                                    "2": "112.00",
                                    "3": "100"
                                },
                                {
                                    "0": "3642951",
                                    "1": "2014-02-14",
                                    "2": "112.00",
                                    "3": "100"
                                },
                                {
                                    "0": "3135856",
                                    "1": "2013-09-19",
                                    "2": "112.00",
                                    "3": "100"
                                },
                                {
                                    "0": "3334080",
                                    "1": "2015-04-22",
                                    "2": "112.00",
                                    "3": "100"
                                },
                                {
                                    "0": "3635466",
                                    "1": "2014-04-26",
                                    "2": "112.00",
                                    "3": "100"
                                },
                                {
                                    "0": "384942",
                                    "1": "2015-03-19",
                                    "2": "112.00",
                                    "3": "100"
                                },
                                {
                                    "0": "622536",
                                    "1": "2015-03-20",
                                    "2": "112.00",
                                    "3": "100"
                                },
                                {
                                    "0": "863628",
                                    "1": "2014-01-24",
                                    "2": "112.00",
                                    "3": "100"
                                },
                                {
                                    "0": "522194",
                                    "1": "2015-03-03",
                                    "2": "112.00",
                                    "3": "100"
                                },
                                {
                                    "0": "522485",
                                    "1": "2015-03-20",
                                    "2": "112.00",
                                    "3": "100"
                                },
                                {
                                    "0": "552959",
                                    "1": "2014-04-24",
                                    "2": "112.00",
                                    "3": "100"
                                },
                                {
                                    "0": "582517",
                                    "1": "2013-07-25",
                                    "2": "112.00",
                                    "3": "100"
                                },
                                {
                                    "0": "903945",
                                    "1": "2013-03-19",
                                    "2": "112.00",
                                    "3": "100"
                                },
                                {
                                    "0": "923819",
                                    "1": "2015-09-05",
                                    "2": "112.00",
                                    "3": "100"
                                },
                                {
                                    "0": "914059",
                                    "1": "2015-08-28",
                                    "2": "112.00",
                                    "3": "100"
                                },
                                {
                                    "0": "996496",
                                    "1": "2015-11-27",
                                    "2": "112.00",
                                    "3": "100"
                                },
                                {
                                    "0": "1114847",
                                    "1": "2015-12-09",
                                    "2": "112.00",
                                    "3": "100"
                                },
                                {
                                    "0": "883578",
                                    "1": "2015-07-16",
                                    "2": "112.00",
                                    "3": "100"
                                },
                                {
                                    "0": "1006552",
                                    "1": "2016-05-26",
                                    "2": "112.00",
                                    "3": "100"
                                },
                                {
                                    "0": "1512304",
                                    "1": "2013-11-11",
                                    "2": "112.00",
                                    "3": "100"
                                },
                                {
                                    "0": "1515312",
                                    "1": "2014-04-24",
                                    "2": "112.00",
                                    "3": "100"
                                },
                                {
                                    "0": "1492418",
                                    "1": "2015-12-09",
                                    "2": "112.00",
                                    "3": "100"
                                },
                                {
                                    "0": "1636107",
                                    "1": "2015-08-28",
                                    "2": "112.00",
                                    "3": "100"
                                },
                                {
                                    "0": "966217",
                                    "1": "2015-01-13",
                                    "2": "112.00",
                                    "3": "100"
                                },
                                {
                                    "0": "1395241",
                                    "1": "2015-11-03",
                                    "2": "112.00",
                                    "3": "100"
                                },
                                {
                                    "0": "1023870",
                                    "1": "2015-02-25",
                                    "2": "112.00",
                                    "3": "100"
                                },
                                {
                                    "0": "1575565",
                                    "1": "2015-03-07",
                                    "2": "112.00",
                                    "3": "100"
                                },
                                {
                                    "0": "1147263",
                                    "1": "2013-08-28",
                                    "2": "112.00",
                                    "3": "100"
                                },
                                {
                                    "0": "1147250",
                                    "1": "2013-08-23",
                                    "2": "112.00",
                                    "3": "100"
                                },
                                {
                                    "0": "1615958",
                                    "1": "2014-04-11",
                                    "2": "112.00",
                                    "3": "100"
                                },
                                {
                                    "0": "1221294",
                                    "1": "2015-08-20",
                                    "2": "112.00",
                                    "3": "100"
                                },
                                {
                                    "0": "1221305",
                                    "1": "2015-08-22",
                                    "2": "112.00",
                                    "3": "100"
                                },
                                {
                                    "0": "1221405",
                                    "1": "2014-02-14",
                                    "2": "112.00",
                                    "3": "100"
                                },
                                {
                                    "0": "1221462",
                                    "1": "2014-03-05",
                                    "2": "112.00",
                                    "3": "100"
                                },
                                {
                                    "0": "1325388",
                                    "1": "2016-02-20",
                                    "2": "112.00",
                                    "3": "100"
                                },
                                {
                                    "0": "1505639",
                                    "1": "2013-02-11",
                                    "2": "112.00",
                                    "3": "100"
                                },
                                {
                                    "0": "1545315",
                                    "1": "2015-08-12",
                                    "2": "112.00",
                                    "3": "100"
                                },
                                {
                                    "0": "1482196",
                                    "1": "2015-11-27",
                                    "2": "112.00",
                                    "3": "100"
                                },
                                {
                                    "0": "1585670",
                                    "1": "2014-02-26",
                                    "2": "112.00",
                                    "3": "100"
                                },
                                {
                                    "0": "1465436",
                                    "1": "2015-08-28",
                                    "2": "112.00",
                                    "3": "100"
                                },
                                {
                                    "0": "2035780",
                                    "1": "2015-09-08",
                                    "2": "112.00",
                                    "3": "100"
                                },
                                {
                                    "0": "1693006",
                                    "1": "2014-08-18",
                                    "2": "112.00",
                                    "3": "100"
                                },
                                {
                                    "0": "1696377",
                                    "1": "2014-04-22",
                                    "2": "112.00",
                                    "3": "100"
                                },
                                {
                                    "0": "1746335",
                                    "1": "2014-06-19",
                                    "2": "112.00",
                                    "3": "100"
                                },
                                {
                                    "0": "1746358",
                                    "1": "2015-03-07",
                                    "2": "112.00",
                                    "3": "100"
                                },
                                {
                                    "0": "1823137",
                                    "1": "2015-09-23",
                                    "2": "112.00",
                                    "3": "100"
                                },
                                {
                                    "0": "1756540",
                                    "1": "2015-08-20",
                                    "2": "112.00",
                                    "3": "100"
                                },
                                {
                                    "0": "2482694",
                                    "1": "2015-11-14",
                                    "2": "112.00",
                                    "3": "100"
                                },
                                {
                                    "0": "2583126",
                                    "1": "2015-03-16",
                                    "2": "112.00",
                                    "3": "100"
                                },
                                {
                                    "0": "2583308",
                                    "1": "2014-11-13",
                                    "2": "112.00",
                                    "3": "100"
                                },
                                {
                                    "0": "2742339",
                                    "1": "2014-01-24",
                                    "2": "112.00",
                                    "3": "100"
                                },
                                {
                                    "0": "2742381",
                                    "1": "2015-10-20",
                                    "2": "112.00",
                                    "3": "100"
                                },
                                {
                                    "0": "2742246",
                                    "1": "2014-01-06",
                                    "2": "112.00",
                                    "3": "100"
                                },
                                {
                                    "0": "2472501",
                                    "1": "2015-03-16",
                                    "2": "112.00",
                                    "3": "100"
                                },
                                {
                                    "0": "2965914",
                                    "1": "2014-12-24",
                                    "2": "112.00",
                                    "3": "100"
                                },
                                {
                                    "0": "2844236",
                                    "1": "2013-06-26",
                                    "2": "112.00",
                                    "3": "100"
                                },
                                {
                                    "0": "2928434",
                                    "1": "2014-08-20",
                                    "2": "112.00",
                                    "3": "100"
                                },
                                {
                                    "0": "2984951",
                                    "1": "2013-03-04",
                                    "2": "112.00",
                                    "3": "100"
                                },
                                {
                                    "0": "3257010",
                                    "1": "2013-06-20",
                                    "2": "112.00",
                                    "3": "100"
                                },
                                {
                                    "0": "2772261",
                                    "1": "2013-07-23",
                                    "2": "112.00",
                                    "3": "100"
                                },
                                {
                                    "0": "3283921",
                                    "1": "2013-07-25",
                                    "2": "112.00",
                                    "3": "100"
                                },
                                {
                                    "0": "3283931",
                                    "1": "2013-09-19",
                                    "2": "112.00",
                                    "3": "100"
                                },
                                {
                                    "0": "3283938",
                                    "1": "2013-10-10",
                                    "2": "112.00",
                                    "3": "100"
                                },
                                {
                                    "0": "2633861",
                                    "1": "2014-01-24",
                                    "2": "112.00",
                                    "3": "100"
                                },
                                {
                                    "0": "2891754",
                                    "1": "2014-07-04",
                                    "2": "112.00",
                                    "3": "100"
                                },
                                {
                                    "0": "2654265",
                                    "1": "2015-07-16",
                                    "2": "112.00",
                                    "3": "100"
                                },
                                {
                                    "0": "3460936",
                                    "1": "2014-04-11",
                                    "2": "112.00",
                                    "3": "100"
                                },
                                {
                                    "0": "3461043",
                                    "1": "2013-03-19",
                                    "2": "112.00",
                                    "3": "100"
                                },
                                {
                                    "0": "3461133",
                                    "1": "2014-08-18",
                                    "2": "112.00",
                                    "3": "100"
                                },
                                {
                                    "0": "3051723",
                                    "1": "2015-03-16",
                                    "2": "112.00",
                                    "3": "100"
                                },
                                {
                                    "0": "3073641",
                                    "1": "2014-03-24",
                                    "2": "112.00",
                                    "3": "100"
                                },
                                {
                                    "0": "3542939",
                                    "1": "2014-03-12",
                                    "2": "112.00",
                                    "3": "100"
                                },
                                {
                                    "0": "3324020",
                                    "1": "2016-03-01",
                                    "2": "112.00",
                                    "3": "100"
                                },
                                {
                                    "0": "3112218",
                                    "1": "2015-08-15",
                                    "2": "112.00",
                                    "3": "100"
                                },
                                {
                                    "0": "3112230",
                                    "1": "2015-08-27",
                                    "2": "112.00",
                                    "3": "100"
                                },
                                {
                                    "0": "3404515",
                                    "1": "2015-10-09",
                                    "2": "112.00",
                                    "3": "100"
                                },
                                {
                                    "0": "3404449",
                                    "1": "2015-10-06",
                                    "2": "112.00",
                                    "3": "100"
                                },
                                {
                                    "0": "3562718",
                                    "1": "2014-12-17",
                                    "2": "112.00",
                                    "3": "100"
                                },
                                {
                                    "0": "3357068",
                                    "1": "2014-04-22",
                                    "2": "112.00",
                                    "3": "100"
                                },
                                {
                                    "0": "2733433",
                                    "1": "2015-04-17",
                                    "2": "112.00",
                                    "3": "100"
                                },
                                {
                                    "0": "3224323",
                                    "1": "2013-06-26",
                                    "2": "112.00",
                                    "3": "100"
                                },
                                {
                                    "0": "2768790",
                                    "1": "2015-10-06",
                                    "2": "112.00",
                                    "3": "100"
                                },
                                {
                                    "0": "2768796",
                                    "1": "2015-10-09",
                                    "2": "112.00",
                                    "3": "100"
                                },
                                {
                                    "0": "2768828",
                                    "1": "2016-05-11",
                                    "2": "112.00",
                                    "3": "100"
                                },
                                {
                                    "0": "3283823",
                                    "1": "2014-04-11",
                                    "2": "112.00",
                                    "3": "100"
                                },
                                {
                                    "0": "3303776",
                                    "1": "2014-12-05",
                                    "2": "112.00",
                                    "3": "100"
                                },
                                {
                                    "0": "2947887",
                                    "1": "2014-11-10",
                                    "2": "112.00",
                                    "3": "100"
                                },
                                {
                                    "0": "3146716",
                                    "1": "2013-03-04",
                                    "2": "112.00",
                                    "3": "100"
                                },
                                {
                                    "0": "3125337",
                                    "1": "2015-08-10",
                                    "2": "112.00",
                                    "3": "100"
                                },
                                {
                                    "0": "3241106",
                                    "1": "2014-02-18",
                                    "2": "112.00",
                                    "3": "100"
                                },
                                {
                                    "0": "3250173",
                                    "1": "2015-08-15",
                                    "2": "112.00",
                                    "3": "100"
                                },
                                {
                                    "0": "2853380",
                                    "1": "2015-05-21",
                                    "2": "112.00",
                                    "3": "100"
                                },
                                {
                                    "0": "3330729",
                                    "1": "2015-05-21",
                                    "2": "112.00",
                                    "3": "100"
                                },
                                {
                                    "0": "3101547",
                                    "1": "2015-09-26",
                                    "2": "112.00",
                                    "3": "100"
                                },
                                {
                                    "0": "3104038",
                                    "1": "2015-06-06",
                                    "2": "112.00",
                                    "3": "100"
                                },
                                {
                                    "0": "3106527",
                                    "1": "2014-12-17",
                                    "2": "112.00",
                                    "3": "100"
                                },
                                {
                                    "0": "3106609",
                                    "1": "2015-09-08",
                                    "2": "112.00",
                                    "3": "100"
                                },
                                {
                                    "0": "3132497",
                                    "1": "2014-12-10",
                                    "2": "112.00",
                                    "3": "100"
                                },
                                {
                                    "0": "428443",
                                    "1": "2015-03-10",
                                    "2": "112.00",
                                    "3": "100"
                                },
                                {
                                    "0": "441397",
                                    "1": "2015-08-12",
                                    "2": "112.00",
                                    "3": "100"
                                },
                                {
                                    "0": "809705",
                                    "1": "2016-01-04",
                                    "2": "112.00",
                                    "3": "100"
                                },
                                {
                                    "0": "598846",
                                    "1": "2013-06-20",
                                    "2": "112.00",
                                    "3": "100"
                                },
                                {
                                    "0": "854395",
                                    "1": "2015-05-29",
                                    "2": "112.00",
                                    "3": "100"
                                },
                                {
                                    "0": "618964",
                                    "1": "2013-06-03",
                                    "2": "112.00",
                                    "3": "100"
                                },
                                {
                                    "0": "498395",
                                    "1": "2013-06-20",
                                    "2": "112.00",
                                    "3": "100"
                                },
                                {
                                    "0": "870170",
                                    "1": "2015-12-15",
                                    "2": "112.00",
                                    "3": "100"
                                },
                                {
                                    "0": "750856",
                                    "1": "2014-01-06",
                                    "2": "112.00",
                                    "3": "100"
                                },
                                {
                                    "0": "876988",
                                    "1": "2016-03-01",
                                    "2": "112.00",
                                    "3": "100"
                                },
                                {
                                    "0": "508619",
                                    "1": "2013-06-14",
                                    "2": "112.00",
                                    "3": "100"
                                },
                                {
                                    "0": "508805",
                                    "1": "2013-07-23",
                                    "2": "112.00",
                                    "3": "100"
                                },
                                {
                                    "0": "515677",
                                    "1": "2016-03-01",
                                    "2": "112.00",
                                    "3": "100"
                                },
                                {
                                    "0": "719927",
                                    "1": "2013-04-18",
                                    "2": "112.00",
                                    "3": "100"
                                },
                                {
                                    "0": "525809",
                                    "1": "2014-04-22",
                                    "2": "112.00",
                                    "3": "100"
                                },
                                {
                                    "0": "720131",
                                    "1": "2013-06-26",
                                    "2": "112.00",
                                    "3": "100"
                                },
                                {
                                    "0": "720203",
                                    "1": "2015-04-22",
                                    "2": "112.00",
                                    "3": "100"
                                },
                                {
                                    "0": "796766",
                                    "1": "2015-09-08",
                                    "2": "112.00",
                                    "3": "100"
                                },
                                {
                                    "0": "583341",
                                    "1": "2014-05-19",
                                    "2": "112.00",
                                    "3": "100"
                                },
                                {
                                    "0": "576042",
                                    "1": "2014-10-06",
                                    "2": "112.00",
                                    "3": "100"
                                },
                                {
                                    "0": "836955",
                                    "1": "2015-05-21",
                                    "2": "112.00",
                                    "3": "100"
                                },
                                {
                                    "0": "959706",
                                    "1": "2014-07-07",
                                    "2": "112.00",
                                    "3": "100"
                                },
                                {
                                    "0": "846900",
                                    "1": "2015-11-14",
                                    "2": "112.00",
                                    "3": "100"
                                },
                                {
                                    "0": "1135362",
                                    "1": "2014-09-25",
                                    "2": "112.00",
                                    "3": "100"
                                },
                                {
                                    "0": "1135504",
                                    "1": "2013-06-03",
                                    "2": "112.00",
                                    "3": "100"
                                },
                                {
                                    "0": "1632767",
                                    "1": "2016-03-01",
                                    "2": "112.00",
                                    "3": "100"
                                },
                                {
                                    "0": "967011",
                                    "1": "2015-01-14",
                                    "2": "112.00",
                                    "3": "100"
                                },
                                {
                                    "0": "969380",
                                    "1": "2015-04-22",
                                    "2": "112.00",
                                    "3": "100"
                                },
                                {
                                    "0": "1090656",
                                    "1": "2013-06-26",
                                    "2": "112.00",
                                    "3": "100"
                                },
                                {
                                    "0": "1090789",
                                    "1": "2013-11-11",
                                    "2": "112.00",
                                    "3": "100"
                                },
                                {
                                    "0": "1091070",
                                    "1": "2013-11-20",
                                    "2": "112.00",
                                    "3": "100"
                                },
                                {
                                    "0": "979761",
                                    "1": "2015-12-09",
                                    "2": "112.00",
                                    "3": "100"
                                },
                                {
                                    "0": "979801",
                                    "1": "2014-07-04",
                                    "2": "112.00",
                                    "3": "100"
                                },
                                {
                                    "0": "977175",
                                    "1": "2013-03-04",
                                    "2": "112.00",
                                    "3": "100"
                                },
                                {
                                    "0": "982981",
                                    "1": "2016-02-20",
                                    "2": "112.00",
                                    "3": "100"
                                },
                                {
                                    "0": "1391549",
                                    "1": "2015-12-18",
                                    "2": "112.00",
                                    "3": "100"
                                },
                                {
                                    "0": "1111440",
                                    "1": "2014-04-26",
                                    "2": "112.00",
                                    "3": "100"
                                },
                                {
                                    "0": "1000004",
                                    "1": "2015-09-05",
                                    "2": "112.00",
                                    "3": "100"
                                },
                                {
                                    "0": "1125266",
                                    "1": "2014-03-24",
                                    "2": "112.00",
                                    "3": "100"
                                },
                                {
                                    "0": "1150679",
                                    "1": "2013-09-12",
                                    "2": "112.00",
                                    "3": "100"
                                },
                                {
                                    "0": "1579002",
                                    "1": "2013-07-23",
                                    "2": "112.00",
                                    "3": "100"
                                },
                                {
                                    "0": "1471976",
                                    "1": "2015-10-20",
                                    "2": "112.00",
                                    "3": "100"
                                },
                                {
                                    "0": "1616912",
                                    "1": "2013-03-11",
                                    "2": "112.00",
                                    "3": "100"
                                },
                                {
                                    "0": "1558624",
                                    "1": "2015-08-28",
                                    "2": "112.00",
                                    "3": "100"
                                },
                                {
                                    "0": "1556230",
                                    "1": "2015-09-23",
                                    "2": "112.00",
                                    "3": "100"
                                },
                                {
                                    "0": "1558847",
                                    "1": "2014-03-05",
                                    "2": "112.00",
                                    "3": "100"
                                },
                                {
                                    "0": "1043431",
                                    "1": "2014-02-28",
                                    "2": "112.00",
                                    "3": "100"
                                },
                                {
                                    "0": "1236127",
                                    "1": "2014-11-10",
                                    "2": "112.00",
                                    "3": "100"
                                },
                                {
                                    "0": "1277862",
                                    "1": "2013-12-23",
                                    "2": "112.00",
                                    "3": "100"
                                },
                                {
                                    "0": "1293267",
                                    "1": "2014-11-13",
                                    "2": "112.00",
                                    "3": "100"
                                },
                                {
                                    "0": "1219472",
                                    "1": "2014-11-13",
                                    "2": "112.00",
                                    "3": "100"
                                },
                                {
                                    "0": "1498906",
                                    "1": "2014-09-12",
                                    "2": "112.00",
                                    "3": "100"
                                },
                                {
                                    "0": "1502239",
                                    "1": "2015-11-11",
                                    "2": "112.00",
                                    "3": "100"
                                },
                                {
                                    "0": "1521924",
                                    "1": "2015-08-26",
                                    "2": "112.00",
                                    "3": "100"
                                },
                                {
                                    "0": "2075149",
                                    "1": "2014-02-14",
                                    "2": "112.00",
                                    "3": "100"
                                },
                                {
                                    "0": "1797589",
                                    "1": "2015-08-28",
                                    "2": "112.00",
                                    "3": "100"
                                },
                                {
                                    "0": "1361639",
                                    "1": "2013-07-20",
                                    "2": "112.00",
                                    "3": "100"
                                },
                                {
                                    "0": "1408577",
                                    "1": "2015-09-26",
                                    "2": "112.00",
                                    "3": "100"
                                },
                                {
                                    "0": "1428302",
                                    "1": "2015-02-02",
                                    "2": "112.00",
                                    "3": "100"
                                },
                                {
                                    "0": "1834244",
                                    "1": "2015-03-03",
                                    "2": "112.00",
                                    "3": "100"
                                },
                                {
                                    "0": "1836621",
                                    "1": "2015-05-26",
                                    "2": "112.00",
                                    "3": "100"
                                },
                                {
                                    "0": "1912880",
                                    "1": "2015-04-17",
                                    "2": "112.00",
                                    "3": "100"
                                },
                                {
                                    "0": "1916075",
                                    "1": "2015-08-10",
                                    "2": "112.00",
                                    "3": "100"
                                },
                                {
                                    "0": "1916196",
                                    "1": "2016-05-26",
                                    "2": "112.00",
                                    "3": "100"
                                },
                                {
                                    "0": "1486316",
                                    "1": "2016-01-04",
                                    "2": "112.00",
                                    "3": "100"
                                },
                                {
                                    "0": "1922462",
                                    "1": "2015-08-15",
                                    "2": "112.00",
                                    "3": "100"
                                },
                                {
                                    "0": "1922474",
                                    "1": "2015-08-27",
                                    "2": "112.00",
                                    "3": "100"
                                },
                                {
                                    "0": "1602551",
                                    "1": "2013-02-11",
                                    "2": "112.00",
                                    "3": "100"
                                },
                                {
                                    "0": "2059606",
                                    "1": "2016-02-20",
                                    "2": "112.00",
                                    "3": "100"
                                },
                                {
                                    "0": "2012606",
                                    "1": "2015-04-17",
                                    "2": "112.00",
                                    "3": "100"
                                },
                                {
                                    "0": "1719365",
                                    "1": "2014-12-24",
                                    "2": "112.00",
                                    "3": "100"
                                },
                                {
                                    "0": "1737031",
                                    "1": "2014-02-26",
                                    "2": "112.00",
                                    "3": "100"
                                },
                                {
                                    "0": "1861562",
                                    "1": "2015-11-16",
                                    "2": "112.00",
                                    "3": "100"
                                },
                                {
                                    "0": "1306216",
                                    "1": "2014-11-10",
                                    "2": "112.00",
                                    "3": "100"
                                },
                                {
                                    "0": "1346266",
                                    "1": "2015-09-08",
                                    "2": "112.00",
                                    "3": "100"
                                },
                                {
                                    "0": "1963940",
                                    "1": "2014-02-14",
                                    "2": "112.00",
                                    "3": "100"
                                },
                                {
                                    "0": "2413224",
                                    "1": "2013-07-23",
                                    "2": "112.00",
                                    "3": "100"
                                },
                                {
                                    "0": "2435805",
                                    "1": "2016-02-20",
                                    "2": "112.00",
                                    "3": "100"
                                },
                                {
                                    "0": "1784868",
                                    "1": "2013-04-16",
                                    "2": "112.00",
                                    "3": "100"
                                },
                                {
                                    "0": "2235046",
                                    "1": "2015-03-03",
                                    "2": "112.00",
                                    "3": "100"
                                },
                                {
                                    "0": "1850017",
                                    "1": "2014-12-24",
                                    "2": "112.00",
                                    "3": "100"
                                },
                                {
                                    "0": "2258668",
                                    "1": "2015-10-14",
                                    "2": "112.00",
                                    "3": "100"
                                },
                                {
                                    "0": "2402259",
                                    "1": "2015-03-10",
                                    "2": "112.00",
                                    "3": "100"
                                },
                                {
                                    "0": "1927582",
                                    "1": "2014-11-13",
                                    "2": "112.00",
                                    "3": "100"
                                },
                                {
                                    "0": "2127975",
                                    "1": "2014-03-12",
                                    "2": "112.00",
                                    "3": "100"
                                },
                                {
                                    "0": "2128027",
                                    "1": "2014-02-18",
                                    "2": "112.00",
                                    "3": "100"
                                },
                                {
                                    "0": "2462406",
                                    "1": "2014-01-29",
                                    "2": "112.00",
                                    "3": "100"
                                },
                                {
                                    "0": "2281706",
                                    "1": "2013-09-19",
                                    "2": "112.00",
                                    "3": "100"
                                },
                                {
                                    "0": "2281713",
                                    "1": "2013-10-10",
                                    "2": "112.00",
                                    "3": "100"
                                },
                                {
                                    "0": "2281850",
                                    "1": "2013-09-19",
                                    "2": "112.00",
                                    "3": "100"
                                },
                                {
                                    "0": "2322180",
                                    "1": "2015-07-10",
                                    "2": "112.00",
                                    "3": "100"
                                },
                                {
                                    "0": "2362122",
                                    "1": "2014-02-14",
                                    "2": "112.00",
                                    "3": "100"
                                },
                                {
                                    "0": "2452636",
                                    "1": "2013-07-20",
                                    "2": "112.00",
                                    "3": "100"
                                },
                                {
                                    "0": "2251809",
                                    "1": "2014-11-10",
                                    "2": "112.00",
                                    "3": "100"
                                },
                                {
                                    "0": "2372170",
                                    "1": "2015-04-15",
                                    "2": "112.00",
                                    "3": "100"
                                },
                                {
                                    "0": "3464704",
                                    "1": "2015-10-20",
                                    "2": "112.00",
                                    "3": "100"
                                },
                                {
                                    "0": "3405254",
                                    "1": "2013-11-06",
                                    "2": "112.00",
                                    "3": "100"
                                },
                                {
                                    "0": "3407931",
                                    "1": "2015-07-16",
                                    "2": "112.00",
                                    "3": "100"
                                },
                                {
                                    "0": "3388111",
                                    "1": "2013-07-25",
                                    "2": "112.00",
                                    "3": "100"
                                },
                                {
                                    "0": "3583279",
                                    "1": "2015-05-29",
                                    "2": "112.00",
                                    "3": "100"
                                },
                                {
                                    "0": "3585775",
                                    "1": "2013-07-25",
                                    "2": "112.00",
                                    "3": "100"
                                },
                                {
                                    "0": "3565841",
                                    "1": "2014-02-26",
                                    "2": "112.00",
                                    "3": "100"
                                },
                                {
                                    "0": "3566104",
                                    "1": "2015-07-16",
                                    "2": "112.00",
                                    "3": "100"
                                },
                                {
                                    "0": "3353670",
                                    "1": "2013-11-11",
                                    "2": "112.00",
                                    "3": "100"
                                },
                                {
                                    "0": "3476106",
                                    "1": "2015-03-19",
                                    "2": "112.00",
                                    "3": "100"
                                },
                                {
                                    "0": "3529533",
                                    "1": "2016-01-04",
                                    "2": "112.00",
                                    "3": "100"
                                },
                                {
                                    "0": "3533964",
                                    "1": "2015-03-16",
                                    "2": "112.00",
                                    "3": "100"
                                },
                                {
                                    "0": "3516487",
                                    "1": "2015-07-10",
                                    "2": "112.00",
                                    "3": "100"
                                },
                                {
                                    "0": "3643606",
                                    "1": "2016-05-26",
                                    "2": "112.00",
                                    "3": "100"
                                },
                                {
                                    "0": "3620634",
                                    "1": "2013-11-06",
                                    "2": "112.00",
                                    "3": "100"
                                },
                                {
                                    "0": "3595935",
                                    "1": "2015-03-07",
                                    "2": "112.00",
                                    "3": "100"
                                },
                                {
                                    "0": "3617124",
                                    "1": "2015-05-26",
                                    "2": "112.00",
                                    "3": "100"
                                },
                                {
                                    "0": "3617188",
                                    "1": "2013-06-20",
                                    "2": "112.00",
                                    "3": "100"
                                },
                                {
                                    "0": "3678203",
                                    "1": "2015-03-07",
                                    "2": "112.00",
                                    "3": "100"
                                },
                                {
                                    "0": "192658",
                                    "1": "2015-11-16",
                                    "2": "112.00",
                                    "3": "100"
                                },
                                {
                                    "0": "65885",
                                    "1": "2014-01-24",
                                    "2": "112.00",
                                    "3": "100"
                                },
                                {
                                    "0": "86430",
                                    "1": "2014-05-19",
                                    "2": "112.00",
                                    "3": "100"
                                },
                                {
                                    "0": "2902230",
                                    "1": "2015-12-18",
                                    "2": "112.00",
                                    "3": "100"
                                },
                                {
                                    "0": "2828988",
                                    "1": "2014-12-05",
                                    "2": "112.00",
                                    "3": "100"
                                },
                                {
                                    "0": "3201268",
                                    "1": "2015-01-26",
                                    "2": "112.00",
                                    "3": "100"
                                },
                                {
                                    "0": "3247446",
                                    "1": "2015-08-27",
                                    "2": "112.00",
                                    "3": "100"
                                },
                                {
                                    "0": "3375341",
                                    "1": "2015-03-03",
                                    "2": "112.00",
                                    "3": "100"
                                },
                                {
                                    "0": "3643413",
                                    "1": "2014-02-28",
                                    "2": "112.00",
                                    "3": "100"
                                },
                                {
                                    "0": "3659525",
                                    "1": "2015-12-15",
                                    "2": "112.00",
                                    "3": "100"
                                },
                                {
                                    "0": "227209",
                                    "1": "2016-05-11",
                                    "2": "112.00",
                                    "3": "100"
                                },
                                {
                                    "0": "225026",
                                    "1": "2016-05-02",
                                    "2": "112.00",
                                    "3": "100"
                                },
                                {
                                    "0": "16508",
                                    "1": "2013-04-12",
                                    "2": "112.00",
                                    "3": "100"
                                },
                                {
                                    "0": "17590",
                                    "1": "2013-04-18",
                                    "2": "112.00",
                                    "3": "100"
                                },
                                {
                                    "0": "29978",
                                    "1": "2013-06-26",
                                    "2": "112.00",
                                    "3": "100"
                                },
                                {
                                    "0": "157080",
                                    "1": "2015-05-26",
                                    "2": "112.00",
                                    "3": "100"
                                },
                                {
                                    "0": "52501",
                                    "1": "2013-11-06",
                                    "2": "112.00",
                                    "3": "100"
                                },
                                {
                                    "0": "130779",
                                    "1": "2015-01-14",
                                    "2": "112.00",
                                    "3": "100"
                                },
                                {
                                    "0": "130562",
                                    "1": "2015-01-13",
                                    "2": "112.00",
                                    "3": "100"
                                },
                                {
                                    "0": "150421",
                                    "1": "2015-04-22",
                                    "2": "112.00",
                                    "3": "100"
                                },
                                {
                                    "0": "209060",
                                    "1": "2016-02-10",
                                    "2": "112.00",
                                    "3": "100"
                                },
                                {
                                    "0": "212798",
                                    "1": "2016-03-01",
                                    "2": "112.00",
                                    "3": "100"
                                },
                                {
                                    "0": "6721",
                                    "1": "2013-02-11",
                                    "2": "112.00",
                                    "3": "100"
                                },
                                {
                                    "0": "198344",
                                    "1": "2015-12-15",
                                    "2": "112.00",
                                    "3": "100"
                                },
                                {
                                    "0": "62536",
                                    "1": "2014-01-06",
                                    "2": "112.00",
                                    "3": "100"
                                },
                                {
                                    "0": "296074",
                                    "1": "2014-09-12",
                                    "2": "112.00",
                                    "3": "100"
                                },
                                {
                                    "0": "336328",
                                    "1": "2014-12-24",
                                    "2": "112.00",
                                    "3": "100"
                                },
                                {
                                    "0": "286083",
                                    "1": "2014-04-22",
                                    "2": "112.00",
                                    "3": "100"
                                },
                                {
                                    "0": "283359",
                                    "1": "2015-08-10",
                                    "2": "112.00",
                                    "3": "100"
                                },
                                {
                                    "0": "289469",
                                    "1": "2014-07-04",
                                    "2": "112.00",
                                    "3": "100"
                                },
                                {
                                    "0": "370694",
                                    "1": "2015-08-15",
                                    "2": "112.00",
                                    "3": "100"
                                },
                                {
                                    "0": "370706",
                                    "1": "2015-08-27",
                                    "2": "112.00",
                                    "3": "100"
                                },
                                {
                                    "0": "1616756",
                                    "1": "2013-03-04",
                                    "2": "112.00",
                                    "3": "100"
                                },
                                {
                                    "0": "1596582",
                                    "1": "2015-03-16",
                                    "2": "112.00",
                                    "3": "100"
                                },
                                {
                                    "0": "1486184",
                                    "1": "2013-06-14",
                                    "2": "112.00",
                                    "3": "100"
                                },
                                {
                                    "0": "1566088",
                                    "1": "2013-03-04",
                                    "2": "112.00",
                                    "3": "100"
                                },
                                {
                                    "0": "1566130",
                                    "1": "2013-08-28",
                                    "2": "112.00",
                                    "3": "100"
                                },
                                {
                                    "0": "1566117",
                                    "1": "2013-08-23",
                                    "2": "112.00",
                                    "3": "100"
                                },
                                {
                                    "0": "1810553",
                                    "1": "2013-06-26",
                                    "2": "112.00",
                                    "3": "100"
                                },
                                {
                                    "0": "2252647",
                                    "1": "2015-12-09",
                                    "2": "112.00",
                                    "3": "100"
                                },
                                {
                                    "0": "2335420",
                                    "1": "2015-11-03",
                                    "2": "112.00",
                                    "3": "100"
                                },
                                {
                                    "0": "2295312",
                                    "1": "2013-04-12",
                                    "2": "112.00",
                                    "3": "100"
                                },
                                {
                                    "0": "2298675",
                                    "1": "2013-06-26",
                                    "2": "112.00",
                                    "3": "100"
                                },
                                {
                                    "0": "2378984",
                                    "1": "2015-08-12",
                                    "2": "112.00",
                                    "3": "100"
                                },
                                {
                                    "0": "2042086",
                                    "1": "2013-07-20",
                                    "2": "112.00",
                                    "3": "100"
                                },
                                {
                                    "0": "2594248",
                                    "1": "2015-08-28",
                                    "2": "112.00",
                                    "3": "100"
                                },
                                {
                                    "0": "2459230",
                                    "1": "2015-03-03",
                                    "2": "112.00",
                                    "3": "100"
                                },
                                {
                                    "0": "1689320",
                                    "1": "2015-09-23",
                                    "2": "112.00",
                                    "3": "100"
                                },
                                {
                                    "0": "2533919",
                                    "1": "2015-10-06",
                                    "2": "112.00",
                                    "3": "100"
                                },
                                {
                                    "0": "2533925",
                                    "1": "2015-10-09",
                                    "2": "112.00",
                                    "3": "100"
                                },
                                {
                                    "0": "2534009",
                                    "1": "2014-04-26",
                                    "2": "112.00",
                                    "3": "100"
                                },
                                {
                                    "0": "2534090",
                                    "1": "2014-01-06",
                                    "2": "112.00",
                                    "3": "100"
                                },
                                {
                                    "0": "2536706",
                                    "1": "2015-12-09",
                                    "2": "112.00",
                                    "3": "100"
                                },
                                {
                                    "0": "2104560",
                                    "1": "2015-08-10",
                                    "2": "112.00",
                                    "3": "100"
                                },
                                {
                                    "0": "1830159",
                                    "1": "2015-03-16",
                                    "2": "112.00",
                                    "3": "100"
                                },
                                {
                                    "0": "2225013",
                                    "1": "2016-05-02",
                                    "2": "112.00",
                                    "3": "100"
                                },
                                {
                                    "0": "1869380",
                                    "1": "2016-05-02",
                                    "2": "112.00",
                                    "3": "100"
                                },
                                {
                                    "0": "2358874",
                                    "1": "2015-09-05",
                                    "2": "112.00",
                                    "3": "100"
                                },
                                {
                                    "0": "2425754",
                                    "1": "2016-01-04",
                                    "2": "112.00",
                                    "3": "100"
                                },
                                {
                                    "0": "2918618",
                                    "1": "2013-07-23",
                                    "2": "112.00",
                                    "3": "100"
                                },
                                {
                                    "0": "2526266",
                                    "1": "2015-09-26",
                                    "2": "112.00",
                                    "3": "100"
                                },
                                {
                                    "0": "2977445",
                                    "1": "2015-02-02",
                                    "2": "112.00",
                                    "3": "100"
                                },
                                {
                                    "0": "2677526",
                                    "1": "2015-08-28",
                                    "2": "112.00",
                                    "3": "100"
                                },
                                {
                                    "0": "2403283",
                                    "1": "2015-10-14",
                                    "2": "112.00",
                                    "3": "100"
                                },
                                {
                                    "0": "2824246",
                                    "1": "2015-01-26",
                                    "2": "112.00",
                                    "3": "100"
                                },
                                {
                                    "0": "2302981",
                                    "1": "2015-09-23",
                                    "2": "112.00",
                                    "3": "100"
                                },
                                {
                                    "0": "2305571",
                                    "1": "2013-09-12",
                                    "2": "112.00",
                                    "3": "100"
                                },
                                {
                                    "0": "2469198",
                                    "1": "2014-01-06",
                                    "2": "112.00",
                                    "3": "100"
                                },
                                {
                                    "0": "2634707",
                                    "1": "2015-07-18",
                                    "2": "112.00",
                                    "3": "100"
                                },
                                {
                                    "0": "2170698",
                                    "1": "2014-04-24",
                                    "2": "112.00",
                                    "3": "100"
                                },
                                {
                                    "0": "2616951",
                                    "1": "2014-01-29",
                                    "2": "112.00",
                                    "3": "100"
                                },
                                {
                                    "0": "2620087",
                                    "1": "2014-09-25",
                                    "2": "112.00",
                                    "3": "100"
                                },
                                {
                                    "0": "2620220",
                                    "1": "2013-09-12",
                                    "2": "112.00",
                                    "3": "100"
                                },
                                {
                                    "0": "2620173",
                                    "1": "2015-02-02",
                                    "2": "112.00",
                                    "3": "100"
                                }
                            ]
                        },
                        "text/html": "<table><tr><th>Order Key</th><th>Order Date Key</th><th>Unit Price</th><th>Quantity</th></tr><tr><td>797013</td><td>2015-10-14</td><td>112.00</td><td>100</td></tr><tr><td>593327</td><td>2014-02-28</td><td>112.00</td><td>100</td></tr><tr><td>804535</td><td>2014-12-05</td><td>112.00</td><td>100</td></tr><tr><td>907476</td><td>2013-03-11</td><td>112.00</td><td>100</td></tr><tr><td>826912</td><td>2014-05-19</td><td>112.00</td><td>100</td></tr><tr><td>834650</td><td>2015-11-16</td><td>112.00</td><td>100</td></tr><tr><td>666744</td><td>2013-12-09</td><td>112.00</td><td>100</td></tr><tr><td>646938</td><td>2013-09-12</td><td>112.00</td><td>100</td></tr><tr><td>894950</td><td>2015-07-18</td><td>112.00</td><td>100</td></tr><tr><td>847187</td><td>2015-01-13</td><td>112.00</td><td>100</td></tr><tr><td>997865</td><td>2013-07-25</td><td>112.00</td><td>100</td></tr><tr><td>997875</td><td>2013-09-19</td><td>112.00</td><td>100</td></tr><tr><td>997882</td><td>2013-10-10</td><td>112.00</td><td>100</td></tr><tr><td>997972</td><td>2015-07-16</td><td>112.00</td><td>100</td></tr><tr><td>967326</td><td>2015-07-18</td><td>112.00</td><td>100</td></tr><tr><td>1195710</td><td>2014-01-24</td><td>112.00</td><td>100</td></tr><tr><td>977452</td><td>2013-04-19</td><td>112.00</td><td>100</td></tr><tr><td>977454</td><td>2013-04-19</td><td>112.00</td><td>100</td></tr><tr><td>977467</td><td>2013-05-02</td><td>112.00</td><td>100</td></tr><tr><td>977470</td><td>2013-05-08</td><td>112.00</td><td>100</td></tr><tr><td>977620</td><td>2013-06-14</td><td>112.00</td><td>100</td></tr><tr><td>1396345</td><td>2015-07-18</td><td>112.00</td><td>100</td></tr><tr><td>1398855</td><td>2015-12-09</td><td>112.00</td><td>100</td></tr><tr><td>1020660</td><td>2015-12-18</td><td>112.00</td><td>100</td></tr><tr><td>1576788</td><td>2014-07-04</td><td>112.00</td><td>100</td></tr><tr><td>1140180</td><td>2015-01-26</td><td>112.00</td><td>100</td></tr><tr><td>1476688</td><td>2015-03-10</td><td>112.00</td><td>100</td></tr><tr><td>1336420</td><td>2015-03-03</td><td>112.00</td><td>100</td></tr><tr><td>1339003</td><td>2015-08-12</td><td>112.00</td><td>100</td></tr><tr><td>1536395</td><td>2015-04-22</td><td>112.00</td><td>100</td></tr><tr><td>1536686</td><td>2015-05-21</td><td>112.00</td><td>100</td></tr><tr><td>1204298</td><td>2014-11-10</td><td>112.00</td><td>100</td></tr><tr><td>1446337</td><td>2014-01-29</td><td>112.00</td><td>100</td></tr><tr><td>1486575</td><td>2014-02-14</td><td>112.00</td><td>100</td></tr><tr><td>1486722</td><td>2015-01-14</td><td>112.00</td><td>100</td></tr><tr><td>1326484</td><td>2015-03-16</td><td>112.00</td><td>100</td></tr><tr><td>1846919</td><td>2014-04-24</td><td>112.00</td><td>100</td></tr><tr><td>1910787</td><td>2015-08-20</td><td>112.00</td><td>100</td></tr><tr><td>2376042</td><td>2015-03-16</td><td>112.00</td><td>100</td></tr><tr><td>2042282</td><td>2015-09-23</td><td>112.00</td><td>100</td></tr><tr><td>2131543</td><td>2014-03-05</td><td>112.00</td><td>100</td></tr><tr><td>1687346</td><td>2015-07-29</td><td>112.00</td><td>100</td></tr><tr><td>2181115</td><td>2014-03-12</td><td>112.00</td><td>100</td></tr><tr><td>2109470</td><td>2015-08-26</td><td>112.00</td><td>100</td></tr><tr><td>2423537</td><td>2014-11-10</td><td>112.00</td><td>100</td></tr><tr><td>2426127</td><td>2015-12-15</td><td>112.00</td><td>100</td></tr><tr><td>2524449</td><td>2013-03-11</td><td>112.00</td><td>100</td></tr><tr><td>2343435</td><td>2014-09-25</td><td>112.00</td><td>100</td></tr><tr><td>2303411</td><td>2013-04-12</td><td>112.00</td><td>100</td></tr><tr><td>2303418</td><td>2013-04-18</td><td>112.00</td><td>100</td></tr><tr><td>2383507</td><td>2014-03-05</td><td>112.00</td><td>100</td></tr><tr><td>2883067</td><td>2014-09-25</td><td>112.00</td><td>100</td></tr><tr><td>2637457</td><td>2015-08-26</td><td>112.00</td><td>100</td></tr><tr><td>2645282</td><td>2014-12-05</td><td>112.00</td><td>100</td></tr><tr><td>2647675</td><td>2013-11-11</td><td>112.00</td><td>100</td></tr><tr><td>2617201</td><td>2015-05-21</td><td>112.00</td><td>100</td></tr><tr><td>2695895</td><td>2013-07-20</td><td>112.00</td><td>100</td></tr><tr><td>2913090</td><td>2016-05-02</td><td>112.00</td><td>100</td></tr><tr><td>2915427</td><td>2013-03-11</td><td>112.00</td><td>100</td></tr><tr><td>2685543</td><td>2013-03-11</td><td>112.00</td><td>100</td></tr><tr><td>2733560</td><td>2013-09-12</td><td>112.00</td><td>100</td></tr><tr><td>3258043</td><td>2014-02-14</td><td>112.00</td><td>100</td></tr><tr><td>3219065</td><td>2014-03-12</td><td>112.00</td><td>100</td></tr><tr><td>3221612</td><td>2015-12-09</td><td>112.00</td><td>100</td></tr><tr><td>2765666</td><td>2015-04-15</td><td>112.00</td><td>100</td></tr><tr><td>2966472</td><td>2015-07-10</td><td>112.00</td><td>100</td></tr><tr><td>2948135</td><td>2015-10-20</td><td>112.00</td><td>100</td></tr><tr><td>3032792</td><td>2014-07-04</td><td>112.00</td><td>100</td></tr><tr><td>3104547</td><td>2014-03-05</td><td>112.00</td><td>100</td></tr><tr><td>3113511</td><td>2015-09-23</td><td>112.00</td><td>100</td></tr><tr><td>3385795</td><td>2015-12-18</td><td>112.00</td><td>100</td></tr><tr><td>3425505</td><td>2015-02-25</td><td>112.00</td><td>100</td></tr><tr><td>3427939</td><td>2013-03-19</td><td>112.00</td><td>100</td></tr><tr><td>3290854</td><td>2014-12-17</td><td>112.00</td><td>100</td></tr><tr><td>3643819</td><td>2014-11-10</td><td>112.00</td><td>100</td></tr><tr><td>158006</td><td>2015-05-29</td><td>112.00</td><td>100</td></tr><tr><td>40963</td><td>2013-08-28</td><td>112.00</td><td>100</td></tr><tr><td>40193</td><td>2013-08-23</td><td>112.00</td><td>100</td></tr><tr><td>43448</td><td>2013-09-12</td><td>112.00</td><td>100</td></tr><tr><td>182011</td><td>2015-09-23</td><td>112.00</td><td>100</td></tr><tr><td>276176</td><td>2015-11-14</td><td>112.00</td><td>100</td></tr><tr><td>276254</td><td>2015-01-13</td><td>112.00</td><td>100</td></tr><tr><td>276258</td><td>2015-01-14</td><td>112.00</td><td>100</td></tr><tr><td>1065768</td><td>2014-12-10</td><td>112.00</td><td>100</td></tr><tr><td>1332309</td><td>2015-04-17</td><td>112.00</td><td>100</td></tr><tr><td>1339219</td><td>2016-02-10</td><td>112.00</td><td>100</td></tr><tr><td>1322349</td><td>2016-05-02</td><td>112.00</td><td>100</td></tr><tr><td>1322676</td><td>2015-06-06</td><td>112.00</td><td>100</td></tr><tr><td>1219828</td><td>2015-01-26</td><td>112.00</td><td>100</td></tr><tr><td>1519419</td><td>2016-02-11</td><td>112.00</td><td>100</td></tr><tr><td>1640051</td><td>2015-05-21</td><td>112.00</td><td>100</td></tr><tr><td>2075497</td><td>2015-12-15</td><td>112.00</td><td>100</td></tr><tr><td>1482324</td><td>2015-11-14</td><td>112.00</td><td>100</td></tr><tr><td>1898852</td><td>2014-10-06</td><td>112.00</td><td>100</td></tr><tr><td>1462489</td><td>2013-11-20</td><td>112.00</td><td>100</td></tr><tr><td>1569315</td><td>2015-07-10</td><td>112.00</td><td>100</td></tr><tr><td>1703441</td><td>2015-11-27</td><td>112.00</td><td>100</td></tr><tr><td>1225553</td><td>2014-02-18</td><td>112.00</td><td>100</td></tr><tr><td>1743241</td><td>2015-07-16</td><td>112.00</td><td>100</td></tr><tr><td>1964371</td><td>2014-02-28</td><td>112.00</td><td>100</td></tr><tr><td>2416212</td><td>2015-03-19</td><td>112.00</td><td>100</td></tr><tr><td>2194592</td><td>2014-10-06</td><td>112.00</td><td>100</td></tr><tr><td>3632623</td><td>2013-07-23</td><td>112.00</td><td>100</td></tr><tr><td>350404</td><td>2014-12-17</td><td>112.00</td><td>100</td></tr><tr><td>289738</td><td>2013-05-02</td><td>112.00</td><td>100</td></tr><tr><td>289741</td><td>2013-05-08</td><td>112.00</td><td>100</td></tr><tr><td>320315</td><td>2014-12-05</td><td>112.00</td><td>100</td></tr><tr><td>402037</td><td>2015-01-26</td><td>112.00</td><td>100</td></tr><tr><td>441819</td><td>2015-09-08</td><td>112.00</td><td>100</td></tr><tr><td>371119</td><td>2013-11-11</td><td>112.00</td><td>100</td></tr><tr><td>371236</td><td>2015-09-26</td><td>112.00</td><td>100</td></tr><tr><td>441966</td><td>2015-10-14</td><td>112.00</td><td>100</td></tr><tr><td>392108</td><td>2015-11-03</td><td>112.00</td><td>100</td></tr><tr><td>371407</td><td>2013-11-20</td><td>112.00</td><td>100</td></tr><tr><td>498799</td><td>2014-09-25</td><td>112.00</td><td>100</td></tr><tr><td>505917</td><td>2014-10-06</td><td>112.00</td><td>100</td></tr><tr><td>606096</td><td>2015-12-09</td><td>112.00</td><td>100</td></tr><tr><td>529434</td><td>2014-08-02</td><td>112.00</td><td>100</td></tr><tr><td>586197</td><td>2015-04-17</td><td>112.00</td><td>100</td></tr><tr><td>609494</td><td>2016-02-20</td><td>112.00</td><td>100</td></tr><tr><td>1834535</td><td>2015-03-20</td><td>112.00</td><td>100</td></tr><tr><td>1896830</td><td>2016-02-10</td><td>112.00</td><td>100</td></tr><tr><td>2060033</td><td>2014-01-24</td><td>112.00</td><td>100</td></tr><tr><td>1824468</td><td>2015-08-10</td><td>112.00</td><td>100</td></tr><tr><td>2232875</td><td>2013-07-25</td><td>112.00</td><td>100</td></tr><tr><td>1885573</td><td>2015-05-26</td><td>112.00</td><td>100</td></tr><tr><td>2299049</td><td>2015-04-22</td><td>112.00</td><td>100</td></tr><tr><td>1923139</td><td>2015-09-26</td><td>112.00</td><td>100</td></tr><tr><td>1923259</td><td>2015-10-06</td><td>112.00</td><td>100</td></tr><tr><td>1923265</td><td>2015-10-09</td><td>112.00</td><td>100</td></tr><tr><td>2496748</td><td>2013-11-20</td><td>112.00</td><td>100</td></tr><tr><td>2499834</td><td>2015-08-15</td><td>112.00</td><td>100</td></tr><tr><td>2499902</td><td>2015-01-26</td><td>112.00</td><td>100</td></tr><tr><td>2121790</td><td>2015-03-10</td><td>112.00</td><td>100</td></tr><tr><td>2536949</td><td>2014-04-24</td><td>112.00</td><td>100</td></tr><tr><td>2181191</td><td>2014-08-02</td><td>112.00</td><td>100</td></tr><tr><td>2183489</td><td>2014-04-24</td><td>112.00</td><td>100</td></tr><tr><td>2319235</td><td>2014-03-24</td><td>112.00</td><td>100</td></tr><tr><td>2915717</td><td>2013-06-14</td><td>112.00</td><td>100</td></tr><tr><td>2736430</td><td>2013-12-23</td><td>112.00</td><td>100</td></tr><tr><td>2469529</td><td>2013-02-11</td><td>112.00</td><td>100</td></tr><tr><td>2658065</td><td>2015-08-26</td><td>112.00</td><td>100</td></tr><tr><td>2570267</td><td>2014-06-19</td><td>112.00</td><td>100</td></tr><tr><td>2779334</td><td>2015-11-11</td><td>112.00</td><td>100</td></tr><tr><td>2590121</td><td>2014-12-10</td><td>112.00</td><td>100</td></tr><tr><td>2846340</td><td>2015-11-11</td><td>112.00</td><td>100</td></tr><tr><td>2788944</td><td>2013-08-23</td><td>112.00</td><td>100</td></tr><tr><td>2789003</td><td>2015-08-12</td><td>112.00</td><td>100</td></tr><tr><td>3062085</td><td>2013-09-19</td><td>112.00</td><td>100</td></tr><tr><td>2935571</td><td>2016-01-04</td><td>112.00</td><td>100</td></tr><tr><td>3421373</td><td>2015-05-29</td><td>112.00</td><td>100</td></tr><tr><td>3224735</td><td>2015-09-05</td><td>112.00</td><td>100</td></tr><tr><td>3284235</td><td>2015-08-10</td><td>112.00</td><td>100</td></tr><tr><td>2866033</td><td>2015-10-06</td><td>112.00</td><td>100</td></tr><tr><td>3012213</td><td>2016-02-11</td><td>112.00</td><td>100</td></tr><tr><td>3441136</td><td>2014-06-19</td><td>112.00</td><td>100</td></tr><tr><td>2971092</td><td>2014-08-02</td><td>112.00</td><td>100</td></tr><tr><td>3046121</td><td>2013-06-03</td><td>112.00</td><td>100</td></tr><tr><td>2711887</td><td>2015-01-13</td><td>112.00</td><td>100</td></tr><tr><td>3028193</td><td>2016-01-04</td><td>112.00</td><td>100</td></tr><tr><td>3031218</td><td>2013-07-23</td><td>112.00</td><td>100</td></tr><tr><td>3107060</td><td>2015-10-14</td><td>112.00</td><td>100</td></tr><tr><td>3559784</td><td>2014-04-24</td><td>112.00</td><td>100</td></tr><tr><td>3273967</td><td>2016-01-04</td><td>112.00</td><td>100</td></tr><tr><td>3351180</td><td>2013-04-18</td><td>112.00</td><td>100</td></tr><tr><td>3493758</td><td>2015-08-22</td><td>112.00</td><td>100</td></tr><tr><td>3175116</td><td>2014-05-19</td><td>112.00</td><td>100</td></tr><tr><td>3624193</td><td>2013-06-03</td><td>112.00</td><td>100</td></tr><tr><td>3632406</td><td>2013-06-14</td><td>112.00</td><td>100</td></tr><tr><td>3549730</td><td>2013-06-26</td><td>112.00</td><td>100</td></tr><tr><td>820116</td><td>2014-08-18</td><td>112.00</td><td>100</td></tr><tr><td>730549</td><td>2015-12-18</td><td>112.00</td><td>100</td></tr><tr><td>730790</td><td>2015-11-03</td><td>112.00</td><td>100</td></tr><tr><td>867649</td><td>2016-02-10</td><td>112.00</td><td>100</td></tr><tr><td>720483</td><td>2013-11-11</td><td>112.00</td><td>100</td></tr><tr><td>720618</td><td>2013-11-20</td><td>112.00</td><td>100</td></tr><tr><td>800330</td><td>2014-01-24</td><td>112.00</td><td>100</td></tr><tr><td>928751</td><td>2016-05-02</td><td>112.00</td><td>100</td></tr><tr><td>797100</td><td>2013-07-20</td><td>112.00</td><td>100</td></tr><tr><td>827297</td><td>2013-04-19</td><td>112.00</td><td>100</td></tr><tr><td>827299</td><td>2013-04-19</td><td>112.00</td><td>100</td></tr><tr><td>837225</td><td>2015-04-22</td><td>112.00</td><td>100</td></tr><tr><td>830338</td><td>2014-07-04</td><td>112.00</td><td>100</td></tr><tr><td>993688</td><td>2015-03-03</td><td>112.00</td><td>100</td></tr><tr><td>1094714</td><td>2014-01-29</td><td>112.00</td><td>100</td></tr><tr><td>1359014</td><td>2014-07-07</td><td>112.00</td><td>100</td></tr><tr><td>1000561</td><td>2014-01-06</td><td>112.00</td><td>100</td></tr><tr><td>1459069</td><td>2014-03-05</td><td>112.00</td><td>100</td></tr><tr><td>1120618</td><td>2015-11-16</td><td>112.00</td><td>100</td></tr><tr><td>1151157</td><td>2015-05-26</td><td>112.00</td><td>100</td></tr><tr><td>1572398</td><td>2015-11-16</td><td>112.00</td><td>100</td></tr><tr><td>53082</td><td>2013-11-11</td><td>112.00</td><td>100</td></tr><tr><td>54877</td><td>2013-11-20</td><td>112.00</td><td>100</td></tr><tr><td>58034</td><td>2013-12-09</td><td>112.00</td><td>100</td></tr><tr><td>202005</td><td>2016-01-04</td><td>112.00</td><td>100</td></tr><tr><td>202038</td><td>2016-01-04</td><td>112.00</td><td>100</td></tr><tr><td>9549</td><td>2013-03-04</td><td>112.00</td><td>100</td></tr><tr><td>17717</td><td>2013-04-19</td><td>112.00</td><td>100</td></tr><tr><td>19893</td><td>2013-05-02</td><td>112.00</td><td>100</td></tr><tr><td>17861</td><td>2013-04-19</td><td>112.00</td><td>100</td></tr><tr><td>21244</td><td>2013-05-08</td><td>112.00</td><td>100</td></tr><tr><td>27904</td><td>2013-06-14</td><td>112.00</td><td>100</td></tr><tr><td>35147</td><td>2013-07-23</td><td>112.00</td><td>100</td></tr><tr><td>149422</td><td>2015-04-17</td><td>112.00</td><td>100</td></tr><tr><td>126886</td><td>2014-12-24</td><td>112.00</td><td>100</td></tr><tr><td>316882</td><td>2014-01-24</td><td>112.00</td><td>100</td></tr><tr><td>286389</td><td>2013-04-16</td><td>112.00</td><td>100</td></tr><tr><td>365129</td><td>2013-08-23</td><td>112.00</td><td>100</td></tr><tr><td>365142</td><td>2013-08-28</td><td>112.00</td><td>100</td></tr><tr><td>304100</td><td>2016-03-01</td><td>112.00</td><td>100</td></tr><tr><td>283874</td><td>2015-08-26</td><td>112.00</td><td>100</td></tr><tr><td>436405</td><td>2013-12-23</td><td>112.00</td><td>100</td></tr><tr><td>406590</td><td>2015-03-16</td><td>112.00</td><td>100</td></tr><tr><td>865076</td><td>2014-12-17</td><td>112.00</td><td>100</td></tr><tr><td>513161</td><td>2015-03-19</td><td>112.00</td><td>100</td></tr><tr><td>3642951</td><td>2014-02-14</td><td>112.00</td><td>100</td></tr><tr><td>3135856</td><td>2013-09-19</td><td>112.00</td><td>100</td></tr><tr><td>3334080</td><td>2015-04-22</td><td>112.00</td><td>100</td></tr><tr><td>3635466</td><td>2014-04-26</td><td>112.00</td><td>100</td></tr><tr><td>384942</td><td>2015-03-19</td><td>112.00</td><td>100</td></tr><tr><td>622536</td><td>2015-03-20</td><td>112.00</td><td>100</td></tr><tr><td>863628</td><td>2014-01-24</td><td>112.00</td><td>100</td></tr><tr><td>522194</td><td>2015-03-03</td><td>112.00</td><td>100</td></tr><tr><td>522485</td><td>2015-03-20</td><td>112.00</td><td>100</td></tr><tr><td>552959</td><td>2014-04-24</td><td>112.00</td><td>100</td></tr><tr><td>582517</td><td>2013-07-25</td><td>112.00</td><td>100</td></tr><tr><td>903945</td><td>2013-03-19</td><td>112.00</td><td>100</td></tr><tr><td>923819</td><td>2015-09-05</td><td>112.00</td><td>100</td></tr><tr><td>914059</td><td>2015-08-28</td><td>112.00</td><td>100</td></tr><tr><td>996496</td><td>2015-11-27</td><td>112.00</td><td>100</td></tr><tr><td>1114847</td><td>2015-12-09</td><td>112.00</td><td>100</td></tr><tr><td>883578</td><td>2015-07-16</td><td>112.00</td><td>100</td></tr><tr><td>1006552</td><td>2016-05-26</td><td>112.00</td><td>100</td></tr><tr><td>1512304</td><td>2013-11-11</td><td>112.00</td><td>100</td></tr><tr><td>1515312</td><td>2014-04-24</td><td>112.00</td><td>100</td></tr><tr><td>1492418</td><td>2015-12-09</td><td>112.00</td><td>100</td></tr><tr><td>1636107</td><td>2015-08-28</td><td>112.00</td><td>100</td></tr><tr><td>966217</td><td>2015-01-13</td><td>112.00</td><td>100</td></tr><tr><td>1395241</td><td>2015-11-03</td><td>112.00</td><td>100</td></tr><tr><td>1023870</td><td>2015-02-25</td><td>112.00</td><td>100</td></tr><tr><td>1575565</td><td>2015-03-07</td><td>112.00</td><td>100</td></tr><tr><td>1147263</td><td>2013-08-28</td><td>112.00</td><td>100</td></tr><tr><td>1147250</td><td>2013-08-23</td><td>112.00</td><td>100</td></tr><tr><td>1615958</td><td>2014-04-11</td><td>112.00</td><td>100</td></tr><tr><td>1221294</td><td>2015-08-20</td><td>112.00</td><td>100</td></tr><tr><td>1221305</td><td>2015-08-22</td><td>112.00</td><td>100</td></tr><tr><td>1221405</td><td>2014-02-14</td><td>112.00</td><td>100</td></tr><tr><td>1221462</td><td>2014-03-05</td><td>112.00</td><td>100</td></tr><tr><td>1325388</td><td>2016-02-20</td><td>112.00</td><td>100</td></tr><tr><td>1505639</td><td>2013-02-11</td><td>112.00</td><td>100</td></tr><tr><td>1545315</td><td>2015-08-12</td><td>112.00</td><td>100</td></tr><tr><td>1482196</td><td>2015-11-27</td><td>112.00</td><td>100</td></tr><tr><td>1585670</td><td>2014-02-26</td><td>112.00</td><td>100</td></tr><tr><td>1465436</td><td>2015-08-28</td><td>112.00</td><td>100</td></tr><tr><td>2035780</td><td>2015-09-08</td><td>112.00</td><td>100</td></tr><tr><td>1693006</td><td>2014-08-18</td><td>112.00</td><td>100</td></tr><tr><td>1696377</td><td>2014-04-22</td><td>112.00</td><td>100</td></tr><tr><td>1746335</td><td>2014-06-19</td><td>112.00</td><td>100</td></tr><tr><td>1746358</td><td>2015-03-07</td><td>112.00</td><td>100</td></tr><tr><td>1823137</td><td>2015-09-23</td><td>112.00</td><td>100</td></tr><tr><td>1756540</td><td>2015-08-20</td><td>112.00</td><td>100</td></tr><tr><td>2482694</td><td>2015-11-14</td><td>112.00</td><td>100</td></tr><tr><td>2583126</td><td>2015-03-16</td><td>112.00</td><td>100</td></tr><tr><td>2583308</td><td>2014-11-13</td><td>112.00</td><td>100</td></tr><tr><td>2742339</td><td>2014-01-24</td><td>112.00</td><td>100</td></tr><tr><td>2742381</td><td>2015-10-20</td><td>112.00</td><td>100</td></tr><tr><td>2742246</td><td>2014-01-06</td><td>112.00</td><td>100</td></tr><tr><td>2472501</td><td>2015-03-16</td><td>112.00</td><td>100</td></tr><tr><td>2965914</td><td>2014-12-24</td><td>112.00</td><td>100</td></tr><tr><td>2844236</td><td>2013-06-26</td><td>112.00</td><td>100</td></tr><tr><td>2928434</td><td>2014-08-20</td><td>112.00</td><td>100</td></tr><tr><td>2984951</td><td>2013-03-04</td><td>112.00</td><td>100</td></tr><tr><td>3257010</td><td>2013-06-20</td><td>112.00</td><td>100</td></tr><tr><td>2772261</td><td>2013-07-23</td><td>112.00</td><td>100</td></tr><tr><td>3283921</td><td>2013-07-25</td><td>112.00</td><td>100</td></tr><tr><td>3283931</td><td>2013-09-19</td><td>112.00</td><td>100</td></tr><tr><td>3283938</td><td>2013-10-10</td><td>112.00</td><td>100</td></tr><tr><td>2633861</td><td>2014-01-24</td><td>112.00</td><td>100</td></tr><tr><td>2891754</td><td>2014-07-04</td><td>112.00</td><td>100</td></tr><tr><td>2654265</td><td>2015-07-16</td><td>112.00</td><td>100</td></tr><tr><td>3460936</td><td>2014-04-11</td><td>112.00</td><td>100</td></tr><tr><td>3461043</td><td>2013-03-19</td><td>112.00</td><td>100</td></tr><tr><td>3461133</td><td>2014-08-18</td><td>112.00</td><td>100</td></tr><tr><td>3051723</td><td>2015-03-16</td><td>112.00</td><td>100</td></tr><tr><td>3073641</td><td>2014-03-24</td><td>112.00</td><td>100</td></tr><tr><td>3542939</td><td>2014-03-12</td><td>112.00</td><td>100</td></tr><tr><td>3324020</td><td>2016-03-01</td><td>112.00</td><td>100</td></tr><tr><td>3112218</td><td>2015-08-15</td><td>112.00</td><td>100</td></tr><tr><td>3112230</td><td>2015-08-27</td><td>112.00</td><td>100</td></tr><tr><td>3404515</td><td>2015-10-09</td><td>112.00</td><td>100</td></tr><tr><td>3404449</td><td>2015-10-06</td><td>112.00</td><td>100</td></tr><tr><td>3562718</td><td>2014-12-17</td><td>112.00</td><td>100</td></tr><tr><td>3357068</td><td>2014-04-22</td><td>112.00</td><td>100</td></tr><tr><td>2733433</td><td>2015-04-17</td><td>112.00</td><td>100</td></tr><tr><td>3224323</td><td>2013-06-26</td><td>112.00</td><td>100</td></tr><tr><td>2768790</td><td>2015-10-06</td><td>112.00</td><td>100</td></tr><tr><td>2768796</td><td>2015-10-09</td><td>112.00</td><td>100</td></tr><tr><td>2768828</td><td>2016-05-11</td><td>112.00</td><td>100</td></tr><tr><td>3283823</td><td>2014-04-11</td><td>112.00</td><td>100</td></tr><tr><td>3303776</td><td>2014-12-05</td><td>112.00</td><td>100</td></tr><tr><td>2947887</td><td>2014-11-10</td><td>112.00</td><td>100</td></tr><tr><td>3146716</td><td>2013-03-04</td><td>112.00</td><td>100</td></tr><tr><td>3125337</td><td>2015-08-10</td><td>112.00</td><td>100</td></tr><tr><td>3241106</td><td>2014-02-18</td><td>112.00</td><td>100</td></tr><tr><td>3250173</td><td>2015-08-15</td><td>112.00</td><td>100</td></tr><tr><td>2853380</td><td>2015-05-21</td><td>112.00</td><td>100</td></tr><tr><td>3330729</td><td>2015-05-21</td><td>112.00</td><td>100</td></tr><tr><td>3101547</td><td>2015-09-26</td><td>112.00</td><td>100</td></tr><tr><td>3104038</td><td>2015-06-06</td><td>112.00</td><td>100</td></tr><tr><td>3106527</td><td>2014-12-17</td><td>112.00</td><td>100</td></tr><tr><td>3106609</td><td>2015-09-08</td><td>112.00</td><td>100</td></tr><tr><td>3132497</td><td>2014-12-10</td><td>112.00</td><td>100</td></tr><tr><td>428443</td><td>2015-03-10</td><td>112.00</td><td>100</td></tr><tr><td>441397</td><td>2015-08-12</td><td>112.00</td><td>100</td></tr><tr><td>809705</td><td>2016-01-04</td><td>112.00</td><td>100</td></tr><tr><td>598846</td><td>2013-06-20</td><td>112.00</td><td>100</td></tr><tr><td>854395</td><td>2015-05-29</td><td>112.00</td><td>100</td></tr><tr><td>618964</td><td>2013-06-03</td><td>112.00</td><td>100</td></tr><tr><td>498395</td><td>2013-06-20</td><td>112.00</td><td>100</td></tr><tr><td>870170</td><td>2015-12-15</td><td>112.00</td><td>100</td></tr><tr><td>750856</td><td>2014-01-06</td><td>112.00</td><td>100</td></tr><tr><td>876988</td><td>2016-03-01</td><td>112.00</td><td>100</td></tr><tr><td>508619</td><td>2013-06-14</td><td>112.00</td><td>100</td></tr><tr><td>508805</td><td>2013-07-23</td><td>112.00</td><td>100</td></tr><tr><td>515677</td><td>2016-03-01</td><td>112.00</td><td>100</td></tr><tr><td>719927</td><td>2013-04-18</td><td>112.00</td><td>100</td></tr><tr><td>525809</td><td>2014-04-22</td><td>112.00</td><td>100</td></tr><tr><td>720131</td><td>2013-06-26</td><td>112.00</td><td>100</td></tr><tr><td>720203</td><td>2015-04-22</td><td>112.00</td><td>100</td></tr><tr><td>796766</td><td>2015-09-08</td><td>112.00</td><td>100</td></tr><tr><td>583341</td><td>2014-05-19</td><td>112.00</td><td>100</td></tr><tr><td>576042</td><td>2014-10-06</td><td>112.00</td><td>100</td></tr><tr><td>836955</td><td>2015-05-21</td><td>112.00</td><td>100</td></tr><tr><td>959706</td><td>2014-07-07</td><td>112.00</td><td>100</td></tr><tr><td>846900</td><td>2015-11-14</td><td>112.00</td><td>100</td></tr><tr><td>1135362</td><td>2014-09-25</td><td>112.00</td><td>100</td></tr><tr><td>1135504</td><td>2013-06-03</td><td>112.00</td><td>100</td></tr><tr><td>1632767</td><td>2016-03-01</td><td>112.00</td><td>100</td></tr><tr><td>967011</td><td>2015-01-14</td><td>112.00</td><td>100</td></tr><tr><td>969380</td><td>2015-04-22</td><td>112.00</td><td>100</td></tr><tr><td>1090656</td><td>2013-06-26</td><td>112.00</td><td>100</td></tr><tr><td>1090789</td><td>2013-11-11</td><td>112.00</td><td>100</td></tr><tr><td>1091070</td><td>2013-11-20</td><td>112.00</td><td>100</td></tr><tr><td>979761</td><td>2015-12-09</td><td>112.00</td><td>100</td></tr><tr><td>979801</td><td>2014-07-04</td><td>112.00</td><td>100</td></tr><tr><td>977175</td><td>2013-03-04</td><td>112.00</td><td>100</td></tr><tr><td>982981</td><td>2016-02-20</td><td>112.00</td><td>100</td></tr><tr><td>1391549</td><td>2015-12-18</td><td>112.00</td><td>100</td></tr><tr><td>1111440</td><td>2014-04-26</td><td>112.00</td><td>100</td></tr><tr><td>1000004</td><td>2015-09-05</td><td>112.00</td><td>100</td></tr><tr><td>1125266</td><td>2014-03-24</td><td>112.00</td><td>100</td></tr><tr><td>1150679</td><td>2013-09-12</td><td>112.00</td><td>100</td></tr><tr><td>1579002</td><td>2013-07-23</td><td>112.00</td><td>100</td></tr><tr><td>1471976</td><td>2015-10-20</td><td>112.00</td><td>100</td></tr><tr><td>1616912</td><td>2013-03-11</td><td>112.00</td><td>100</td></tr><tr><td>1558624</td><td>2015-08-28</td><td>112.00</td><td>100</td></tr><tr><td>1556230</td><td>2015-09-23</td><td>112.00</td><td>100</td></tr><tr><td>1558847</td><td>2014-03-05</td><td>112.00</td><td>100</td></tr><tr><td>1043431</td><td>2014-02-28</td><td>112.00</td><td>100</td></tr><tr><td>1236127</td><td>2014-11-10</td><td>112.00</td><td>100</td></tr><tr><td>1277862</td><td>2013-12-23</td><td>112.00</td><td>100</td></tr><tr><td>1293267</td><td>2014-11-13</td><td>112.00</td><td>100</td></tr><tr><td>1219472</td><td>2014-11-13</td><td>112.00</td><td>100</td></tr><tr><td>1498906</td><td>2014-09-12</td><td>112.00</td><td>100</td></tr><tr><td>1502239</td><td>2015-11-11</td><td>112.00</td><td>100</td></tr><tr><td>1521924</td><td>2015-08-26</td><td>112.00</td><td>100</td></tr><tr><td>2075149</td><td>2014-02-14</td><td>112.00</td><td>100</td></tr><tr><td>1797589</td><td>2015-08-28</td><td>112.00</td><td>100</td></tr><tr><td>1361639</td><td>2013-07-20</td><td>112.00</td><td>100</td></tr><tr><td>1408577</td><td>2015-09-26</td><td>112.00</td><td>100</td></tr><tr><td>1428302</td><td>2015-02-02</td><td>112.00</td><td>100</td></tr><tr><td>1834244</td><td>2015-03-03</td><td>112.00</td><td>100</td></tr><tr><td>1836621</td><td>2015-05-26</td><td>112.00</td><td>100</td></tr><tr><td>1912880</td><td>2015-04-17</td><td>112.00</td><td>100</td></tr><tr><td>1916075</td><td>2015-08-10</td><td>112.00</td><td>100</td></tr><tr><td>1916196</td><td>2016-05-26</td><td>112.00</td><td>100</td></tr><tr><td>1486316</td><td>2016-01-04</td><td>112.00</td><td>100</td></tr><tr><td>1922462</td><td>2015-08-15</td><td>112.00</td><td>100</td></tr><tr><td>1922474</td><td>2015-08-27</td><td>112.00</td><td>100</td></tr><tr><td>1602551</td><td>2013-02-11</td><td>112.00</td><td>100</td></tr><tr><td>2059606</td><td>2016-02-20</td><td>112.00</td><td>100</td></tr><tr><td>2012606</td><td>2015-04-17</td><td>112.00</td><td>100</td></tr><tr><td>1719365</td><td>2014-12-24</td><td>112.00</td><td>100</td></tr><tr><td>1737031</td><td>2014-02-26</td><td>112.00</td><td>100</td></tr><tr><td>1861562</td><td>2015-11-16</td><td>112.00</td><td>100</td></tr><tr><td>1306216</td><td>2014-11-10</td><td>112.00</td><td>100</td></tr><tr><td>1346266</td><td>2015-09-08</td><td>112.00</td><td>100</td></tr><tr><td>1963940</td><td>2014-02-14</td><td>112.00</td><td>100</td></tr><tr><td>2413224</td><td>2013-07-23</td><td>112.00</td><td>100</td></tr><tr><td>2435805</td><td>2016-02-20</td><td>112.00</td><td>100</td></tr><tr><td>1784868</td><td>2013-04-16</td><td>112.00</td><td>100</td></tr><tr><td>2235046</td><td>2015-03-03</td><td>112.00</td><td>100</td></tr><tr><td>1850017</td><td>2014-12-24</td><td>112.00</td><td>100</td></tr><tr><td>2258668</td><td>2015-10-14</td><td>112.00</td><td>100</td></tr><tr><td>2402259</td><td>2015-03-10</td><td>112.00</td><td>100</td></tr><tr><td>1927582</td><td>2014-11-13</td><td>112.00</td><td>100</td></tr><tr><td>2127975</td><td>2014-03-12</td><td>112.00</td><td>100</td></tr><tr><td>2128027</td><td>2014-02-18</td><td>112.00</td><td>100</td></tr><tr><td>2462406</td><td>2014-01-29</td><td>112.00</td><td>100</td></tr><tr><td>2281706</td><td>2013-09-19</td><td>112.00</td><td>100</td></tr><tr><td>2281713</td><td>2013-10-10</td><td>112.00</td><td>100</td></tr><tr><td>2281850</td><td>2013-09-19</td><td>112.00</td><td>100</td></tr><tr><td>2322180</td><td>2015-07-10</td><td>112.00</td><td>100</td></tr><tr><td>2362122</td><td>2014-02-14</td><td>112.00</td><td>100</td></tr><tr><td>2452636</td><td>2013-07-20</td><td>112.00</td><td>100</td></tr><tr><td>2251809</td><td>2014-11-10</td><td>112.00</td><td>100</td></tr><tr><td>2372170</td><td>2015-04-15</td><td>112.00</td><td>100</td></tr><tr><td>3464704</td><td>2015-10-20</td><td>112.00</td><td>100</td></tr><tr><td>3405254</td><td>2013-11-06</td><td>112.00</td><td>100</td></tr><tr><td>3407931</td><td>2015-07-16</td><td>112.00</td><td>100</td></tr><tr><td>3388111</td><td>2013-07-25</td><td>112.00</td><td>100</td></tr><tr><td>3583279</td><td>2015-05-29</td><td>112.00</td><td>100</td></tr><tr><td>3585775</td><td>2013-07-25</td><td>112.00</td><td>100</td></tr><tr><td>3565841</td><td>2014-02-26</td><td>112.00</td><td>100</td></tr><tr><td>3566104</td><td>2015-07-16</td><td>112.00</td><td>100</td></tr><tr><td>3353670</td><td>2013-11-11</td><td>112.00</td><td>100</td></tr><tr><td>3476106</td><td>2015-03-19</td><td>112.00</td><td>100</td></tr><tr><td>3529533</td><td>2016-01-04</td><td>112.00</td><td>100</td></tr><tr><td>3533964</td><td>2015-03-16</td><td>112.00</td><td>100</td></tr><tr><td>3516487</td><td>2015-07-10</td><td>112.00</td><td>100</td></tr><tr><td>3643606</td><td>2016-05-26</td><td>112.00</td><td>100</td></tr><tr><td>3620634</td><td>2013-11-06</td><td>112.00</td><td>100</td></tr><tr><td>3595935</td><td>2015-03-07</td><td>112.00</td><td>100</td></tr><tr><td>3617124</td><td>2015-05-26</td><td>112.00</td><td>100</td></tr><tr><td>3617188</td><td>2013-06-20</td><td>112.00</td><td>100</td></tr><tr><td>3678203</td><td>2015-03-07</td><td>112.00</td><td>100</td></tr><tr><td>192658</td><td>2015-11-16</td><td>112.00</td><td>100</td></tr><tr><td>65885</td><td>2014-01-24</td><td>112.00</td><td>100</td></tr><tr><td>86430</td><td>2014-05-19</td><td>112.00</td><td>100</td></tr><tr><td>2902230</td><td>2015-12-18</td><td>112.00</td><td>100</td></tr><tr><td>2828988</td><td>2014-12-05</td><td>112.00</td><td>100</td></tr><tr><td>3201268</td><td>2015-01-26</td><td>112.00</td><td>100</td></tr><tr><td>3247446</td><td>2015-08-27</td><td>112.00</td><td>100</td></tr><tr><td>3375341</td><td>2015-03-03</td><td>112.00</td><td>100</td></tr><tr><td>3643413</td><td>2014-02-28</td><td>112.00</td><td>100</td></tr><tr><td>3659525</td><td>2015-12-15</td><td>112.00</td><td>100</td></tr><tr><td>227209</td><td>2016-05-11</td><td>112.00</td><td>100</td></tr><tr><td>225026</td><td>2016-05-02</td><td>112.00</td><td>100</td></tr><tr><td>16508</td><td>2013-04-12</td><td>112.00</td><td>100</td></tr><tr><td>17590</td><td>2013-04-18</td><td>112.00</td><td>100</td></tr><tr><td>29978</td><td>2013-06-26</td><td>112.00</td><td>100</td></tr><tr><td>157080</td><td>2015-05-26</td><td>112.00</td><td>100</td></tr><tr><td>52501</td><td>2013-11-06</td><td>112.00</td><td>100</td></tr><tr><td>130779</td><td>2015-01-14</td><td>112.00</td><td>100</td></tr><tr><td>130562</td><td>2015-01-13</td><td>112.00</td><td>100</td></tr><tr><td>150421</td><td>2015-04-22</td><td>112.00</td><td>100</td></tr><tr><td>209060</td><td>2016-02-10</td><td>112.00</td><td>100</td></tr><tr><td>212798</td><td>2016-03-01</td><td>112.00</td><td>100</td></tr><tr><td>6721</td><td>2013-02-11</td><td>112.00</td><td>100</td></tr><tr><td>198344</td><td>2015-12-15</td><td>112.00</td><td>100</td></tr><tr><td>62536</td><td>2014-01-06</td><td>112.00</td><td>100</td></tr><tr><td>296074</td><td>2014-09-12</td><td>112.00</td><td>100</td></tr><tr><td>336328</td><td>2014-12-24</td><td>112.00</td><td>100</td></tr><tr><td>286083</td><td>2014-04-22</td><td>112.00</td><td>100</td></tr><tr><td>283359</td><td>2015-08-10</td><td>112.00</td><td>100</td></tr><tr><td>289469</td><td>2014-07-04</td><td>112.00</td><td>100</td></tr><tr><td>370694</td><td>2015-08-15</td><td>112.00</td><td>100</td></tr><tr><td>370706</td><td>2015-08-27</td><td>112.00</td><td>100</td></tr><tr><td>1616756</td><td>2013-03-04</td><td>112.00</td><td>100</td></tr><tr><td>1596582</td><td>2015-03-16</td><td>112.00</td><td>100</td></tr><tr><td>1486184</td><td>2013-06-14</td><td>112.00</td><td>100</td></tr><tr><td>1566088</td><td>2013-03-04</td><td>112.00</td><td>100</td></tr><tr><td>1566130</td><td>2013-08-28</td><td>112.00</td><td>100</td></tr><tr><td>1566117</td><td>2013-08-23</td><td>112.00</td><td>100</td></tr><tr><td>1810553</td><td>2013-06-26</td><td>112.00</td><td>100</td></tr><tr><td>2252647</td><td>2015-12-09</td><td>112.00</td><td>100</td></tr><tr><td>2335420</td><td>2015-11-03</td><td>112.00</td><td>100</td></tr><tr><td>2295312</td><td>2013-04-12</td><td>112.00</td><td>100</td></tr><tr><td>2298675</td><td>2013-06-26</td><td>112.00</td><td>100</td></tr><tr><td>2378984</td><td>2015-08-12</td><td>112.00</td><td>100</td></tr><tr><td>2042086</td><td>2013-07-20</td><td>112.00</td><td>100</td></tr><tr><td>2594248</td><td>2015-08-28</td><td>112.00</td><td>100</td></tr><tr><td>2459230</td><td>2015-03-03</td><td>112.00</td><td>100</td></tr><tr><td>1689320</td><td>2015-09-23</td><td>112.00</td><td>100</td></tr><tr><td>2533919</td><td>2015-10-06</td><td>112.00</td><td>100</td></tr><tr><td>2533925</td><td>2015-10-09</td><td>112.00</td><td>100</td></tr><tr><td>2534009</td><td>2014-04-26</td><td>112.00</td><td>100</td></tr><tr><td>2534090</td><td>2014-01-06</td><td>112.00</td><td>100</td></tr><tr><td>2536706</td><td>2015-12-09</td><td>112.00</td><td>100</td></tr><tr><td>2104560</td><td>2015-08-10</td><td>112.00</td><td>100</td></tr><tr><td>1830159</td><td>2015-03-16</td><td>112.00</td><td>100</td></tr><tr><td>2225013</td><td>2016-05-02</td><td>112.00</td><td>100</td></tr><tr><td>1869380</td><td>2016-05-02</td><td>112.00</td><td>100</td></tr><tr><td>2358874</td><td>2015-09-05</td><td>112.00</td><td>100</td></tr><tr><td>2425754</td><td>2016-01-04</td><td>112.00</td><td>100</td></tr><tr><td>2918618</td><td>2013-07-23</td><td>112.00</td><td>100</td></tr><tr><td>2526266</td><td>2015-09-26</td><td>112.00</td><td>100</td></tr><tr><td>2977445</td><td>2015-02-02</td><td>112.00</td><td>100</td></tr><tr><td>2677526</td><td>2015-08-28</td><td>112.00</td><td>100</td></tr><tr><td>2403283</td><td>2015-10-14</td><td>112.00</td><td>100</td></tr><tr><td>2824246</td><td>2015-01-26</td><td>112.00</td><td>100</td></tr><tr><td>2302981</td><td>2015-09-23</td><td>112.00</td><td>100</td></tr><tr><td>2305571</td><td>2013-09-12</td><td>112.00</td><td>100</td></tr><tr><td>2469198</td><td>2014-01-06</td><td>112.00</td><td>100</td></tr><tr><td>2634707</td><td>2015-07-18</td><td>112.00</td><td>100</td></tr><tr><td>2170698</td><td>2014-04-24</td><td>112.00</td><td>100</td></tr><tr><td>2616951</td><td>2014-01-29</td><td>112.00</td><td>100</td></tr><tr><td>2620087</td><td>2014-09-25</td><td>112.00</td><td>100</td></tr><tr><td>2620220</td><td>2013-09-12</td><td>112.00</td><td>100</td></tr><tr><td>2620173</td><td>2015-02-02</td><td>112.00</td><td>100</td></tr></table>"
                    }
                }
            ],
            "execution_count": 1
        },
        {
            "cell_type": "markdown",
            "source": [
                "Observe the query execution plan (or actual plan).\r\n",
                "\r\n",
                "![TVDC_Disabled_Plan](./media/TVDC_disabled_plan.PNG)\r\n",
                "\r\n",
                "Notice the actual vs. estimated rows for the `@Order` Table Scan. Only one row estimated vs. 490k rows actual rows, which represents a sizeable misestimation. \r\n",
                "\r\n",
                "**Note:** Table Variables only exist at runtime, which means that SQL Server cannot properly estimate the number of rows for these objects. And so, the legacy behavior for lower compatibility levels is to estimate only one row for Table Variables.\r\n",
                "\r\n",
                "In turn, this misestimation propagates up the plan, namely impacting the join algorithm chosen (Nested Loops) which are more efficient for smaller input tables."
            ],
            "metadata": {
                "azdata_cell_guid": "7898e074-2d93-472b-84a5-2e52e3e43144"
            }
        },
        {
            "cell_type": "markdown",
            "source": [
                "## Step 4: Execute the query by removing any hint restriction\r\n",
                "\r\n",
                "Run the same query from Step 3, but now with the default compatibility level (150), allowing SQL Server to use **Table Variable Deferred Compilation**. "
            ],
            "metadata": {
                "azdata_cell_guid": "6140b74a-e79d-4108-9cba-415f66ed85a3"
            }
        },
        {
            "cell_type": "code",
            "source": [
                "USE [WideWorldImportersDW];\r\n",
                "GO\r\n",
                "ALTER DATABASE [WideWorldImportersDW] SET COMPATIBILITY_LEVEL = 150;\r\n",
                "GO\r\n",
                "ALTER DATABASE SCOPED CONFIGURATION CLEAR PROCEDURE_CACHE;\r\n",
                "GO\r\n",
                "\r\n",
                "DECLARE @Order TABLE \r\n",
                "\t([Order Key] BIGINT NOT NULL,\r\n",
                "\t [Quantity] INT NOT NULL\r\n",
                "\t);\r\n",
                "\r\n",
                "INSERT @Order\r\n",
                "SELECT [Order Key], [Quantity]\r\n",
                "FROM [Fact].[OrderHistory]\r\n",
                "WHERE  [Quantity] > 99;\r\n",
                "\r\n",
                "SELECT oh.[Order Key], oh.[Order Date Key],\r\n",
                "\t   oh.[Unit Price], o.Quantity\r\n",
                "FROM Fact.OrderHistoryExtended AS oh\r\n",
                "INNER JOIN @Order AS o\r\n",
                "\tON o.[Order Key] = oh.[Order Key]\r\n",
                "WHERE oh.[Unit Price] > 0.10\r\n",
                "ORDER BY oh.[Unit Price] DESC;\r\n",
                "GO"
            ],
            "metadata": {
                "azdata_cell_guid": "d37ad2f6-5a09-4418-8ba2-47f954af18e8"
            },
            "outputs": [
                {
                    "output_type": "display_data",
                    "data": {
                        "text/html": "Commands completed successfully."
                    },
                    "metadata": {}
                },
                {
                    "output_type": "display_data",
                    "data": {
                        "text/html": "Commands completed successfully."
                    },
                    "metadata": {}
                },
                {
                    "output_type": "display_data",
                    "data": {
                        "text/html": "Commands completed successfully."
                    },
                    "metadata": {}
                },
                {
                    "output_type": "display_data",
                    "data": {
                        "text/html": "(490928 rows affected)"
                    },
                    "metadata": {}
                },
                {
                    "output_type": "display_data",
                    "data": {
                        "text/html": "(490928 rows affected)"
                    },
                    "metadata": {}
                },
                {
                    "output_type": "display_data",
                    "data": {
                        "text/html": "Displaying Top 500 rows."
                    },
                    "metadata": {}
                },
                {
                    "output_type": "display_data",
                    "data": {
                        "text/html": "Total execution time: 00:00:08.024"
                    },
                    "metadata": {}
                },
                {
                    "output_type": "execute_result",
                    "metadata": {},
                    "execution_count": 2,
                    "data": {
                        "application/vnd.dataresource+json": {
                            "schema": {
                                "fields": [
                                    {
                                        "name": "Order Key"
                                    },
                                    {
                                        "name": "Order Date Key"
                                    },
                                    {
                                        "name": "Unit Price"
                                    },
                                    {
                                        "name": "Quantity"
                                    }
                                ]
                            },
                            "data": [
                                {
                                    "0": "803965",
                                    "1": "2015-09-23",
                                    "2": "112.00",
                                    "3": "100"
                                },
                                {
                                    "0": "3566104",
                                    "1": "2015-07-16",
                                    "2": "112.00",
                                    "3": "100"
                                },
                                {
                                    "0": "1579002",
                                    "1": "2013-07-23",
                                    "2": "112.00",
                                    "3": "100"
                                },
                                {
                                    "0": "999261",
                                    "1": "2014-08-18",
                                    "2": "112.00",
                                    "3": "100"
                                },
                                {
                                    "0": "3264278",
                                    "1": "2014-02-28",
                                    "2": "112.00",
                                    "3": "100"
                                },
                                {
                                    "0": "1521924",
                                    "1": "2015-08-26",
                                    "2": "112.00",
                                    "3": "100"
                                },
                                {
                                    "0": "140937",
                                    "1": "2015-03-07",
                                    "2": "112.00",
                                    "3": "100"
                                },
                                {
                                    "0": "2837173",
                                    "1": "2015-02-02",
                                    "2": "112.00",
                                    "3": "100"
                                },
                                {
                                    "0": "170918",
                                    "1": "2015-07-29",
                                    "2": "112.00",
                                    "3": "100"
                                },
                                {
                                    "0": "2745292",
                                    "1": "2015-12-18",
                                    "2": "112.00",
                                    "3": "100"
                                },
                                {
                                    "0": "831218",
                                    "1": "2013-04-16",
                                    "2": "112.00",
                                    "3": "100"
                                },
                                {
                                    "0": "883578",
                                    "1": "2015-07-16",
                                    "2": "112.00",
                                    "3": "100"
                                },
                                {
                                    "0": "1337665",
                                    "1": "2014-05-19",
                                    "2": "112.00",
                                    "3": "100"
                                },
                                {
                                    "0": "297273",
                                    "1": "2015-12-09",
                                    "2": "112.00",
                                    "3": "100"
                                },
                                {
                                    "0": "72938",
                                    "1": "2014-03-05",
                                    "2": "112.00",
                                    "3": "100"
                                },
                                {
                                    "0": "2505330",
                                    "1": "2014-03-05",
                                    "2": "112.00",
                                    "3": "100"
                                },
                                {
                                    "0": "1536395",
                                    "1": "2015-04-22",
                                    "2": "112.00",
                                    "3": "100"
                                },
                                {
                                    "0": "1447349",
                                    "1": "2014-08-18",
                                    "2": "112.00",
                                    "3": "100"
                                },
                                {
                                    "0": "1447302",
                                    "1": "2014-04-11",
                                    "2": "112.00",
                                    "3": "100"
                                },
                                {
                                    "0": "999236",
                                    "1": "2014-04-24",
                                    "2": "112.00",
                                    "3": "100"
                                },
                                {
                                    "0": "371236",
                                    "1": "2015-09-26",
                                    "2": "112.00",
                                    "3": "100"
                                },
                                {
                                    "0": "3197723",
                                    "1": "2014-04-26",
                                    "2": "112.00",
                                    "3": "100"
                                },
                                {
                                    "0": "1094839",
                                    "1": "2014-08-20",
                                    "2": "112.00",
                                    "3": "100"
                                },
                                {
                                    "0": "27904",
                                    "1": "2013-06-14",
                                    "2": "112.00",
                                    "3": "100"
                                },
                                {
                                    "0": "1905314",
                                    "1": "2015-03-20",
                                    "2": "112.00",
                                    "3": "100"
                                },
                                {
                                    "0": "855574",
                                    "1": "2015-08-28",
                                    "2": "112.00",
                                    "3": "100"
                                },
                                {
                                    "0": "1830159",
                                    "1": "2015-03-16",
                                    "2": "112.00",
                                    "3": "100"
                                },
                                {
                                    "0": "2506456",
                                    "1": "2015-07-16",
                                    "2": "112.00",
                                    "3": "100"
                                },
                                {
                                    "0": "2519161",
                                    "1": "2013-12-23",
                                    "2": "112.00",
                                    "3": "100"
                                },
                                {
                                    "0": "2302981",
                                    "1": "2015-09-23",
                                    "2": "112.00",
                                    "3": "100"
                                },
                                {
                                    "0": "3436772",
                                    "1": "2014-01-29",
                                    "2": "112.00",
                                    "3": "100"
                                },
                                {
                                    "0": "1869380",
                                    "1": "2016-05-02",
                                    "2": "112.00",
                                    "3": "100"
                                },
                                {
                                    "0": "2303411",
                                    "1": "2013-04-12",
                                    "2": "112.00",
                                    "3": "100"
                                },
                                {
                                    "0": "1095046",
                                    "1": "2014-04-22",
                                    "2": "112.00",
                                    "3": "100"
                                },
                                {
                                    "0": "1062677",
                                    "1": "2014-12-05",
                                    "2": "112.00",
                                    "3": "100"
                                },
                                {
                                    "0": "1447061",
                                    "1": "2014-04-26",
                                    "2": "112.00",
                                    "3": "100"
                                },
                                {
                                    "0": "1687346",
                                    "1": "2015-07-29",
                                    "2": "112.00",
                                    "3": "100"
                                },
                                {
                                    "0": "2465190",
                                    "1": "2015-07-29",
                                    "2": "112.00",
                                    "3": "100"
                                },
                                {
                                    "0": "2076857",
                                    "1": "2014-03-24",
                                    "2": "112.00",
                                    "3": "100"
                                },
                                {
                                    "0": "417481",
                                    "1": "2013-04-12",
                                    "2": "112.00",
                                    "3": "100"
                                },
                                {
                                    "0": "3677324",
                                    "1": "2013-06-14",
                                    "2": "112.00",
                                    "3": "100"
                                },
                                {
                                    "0": "3262458",
                                    "1": "2015-11-14",
                                    "2": "112.00",
                                    "3": "100"
                                },
                                {
                                    "0": "2306577",
                                    "1": "2013-03-19",
                                    "2": "112.00",
                                    "3": "100"
                                },
                                {
                                    "0": "2305044",
                                    "1": "2013-11-20",
                                    "2": "112.00",
                                    "3": "100"
                                },
                                {
                                    "0": "1827776",
                                    "1": "2014-03-12",
                                    "2": "112.00",
                                    "3": "100"
                                },
                                {
                                    "0": "3108935",
                                    "1": "2015-12-15",
                                    "2": "112.00",
                                    "3": "100"
                                },
                                {
                                    "0": "2305571",
                                    "1": "2013-09-12",
                                    "2": "112.00",
                                    "3": "100"
                                },
                                {
                                    "0": "1558847",
                                    "1": "2014-03-05",
                                    "2": "112.00",
                                    "3": "100"
                                },
                                {
                                    "0": "3642951",
                                    "1": "2014-02-14",
                                    "2": "112.00",
                                    "3": "100"
                                },
                                {
                                    "0": "1444143",
                                    "1": "2013-12-23",
                                    "2": "112.00",
                                    "3": "100"
                                },
                                {
                                    "0": "1522946",
                                    "1": "2013-04-12",
                                    "2": "112.00",
                                    "3": "100"
                                },
                                {
                                    "0": "641937",
                                    "1": "2013-08-23",
                                    "2": "112.00",
                                    "3": "100"
                                },
                                {
                                    "0": "2302711",
                                    "1": "2013-11-11",
                                    "2": "112.00",
                                    "3": "100"
                                },
                                {
                                    "0": "1621774",
                                    "1": "2016-02-20",
                                    "2": "112.00",
                                    "3": "100"
                                },
                                {
                                    "0": "720131",
                                    "1": "2013-06-26",
                                    "2": "112.00",
                                    "3": "100"
                                },
                                {
                                    "0": "3436966",
                                    "1": "2013-11-20",
                                    "2": "112.00",
                                    "3": "100"
                                },
                                {
                                    "0": "2042282",
                                    "1": "2015-09-23",
                                    "2": "112.00",
                                    "3": "100"
                                },
                                {
                                    "0": "1000561",
                                    "1": "2014-01-06",
                                    "2": "112.00",
                                    "3": "100"
                                },
                                {
                                    "0": "2809785",
                                    "1": "2014-12-17",
                                    "2": "112.00",
                                    "3": "100"
                                },
                                {
                                    "0": "2075497",
                                    "1": "2015-12-15",
                                    "2": "112.00",
                                    "3": "100"
                                },
                                {
                                    "0": "1444700",
                                    "1": "2015-08-15",
                                    "2": "112.00",
                                    "3": "100"
                                },
                                {
                                    "0": "1444712",
                                    "1": "2015-08-27",
                                    "2": "112.00",
                                    "3": "100"
                                },
                                {
                                    "0": "2328401",
                                    "1": "2014-03-24",
                                    "2": "112.00",
                                    "3": "100"
                                },
                                {
                                    "0": "719927",
                                    "1": "2013-04-18",
                                    "2": "112.00",
                                    "3": "100"
                                },
                                {
                                    "0": "2246451",
                                    "1": "2015-03-10",
                                    "2": "112.00",
                                    "3": "100"
                                },
                                {
                                    "0": "3108749",
                                    "1": "2014-12-17",
                                    "2": "112.00",
                                    "3": "100"
                                },
                                {
                                    "0": "396852",
                                    "1": "2015-04-15",
                                    "2": "112.00",
                                    "3": "100"
                                },
                                {
                                    "0": "2303418",
                                    "1": "2013-04-18",
                                    "2": "112.00",
                                    "3": "100"
                                },
                                {
                                    "0": "2075149",
                                    "1": "2014-02-14",
                                    "2": "112.00",
                                    "3": "100"
                                },
                                {
                                    "0": "641950",
                                    "1": "2013-08-28",
                                    "2": "112.00",
                                    "3": "100"
                                },
                                {
                                    "0": "720203",
                                    "1": "2015-04-22",
                                    "2": "112.00",
                                    "3": "100"
                                },
                                {
                                    "0": "1558624",
                                    "1": "2015-08-28",
                                    "2": "112.00",
                                    "3": "100"
                                },
                                {
                                    "0": "1904838",
                                    "1": "2015-03-03",
                                    "2": "112.00",
                                    "3": "100"
                                },
                                {
                                    "0": "284549",
                                    "1": "2013-09-19",
                                    "2": "112.00",
                                    "3": "100"
                                },
                                {
                                    "0": "3456822",
                                    "1": "2013-04-19",
                                    "2": "112.00",
                                    "3": "100"
                                },
                                {
                                    "0": "1000004",
                                    "1": "2015-09-05",
                                    "2": "112.00",
                                    "3": "100"
                                },
                                {
                                    "0": "284556",
                                    "1": "2013-10-10",
                                    "2": "112.00",
                                    "3": "100"
                                },
                                {
                                    "0": "3077604",
                                    "1": "2015-09-23",
                                    "2": "112.00",
                                    "3": "100"
                                },
                                {
                                    "0": "3073197",
                                    "1": "2015-03-16",
                                    "2": "112.00",
                                    "3": "100"
                                },
                                {
                                    "0": "1032238",
                                    "1": "2013-12-23",
                                    "2": "112.00",
                                    "3": "100"
                                },
                                {
                                    "0": "3402166",
                                    "1": "2015-03-16",
                                    "2": "112.00",
                                    "3": "100"
                                },
                                {
                                    "0": "75884",
                                    "1": "2014-03-24",
                                    "2": "112.00",
                                    "3": "100"
                                },
                                {
                                    "0": "826912",
                                    "1": "2014-05-19",
                                    "2": "112.00",
                                    "3": "100"
                                },
                                {
                                    "0": "149079",
                                    "1": "2015-04-15",
                                    "2": "112.00",
                                    "3": "100"
                                },
                                {
                                    "0": "371119",
                                    "1": "2013-11-11",
                                    "2": "112.00",
                                    "3": "100"
                                },
                                {
                                    "0": "3678203",
                                    "1": "2015-03-07",
                                    "2": "112.00",
                                    "3": "100"
                                },
                                {
                                    "0": "1632767",
                                    "1": "2016-03-01",
                                    "2": "112.00",
                                    "3": "100"
                                },
                                {
                                    "0": "720483",
                                    "1": "2013-11-11",
                                    "2": "112.00",
                                    "3": "100"
                                },
                                {
                                    "0": "11024",
                                    "1": "2013-03-11",
                                    "2": "112.00",
                                    "3": "100"
                                },
                                {
                                    "0": "1579661",
                                    "1": "2013-05-08",
                                    "2": "112.00",
                                    "3": "100"
                                },
                                {
                                    "0": "2984951",
                                    "1": "2013-03-04",
                                    "2": "112.00",
                                    "3": "100"
                                },
                                {
                                    "0": "1338336",
                                    "1": "2015-11-11",
                                    "2": "112.00",
                                    "3": "100"
                                },
                                {
                                    "0": "1446337",
                                    "1": "2014-01-29",
                                    "2": "112.00",
                                    "3": "100"
                                },
                                {
                                    "0": "1519419",
                                    "1": "2016-02-11",
                                    "2": "112.00",
                                    "3": "100"
                                },
                                {
                                    "0": "3562718",
                                    "1": "2014-12-17",
                                    "2": "112.00",
                                    "3": "100"
                                },
                                {
                                    "0": "3105501",
                                    "1": "2015-03-07",
                                    "2": "112.00",
                                    "3": "100"
                                },
                                {
                                    "0": "1579658",
                                    "1": "2013-05-02",
                                    "2": "112.00",
                                    "3": "100"
                                },
                                {
                                    "0": "3456084",
                                    "1": "2014-08-20",
                                    "2": "112.00",
                                    "3": "100"
                                },
                                {
                                    "0": "1829208",
                                    "1": "2015-02-02",
                                    "2": "112.00",
                                    "3": "100"
                                },
                                {
                                    "0": "3643819",
                                    "1": "2014-11-10",
                                    "2": "112.00",
                                    "3": "100"
                                },
                                {
                                    "0": "3200506",
                                    "1": "2013-03-11",
                                    "2": "112.00",
                                    "3": "100"
                                },
                                {
                                    "0": "261698",
                                    "1": "2013-06-20",
                                    "2": "112.00",
                                    "3": "100"
                                },
                                {
                                    "0": "3107060",
                                    "1": "2015-10-14",
                                    "2": "112.00",
                                    "3": "100"
                                },
                                {
                                    "0": "266461",
                                    "1": "2015-04-17",
                                    "2": "112.00",
                                    "3": "100"
                                },
                                {
                                    "0": "3643606",
                                    "1": "2016-05-26",
                                    "2": "112.00",
                                    "3": "100"
                                },
                                {
                                    "0": "525809",
                                    "1": "2014-04-22",
                                    "2": "112.00",
                                    "3": "100"
                                },
                                {
                                    "0": "1031174",
                                    "1": "2015-03-19",
                                    "2": "112.00",
                                    "3": "100"
                                },
                                {
                                    "0": "198344",
                                    "1": "2015-12-15",
                                    "2": "112.00",
                                    "3": "100"
                                },
                                {
                                    "0": "2520996",
                                    "1": "2014-04-11",
                                    "2": "112.00",
                                    "3": "100"
                                },
                                {
                                    "0": "1810553",
                                    "1": "2013-06-26",
                                    "2": "112.00",
                                    "3": "100"
                                },
                                {
                                    "0": "320315",
                                    "1": "2014-12-05",
                                    "2": "112.00",
                                    "3": "100"
                                },
                                {
                                    "0": "1359014",
                                    "1": "2014-07-07",
                                    "2": "112.00",
                                    "3": "100"
                                },
                                {
                                    "0": "3695241",
                                    "1": "2015-03-16",
                                    "2": "112.00",
                                    "3": "100"
                                },
                                {
                                    "0": "2633861",
                                    "1": "2014-01-24",
                                    "2": "112.00",
                                    "3": "100"
                                },
                                {
                                    "0": "3106609",
                                    "1": "2015-09-08",
                                    "2": "112.00",
                                    "3": "100"
                                },
                                {
                                    "0": "3106527",
                                    "1": "2014-12-17",
                                    "2": "112.00",
                                    "3": "100"
                                },
                                {
                                    "0": "287450",
                                    "1": "2016-01-04",
                                    "2": "112.00",
                                    "3": "100"
                                },
                                {
                                    "0": "3106258",
                                    "1": "2013-12-23",
                                    "2": "112.00",
                                    "3": "100"
                                },
                                {
                                    "0": "2042086",
                                    "1": "2013-07-20",
                                    "2": "112.00",
                                    "3": "100"
                                },
                                {
                                    "0": "732215",
                                    "1": "2015-02-25",
                                    "2": "112.00",
                                    "3": "100"
                                },
                                {
                                    "0": "1535931",
                                    "1": "2013-06-26",
                                    "2": "112.00",
                                    "3": "100"
                                },
                                {
                                    "0": "1536686",
                                    "1": "2015-05-21",
                                    "2": "112.00",
                                    "3": "100"
                                },
                                {
                                    "0": "3073641",
                                    "1": "2014-03-24",
                                    "2": "112.00",
                                    "3": "100"
                                },
                                {
                                    "0": "3489492",
                                    "1": "2014-11-13",
                                    "2": "112.00",
                                    "3": "100"
                                },
                                {
                                    "0": "3197383",
                                    "1": "2015-07-18",
                                    "2": "112.00",
                                    "3": "100"
                                },
                                {
                                    "0": "2241935",
                                    "1": "2014-05-19",
                                    "2": "112.00",
                                    "3": "100"
                                },
                                {
                                    "0": "1689320",
                                    "1": "2015-09-23",
                                    "2": "112.00",
                                    "3": "100"
                                },
                                {
                                    "0": "732449",
                                    "1": "2015-07-10",
                                    "2": "112.00",
                                    "3": "100"
                                },
                                {
                                    "0": "3079353",
                                    "1": "2015-09-23",
                                    "2": "112.00",
                                    "3": "100"
                                },
                                {
                                    "0": "3011353",
                                    "1": "2014-03-12",
                                    "2": "112.00",
                                    "3": "100"
                                },
                                {
                                    "0": "1363256",
                                    "1": "2015-10-14",
                                    "2": "112.00",
                                    "3": "100"
                                },
                                {
                                    "0": "3105964",
                                    "1": "2015-08-12",
                                    "2": "112.00",
                                    "3": "100"
                                },
                                {
                                    "0": "1903779",
                                    "1": "2015-04-15",
                                    "2": "112.00",
                                    "3": "100"
                                },
                                {
                                    "0": "35147",
                                    "1": "2013-07-23",
                                    "2": "112.00",
                                    "3": "100"
                                },
                                {
                                    "0": "2633486",
                                    "1": "2015-11-14",
                                    "2": "112.00",
                                    "3": "100"
                                },
                                {
                                    "0": "3643413",
                                    "1": "2014-02-28",
                                    "2": "112.00",
                                    "3": "100"
                                },
                                {
                                    "0": "2543457",
                                    "1": "2014-07-07",
                                    "2": "112.00",
                                    "3": "100"
                                },
                                {
                                    "0": "3620634",
                                    "1": "2013-11-06",
                                    "2": "112.00",
                                    "3": "100"
                                },
                                {
                                    "0": "752933",
                                    "1": "2015-09-05",
                                    "2": "112.00",
                                    "3": "100"
                                },
                                {
                                    "0": "2503838",
                                    "1": "2015-03-20",
                                    "2": "112.00",
                                    "3": "100"
                                },
                                {
                                    "0": "2304415",
                                    "1": "2015-12-09",
                                    "2": "112.00",
                                    "3": "100"
                                },
                                {
                                    "0": "3463676",
                                    "1": "2015-10-20",
                                    "2": "112.00",
                                    "3": "100"
                                },
                                {
                                    "0": "2982816",
                                    "1": "2014-02-26",
                                    "2": "112.00",
                                    "3": "100"
                                },
                                {
                                    "0": "3188140",
                                    "1": "2015-12-18",
                                    "2": "112.00",
                                    "3": "100"
                                },
                                {
                                    "0": "3012213",
                                    "1": "2016-02-11",
                                    "2": "112.00",
                                    "3": "100"
                                },
                                {
                                    "0": "834650",
                                    "1": "2015-11-16",
                                    "2": "112.00",
                                    "3": "100"
                                },
                                {
                                    "0": "3565841",
                                    "1": "2014-02-26",
                                    "2": "112.00",
                                    "3": "100"
                                },
                                {
                                    "0": "1622471",
                                    "1": "2016-05-02",
                                    "2": "112.00",
                                    "3": "100"
                                },
                                {
                                    "0": "1631335",
                                    "1": "2014-04-22",
                                    "2": "112.00",
                                    "3": "100"
                                },
                                {
                                    "0": "1446738",
                                    "1": "2014-08-20",
                                    "2": "112.00",
                                    "3": "100"
                                },
                                {
                                    "0": "417488",
                                    "1": "2013-04-18",
                                    "2": "112.00",
                                    "3": "100"
                                },
                                {
                                    "0": "3463718",
                                    "1": "2015-08-27",
                                    "2": "112.00",
                                    "3": "100"
                                },
                                {
                                    "0": "3456820",
                                    "1": "2013-04-19",
                                    "2": "112.00",
                                    "3": "100"
                                },
                                {
                                    "0": "854395",
                                    "1": "2015-05-29",
                                    "2": "112.00",
                                    "3": "100"
                                },
                                {
                                    "0": "25555",
                                    "1": "2013-06-03",
                                    "2": "112.00",
                                    "3": "100"
                                },
                                {
                                    "0": "395659",
                                    "1": "2013-11-06",
                                    "2": "112.00",
                                    "3": "100"
                                },
                                {
                                    "0": "3224735",
                                    "1": "2015-09-05",
                                    "2": "112.00",
                                    "3": "100"
                                },
                                {
                                    "0": "2961404",
                                    "1": "2015-02-25",
                                    "2": "112.00",
                                    "3": "100"
                                },
                                {
                                    "0": "390542",
                                    "1": "2013-06-03",
                                    "2": "112.00",
                                    "3": "100"
                                },
                                {
                                    "0": "1784416",
                                    "1": "2016-01-04",
                                    "2": "112.00",
                                    "3": "100"
                                },
                                {
                                    "0": "2012606",
                                    "1": "2015-04-17",
                                    "2": "112.00",
                                    "3": "100"
                                },
                                {
                                    "0": "1476688",
                                    "1": "2015-03-10",
                                    "2": "112.00",
                                    "3": "100"
                                },
                                {
                                    "0": "1456768",
                                    "1": "2013-11-11",
                                    "2": "112.00",
                                    "3": "100"
                                },
                                {
                                    "0": "1545315",
                                    "1": "2015-08-12",
                                    "2": "112.00",
                                    "3": "100"
                                },
                                {
                                    "0": "2966472",
                                    "1": "2015-07-10",
                                    "2": "112.00",
                                    "3": "100"
                                },
                                {
                                    "0": "2205484",
                                    "1": "2014-04-26",
                                    "2": "112.00",
                                    "3": "100"
                                },
                                {
                                    "0": "863628",
                                    "1": "2014-01-24",
                                    "2": "112.00",
                                    "3": "100"
                                },
                                {
                                    "0": "9549",
                                    "1": "2013-03-04",
                                    "2": "112.00",
                                    "3": "100"
                                },
                                {
                                    "0": "3201268",
                                    "1": "2015-01-26",
                                    "2": "112.00",
                                    "3": "100"
                                },
                                {
                                    "0": "575666",
                                    "1": "2015-08-10",
                                    "2": "112.00",
                                    "3": "100"
                                },
                                {
                                    "0": "1624680",
                                    "1": "2014-05-19",
                                    "2": "112.00",
                                    "3": "100"
                                },
                                {
                                    "0": "1592244",
                                    "1": "2015-09-05",
                                    "2": "112.00",
                                    "3": "100"
                                },
                                {
                                    "0": "1311683",
                                    "1": "2014-03-05",
                                    "2": "112.00",
                                    "3": "100"
                                },
                                {
                                    "0": "411014",
                                    "1": "2015-07-16",
                                    "2": "112.00",
                                    "3": "100"
                                },
                                {
                                    "0": "1457622",
                                    "1": "2013-03-19",
                                    "2": "112.00",
                                    "3": "100"
                                },
                                {
                                    "0": "2864698",
                                    "1": "2013-03-04",
                                    "2": "112.00",
                                    "3": "100"
                                },
                                {
                                    "0": "1477024",
                                    "1": "2015-11-14",
                                    "2": "112.00",
                                    "3": "100"
                                },
                                {
                                    "0": "1545714",
                                    "1": "2015-10-20",
                                    "2": "112.00",
                                    "3": "100"
                                },
                                {
                                    "0": "1483188",
                                    "1": "2015-10-14",
                                    "2": "112.00",
                                    "3": "100"
                                },
                                {
                                    "0": "17861",
                                    "1": "2013-04-19",
                                    "2": "112.00",
                                    "3": "100"
                                },
                                {
                                    "0": "2376042",
                                    "1": "2015-03-16",
                                    "2": "112.00",
                                    "3": "100"
                                },
                                {
                                    "0": "17717",
                                    "1": "2013-04-19",
                                    "2": "112.00",
                                    "3": "100"
                                },
                                {
                                    "0": "19893",
                                    "1": "2013-05-02",
                                    "2": "112.00",
                                    "3": "100"
                                },
                                {
                                    "0": "1477058",
                                    "1": "2015-05-26",
                                    "2": "112.00",
                                    "3": "100"
                                },
                                {
                                    "0": "2393870",
                                    "1": "2016-05-02",
                                    "2": "112.00",
                                    "3": "100"
                                },
                                {
                                    "0": "2533925",
                                    "1": "2015-10-09",
                                    "2": "112.00",
                                    "3": "100"
                                },
                                {
                                    "0": "21244",
                                    "1": "2013-05-08",
                                    "2": "112.00",
                                    "3": "100"
                                },
                                {
                                    "0": "2533919",
                                    "1": "2015-10-06",
                                    "2": "112.00",
                                    "3": "100"
                                },
                                {
                                    "0": "1326484",
                                    "1": "2015-03-16",
                                    "2": "112.00",
                                    "3": "100"
                                },
                                {
                                    "0": "3699294",
                                    "1": "2015-08-12",
                                    "2": "112.00",
                                    "3": "100"
                                },
                                {
                                    "0": "2205230",
                                    "1": "2015-08-12",
                                    "2": "112.00",
                                    "3": "100"
                                },
                                {
                                    "0": "3474170",
                                    "1": "2015-07-29",
                                    "2": "112.00",
                                    "3": "100"
                                },
                                {
                                    "0": "2013592",
                                    "1": "2015-05-21",
                                    "2": "112.00",
                                    "3": "100"
                                },
                                {
                                    "0": "1453498",
                                    "1": "2015-12-15",
                                    "2": "112.00",
                                    "3": "100"
                                },
                                {
                                    "0": "1262309",
                                    "1": "2013-08-28",
                                    "2": "112.00",
                                    "3": "100"
                                },
                                {
                                    "0": "2915427",
                                    "1": "2013-03-11",
                                    "2": "112.00",
                                    "3": "100"
                                },
                                {
                                    "0": "1308198",
                                    "1": "2013-11-06",
                                    "2": "112.00",
                                    "3": "100"
                                },
                                {
                                    "0": "3380953",
                                    "1": "2015-08-28",
                                    "2": "112.00",
                                    "3": "100"
                                },
                                {
                                    "0": "1453636",
                                    "1": "2015-06-06",
                                    "2": "112.00",
                                    "3": "100"
                                },
                                {
                                    "0": "283359",
                                    "1": "2015-08-10",
                                    "2": "112.00",
                                    "3": "100"
                                },
                                {
                                    "0": "3659525",
                                    "1": "2015-12-15",
                                    "2": "112.00",
                                    "3": "100"
                                },
                                {
                                    "0": "2534090",
                                    "1": "2014-01-06",
                                    "2": "112.00",
                                    "3": "100"
                                },
                                {
                                    "0": "2406943",
                                    "1": "2016-05-26",
                                    "2": "112.00",
                                    "3": "100"
                                },
                                {
                                    "0": "1482324",
                                    "1": "2015-11-14",
                                    "2": "112.00",
                                    "3": "100"
                                },
                                {
                                    "0": "1163857",
                                    "1": "2015-03-19",
                                    "2": "112.00",
                                    "3": "100"
                                },
                                {
                                    "0": "2590121",
                                    "1": "2014-12-10",
                                    "2": "112.00",
                                    "3": "100"
                                },
                                {
                                    "0": "474192",
                                    "1": "2016-05-11",
                                    "2": "112.00",
                                    "3": "100"
                                },
                                {
                                    "0": "1482866",
                                    "1": "2013-07-20",
                                    "2": "112.00",
                                    "3": "100"
                                },
                                {
                                    "0": "2127975",
                                    "1": "2014-03-12",
                                    "2": "112.00",
                                    "3": "100"
                                },
                                {
                                    "0": "2128027",
                                    "1": "2014-02-18",
                                    "2": "112.00",
                                    "3": "100"
                                },
                                {
                                    "0": "3405254",
                                    "1": "2013-11-06",
                                    "2": "112.00",
                                    "3": "100"
                                },
                                {
                                    "0": "1545059",
                                    "1": "2016-01-04",
                                    "2": "112.00",
                                    "3": "100"
                                },
                                {
                                    "0": "2534009",
                                    "1": "2014-04-26",
                                    "2": "112.00",
                                    "3": "100"
                                },
                                {
                                    "0": "1876656",
                                    "1": "2013-07-20",
                                    "2": "112.00",
                                    "3": "100"
                                },
                                {
                                    "0": "2279107",
                                    "1": "2015-04-17",
                                    "2": "112.00",
                                    "3": "100"
                                },
                                {
                                    "0": "1219472",
                                    "1": "2014-11-13",
                                    "2": "112.00",
                                    "3": "100"
                                },
                                {
                                    "0": "3224323",
                                    "1": "2013-06-26",
                                    "2": "112.00",
                                    "3": "100"
                                },
                                {
                                    "0": "1786700",
                                    "1": "2015-07-16",
                                    "2": "112.00",
                                    "3": "100"
                                },
                                {
                                    "0": "3004245",
                                    "1": "2014-01-24",
                                    "2": "112.00",
                                    "3": "100"
                                },
                                {
                                    "0": "836955",
                                    "1": "2015-05-21",
                                    "2": "112.00",
                                    "3": "100"
                                },
                                {
                                    "0": "3222172",
                                    "1": "2016-02-11",
                                    "2": "112.00",
                                    "3": "100"
                                },
                                {
                                    "0": "1569315",
                                    "1": "2015-07-10",
                                    "2": "112.00",
                                    "3": "100"
                                },
                                {
                                    "0": "3404515",
                                    "1": "2015-10-09",
                                    "2": "112.00",
                                    "3": "100"
                                },
                                {
                                    "0": "3221612",
                                    "1": "2015-12-09",
                                    "2": "112.00",
                                    "3": "100"
                                },
                                {
                                    "0": "3542939",
                                    "1": "2014-03-12",
                                    "2": "112.00",
                                    "3": "100"
                                },
                                {
                                    "0": "3404449",
                                    "1": "2015-10-06",
                                    "2": "112.00",
                                    "3": "100"
                                },
                                {
                                    "0": "369874",
                                    "1": "2015-07-18",
                                    "2": "112.00",
                                    "3": "100"
                                },
                                {
                                    "0": "1177368",
                                    "1": "2014-06-19",
                                    "2": "112.00",
                                    "3": "100"
                                },
                                {
                                    "0": "1812835",
                                    "1": "2015-08-27",
                                    "2": "112.00",
                                    "3": "100"
                                },
                                {
                                    "0": "1812794",
                                    "1": "2015-08-15",
                                    "2": "112.00",
                                    "3": "100"
                                },
                                {
                                    "0": "3273967",
                                    "1": "2016-01-04",
                                    "2": "112.00",
                                    "3": "100"
                                },
                                {
                                    "0": "1133349",
                                    "1": "2015-09-23",
                                    "2": "112.00",
                                    "3": "100"
                                },
                                {
                                    "0": "311730",
                                    "1": "2014-08-20",
                                    "2": "112.00",
                                    "3": "100"
                                },
                                {
                                    "0": "311692",
                                    "1": "2014-01-29",
                                    "2": "112.00",
                                    "3": "100"
                                },
                                {
                                    "0": "1784868",
                                    "1": "2013-04-16",
                                    "2": "112.00",
                                    "3": "100"
                                },
                                {
                                    "0": "1417477",
                                    "1": "2014-06-19",
                                    "2": "112.00",
                                    "3": "100"
                                },
                                {
                                    "0": "1512304",
                                    "1": "2013-11-11",
                                    "2": "112.00",
                                    "3": "100"
                                },
                                {
                                    "0": "3583279",
                                    "1": "2015-05-29",
                                    "2": "112.00",
                                    "3": "100"
                                },
                                {
                                    "0": "2724876",
                                    "1": "2013-08-23",
                                    "2": "112.00",
                                    "3": "100"
                                },
                                {
                                    "0": "2185225",
                                    "1": "2013-04-19",
                                    "2": "112.00",
                                    "3": "100"
                                },
                                {
                                    "0": "2897795",
                                    "1": "2015-08-22",
                                    "2": "112.00",
                                    "3": "100"
                                },
                                {
                                    "0": "2724889",
                                    "1": "2013-08-28",
                                    "2": "112.00",
                                    "3": "100"
                                },
                                {
                                    "0": "2185227",
                                    "1": "2013-04-19",
                                    "2": "112.00",
                                    "3": "100"
                                },
                                {
                                    "0": "742255",
                                    "1": "2014-02-26",
                                    "2": "112.00",
                                    "3": "100"
                                },
                                {
                                    "0": "2897784",
                                    "1": "2015-08-20",
                                    "2": "112.00",
                                    "3": "100"
                                },
                                {
                                    "0": "1513499",
                                    "1": "2013-06-20",
                                    "2": "112.00",
                                    "3": "100"
                                },
                                {
                                    "0": "2281850",
                                    "1": "2013-09-19",
                                    "2": "112.00",
                                    "3": "100"
                                },
                                {
                                    "0": "859098",
                                    "1": "2015-12-09",
                                    "2": "112.00",
                                    "3": "100"
                                },
                                {
                                    "0": "3554403",
                                    "1": "2015-12-15",
                                    "2": "112.00",
                                    "3": "100"
                                },
                                {
                                    "0": "661186",
                                    "1": "2016-02-11",
                                    "2": "112.00",
                                    "3": "100"
                                },
                                {
                                    "0": "2896790",
                                    "1": "2016-02-20",
                                    "2": "112.00",
                                    "3": "100"
                                },
                                {
                                    "0": "2281713",
                                    "1": "2013-10-10",
                                    "2": "112.00",
                                    "3": "100"
                                },
                                {
                                    "0": "3545695",
                                    "1": "2015-12-15",
                                    "2": "112.00",
                                    "3": "100"
                                },
                                {
                                    "0": "3115977",
                                    "1": "2015-10-06",
                                    "2": "112.00",
                                    "3": "100"
                                },
                                {
                                    "0": "759333",
                                    "1": "2013-04-16",
                                    "2": "112.00",
                                    "3": "100"
                                },
                                {
                                    "0": "3085889",
                                    "1": "2013-11-20",
                                    "2": "112.00",
                                    "3": "100"
                                },
                                {
                                    "0": "3181227",
                                    "1": "2014-04-22",
                                    "2": "112.00",
                                    "3": "100"
                                },
                                {
                                    "0": "2183489",
                                    "1": "2014-04-24",
                                    "2": "112.00",
                                    "3": "100"
                                },
                                {
                                    "0": "894950",
                                    "1": "2015-07-18",
                                    "2": "112.00",
                                    "3": "100"
                                },
                                {
                                    "0": "2281706",
                                    "1": "2013-09-19",
                                    "2": "112.00",
                                    "3": "100"
                                },
                                {
                                    "0": "2403283",
                                    "1": "2015-10-14",
                                    "2": "112.00",
                                    "3": "100"
                                },
                                {
                                    "0": "1134468",
                                    "1": "2015-08-28",
                                    "2": "112.00",
                                    "3": "100"
                                },
                                {
                                    "0": "3204140",
                                    "1": "2014-08-02",
                                    "2": "112.00",
                                    "3": "100"
                                },
                                {
                                    "0": "493967",
                                    "1": "2013-08-23",
                                    "2": "112.00",
                                    "3": "100"
                                },
                                {
                                    "0": "3116257",
                                    "1": "2015-10-09",
                                    "2": "112.00",
                                    "3": "100"
                                },
                                {
                                    "0": "1220430",
                                    "1": "2015-11-27",
                                    "2": "112.00",
                                    "3": "100"
                                },
                                {
                                    "0": "2131543",
                                    "1": "2014-03-05",
                                    "2": "112.00",
                                    "3": "100"
                                },
                                {
                                    "0": "2013298",
                                    "1": "2014-03-05",
                                    "2": "112.00",
                                    "3": "100"
                                },
                                {
                                    "0": "866195",
                                    "1": "2014-03-12",
                                    "2": "112.00",
                                    "3": "100"
                                },
                                {
                                    "0": "1530047",
                                    "1": "2013-04-18",
                                    "2": "112.00",
                                    "3": "100"
                                },
                                {
                                    "0": "493980",
                                    "1": "2013-08-28",
                                    "2": "112.00",
                                    "3": "100"
                                },
                                {
                                    "0": "899467",
                                    "1": "2013-02-11",
                                    "2": "112.00",
                                    "3": "100"
                                },
                                {
                                    "0": "3474984",
                                    "1": "2014-12-10",
                                    "2": "112.00",
                                    "3": "100"
                                },
                                {
                                    "0": "3475403",
                                    "1": "2015-09-08",
                                    "2": "112.00",
                                    "3": "100"
                                },
                                {
                                    "0": "2404790",
                                    "1": "2013-07-20",
                                    "2": "112.00",
                                    "3": "100"
                                },
                                {
                                    "0": "823805",
                                    "1": "2014-04-11",
                                    "2": "112.00",
                                    "3": "100"
                                },
                                {
                                    "0": "2373876",
                                    "1": "2014-04-26",
                                    "2": "112.00",
                                    "3": "100"
                                },
                                {
                                    "0": "1219828",
                                    "1": "2015-01-26",
                                    "2": "112.00",
                                    "3": "100"
                                },
                                {
                                    "0": "66682",
                                    "1": "2014-01-29",
                                    "2": "112.00",
                                    "3": "100"
                                },
                                {
                                    "0": "2591255",
                                    "1": "2015-05-29",
                                    "2": "112.00",
                                    "3": "100"
                                },
                                {
                                    "0": "195095",
                                    "1": "2015-11-27",
                                    "2": "112.00",
                                    "3": "100"
                                },
                                {
                                    "0": "2565599",
                                    "1": "2015-05-26",
                                    "2": "112.00",
                                    "3": "100"
                                },
                                {
                                    "0": "1484351",
                                    "1": "2015-08-22",
                                    "2": "112.00",
                                    "3": "100"
                                },
                                {
                                    "0": "1134065",
                                    "1": "2015-04-15",
                                    "2": "112.00",
                                    "3": "100"
                                },
                                {
                                    "0": "3272039",
                                    "1": "2015-08-15",
                                    "2": "112.00",
                                    "3": "100"
                                },
                                {
                                    "0": "1668138",
                                    "1": "2015-07-10",
                                    "2": "112.00",
                                    "3": "100"
                                },
                                {
                                    "0": "3555471",
                                    "1": "2015-06-06",
                                    "2": "112.00",
                                    "3": "100"
                                },
                                {
                                    "0": "3272408",
                                    "1": "2015-11-27",
                                    "2": "112.00",
                                    "3": "100"
                                },
                                {
                                    "0": "1484340",
                                    "1": "2015-08-20",
                                    "2": "112.00",
                                    "3": "100"
                                },
                                {
                                    "0": "2281543",
                                    "1": "2013-07-25",
                                    "2": "112.00",
                                    "3": "100"
                                },
                                {
                                    "0": "3476106",
                                    "1": "2015-03-19",
                                    "2": "112.00",
                                    "3": "100"
                                },
                                {
                                    "0": "865076",
                                    "1": "2014-12-17",
                                    "2": "112.00",
                                    "3": "100"
                                },
                                {
                                    "0": "2184769",
                                    "1": "2013-03-04",
                                    "2": "112.00",
                                    "3": "100"
                                },
                                {
                                    "0": "1953770",
                                    "1": "2014-08-18",
                                    "2": "112.00",
                                    "3": "100"
                                },
                                {
                                    "0": "1394159",
                                    "1": "2015-01-14",
                                    "2": "112.00",
                                    "3": "100"
                                },
                                {
                                    "0": "2130909",
                                    "1": "2014-04-22",
                                    "2": "112.00",
                                    "3": "100"
                                },
                                {
                                    "0": "3553054",
                                    "1": "2013-11-11",
                                    "2": "112.00",
                                    "3": "100"
                                },
                                {
                                    "0": "1395241",
                                    "1": "2015-11-03",
                                    "2": "112.00",
                                    "3": "100"
                                },
                                {
                                    "0": "3272202",
                                    "1": "2015-08-27",
                                    "2": "112.00",
                                    "3": "100"
                                },
                                {
                                    "0": "3553063",
                                    "1": "2013-11-20",
                                    "2": "112.00",
                                    "3": "100"
                                },
                                {
                                    "0": "1454462",
                                    "1": "2015-11-16",
                                    "2": "112.00",
                                    "3": "100"
                                },
                                {
                                    "0": "3481526",
                                    "1": "2013-03-04",
                                    "2": "112.00",
                                    "3": "100"
                                },
                                {
                                    "0": "2565965",
                                    "1": "2015-11-03",
                                    "2": "112.00",
                                    "3": "100"
                                },
                                {
                                    "0": "3585775",
                                    "1": "2013-07-25",
                                    "2": "112.00",
                                    "3": "100"
                                },
                                {
                                    "0": "428443",
                                    "1": "2015-03-10",
                                    "2": "112.00",
                                    "3": "100"
                                },
                                {
                                    "0": "344691",
                                    "1": "2014-03-12",
                                    "2": "112.00",
                                    "3": "100"
                                },
                                {
                                    "0": "513161",
                                    "1": "2015-03-19",
                                    "2": "112.00",
                                    "3": "100"
                                },
                                {
                                    "0": "2549512",
                                    "1": "2014-08-02",
                                    "2": "112.00",
                                    "3": "100"
                                },
                                {
                                    "0": "3105017",
                                    "1": "2015-04-15",
                                    "2": "112.00",
                                    "3": "100"
                                },
                                {
                                    "0": "1486184",
                                    "1": "2013-06-14",
                                    "2": "112.00",
                                    "3": "100"
                                },
                                {
                                    "0": "1917182",
                                    "1": "2015-08-26",
                                    "2": "112.00",
                                    "3": "100"
                                },
                                {
                                    "0": "308713",
                                    "1": "2014-08-18",
                                    "2": "112.00",
                                    "3": "100"
                                },
                                {
                                    "0": "288476",
                                    "1": "2014-08-02",
                                    "2": "112.00",
                                    "3": "100"
                                },
                                {
                                    "0": "2523546",
                                    "1": "2014-07-04",
                                    "2": "112.00",
                                    "3": "100"
                                },
                                {
                                    "0": "1331634",
                                    "1": "2015-12-09",
                                    "2": "112.00",
                                    "3": "100"
                                },
                                {
                                    "0": "3104547",
                                    "1": "2014-03-05",
                                    "2": "112.00",
                                    "3": "100"
                                },
                                {
                                    "0": "380505",
                                    "1": "2015-04-22",
                                    "2": "112.00",
                                    "3": "100"
                                },
                                {
                                    "0": "2552206",
                                    "1": "2015-09-05",
                                    "2": "112.00",
                                    "3": "100"
                                },
                                {
                                    "0": "512547",
                                    "1": "2016-02-20",
                                    "2": "112.00",
                                    "3": "100"
                                },
                                {
                                    "0": "3641890",
                                    "1": "2015-01-26",
                                    "2": "112.00",
                                    "3": "100"
                                },
                                {
                                    "0": "2472501",
                                    "1": "2015-03-16",
                                    "2": "112.00",
                                    "3": "100"
                                },
                                {
                                    "0": "1916742",
                                    "1": "2015-01-26",
                                    "2": "112.00",
                                    "3": "100"
                                },
                                {
                                    "0": "2472138",
                                    "1": "2016-05-26",
                                    "2": "112.00",
                                    "3": "100"
                                },
                                {
                                    "0": "1916196",
                                    "1": "2016-05-26",
                                    "2": "112.00",
                                    "3": "100"
                                },
                                {
                                    "0": "2249717",
                                    "1": "2015-04-17",
                                    "2": "112.00",
                                    "3": "100"
                                },
                                {
                                    "0": "796165",
                                    "1": "2015-08-12",
                                    "2": "112.00",
                                    "3": "100"
                                },
                                {
                                    "0": "2311675",
                                    "1": "2014-12-05",
                                    "2": "112.00",
                                    "3": "100"
                                },
                                {
                                    "0": "2496748",
                                    "1": "2013-11-20",
                                    "2": "112.00",
                                    "3": "100"
                                },
                                {
                                    "0": "380271",
                                    "1": "2015-11-16",
                                    "2": "112.00",
                                    "3": "100"
                                },
                                {
                                    "0": "879639",
                                    "1": "2015-04-15",
                                    "2": "112.00",
                                    "3": "100"
                                },
                                {
                                    "0": "3104038",
                                    "1": "2015-06-06",
                                    "2": "112.00",
                                    "3": "100"
                                },
                                {
                                    "0": "2525861",
                                    "1": "2014-10-06",
                                    "2": "112.00",
                                    "3": "100"
                                },
                                {
                                    "0": "2220394",
                                    "1": "2015-10-14",
                                    "2": "112.00",
                                    "3": "100"
                                },
                                {
                                    "0": "1262082",
                                    "1": "2013-08-23",
                                    "2": "112.00",
                                    "3": "100"
                                },
                                {
                                    "0": "1916075",
                                    "1": "2015-08-10",
                                    "2": "112.00",
                                    "3": "100"
                                },
                                {
                                    "0": "3618375",
                                    "1": "2014-04-24",
                                    "2": "112.00",
                                    "3": "100"
                                },
                                {
                                    "0": "2510997",
                                    "1": "2016-05-02",
                                    "2": "112.00",
                                    "3": "100"
                                },
                                {
                                    "0": "1395776",
                                    "1": "2015-03-16",
                                    "2": "112.00",
                                    "3": "100"
                                },
                                {
                                    "0": "1479725",
                                    "1": "2013-06-03",
                                    "2": "112.00",
                                    "3": "100"
                                },
                                {
                                    "0": "1515312",
                                    "1": "2014-04-24",
                                    "2": "112.00",
                                    "3": "100"
                                },
                                {
                                    "0": "2548618",
                                    "1": "2013-11-06",
                                    "2": "112.00",
                                    "3": "100"
                                },
                                {
                                    "0": "398144",
                                    "1": "2015-03-07",
                                    "2": "112.00",
                                    "3": "100"
                                },
                                {
                                    "0": "2247349",
                                    "1": "2014-12-05",
                                    "2": "112.00",
                                    "3": "100"
                                },
                                {
                                    "0": "80891",
                                    "1": "2014-04-22",
                                    "2": "112.00",
                                    "3": "100"
                                },
                                {
                                    "0": "3616602",
                                    "1": "2013-10-10",
                                    "2": "112.00",
                                    "3": "100"
                                },
                                {
                                    "0": "759879",
                                    "1": "2013-02-11",
                                    "2": "112.00",
                                    "3": "100"
                                },
                                {
                                    "0": "1009724",
                                    "1": "2013-02-11",
                                    "2": "112.00",
                                    "3": "100"
                                },
                                {
                                    "0": "1600702",
                                    "1": "2013-04-16",
                                    "2": "112.00",
                                    "3": "100"
                                },
                                {
                                    "0": "541040",
                                    "1": "2014-04-26",
                                    "2": "112.00",
                                    "3": "100"
                                },
                                {
                                    "0": "293467",
                                    "1": "2014-04-26",
                                    "2": "112.00",
                                    "3": "100"
                                },
                                {
                                    "0": "2249080",
                                    "1": "2014-08-02",
                                    "2": "112.00",
                                    "3": "100"
                                },
                                {
                                    "0": "3427939",
                                    "1": "2013-03-19",
                                    "2": "112.00",
                                    "3": "100"
                                },
                                {
                                    "0": "802231",
                                    "1": "2015-08-22",
                                    "2": "112.00",
                                    "3": "100"
                                },
                                {
                                    "0": "3065953",
                                    "1": "2015-12-18",
                                    "2": "112.00",
                                    "3": "100"
                                },
                                {
                                    "0": "2298675",
                                    "1": "2013-06-26",
                                    "2": "112.00",
                                    "3": "100"
                                },
                                {
                                    "0": "1396345",
                                    "1": "2015-07-18",
                                    "2": "112.00",
                                    "3": "100"
                                },
                                {
                                    "0": "1956982",
                                    "1": "2014-01-29",
                                    "2": "112.00",
                                    "3": "100"
                                },
                                {
                                    "0": "969380",
                                    "1": "2015-04-22",
                                    "2": "112.00",
                                    "3": "100"
                                },
                                {
                                    "0": "1982514",
                                    "1": "2015-12-18",
                                    "2": "112.00",
                                    "3": "100"
                                },
                                {
                                    "0": "809705",
                                    "1": "2016-01-04",
                                    "2": "112.00",
                                    "3": "100"
                                },
                                {
                                    "0": "2524449",
                                    "1": "2013-03-11",
                                    "2": "112.00",
                                    "3": "100"
                                },
                                {
                                    "0": "3154751",
                                    "1": "2015-03-19",
                                    "2": "112.00",
                                    "3": "100"
                                },
                                {
                                    "0": "3450356",
                                    "1": "2013-05-08",
                                    "2": "112.00",
                                    "3": "100"
                                },
                                {
                                    "0": "2550706",
                                    "1": "2015-11-16",
                                    "2": "112.00",
                                    "3": "100"
                                },
                                {
                                    "0": "3450353",
                                    "1": "2013-05-02",
                                    "2": "112.00",
                                    "3": "100"
                                },
                                {
                                    "0": "969301",
                                    "1": "2016-01-04",
                                    "2": "112.00",
                                    "3": "100"
                                },
                                {
                                    "0": "3450343",
                                    "1": "2014-01-29",
                                    "2": "112.00",
                                    "3": "100"
                                },
                                {
                                    "0": "2299049",
                                    "1": "2015-04-22",
                                    "2": "112.00",
                                    "3": "100"
                                },
                                {
                                    "0": "3612812",
                                    "1": "2015-03-20",
                                    "2": "112.00",
                                    "3": "100"
                                },
                                {
                                    "0": "442951",
                                    "1": "2015-12-15",
                                    "2": "112.00",
                                    "3": "100"
                                },
                                {
                                    "0": "3155417",
                                    "1": "2015-07-18",
                                    "2": "112.00",
                                    "3": "100"
                                },
                                {
                                    "0": "1487362",
                                    "1": "2015-10-20",
                                    "2": "112.00",
                                    "3": "100"
                                },
                                {
                                    "0": "3066561",
                                    "1": "2014-02-26",
                                    "2": "112.00",
                                    "3": "100"
                                },
                                {
                                    "0": "395429",
                                    "1": "2015-12-18",
                                    "2": "112.00",
                                    "3": "100"
                                },
                                {
                                    "0": "717350",
                                    "1": "2013-12-09",
                                    "2": "112.00",
                                    "3": "100"
                                },
                                {
                                    "0": "2299357",
                                    "1": "2015-12-18",
                                    "2": "112.00",
                                    "3": "100"
                                },
                                {
                                    "0": "1514505",
                                    "1": "2015-08-20",
                                    "2": "112.00",
                                    "3": "100"
                                },
                                {
                                    "0": "1514516",
                                    "1": "2015-08-22",
                                    "2": "112.00",
                                    "3": "100"
                                },
                                {
                                    "0": "3144485",
                                    "1": "2014-02-26",
                                    "2": "112.00",
                                    "3": "100"
                                },
                                {
                                    "0": "3612246",
                                    "1": "2015-03-03",
                                    "2": "112.00",
                                    "3": "100"
                                },
                                {
                                    "0": "1486722",
                                    "1": "2015-01-14",
                                    "2": "112.00",
                                    "3": "100"
                                },
                                {
                                    "0": "1486575",
                                    "1": "2014-02-14",
                                    "2": "112.00",
                                    "3": "100"
                                },
                                {
                                    "0": "3527620",
                                    "1": "2014-04-22",
                                    "2": "112.00",
                                    "3": "100"
                                },
                                {
                                    "0": "1846919",
                                    "1": "2014-04-24",
                                    "2": "112.00",
                                    "3": "100"
                                },
                                {
                                    "0": "945175",
                                    "1": "2016-05-11",
                                    "2": "112.00",
                                    "3": "100"
                                },
                                {
                                    "0": "969164",
                                    "1": "2016-01-04",
                                    "2": "112.00",
                                    "3": "100"
                                },
                                {
                                    "0": "1279696",
                                    "1": "2014-09-25",
                                    "2": "112.00",
                                    "3": "100"
                                },
                                {
                                    "0": "2603133",
                                    "1": "2015-08-28",
                                    "2": "112.00",
                                    "3": "100"
                                },
                                {
                                    "0": "900192",
                                    "1": "2013-11-11",
                                    "2": "112.00",
                                    "3": "100"
                                },
                                {
                                    "0": "1486316",
                                    "1": "2016-01-04",
                                    "2": "112.00",
                                    "3": "100"
                                },
                                {
                                    "0": "3009850",
                                    "1": "2014-12-10",
                                    "2": "112.00",
                                    "3": "100"
                                },
                                {
                                    "0": "2175802",
                                    "1": "2016-05-11",
                                    "2": "112.00",
                                    "3": "100"
                                },
                                {
                                    "0": "1202730",
                                    "1": "2015-07-16",
                                    "2": "112.00",
                                    "3": "100"
                                },
                                {
                                    "0": "2986381",
                                    "1": "2015-08-10",
                                    "2": "112.00",
                                    "3": "100"
                                },
                                {
                                    "0": "2218026",
                                    "1": "2015-09-08",
                                    "2": "112.00",
                                    "3": "100"
                                },
                                {
                                    "0": "3430529",
                                    "1": "2015-02-25",
                                    "2": "112.00",
                                    "3": "100"
                                },
                                {
                                    "0": "2494513",
                                    "1": "2015-08-22",
                                    "2": "112.00",
                                    "3": "100"
                                },
                                {
                                    "0": "2989017",
                                    "1": "2015-08-26",
                                    "2": "112.00",
                                    "3": "100"
                                },
                                {
                                    "0": "1328286",
                                    "1": "2014-09-12",
                                    "2": "112.00",
                                    "3": "100"
                                },
                                {
                                    "0": "1459069",
                                    "1": "2014-03-05",
                                    "2": "112.00",
                                    "3": "100"
                                },
                                {
                                    "0": "3092091",
                                    "1": "2014-08-02",
                                    "2": "112.00",
                                    "3": "100"
                                },
                                {
                                    "0": "2807034",
                                    "1": "2015-12-09",
                                    "2": "112.00",
                                    "3": "100"
                                },
                                {
                                    "0": "918950",
                                    "1": "2014-11-10",
                                    "2": "112.00",
                                    "3": "100"
                                },
                                {
                                    "0": "498395",
                                    "1": "2013-06-20",
                                    "2": "112.00",
                                    "3": "100"
                                },
                                {
                                    "0": "3332155",
                                    "1": "2015-10-14",
                                    "2": "112.00",
                                    "3": "100"
                                },
                                {
                                    "0": "3092303",
                                    "1": "2015-05-21",
                                    "2": "112.00",
                                    "3": "100"
                                },
                                {
                                    "0": "498799",
                                    "1": "2014-09-25",
                                    "2": "112.00",
                                    "3": "100"
                                },
                                {
                                    "0": "1459786",
                                    "1": "2014-08-02",
                                    "2": "112.00",
                                    "3": "100"
                                },
                                {
                                    "0": "3092447",
                                    "1": "2015-03-16",
                                    "2": "112.00",
                                    "3": "100"
                                },
                                {
                                    "0": "2494900",
                                    "1": "2015-08-26",
                                    "2": "112.00",
                                    "3": "100"
                                },
                                {
                                    "0": "3101547",
                                    "1": "2015-09-26",
                                    "2": "112.00",
                                    "3": "100"
                                },
                                {
                                    "0": "1460157",
                                    "1": "2015-09-26",
                                    "2": "112.00",
                                    "3": "100"
                                },
                                {
                                    "0": "1322676",
                                    "1": "2015-06-06",
                                    "2": "112.00",
                                    "3": "100"
                                },
                                {
                                    "0": "496393",
                                    "1": "2015-11-11",
                                    "2": "112.00",
                                    "3": "100"
                                },
                                {
                                    "0": "1881766",
                                    "1": "2015-11-11",
                                    "2": "112.00",
                                    "3": "100"
                                },
                                {
                                    "0": "609494",
                                    "1": "2016-02-20",
                                    "2": "112.00",
                                    "3": "100"
                                },
                                {
                                    "0": "2235046",
                                    "1": "2015-03-03",
                                    "2": "112.00",
                                    "3": "100"
                                },
                                {
                                    "0": "2250333",
                                    "1": "2014-12-10",
                                    "2": "112.00",
                                    "3": "100"
                                },
                                {
                                    "0": "2469529",
                                    "1": "2013-02-11",
                                    "2": "112.00",
                                    "3": "100"
                                },
                                {
                                    "0": "1480394",
                                    "1": "2015-01-13",
                                    "2": "112.00",
                                    "3": "100"
                                },
                                {
                                    "0": "2986750",
                                    "1": "2013-03-11",
                                    "2": "112.00",
                                    "3": "100"
                                },
                                {
                                    "0": "2067658",
                                    "1": "2015-05-21",
                                    "2": "112.00",
                                    "3": "100"
                                },
                                {
                                    "0": "595172",
                                    "1": "2014-09-12",
                                    "2": "112.00",
                                    "3": "100"
                                },
                                {
                                    "0": "2469198",
                                    "1": "2014-01-06",
                                    "2": "112.00",
                                    "3": "100"
                                },
                                {
                                    "0": "2493456",
                                    "1": "2015-08-10",
                                    "2": "112.00",
                                    "3": "100"
                                },
                                {
                                    "0": "2987088",
                                    "1": "2015-09-26",
                                    "2": "112.00",
                                    "3": "100"
                                },
                                {
                                    "0": "3102275",
                                    "1": "2014-08-18",
                                    "2": "112.00",
                                    "3": "100"
                                },
                                {
                                    "0": "3357068",
                                    "1": "2014-04-22",
                                    "2": "112.00",
                                    "3": "100"
                                },
                                {
                                    "0": "233660",
                                    "1": "2016-05-11",
                                    "2": "112.00",
                                    "3": "100"
                                },
                                {
                                    "0": "918248",
                                    "1": "2013-06-14",
                                    "2": "112.00",
                                    "3": "100"
                                },
                                {
                                    "0": "3464704",
                                    "1": "2015-10-20",
                                    "2": "112.00",
                                    "3": "100"
                                },
                                {
                                    "0": "440565",
                                    "1": "2015-06-06",
                                    "2": "112.00",
                                    "3": "100"
                                },
                                {
                                    "0": "2495887",
                                    "1": "2016-05-02",
                                    "2": "112.00",
                                    "3": "100"
                                },
                                {
                                    "0": "291109",
                                    "1": "2014-11-10",
                                    "2": "112.00",
                                    "3": "100"
                                },
                                {
                                    "0": "2115667",
                                    "1": "2013-07-25",
                                    "2": "112.00",
                                    "3": "100"
                                },
                                {
                                    "0": "1011648",
                                    "1": "2013-06-20",
                                    "2": "112.00",
                                    "3": "100"
                                },
                                {
                                    "0": "1011813",
                                    "1": "2014-02-14",
                                    "2": "112.00",
                                    "3": "100"
                                },
                                {
                                    "0": "918465",
                                    "1": "2013-07-23",
                                    "2": "112.00",
                                    "3": "100"
                                },
                                {
                                    "0": "142702",
                                    "1": "2015-03-16",
                                    "2": "112.00",
                                    "3": "100"
                                },
                                {
                                    "0": "862708",
                                    "1": "2015-07-29",
                                    "2": "112.00",
                                    "3": "100"
                                },
                                {
                                    "0": "2301734",
                                    "1": "2015-11-03",
                                    "2": "112.00",
                                    "3": "100"
                                },
                                {
                                    "0": "3102779",
                                    "1": "2015-08-28",
                                    "2": "112.00",
                                    "3": "100"
                                },
                                {
                                    "0": "182628",
                                    "1": "2015-09-26",
                                    "2": "112.00",
                                    "3": "100"
                                },
                                {
                                    "0": "311391",
                                    "1": "2015-03-03",
                                    "2": "112.00",
                                    "3": "100"
                                },
                                {
                                    "0": "2711887",
                                    "1": "2015-01-13",
                                    "2": "112.00",
                                    "3": "100"
                                },
                                {
                                    "0": "1322349",
                                    "1": "2016-05-02",
                                    "2": "112.00",
                                    "3": "100"
                                },
                                {
                                    "0": "184464",
                                    "1": "2015-10-06",
                                    "2": "112.00",
                                    "3": "100"
                                },
                                {
                                    "0": "1401030",
                                    "1": "2015-08-27",
                                    "2": "112.00",
                                    "3": "100"
                                },
                                {
                                    "0": "2526266",
                                    "1": "2015-09-26",
                                    "2": "112.00",
                                    "3": "100"
                                },
                                {
                                    "0": "867649",
                                    "1": "2016-02-10",
                                    "2": "112.00",
                                    "3": "100"
                                },
                                {
                                    "0": "185281",
                                    "1": "2015-10-09",
                                    "2": "112.00",
                                    "3": "100"
                                },
                                {
                                    "0": "3429722",
                                    "1": "2013-11-11",
                                    "2": "112.00",
                                    "3": "100"
                                },
                                {
                                    "0": "867775",
                                    "1": "2015-12-18",
                                    "2": "112.00",
                                    "3": "100"
                                },
                                {
                                    "0": "590917",
                                    "1": "2016-05-26",
                                    "2": "112.00",
                                    "3": "100"
                                },
                                {
                                    "0": "3665084",
                                    "1": "2016-03-01",
                                    "2": "112.00",
                                    "3": "100"
                                },
                                {
                                    "0": "1329996",
                                    "1": "2013-07-25",
                                    "2": "112.00",
                                    "3": "100"
                                },
                                {
                                    "0": "740082",
                                    "1": "2015-03-07",
                                    "2": "112.00",
                                    "3": "100"
                                },
                                {
                                    "0": "1825246",
                                    "1": "2013-07-25",
                                    "2": "112.00",
                                    "3": "100"
                                },
                                {
                                    "0": "1043007",
                                    "1": "2014-06-19",
                                    "2": "112.00",
                                    "3": "100"
                                },
                                {
                                    "0": "3031218",
                                    "1": "2013-07-23",
                                    "2": "112.00",
                                    "3": "100"
                                },
                                {
                                    "0": "3388111",
                                    "1": "2013-07-25",
                                    "2": "112.00",
                                    "3": "100"
                                },
                                {
                                    "0": "3633108",
                                    "1": "2014-11-10",
                                    "2": "112.00",
                                    "3": "100"
                                },
                                {
                                    "0": "2976997",
                                    "1": "2013-03-11",
                                    "2": "112.00",
                                    "3": "100"
                                },
                                {
                                    "0": "1071278",
                                    "1": "2015-08-28",
                                    "2": "112.00",
                                    "3": "100"
                                },
                                {
                                    "0": "3277597",
                                    "1": "2014-08-20",
                                    "2": "112.00",
                                    "3": "100"
                                },
                                {
                                    "0": "2181115",
                                    "1": "2014-03-12",
                                    "2": "112.00",
                                    "3": "100"
                                },
                                {
                                    "0": "1043431",
                                    "1": "2014-02-28",
                                    "2": "112.00",
                                    "3": "100"
                                },
                                {
                                    "0": "191760",
                                    "1": "2015-11-11",
                                    "2": "112.00",
                                    "3": "100"
                                },
                                {
                                    "0": "3665433",
                                    "1": "2015-03-07",
                                    "2": "112.00",
                                    "3": "100"
                                },
                                {
                                    "0": "1320717",
                                    "1": "2014-07-07",
                                    "2": "112.00",
                                    "3": "100"
                                },
                                {
                                    "0": "3030102",
                                    "1": "2014-09-25",
                                    "2": "112.00",
                                    "3": "100"
                                },
                                {
                                    "0": "1044085",
                                    "1": "2015-03-10",
                                    "2": "112.00",
                                    "3": "100"
                                },
                                {
                                    "0": "2122416",
                                    "1": "2013-09-19",
                                    "2": "112.00",
                                    "3": "100"
                                },
                                {
                                    "0": "2977445",
                                    "1": "2015-02-02",
                                    "2": "112.00",
                                    "3": "100"
                                },
                                {
                                    "0": "1665897",
                                    "1": "2014-12-17",
                                    "2": "112.00",
                                    "3": "100"
                                },
                                {
                                    "0": "28939",
                                    "1": "2013-06-20",
                                    "2": "112.00",
                                    "3": "100"
                                },
                                {
                                    "0": "2122423",
                                    "1": "2013-10-10",
                                    "2": "112.00",
                                    "3": "100"
                                },
                                {
                                    "0": "1310514",
                                    "1": "2014-12-17",
                                    "2": "112.00",
                                    "3": "100"
                                },
                                {
                                    "0": "792567",
                                    "1": "2013-12-23",
                                    "2": "112.00",
                                    "3": "100"
                                },
                                {
                                    "0": "1825857",
                                    "1": "2014-02-18",
                                    "2": "112.00",
                                    "3": "100"
                                },
                                {
                                    "0": "2846340",
                                    "1": "2015-11-11",
                                    "2": "112.00",
                                    "3": "100"
                                },
                                {
                                    "0": "3279411",
                                    "1": "2015-11-03",
                                    "2": "112.00",
                                    "3": "100"
                                },
                                {
                                    "0": "3389443",
                                    "1": "2013-06-03",
                                    "2": "112.00",
                                    "3": "100"
                                },
                                {
                                    "0": "3279663",
                                    "1": "2014-04-22",
                                    "2": "112.00",
                                    "3": "100"
                                },
                                {
                                    "0": "3019724",
                                    "1": "2015-12-09",
                                    "2": "112.00",
                                    "3": "100"
                                },
                                {
                                    "0": "150421",
                                    "1": "2015-04-22",
                                    "2": "112.00",
                                    "3": "100"
                                },
                                {
                                    "0": "1824983",
                                    "1": "2015-08-26",
                                    "2": "112.00",
                                    "3": "100"
                                },
                                {
                                    "0": "2123837",
                                    "1": "2015-07-16",
                                    "2": "112.00",
                                    "3": "100"
                                },
                                {
                                    "0": "753732",
                                    "1": "2013-07-25",
                                    "2": "112.00",
                                    "3": "100"
                                },
                                {
                                    "0": "392751",
                                    "1": "2015-07-29",
                                    "2": "112.00",
                                    "3": "100"
                                },
                                {
                                    "0": "985231",
                                    "1": "2016-02-10",
                                    "2": "112.00",
                                    "3": "100"
                                },
                                {
                                    "0": "2722792",
                                    "1": "2014-09-25",
                                    "2": "112.00",
                                    "3": "100"
                                },
                                {
                                    "0": "3515137",
                                    "1": "2013-04-12",
                                    "2": "112.00",
                                    "3": "100"
                                },
                                {
                                    "0": "58034",
                                    "1": "2013-12-09",
                                    "2": "112.00",
                                    "3": "100"
                                },
                                {
                                    "0": "1393081",
                                    "1": "2015-01-13",
                                    "2": "112.00",
                                    "3": "100"
                                },
                                {
                                    "0": "985666",
                                    "1": "2016-03-01",
                                    "2": "112.00",
                                    "3": "100"
                                },
                                {
                                    "0": "3390875",
                                    "1": "2015-03-19",
                                    "2": "112.00",
                                    "3": "100"
                                },
                                {
                                    "0": "753742",
                                    "1": "2013-09-19",
                                    "2": "112.00",
                                    "3": "100"
                                },
                                {
                                    "0": "753749",
                                    "1": "2013-10-10",
                                    "2": "112.00",
                                    "3": "100"
                                },
                                {
                                    "0": "3017898",
                                    "1": "2014-08-20",
                                    "2": "112.00",
                                    "3": "100"
                                }
                            ]
                        },
                        "text/html": "<table><tr><th>Order Key</th><th>Order Date Key</th><th>Unit Price</th><th>Quantity</th></tr><tr><td>803965</td><td>2015-09-23</td><td>112.00</td><td>100</td></tr><tr><td>3566104</td><td>2015-07-16</td><td>112.00</td><td>100</td></tr><tr><td>1579002</td><td>2013-07-23</td><td>112.00</td><td>100</td></tr><tr><td>999261</td><td>2014-08-18</td><td>112.00</td><td>100</td></tr><tr><td>3264278</td><td>2014-02-28</td><td>112.00</td><td>100</td></tr><tr><td>1521924</td><td>2015-08-26</td><td>112.00</td><td>100</td></tr><tr><td>140937</td><td>2015-03-07</td><td>112.00</td><td>100</td></tr><tr><td>2837173</td><td>2015-02-02</td><td>112.00</td><td>100</td></tr><tr><td>170918</td><td>2015-07-29</td><td>112.00</td><td>100</td></tr><tr><td>2745292</td><td>2015-12-18</td><td>112.00</td><td>100</td></tr><tr><td>831218</td><td>2013-04-16</td><td>112.00</td><td>100</td></tr><tr><td>883578</td><td>2015-07-16</td><td>112.00</td><td>100</td></tr><tr><td>1337665</td><td>2014-05-19</td><td>112.00</td><td>100</td></tr><tr><td>297273</td><td>2015-12-09</td><td>112.00</td><td>100</td></tr><tr><td>72938</td><td>2014-03-05</td><td>112.00</td><td>100</td></tr><tr><td>2505330</td><td>2014-03-05</td><td>112.00</td><td>100</td></tr><tr><td>1536395</td><td>2015-04-22</td><td>112.00</td><td>100</td></tr><tr><td>1447349</td><td>2014-08-18</td><td>112.00</td><td>100</td></tr><tr><td>1447302</td><td>2014-04-11</td><td>112.00</td><td>100</td></tr><tr><td>999236</td><td>2014-04-24</td><td>112.00</td><td>100</td></tr><tr><td>371236</td><td>2015-09-26</td><td>112.00</td><td>100</td></tr><tr><td>3197723</td><td>2014-04-26</td><td>112.00</td><td>100</td></tr><tr><td>1094839</td><td>2014-08-20</td><td>112.00</td><td>100</td></tr><tr><td>27904</td><td>2013-06-14</td><td>112.00</td><td>100</td></tr><tr><td>1905314</td><td>2015-03-20</td><td>112.00</td><td>100</td></tr><tr><td>855574</td><td>2015-08-28</td><td>112.00</td><td>100</td></tr><tr><td>1830159</td><td>2015-03-16</td><td>112.00</td><td>100</td></tr><tr><td>2506456</td><td>2015-07-16</td><td>112.00</td><td>100</td></tr><tr><td>2519161</td><td>2013-12-23</td><td>112.00</td><td>100</td></tr><tr><td>2302981</td><td>2015-09-23</td><td>112.00</td><td>100</td></tr><tr><td>3436772</td><td>2014-01-29</td><td>112.00</td><td>100</td></tr><tr><td>1869380</td><td>2016-05-02</td><td>112.00</td><td>100</td></tr><tr><td>2303411</td><td>2013-04-12</td><td>112.00</td><td>100</td></tr><tr><td>1095046</td><td>2014-04-22</td><td>112.00</td><td>100</td></tr><tr><td>1062677</td><td>2014-12-05</td><td>112.00</td><td>100</td></tr><tr><td>1447061</td><td>2014-04-26</td><td>112.00</td><td>100</td></tr><tr><td>1687346</td><td>2015-07-29</td><td>112.00</td><td>100</td></tr><tr><td>2465190</td><td>2015-07-29</td><td>112.00</td><td>100</td></tr><tr><td>2076857</td><td>2014-03-24</td><td>112.00</td><td>100</td></tr><tr><td>417481</td><td>2013-04-12</td><td>112.00</td><td>100</td></tr><tr><td>3677324</td><td>2013-06-14</td><td>112.00</td><td>100</td></tr><tr><td>3262458</td><td>2015-11-14</td><td>112.00</td><td>100</td></tr><tr><td>2306577</td><td>2013-03-19</td><td>112.00</td><td>100</td></tr><tr><td>2305044</td><td>2013-11-20</td><td>112.00</td><td>100</td></tr><tr><td>1827776</td><td>2014-03-12</td><td>112.00</td><td>100</td></tr><tr><td>3108935</td><td>2015-12-15</td><td>112.00</td><td>100</td></tr><tr><td>2305571</td><td>2013-09-12</td><td>112.00</td><td>100</td></tr><tr><td>1558847</td><td>2014-03-05</td><td>112.00</td><td>100</td></tr><tr><td>3642951</td><td>2014-02-14</td><td>112.00</td><td>100</td></tr><tr><td>1444143</td><td>2013-12-23</td><td>112.00</td><td>100</td></tr><tr><td>1522946</td><td>2013-04-12</td><td>112.00</td><td>100</td></tr><tr><td>641937</td><td>2013-08-23</td><td>112.00</td><td>100</td></tr><tr><td>2302711</td><td>2013-11-11</td><td>112.00</td><td>100</td></tr><tr><td>1621774</td><td>2016-02-20</td><td>112.00</td><td>100</td></tr><tr><td>720131</td><td>2013-06-26</td><td>112.00</td><td>100</td></tr><tr><td>3436966</td><td>2013-11-20</td><td>112.00</td><td>100</td></tr><tr><td>2042282</td><td>2015-09-23</td><td>112.00</td><td>100</td></tr><tr><td>1000561</td><td>2014-01-06</td><td>112.00</td><td>100</td></tr><tr><td>2809785</td><td>2014-12-17</td><td>112.00</td><td>100</td></tr><tr><td>2075497</td><td>2015-12-15</td><td>112.00</td><td>100</td></tr><tr><td>1444700</td><td>2015-08-15</td><td>112.00</td><td>100</td></tr><tr><td>1444712</td><td>2015-08-27</td><td>112.00</td><td>100</td></tr><tr><td>2328401</td><td>2014-03-24</td><td>112.00</td><td>100</td></tr><tr><td>719927</td><td>2013-04-18</td><td>112.00</td><td>100</td></tr><tr><td>2246451</td><td>2015-03-10</td><td>112.00</td><td>100</td></tr><tr><td>3108749</td><td>2014-12-17</td><td>112.00</td><td>100</td></tr><tr><td>396852</td><td>2015-04-15</td><td>112.00</td><td>100</td></tr><tr><td>2303418</td><td>2013-04-18</td><td>112.00</td><td>100</td></tr><tr><td>2075149</td><td>2014-02-14</td><td>112.00</td><td>100</td></tr><tr><td>641950</td><td>2013-08-28</td><td>112.00</td><td>100</td></tr><tr><td>720203</td><td>2015-04-22</td><td>112.00</td><td>100</td></tr><tr><td>1558624</td><td>2015-08-28</td><td>112.00</td><td>100</td></tr><tr><td>1904838</td><td>2015-03-03</td><td>112.00</td><td>100</td></tr><tr><td>284549</td><td>2013-09-19</td><td>112.00</td><td>100</td></tr><tr><td>3456822</td><td>2013-04-19</td><td>112.00</td><td>100</td></tr><tr><td>1000004</td><td>2015-09-05</td><td>112.00</td><td>100</td></tr><tr><td>284556</td><td>2013-10-10</td><td>112.00</td><td>100</td></tr><tr><td>3077604</td><td>2015-09-23</td><td>112.00</td><td>100</td></tr><tr><td>3073197</td><td>2015-03-16</td><td>112.00</td><td>100</td></tr><tr><td>1032238</td><td>2013-12-23</td><td>112.00</td><td>100</td></tr><tr><td>3402166</td><td>2015-03-16</td><td>112.00</td><td>100</td></tr><tr><td>75884</td><td>2014-03-24</td><td>112.00</td><td>100</td></tr><tr><td>826912</td><td>2014-05-19</td><td>112.00</td><td>100</td></tr><tr><td>149079</td><td>2015-04-15</td><td>112.00</td><td>100</td></tr><tr><td>371119</td><td>2013-11-11</td><td>112.00</td><td>100</td></tr><tr><td>3678203</td><td>2015-03-07</td><td>112.00</td><td>100</td></tr><tr><td>1632767</td><td>2016-03-01</td><td>112.00</td><td>100</td></tr><tr><td>720483</td><td>2013-11-11</td><td>112.00</td><td>100</td></tr><tr><td>11024</td><td>2013-03-11</td><td>112.00</td><td>100</td></tr><tr><td>1579661</td><td>2013-05-08</td><td>112.00</td><td>100</td></tr><tr><td>2984951</td><td>2013-03-04</td><td>112.00</td><td>100</td></tr><tr><td>1338336</td><td>2015-11-11</td><td>112.00</td><td>100</td></tr><tr><td>1446337</td><td>2014-01-29</td><td>112.00</td><td>100</td></tr><tr><td>1519419</td><td>2016-02-11</td><td>112.00</td><td>100</td></tr><tr><td>3562718</td><td>2014-12-17</td><td>112.00</td><td>100</td></tr><tr><td>3105501</td><td>2015-03-07</td><td>112.00</td><td>100</td></tr><tr><td>1579658</td><td>2013-05-02</td><td>112.00</td><td>100</td></tr><tr><td>3456084</td><td>2014-08-20</td><td>112.00</td><td>100</td></tr><tr><td>1829208</td><td>2015-02-02</td><td>112.00</td><td>100</td></tr><tr><td>3643819</td><td>2014-11-10</td><td>112.00</td><td>100</td></tr><tr><td>3200506</td><td>2013-03-11</td><td>112.00</td><td>100</td></tr><tr><td>261698</td><td>2013-06-20</td><td>112.00</td><td>100</td></tr><tr><td>3107060</td><td>2015-10-14</td><td>112.00</td><td>100</td></tr><tr><td>266461</td><td>2015-04-17</td><td>112.00</td><td>100</td></tr><tr><td>3643606</td><td>2016-05-26</td><td>112.00</td><td>100</td></tr><tr><td>525809</td><td>2014-04-22</td><td>112.00</td><td>100</td></tr><tr><td>1031174</td><td>2015-03-19</td><td>112.00</td><td>100</td></tr><tr><td>198344</td><td>2015-12-15</td><td>112.00</td><td>100</td></tr><tr><td>2520996</td><td>2014-04-11</td><td>112.00</td><td>100</td></tr><tr><td>1810553</td><td>2013-06-26</td><td>112.00</td><td>100</td></tr><tr><td>320315</td><td>2014-12-05</td><td>112.00</td><td>100</td></tr><tr><td>1359014</td><td>2014-07-07</td><td>112.00</td><td>100</td></tr><tr><td>3695241</td><td>2015-03-16</td><td>112.00</td><td>100</td></tr><tr><td>2633861</td><td>2014-01-24</td><td>112.00</td><td>100</td></tr><tr><td>3106609</td><td>2015-09-08</td><td>112.00</td><td>100</td></tr><tr><td>3106527</td><td>2014-12-17</td><td>112.00</td><td>100</td></tr><tr><td>287450</td><td>2016-01-04</td><td>112.00</td><td>100</td></tr><tr><td>3106258</td><td>2013-12-23</td><td>112.00</td><td>100</td></tr><tr><td>2042086</td><td>2013-07-20</td><td>112.00</td><td>100</td></tr><tr><td>732215</td><td>2015-02-25</td><td>112.00</td><td>100</td></tr><tr><td>1535931</td><td>2013-06-26</td><td>112.00</td><td>100</td></tr><tr><td>1536686</td><td>2015-05-21</td><td>112.00</td><td>100</td></tr><tr><td>3073641</td><td>2014-03-24</td><td>112.00</td><td>100</td></tr><tr><td>3489492</td><td>2014-11-13</td><td>112.00</td><td>100</td></tr><tr><td>3197383</td><td>2015-07-18</td><td>112.00</td><td>100</td></tr><tr><td>2241935</td><td>2014-05-19</td><td>112.00</td><td>100</td></tr><tr><td>1689320</td><td>2015-09-23</td><td>112.00</td><td>100</td></tr><tr><td>732449</td><td>2015-07-10</td><td>112.00</td><td>100</td></tr><tr><td>3079353</td><td>2015-09-23</td><td>112.00</td><td>100</td></tr><tr><td>3011353</td><td>2014-03-12</td><td>112.00</td><td>100</td></tr><tr><td>1363256</td><td>2015-10-14</td><td>112.00</td><td>100</td></tr><tr><td>3105964</td><td>2015-08-12</td><td>112.00</td><td>100</td></tr><tr><td>1903779</td><td>2015-04-15</td><td>112.00</td><td>100</td></tr><tr><td>35147</td><td>2013-07-23</td><td>112.00</td><td>100</td></tr><tr><td>2633486</td><td>2015-11-14</td><td>112.00</td><td>100</td></tr><tr><td>3643413</td><td>2014-02-28</td><td>112.00</td><td>100</td></tr><tr><td>2543457</td><td>2014-07-07</td><td>112.00</td><td>100</td></tr><tr><td>3620634</td><td>2013-11-06</td><td>112.00</td><td>100</td></tr><tr><td>752933</td><td>2015-09-05</td><td>112.00</td><td>100</td></tr><tr><td>2503838</td><td>2015-03-20</td><td>112.00</td><td>100</td></tr><tr><td>2304415</td><td>2015-12-09</td><td>112.00</td><td>100</td></tr><tr><td>3463676</td><td>2015-10-20</td><td>112.00</td><td>100</td></tr><tr><td>2982816</td><td>2014-02-26</td><td>112.00</td><td>100</td></tr><tr><td>3188140</td><td>2015-12-18</td><td>112.00</td><td>100</td></tr><tr><td>3012213</td><td>2016-02-11</td><td>112.00</td><td>100</td></tr><tr><td>834650</td><td>2015-11-16</td><td>112.00</td><td>100</td></tr><tr><td>3565841</td><td>2014-02-26</td><td>112.00</td><td>100</td></tr><tr><td>1622471</td><td>2016-05-02</td><td>112.00</td><td>100</td></tr><tr><td>1631335</td><td>2014-04-22</td><td>112.00</td><td>100</td></tr><tr><td>1446738</td><td>2014-08-20</td><td>112.00</td><td>100</td></tr><tr><td>417488</td><td>2013-04-18</td><td>112.00</td><td>100</td></tr><tr><td>3463718</td><td>2015-08-27</td><td>112.00</td><td>100</td></tr><tr><td>3456820</td><td>2013-04-19</td><td>112.00</td><td>100</td></tr><tr><td>854395</td><td>2015-05-29</td><td>112.00</td><td>100</td></tr><tr><td>25555</td><td>2013-06-03</td><td>112.00</td><td>100</td></tr><tr><td>395659</td><td>2013-11-06</td><td>112.00</td><td>100</td></tr><tr><td>3224735</td><td>2015-09-05</td><td>112.00</td><td>100</td></tr><tr><td>2961404</td><td>2015-02-25</td><td>112.00</td><td>100</td></tr><tr><td>390542</td><td>2013-06-03</td><td>112.00</td><td>100</td></tr><tr><td>1784416</td><td>2016-01-04</td><td>112.00</td><td>100</td></tr><tr><td>2012606</td><td>2015-04-17</td><td>112.00</td><td>100</td></tr><tr><td>1476688</td><td>2015-03-10</td><td>112.00</td><td>100</td></tr><tr><td>1456768</td><td>2013-11-11</td><td>112.00</td><td>100</td></tr><tr><td>1545315</td><td>2015-08-12</td><td>112.00</td><td>100</td></tr><tr><td>2966472</td><td>2015-07-10</td><td>112.00</td><td>100</td></tr><tr><td>2205484</td><td>2014-04-26</td><td>112.00</td><td>100</td></tr><tr><td>863628</td><td>2014-01-24</td><td>112.00</td><td>100</td></tr><tr><td>9549</td><td>2013-03-04</td><td>112.00</td><td>100</td></tr><tr><td>3201268</td><td>2015-01-26</td><td>112.00</td><td>100</td></tr><tr><td>575666</td><td>2015-08-10</td><td>112.00</td><td>100</td></tr><tr><td>1624680</td><td>2014-05-19</td><td>112.00</td><td>100</td></tr><tr><td>1592244</td><td>2015-09-05</td><td>112.00</td><td>100</td></tr><tr><td>1311683</td><td>2014-03-05</td><td>112.00</td><td>100</td></tr><tr><td>411014</td><td>2015-07-16</td><td>112.00</td><td>100</td></tr><tr><td>1457622</td><td>2013-03-19</td><td>112.00</td><td>100</td></tr><tr><td>2864698</td><td>2013-03-04</td><td>112.00</td><td>100</td></tr><tr><td>1477024</td><td>2015-11-14</td><td>112.00</td><td>100</td></tr><tr><td>1545714</td><td>2015-10-20</td><td>112.00</td><td>100</td></tr><tr><td>1483188</td><td>2015-10-14</td><td>112.00</td><td>100</td></tr><tr><td>17861</td><td>2013-04-19</td><td>112.00</td><td>100</td></tr><tr><td>2376042</td><td>2015-03-16</td><td>112.00</td><td>100</td></tr><tr><td>17717</td><td>2013-04-19</td><td>112.00</td><td>100</td></tr><tr><td>19893</td><td>2013-05-02</td><td>112.00</td><td>100</td></tr><tr><td>1477058</td><td>2015-05-26</td><td>112.00</td><td>100</td></tr><tr><td>2393870</td><td>2016-05-02</td><td>112.00</td><td>100</td></tr><tr><td>2533925</td><td>2015-10-09</td><td>112.00</td><td>100</td></tr><tr><td>21244</td><td>2013-05-08</td><td>112.00</td><td>100</td></tr><tr><td>2533919</td><td>2015-10-06</td><td>112.00</td><td>100</td></tr><tr><td>1326484</td><td>2015-03-16</td><td>112.00</td><td>100</td></tr><tr><td>3699294</td><td>2015-08-12</td><td>112.00</td><td>100</td></tr><tr><td>2205230</td><td>2015-08-12</td><td>112.00</td><td>100</td></tr><tr><td>3474170</td><td>2015-07-29</td><td>112.00</td><td>100</td></tr><tr><td>2013592</td><td>2015-05-21</td><td>112.00</td><td>100</td></tr><tr><td>1453498</td><td>2015-12-15</td><td>112.00</td><td>100</td></tr><tr><td>1262309</td><td>2013-08-28</td><td>112.00</td><td>100</td></tr><tr><td>2915427</td><td>2013-03-11</td><td>112.00</td><td>100</td></tr><tr><td>1308198</td><td>2013-11-06</td><td>112.00</td><td>100</td></tr><tr><td>3380953</td><td>2015-08-28</td><td>112.00</td><td>100</td></tr><tr><td>1453636</td><td>2015-06-06</td><td>112.00</td><td>100</td></tr><tr><td>283359</td><td>2015-08-10</td><td>112.00</td><td>100</td></tr><tr><td>3659525</td><td>2015-12-15</td><td>112.00</td><td>100</td></tr><tr><td>2534090</td><td>2014-01-06</td><td>112.00</td><td>100</td></tr><tr><td>2406943</td><td>2016-05-26</td><td>112.00</td><td>100</td></tr><tr><td>1482324</td><td>2015-11-14</td><td>112.00</td><td>100</td></tr><tr><td>1163857</td><td>2015-03-19</td><td>112.00</td><td>100</td></tr><tr><td>2590121</td><td>2014-12-10</td><td>112.00</td><td>100</td></tr><tr><td>474192</td><td>2016-05-11</td><td>112.00</td><td>100</td></tr><tr><td>1482866</td><td>2013-07-20</td><td>112.00</td><td>100</td></tr><tr><td>2127975</td><td>2014-03-12</td><td>112.00</td><td>100</td></tr><tr><td>2128027</td><td>2014-02-18</td><td>112.00</td><td>100</td></tr><tr><td>3405254</td><td>2013-11-06</td><td>112.00</td><td>100</td></tr><tr><td>1545059</td><td>2016-01-04</td><td>112.00</td><td>100</td></tr><tr><td>2534009</td><td>2014-04-26</td><td>112.00</td><td>100</td></tr><tr><td>1876656</td><td>2013-07-20</td><td>112.00</td><td>100</td></tr><tr><td>2279107</td><td>2015-04-17</td><td>112.00</td><td>100</td></tr><tr><td>1219472</td><td>2014-11-13</td><td>112.00</td><td>100</td></tr><tr><td>3224323</td><td>2013-06-26</td><td>112.00</td><td>100</td></tr><tr><td>1786700</td><td>2015-07-16</td><td>112.00</td><td>100</td></tr><tr><td>3004245</td><td>2014-01-24</td><td>112.00</td><td>100</td></tr><tr><td>836955</td><td>2015-05-21</td><td>112.00</td><td>100</td></tr><tr><td>3222172</td><td>2016-02-11</td><td>112.00</td><td>100</td></tr><tr><td>1569315</td><td>2015-07-10</td><td>112.00</td><td>100</td></tr><tr><td>3404515</td><td>2015-10-09</td><td>112.00</td><td>100</td></tr><tr><td>3221612</td><td>2015-12-09</td><td>112.00</td><td>100</td></tr><tr><td>3542939</td><td>2014-03-12</td><td>112.00</td><td>100</td></tr><tr><td>3404449</td><td>2015-10-06</td><td>112.00</td><td>100</td></tr><tr><td>369874</td><td>2015-07-18</td><td>112.00</td><td>100</td></tr><tr><td>1177368</td><td>2014-06-19</td><td>112.00</td><td>100</td></tr><tr><td>1812835</td><td>2015-08-27</td><td>112.00</td><td>100</td></tr><tr><td>1812794</td><td>2015-08-15</td><td>112.00</td><td>100</td></tr><tr><td>3273967</td><td>2016-01-04</td><td>112.00</td><td>100</td></tr><tr><td>1133349</td><td>2015-09-23</td><td>112.00</td><td>100</td></tr><tr><td>311730</td><td>2014-08-20</td><td>112.00</td><td>100</td></tr><tr><td>311692</td><td>2014-01-29</td><td>112.00</td><td>100</td></tr><tr><td>1784868</td><td>2013-04-16</td><td>112.00</td><td>100</td></tr><tr><td>1417477</td><td>2014-06-19</td><td>112.00</td><td>100</td></tr><tr><td>1512304</td><td>2013-11-11</td><td>112.00</td><td>100</td></tr><tr><td>3583279</td><td>2015-05-29</td><td>112.00</td><td>100</td></tr><tr><td>2724876</td><td>2013-08-23</td><td>112.00</td><td>100</td></tr><tr><td>2185225</td><td>2013-04-19</td><td>112.00</td><td>100</td></tr><tr><td>2897795</td><td>2015-08-22</td><td>112.00</td><td>100</td></tr><tr><td>2724889</td><td>2013-08-28</td><td>112.00</td><td>100</td></tr><tr><td>2185227</td><td>2013-04-19</td><td>112.00</td><td>100</td></tr><tr><td>742255</td><td>2014-02-26</td><td>112.00</td><td>100</td></tr><tr><td>2897784</td><td>2015-08-20</td><td>112.00</td><td>100</td></tr><tr><td>1513499</td><td>2013-06-20</td><td>112.00</td><td>100</td></tr><tr><td>2281850</td><td>2013-09-19</td><td>112.00</td><td>100</td></tr><tr><td>859098</td><td>2015-12-09</td><td>112.00</td><td>100</td></tr><tr><td>3554403</td><td>2015-12-15</td><td>112.00</td><td>100</td></tr><tr><td>661186</td><td>2016-02-11</td><td>112.00</td><td>100</td></tr><tr><td>2896790</td><td>2016-02-20</td><td>112.00</td><td>100</td></tr><tr><td>2281713</td><td>2013-10-10</td><td>112.00</td><td>100</td></tr><tr><td>3545695</td><td>2015-12-15</td><td>112.00</td><td>100</td></tr><tr><td>3115977</td><td>2015-10-06</td><td>112.00</td><td>100</td></tr><tr><td>759333</td><td>2013-04-16</td><td>112.00</td><td>100</td></tr><tr><td>3085889</td><td>2013-11-20</td><td>112.00</td><td>100</td></tr><tr><td>3181227</td><td>2014-04-22</td><td>112.00</td><td>100</td></tr><tr><td>2183489</td><td>2014-04-24</td><td>112.00</td><td>100</td></tr><tr><td>894950</td><td>2015-07-18</td><td>112.00</td><td>100</td></tr><tr><td>2281706</td><td>2013-09-19</td><td>112.00</td><td>100</td></tr><tr><td>2403283</td><td>2015-10-14</td><td>112.00</td><td>100</td></tr><tr><td>1134468</td><td>2015-08-28</td><td>112.00</td><td>100</td></tr><tr><td>3204140</td><td>2014-08-02</td><td>112.00</td><td>100</td></tr><tr><td>493967</td><td>2013-08-23</td><td>112.00</td><td>100</td></tr><tr><td>3116257</td><td>2015-10-09</td><td>112.00</td><td>100</td></tr><tr><td>1220430</td><td>2015-11-27</td><td>112.00</td><td>100</td></tr><tr><td>2131543</td><td>2014-03-05</td><td>112.00</td><td>100</td></tr><tr><td>2013298</td><td>2014-03-05</td><td>112.00</td><td>100</td></tr><tr><td>866195</td><td>2014-03-12</td><td>112.00</td><td>100</td></tr><tr><td>1530047</td><td>2013-04-18</td><td>112.00</td><td>100</td></tr><tr><td>493980</td><td>2013-08-28</td><td>112.00</td><td>100</td></tr><tr><td>899467</td><td>2013-02-11</td><td>112.00</td><td>100</td></tr><tr><td>3474984</td><td>2014-12-10</td><td>112.00</td><td>100</td></tr><tr><td>3475403</td><td>2015-09-08</td><td>112.00</td><td>100</td></tr><tr><td>2404790</td><td>2013-07-20</td><td>112.00</td><td>100</td></tr><tr><td>823805</td><td>2014-04-11</td><td>112.00</td><td>100</td></tr><tr><td>2373876</td><td>2014-04-26</td><td>112.00</td><td>100</td></tr><tr><td>1219828</td><td>2015-01-26</td><td>112.00</td><td>100</td></tr><tr><td>66682</td><td>2014-01-29</td><td>112.00</td><td>100</td></tr><tr><td>2591255</td><td>2015-05-29</td><td>112.00</td><td>100</td></tr><tr><td>195095</td><td>2015-11-27</td><td>112.00</td><td>100</td></tr><tr><td>2565599</td><td>2015-05-26</td><td>112.00</td><td>100</td></tr><tr><td>1484351</td><td>2015-08-22</td><td>112.00</td><td>100</td></tr><tr><td>1134065</td><td>2015-04-15</td><td>112.00</td><td>100</td></tr><tr><td>3272039</td><td>2015-08-15</td><td>112.00</td><td>100</td></tr><tr><td>1668138</td><td>2015-07-10</td><td>112.00</td><td>100</td></tr><tr><td>3555471</td><td>2015-06-06</td><td>112.00</td><td>100</td></tr><tr><td>3272408</td><td>2015-11-27</td><td>112.00</td><td>100</td></tr><tr><td>1484340</td><td>2015-08-20</td><td>112.00</td><td>100</td></tr><tr><td>2281543</td><td>2013-07-25</td><td>112.00</td><td>100</td></tr><tr><td>3476106</td><td>2015-03-19</td><td>112.00</td><td>100</td></tr><tr><td>865076</td><td>2014-12-17</td><td>112.00</td><td>100</td></tr><tr><td>2184769</td><td>2013-03-04</td><td>112.00</td><td>100</td></tr><tr><td>1953770</td><td>2014-08-18</td><td>112.00</td><td>100</td></tr><tr><td>1394159</td><td>2015-01-14</td><td>112.00</td><td>100</td></tr><tr><td>2130909</td><td>2014-04-22</td><td>112.00</td><td>100</td></tr><tr><td>3553054</td><td>2013-11-11</td><td>112.00</td><td>100</td></tr><tr><td>1395241</td><td>2015-11-03</td><td>112.00</td><td>100</td></tr><tr><td>3272202</td><td>2015-08-27</td><td>112.00</td><td>100</td></tr><tr><td>3553063</td><td>2013-11-20</td><td>112.00</td><td>100</td></tr><tr><td>1454462</td><td>2015-11-16</td><td>112.00</td><td>100</td></tr><tr><td>3481526</td><td>2013-03-04</td><td>112.00</td><td>100</td></tr><tr><td>2565965</td><td>2015-11-03</td><td>112.00</td><td>100</td></tr><tr><td>3585775</td><td>2013-07-25</td><td>112.00</td><td>100</td></tr><tr><td>428443</td><td>2015-03-10</td><td>112.00</td><td>100</td></tr><tr><td>344691</td><td>2014-03-12</td><td>112.00</td><td>100</td></tr><tr><td>513161</td><td>2015-03-19</td><td>112.00</td><td>100</td></tr><tr><td>2549512</td><td>2014-08-02</td><td>112.00</td><td>100</td></tr><tr><td>3105017</td><td>2015-04-15</td><td>112.00</td><td>100</td></tr><tr><td>1486184</td><td>2013-06-14</td><td>112.00</td><td>100</td></tr><tr><td>1917182</td><td>2015-08-26</td><td>112.00</td><td>100</td></tr><tr><td>308713</td><td>2014-08-18</td><td>112.00</td><td>100</td></tr><tr><td>288476</td><td>2014-08-02</td><td>112.00</td><td>100</td></tr><tr><td>2523546</td><td>2014-07-04</td><td>112.00</td><td>100</td></tr><tr><td>1331634</td><td>2015-12-09</td><td>112.00</td><td>100</td></tr><tr><td>3104547</td><td>2014-03-05</td><td>112.00</td><td>100</td></tr><tr><td>380505</td><td>2015-04-22</td><td>112.00</td><td>100</td></tr><tr><td>2552206</td><td>2015-09-05</td><td>112.00</td><td>100</td></tr><tr><td>512547</td><td>2016-02-20</td><td>112.00</td><td>100</td></tr><tr><td>3641890</td><td>2015-01-26</td><td>112.00</td><td>100</td></tr><tr><td>2472501</td><td>2015-03-16</td><td>112.00</td><td>100</td></tr><tr><td>1916742</td><td>2015-01-26</td><td>112.00</td><td>100</td></tr><tr><td>2472138</td><td>2016-05-26</td><td>112.00</td><td>100</td></tr><tr><td>1916196</td><td>2016-05-26</td><td>112.00</td><td>100</td></tr><tr><td>2249717</td><td>2015-04-17</td><td>112.00</td><td>100</td></tr><tr><td>796165</td><td>2015-08-12</td><td>112.00</td><td>100</td></tr><tr><td>2311675</td><td>2014-12-05</td><td>112.00</td><td>100</td></tr><tr><td>2496748</td><td>2013-11-20</td><td>112.00</td><td>100</td></tr><tr><td>380271</td><td>2015-11-16</td><td>112.00</td><td>100</td></tr><tr><td>879639</td><td>2015-04-15</td><td>112.00</td><td>100</td></tr><tr><td>3104038</td><td>2015-06-06</td><td>112.00</td><td>100</td></tr><tr><td>2525861</td><td>2014-10-06</td><td>112.00</td><td>100</td></tr><tr><td>2220394</td><td>2015-10-14</td><td>112.00</td><td>100</td></tr><tr><td>1262082</td><td>2013-08-23</td><td>112.00</td><td>100</td></tr><tr><td>1916075</td><td>2015-08-10</td><td>112.00</td><td>100</td></tr><tr><td>3618375</td><td>2014-04-24</td><td>112.00</td><td>100</td></tr><tr><td>2510997</td><td>2016-05-02</td><td>112.00</td><td>100</td></tr><tr><td>1395776</td><td>2015-03-16</td><td>112.00</td><td>100</td></tr><tr><td>1479725</td><td>2013-06-03</td><td>112.00</td><td>100</td></tr><tr><td>1515312</td><td>2014-04-24</td><td>112.00</td><td>100</td></tr><tr><td>2548618</td><td>2013-11-06</td><td>112.00</td><td>100</td></tr><tr><td>398144</td><td>2015-03-07</td><td>112.00</td><td>100</td></tr><tr><td>2247349</td><td>2014-12-05</td><td>112.00</td><td>100</td></tr><tr><td>80891</td><td>2014-04-22</td><td>112.00</td><td>100</td></tr><tr><td>3616602</td><td>2013-10-10</td><td>112.00</td><td>100</td></tr><tr><td>759879</td><td>2013-02-11</td><td>112.00</td><td>100</td></tr><tr><td>1009724</td><td>2013-02-11</td><td>112.00</td><td>100</td></tr><tr><td>1600702</td><td>2013-04-16</td><td>112.00</td><td>100</td></tr><tr><td>541040</td><td>2014-04-26</td><td>112.00</td><td>100</td></tr><tr><td>293467</td><td>2014-04-26</td><td>112.00</td><td>100</td></tr><tr><td>2249080</td><td>2014-08-02</td><td>112.00</td><td>100</td></tr><tr><td>3427939</td><td>2013-03-19</td><td>112.00</td><td>100</td></tr><tr><td>802231</td><td>2015-08-22</td><td>112.00</td><td>100</td></tr><tr><td>3065953</td><td>2015-12-18</td><td>112.00</td><td>100</td></tr><tr><td>2298675</td><td>2013-06-26</td><td>112.00</td><td>100</td></tr><tr><td>1396345</td><td>2015-07-18</td><td>112.00</td><td>100</td></tr><tr><td>1956982</td><td>2014-01-29</td><td>112.00</td><td>100</td></tr><tr><td>969380</td><td>2015-04-22</td><td>112.00</td><td>100</td></tr><tr><td>1982514</td><td>2015-12-18</td><td>112.00</td><td>100</td></tr><tr><td>809705</td><td>2016-01-04</td><td>112.00</td><td>100</td></tr><tr><td>2524449</td><td>2013-03-11</td><td>112.00</td><td>100</td></tr><tr><td>3154751</td><td>2015-03-19</td><td>112.00</td><td>100</td></tr><tr><td>3450356</td><td>2013-05-08</td><td>112.00</td><td>100</td></tr><tr><td>2550706</td><td>2015-11-16</td><td>112.00</td><td>100</td></tr><tr><td>3450353</td><td>2013-05-02</td><td>112.00</td><td>100</td></tr><tr><td>969301</td><td>2016-01-04</td><td>112.00</td><td>100</td></tr><tr><td>3450343</td><td>2014-01-29</td><td>112.00</td><td>100</td></tr><tr><td>2299049</td><td>2015-04-22</td><td>112.00</td><td>100</td></tr><tr><td>3612812</td><td>2015-03-20</td><td>112.00</td><td>100</td></tr><tr><td>442951</td><td>2015-12-15</td><td>112.00</td><td>100</td></tr><tr><td>3155417</td><td>2015-07-18</td><td>112.00</td><td>100</td></tr><tr><td>1487362</td><td>2015-10-20</td><td>112.00</td><td>100</td></tr><tr><td>3066561</td><td>2014-02-26</td><td>112.00</td><td>100</td></tr><tr><td>395429</td><td>2015-12-18</td><td>112.00</td><td>100</td></tr><tr><td>717350</td><td>2013-12-09</td><td>112.00</td><td>100</td></tr><tr><td>2299357</td><td>2015-12-18</td><td>112.00</td><td>100</td></tr><tr><td>1514505</td><td>2015-08-20</td><td>112.00</td><td>100</td></tr><tr><td>1514516</td><td>2015-08-22</td><td>112.00</td><td>100</td></tr><tr><td>3144485</td><td>2014-02-26</td><td>112.00</td><td>100</td></tr><tr><td>3612246</td><td>2015-03-03</td><td>112.00</td><td>100</td></tr><tr><td>1486722</td><td>2015-01-14</td><td>112.00</td><td>100</td></tr><tr><td>1486575</td><td>2014-02-14</td><td>112.00</td><td>100</td></tr><tr><td>3527620</td><td>2014-04-22</td><td>112.00</td><td>100</td></tr><tr><td>1846919</td><td>2014-04-24</td><td>112.00</td><td>100</td></tr><tr><td>945175</td><td>2016-05-11</td><td>112.00</td><td>100</td></tr><tr><td>969164</td><td>2016-01-04</td><td>112.00</td><td>100</td></tr><tr><td>1279696</td><td>2014-09-25</td><td>112.00</td><td>100</td></tr><tr><td>2603133</td><td>2015-08-28</td><td>112.00</td><td>100</td></tr><tr><td>900192</td><td>2013-11-11</td><td>112.00</td><td>100</td></tr><tr><td>1486316</td><td>2016-01-04</td><td>112.00</td><td>100</td></tr><tr><td>3009850</td><td>2014-12-10</td><td>112.00</td><td>100</td></tr><tr><td>2175802</td><td>2016-05-11</td><td>112.00</td><td>100</td></tr><tr><td>1202730</td><td>2015-07-16</td><td>112.00</td><td>100</td></tr><tr><td>2986381</td><td>2015-08-10</td><td>112.00</td><td>100</td></tr><tr><td>2218026</td><td>2015-09-08</td><td>112.00</td><td>100</td></tr><tr><td>3430529</td><td>2015-02-25</td><td>112.00</td><td>100</td></tr><tr><td>2494513</td><td>2015-08-22</td><td>112.00</td><td>100</td></tr><tr><td>2989017</td><td>2015-08-26</td><td>112.00</td><td>100</td></tr><tr><td>1328286</td><td>2014-09-12</td><td>112.00</td><td>100</td></tr><tr><td>1459069</td><td>2014-03-05</td><td>112.00</td><td>100</td></tr><tr><td>3092091</td><td>2014-08-02</td><td>112.00</td><td>100</td></tr><tr><td>2807034</td><td>2015-12-09</td><td>112.00</td><td>100</td></tr><tr><td>918950</td><td>2014-11-10</td><td>112.00</td><td>100</td></tr><tr><td>498395</td><td>2013-06-20</td><td>112.00</td><td>100</td></tr><tr><td>3332155</td><td>2015-10-14</td><td>112.00</td><td>100</td></tr><tr><td>3092303</td><td>2015-05-21</td><td>112.00</td><td>100</td></tr><tr><td>498799</td><td>2014-09-25</td><td>112.00</td><td>100</td></tr><tr><td>1459786</td><td>2014-08-02</td><td>112.00</td><td>100</td></tr><tr><td>3092447</td><td>2015-03-16</td><td>112.00</td><td>100</td></tr><tr><td>2494900</td><td>2015-08-26</td><td>112.00</td><td>100</td></tr><tr><td>3101547</td><td>2015-09-26</td><td>112.00</td><td>100</td></tr><tr><td>1460157</td><td>2015-09-26</td><td>112.00</td><td>100</td></tr><tr><td>1322676</td><td>2015-06-06</td><td>112.00</td><td>100</td></tr><tr><td>496393</td><td>2015-11-11</td><td>112.00</td><td>100</td></tr><tr><td>1881766</td><td>2015-11-11</td><td>112.00</td><td>100</td></tr><tr><td>609494</td><td>2016-02-20</td><td>112.00</td><td>100</td></tr><tr><td>2235046</td><td>2015-03-03</td><td>112.00</td><td>100</td></tr><tr><td>2250333</td><td>2014-12-10</td><td>112.00</td><td>100</td></tr><tr><td>2469529</td><td>2013-02-11</td><td>112.00</td><td>100</td></tr><tr><td>1480394</td><td>2015-01-13</td><td>112.00</td><td>100</td></tr><tr><td>2986750</td><td>2013-03-11</td><td>112.00</td><td>100</td></tr><tr><td>2067658</td><td>2015-05-21</td><td>112.00</td><td>100</td></tr><tr><td>595172</td><td>2014-09-12</td><td>112.00</td><td>100</td></tr><tr><td>2469198</td><td>2014-01-06</td><td>112.00</td><td>100</td></tr><tr><td>2493456</td><td>2015-08-10</td><td>112.00</td><td>100</td></tr><tr><td>2987088</td><td>2015-09-26</td><td>112.00</td><td>100</td></tr><tr><td>3102275</td><td>2014-08-18</td><td>112.00</td><td>100</td></tr><tr><td>3357068</td><td>2014-04-22</td><td>112.00</td><td>100</td></tr><tr><td>233660</td><td>2016-05-11</td><td>112.00</td><td>100</td></tr><tr><td>918248</td><td>2013-06-14</td><td>112.00</td><td>100</td></tr><tr><td>3464704</td><td>2015-10-20</td><td>112.00</td><td>100</td></tr><tr><td>440565</td><td>2015-06-06</td><td>112.00</td><td>100</td></tr><tr><td>2495887</td><td>2016-05-02</td><td>112.00</td><td>100</td></tr><tr><td>291109</td><td>2014-11-10</td><td>112.00</td><td>100</td></tr><tr><td>2115667</td><td>2013-07-25</td><td>112.00</td><td>100</td></tr><tr><td>1011648</td><td>2013-06-20</td><td>112.00</td><td>100</td></tr><tr><td>1011813</td><td>2014-02-14</td><td>112.00</td><td>100</td></tr><tr><td>918465</td><td>2013-07-23</td><td>112.00</td><td>100</td></tr><tr><td>142702</td><td>2015-03-16</td><td>112.00</td><td>100</td></tr><tr><td>862708</td><td>2015-07-29</td><td>112.00</td><td>100</td></tr><tr><td>2301734</td><td>2015-11-03</td><td>112.00</td><td>100</td></tr><tr><td>3102779</td><td>2015-08-28</td><td>112.00</td><td>100</td></tr><tr><td>182628</td><td>2015-09-26</td><td>112.00</td><td>100</td></tr><tr><td>311391</td><td>2015-03-03</td><td>112.00</td><td>100</td></tr><tr><td>2711887</td><td>2015-01-13</td><td>112.00</td><td>100</td></tr><tr><td>1322349</td><td>2016-05-02</td><td>112.00</td><td>100</td></tr><tr><td>184464</td><td>2015-10-06</td><td>112.00</td><td>100</td></tr><tr><td>1401030</td><td>2015-08-27</td><td>112.00</td><td>100</td></tr><tr><td>2526266</td><td>2015-09-26</td><td>112.00</td><td>100</td></tr><tr><td>867649</td><td>2016-02-10</td><td>112.00</td><td>100</td></tr><tr><td>185281</td><td>2015-10-09</td><td>112.00</td><td>100</td></tr><tr><td>3429722</td><td>2013-11-11</td><td>112.00</td><td>100</td></tr><tr><td>867775</td><td>2015-12-18</td><td>112.00</td><td>100</td></tr><tr><td>590917</td><td>2016-05-26</td><td>112.00</td><td>100</td></tr><tr><td>3665084</td><td>2016-03-01</td><td>112.00</td><td>100</td></tr><tr><td>1329996</td><td>2013-07-25</td><td>112.00</td><td>100</td></tr><tr><td>740082</td><td>2015-03-07</td><td>112.00</td><td>100</td></tr><tr><td>1825246</td><td>2013-07-25</td><td>112.00</td><td>100</td></tr><tr><td>1043007</td><td>2014-06-19</td><td>112.00</td><td>100</td></tr><tr><td>3031218</td><td>2013-07-23</td><td>112.00</td><td>100</td></tr><tr><td>3388111</td><td>2013-07-25</td><td>112.00</td><td>100</td></tr><tr><td>3633108</td><td>2014-11-10</td><td>112.00</td><td>100</td></tr><tr><td>2976997</td><td>2013-03-11</td><td>112.00</td><td>100</td></tr><tr><td>1071278</td><td>2015-08-28</td><td>112.00</td><td>100</td></tr><tr><td>3277597</td><td>2014-08-20</td><td>112.00</td><td>100</td></tr><tr><td>2181115</td><td>2014-03-12</td><td>112.00</td><td>100</td></tr><tr><td>1043431</td><td>2014-02-28</td><td>112.00</td><td>100</td></tr><tr><td>191760</td><td>2015-11-11</td><td>112.00</td><td>100</td></tr><tr><td>3665433</td><td>2015-03-07</td><td>112.00</td><td>100</td></tr><tr><td>1320717</td><td>2014-07-07</td><td>112.00</td><td>100</td></tr><tr><td>3030102</td><td>2014-09-25</td><td>112.00</td><td>100</td></tr><tr><td>1044085</td><td>2015-03-10</td><td>112.00</td><td>100</td></tr><tr><td>2122416</td><td>2013-09-19</td><td>112.00</td><td>100</td></tr><tr><td>2977445</td><td>2015-02-02</td><td>112.00</td><td>100</td></tr><tr><td>1665897</td><td>2014-12-17</td><td>112.00</td><td>100</td></tr><tr><td>28939</td><td>2013-06-20</td><td>112.00</td><td>100</td></tr><tr><td>2122423</td><td>2013-10-10</td><td>112.00</td><td>100</td></tr><tr><td>1310514</td><td>2014-12-17</td><td>112.00</td><td>100</td></tr><tr><td>792567</td><td>2013-12-23</td><td>112.00</td><td>100</td></tr><tr><td>1825857</td><td>2014-02-18</td><td>112.00</td><td>100</td></tr><tr><td>2846340</td><td>2015-11-11</td><td>112.00</td><td>100</td></tr><tr><td>3279411</td><td>2015-11-03</td><td>112.00</td><td>100</td></tr><tr><td>3389443</td><td>2013-06-03</td><td>112.00</td><td>100</td></tr><tr><td>3279663</td><td>2014-04-22</td><td>112.00</td><td>100</td></tr><tr><td>3019724</td><td>2015-12-09</td><td>112.00</td><td>100</td></tr><tr><td>150421</td><td>2015-04-22</td><td>112.00</td><td>100</td></tr><tr><td>1824983</td><td>2015-08-26</td><td>112.00</td><td>100</td></tr><tr><td>2123837</td><td>2015-07-16</td><td>112.00</td><td>100</td></tr><tr><td>753732</td><td>2013-07-25</td><td>112.00</td><td>100</td></tr><tr><td>392751</td><td>2015-07-29</td><td>112.00</td><td>100</td></tr><tr><td>985231</td><td>2016-02-10</td><td>112.00</td><td>100</td></tr><tr><td>2722792</td><td>2014-09-25</td><td>112.00</td><td>100</td></tr><tr><td>3515137</td><td>2013-04-12</td><td>112.00</td><td>100</td></tr><tr><td>58034</td><td>2013-12-09</td><td>112.00</td><td>100</td></tr><tr><td>1393081</td><td>2015-01-13</td><td>112.00</td><td>100</td></tr><tr><td>985666</td><td>2016-03-01</td><td>112.00</td><td>100</td></tr><tr><td>3390875</td><td>2015-03-19</td><td>112.00</td><td>100</td></tr><tr><td>753742</td><td>2013-09-19</td><td>112.00</td><td>100</td></tr><tr><td>753749</td><td>2013-10-10</td><td>112.00</td><td>100</td></tr><tr><td>3017898</td><td>2014-08-20</td><td>112.00</td><td>100</td></tr></table>"
                    }
                }
            ],
            "execution_count": 2
        },
        {
            "cell_type": "markdown",
            "source": [
                "Observe the query execution plan (or actual plan).\r\n",
                "\r\n",
                "![TVDC_Enabled_Plan](./media/TVDC_enabled_plan.PNG)\r\n",
                "\r\n",
                "Notice the actual vs. estimated rows for the @Order Table Scan now. 490k estimated vs. 490k rows actual rows. This is because the Atble Variable was materialized during compilation, and the actual cardinality was used to cerry on optimizing the query plan.\r\n",
                "\r\n",
                "In turn, this improved estimation propagated up the plan, namely the chosen join algorithm (Hash Match) which are efficient for larger input tables. Also note that given the correct estimations, SQL Server determined that the query plan should be executed with parallelism.\r\n",
                "\r\n",
                "As you can see from the execution times, the query with Table Variable Deferred Compilation finished much faster! From **~18s** down to **~8s**."
            ],
            "metadata": {
                "azdata_cell_guid": "0992ad26-d475-47ef-9b3e-5b9ccd429013"
            }
        }
    ]
}