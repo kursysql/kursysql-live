{
    "metadata": {
        "kernelspec": {
            "name": "SQL",
            "display_name": "SQL",
            "language": "sql"
        },
        "language_info": {
            "name": "sql",
            "version": ""
        }
    },
    "nbformat_minor": 2,
    "nbformat": 4,
    "cells": [
        {
            "cell_type": "markdown",
            "source": [
                "# Scalar UDF Inlining\n",
                "User-Defined Functions that are implemented in Transact-SQL and return a single data value are referred to as T-SQL Scalar User-Defined Functions. T-SQL UDFs are an elegant way to achieve code reuse and modularity across SQL queries. Some computations (such as complex business rules) are easier to express in imperative UDF form. UDFs help in building up complex logic without requiring expertise in writing complex SQL queries. Scalar UDF inlining, a feature the [**Intelligent Query Processing**](https://aka.ms/iqp) suite of features. This feature improves the performance of queries that invoke scalar UDFs in SQL Server (starting with **SQL Server 2019**).\n",
                "\n",
                "This example will show you how upgrading to **Database Compatibility Level 150** could improve performance of queries which leverage scalar UDFs.\n",
                "More information about this feature is available [here](https://docs.microsoft.com/sql/relational-databases/user-defined-functions/scalar-udf-inlining)."
            ],
            "metadata": {
                "azdata_cell_guid": "7870ea3f-b017-46d9-bec6-15369f4ade69"
            }
        },
        {
            "cell_type": "markdown",
            "source": [
                "## Step 1: Setup WideWorldImportersDW database\r\n",
                "\r\n",
                "You could choose to use a container to evaluate this feature. Create an instance of SQL Server 2019 using a Docker image and restore the WideWorldImportersDW database backup\r\n",
                "\r\n",
                "You will need the **WideWorldImportersDW** database for this exercise. If you don't have this sample database, then you download the sample database [here](https://github.com/Microsoft/sql-server-samples/releases/download/wide-world-importers-v1.0/WideWorldImportersDW-Full.bak \"WideWorldImportersDW-Full download\").\r\n",
                "\r\n",
                "Restore the copied WideWorldImportersDW database backup into the container and restore the backup.\r\n",
                "\r\n",
                "##### Docker Commands\r\n",
                "```\r\n",
                "docker pull mcr.microsoft.com/mssql/server:2019-latest\r\n",
                "\r\n",
                "docker run -e \"ACCEPT_EULA=Y\" -e \"SA_PASSWORD=`<A Strong Password`>\" -p 1445:1433 --name sql2019demo -d mcr.microsoft.com/mssql/server:2019-latest\r\n",
                "\r\n",
                "docker cp \".\\Downloads\\WideWorldImportersDW-Full.bak\" sql2019demo:/var/opt/mssql/data\r\n",
                "```\r\n",
                "\r\n",
                "**Note**: *For Linux installations the default path to use is /var/opt/mssql*\r\n",
                ""
            ],
            "metadata": {
                "azdata_cell_guid": "975f5a9f-300f-450b-8981-cebb9ed6c719"
            }
        },
        {
            "cell_type": "code",
            "source": [
                "USE [master]\r\n",
                "GO\r\n",
                "IF EXISTS (SELECT [database_id] FROM sys.databases WHERE [name] = 'WideWorldImportersDW')\r\n",
                "ALTER DATABASE [WideWorldImportersDW] SET SINGLE_USER WITH ROLLBACK IMMEDIATE\r\n",
                "GO\r\n",
                "\r\n",
                "DECLARE @datafilepath VARCHAR(8000) = CAST(SERVERPROPERTY('InstanceDefaultDataPath') AS VARCHAR(4000)) + 'WideWorldImportersDW.mdf'\r\n",
                "DECLARE @logfilepath VARCHAR(8000) = CAST(SERVERPROPERTY('InstanceDefaultLogPath') AS VARCHAR(4000)) + 'WideWorldImportersDW.ldf'\r\n",
                "DECLARE @inmemfilepath VARCHAR(8000) = CAST(SERVERPROPERTY('InstanceDefaultDataPath') AS VARCHAR(4000)) + 'WideWorldImportersDW_InMemory_Data_1'\r\n",
                "DECLARE @secondaryfilepath VARCHAR(8000) = CAST(SERVERPROPERTY('InstanceDefaultDataPath') AS VARCHAR(4000))+ 'WideWorldImportersDW_2.ndf'\r\n",
                "\r\n",
                "-- Change @backupfile file path as needed\r\n",
                "DECLARE @backupfile VARCHAR(8000) = 'E:\\SampleDBs\\WideWorldImportersDW-Full.bak'\r\n",
                "RESTORE DATABASE WideWorldImportersDW\r\n",
                "FROM DISK = @backupfile \r\n",
                "WITH MOVE 'WWI_Primary' TO @datafilepath,\r\n",
                "    MOVE 'WWI_UserData' TO @secondaryfilepath,\r\n",
                "    MOVE 'WWIDW_InMemory_Data_1' TO @inmemfilepath,\r\n",
                "    MOVE 'WWI_Log' TO @logfilepath, NOUNLOAD, REPLACE, STATS = 10\r\n",
                "GO\r\n",
                "\r\n",
                "USE [master]\r\n",
                "GO\r\n",
                "ALTER DATABASE [WideWorldImportersDW] MODIFY FILE ( NAME = N'WWI_Log', SIZE = 4GB )\r\n",
                "GO"
            ],
            "metadata": {
                "azdata_cell_guid": "b48b5a47-55d7-4c3c-ba51-2efa8d801029"
            },
            "outputs": [],
            "execution_count": 7
        },
        {
            "cell_type": "markdown",
            "source": [
                "## Step 2: Enlarge the WideWorldImportersDW database"
            ],
            "metadata": {
                "azdata_cell_guid": "4e07d47f-3833-40dd-8203-1d43af8bacd8"
            }
        },
        {
            "cell_type": "code",
            "source": [
                "USE WideWorldImportersDW;\r\n",
                "GO\r\n",
                "\r\n",
                "/*\r\n",
                "Assumes a fresh restore of WideWorldImportersDW\r\n",
                "*/\r\n",
                "\r\n",
                "IF OBJECT_ID('Fact.OrderHistory') IS NULL \r\n",
                "BEGIN\r\n",
                "    SELECT [Order Key], [City Key], [Customer Key], [Stock Item Key], [Order Date Key], [Picked Date Key], [Salesperson Key], [Picker Key], [WWI Order ID], [WWI Backorder ID], Description, Package, Quantity, [Unit Price], [Tax Rate], [Total Excluding Tax], [Tax Amount], [Total Including Tax], [Lineage Key]\r\n",
                "    INTO Fact.OrderHistory\r\n",
                "    FROM Fact.[Order];\r\n",
                "END;\r\n",
                "\r\n",
                "ALTER TABLE Fact.OrderHistory\r\n",
                "ADD CONSTRAINT PK_Fact_OrderHistory PRIMARY KEY NONCLUSTERED ([Order Key] ASC, [Order Date Key] ASC) WITH (DATA_COMPRESSION = PAGE);\r\n",
                "GO\r\n",
                "\r\n",
                "CREATE INDEX IX_Stock_Item_Key\r\n",
                "ON Fact.OrderHistory ([Stock Item Key])\r\n",
                "INCLUDE(Quantity)\r\n",
                "WITH (DATA_COMPRESSION = PAGE);\r\n",
                "GO\r\n",
                "\r\n",
                "CREATE INDEX IX_OrderHistory_Quantity\r\n",
                "ON Fact.OrderHistory ([Quantity])\r\n",
                "INCLUDE([Order Key])\r\n",
                "WITH (DATA_COMPRESSION = PAGE);\r\n",
                "GO\r\n",
                "\r\n",
                "CREATE INDEX IX_OrderHistory_CustomerKey\r\n",
                "ON Fact.OrderHistory([Customer Key])\r\n",
                "INCLUDE ([Total Including Tax])\r\n",
                "WITH (DATA_COMPRESSION = PAGE);\r\n",
                "GO\r\n",
                "\r\n",
                "IF (SELECT COUNT(*) FROM [Fact].[OrderHistory]) < 3702592\r\n",
                "BEGIN\r\n",
                "\tDECLARE @i smallint\r\n",
                "\tSET @i = 0\r\n",
                "\tWHILE @i < 4\r\n",
                "\tBEGIN\r\n",
                "\t\tINSERT INTO [Fact].[OrderHistory] ([City Key], [Customer Key], [Stock Item Key], [Order Date Key], [Picked Date Key], [Salesperson Key], [Picker Key], [WWI Order ID], [WWI Backorder ID], Description, Package, Quantity, [Unit Price], [Tax Rate], [Total Excluding Tax], [Tax Amount], [Total Including Tax], [Lineage Key])\r\n",
                "\t\tSELECT [City Key], [Customer Key], [Stock Item Key], [Order Date Key], [Picked Date Key], [Salesperson Key], [Picker Key], [WWI Order ID], [WWI Backorder ID], Description, Package, Quantity, [Unit Price], [Tax Rate], [Total Excluding Tax], [Tax Amount], [Total Including Tax], [Lineage Key]\r\n",
                "\t\tFROM [Fact].[OrderHistory];\r\n",
                "\r\n",
                "\t\tSET @i = @i +1\r\n",
                "\tEND;\r\n",
                "END\r\n",
                "GO\r\n",
                "\r\n",
                "IF OBJECT_ID('Fact.OrderHistoryExtended') IS NULL \r\n",
                "BEGIN\r\n",
                "    SELECT [Order Key], [City Key], [Customer Key], [Stock Item Key], [Order Date Key], [Picked Date Key], [Salesperson Key], [Picker Key], [WWI Order ID], [WWI Backorder ID], Description, Package, Quantity, [Unit Price], [Tax Rate], [Total Excluding Tax], [Tax Amount], [Total Including Tax], [Lineage Key]\r\n",
                "    INTO Fact.OrderHistoryExtended\r\n",
                "    FROM Fact.[OrderHistory];\r\n",
                "END;\r\n",
                "\r\n",
                "ALTER TABLE Fact.OrderHistoryExtended\r\n",
                "ADD CONSTRAINT PK_Fact_OrderHistoryExtended PRIMARY KEY NONCLUSTERED ([Order Key] ASC, [Order Date Key] ASC)\r\n",
                "WITH (DATA_COMPRESSION = PAGE);\r\n",
                "GO\r\n",
                "\r\n",
                "CREATE INDEX IX_Stock_Item_Key\r\n",
                "ON Fact.OrderHistoryExtended ([Stock Item Key])\r\n",
                "INCLUDE (Quantity);\r\n",
                "GO\r\n",
                "\r\n",
                "IF (SELECT COUNT(*) FROM [Fact].[OrderHistory]) < 29620736\r\n",
                "BEGIN\r\n",
                "\tDECLARE @i smallint\r\n",
                "\tSET @i = 0\r\n",
                "\tWHILE @i < 3\r\n",
                "\tBEGIN\r\n",
                "\t\tINSERT Fact.OrderHistoryExtended([City Key], [Customer Key], [Stock Item Key], [Order Date Key], [Picked Date Key], [Salesperson Key], [Picker Key], [WWI Order ID], [WWI Backorder ID], Description, Package, Quantity, [Unit Price], [Tax Rate], [Total Excluding Tax], [Tax Amount], [Total Including Tax], [Lineage Key])\r\n",
                "\t\tSELECT [City Key], [Customer Key], [Stock Item Key], [Order Date Key], [Picked Date Key], [Salesperson Key], [Picker Key], [WWI Order ID], [WWI Backorder ID], Description, Package, Quantity, [Unit Price], [Tax Rate], [Total Excluding Tax], [Tax Amount], [Total Including Tax], [Lineage Key]\r\n",
                "\t\tFROM Fact.OrderHistoryExtended;\r\n",
                "\r\n",
                "\t\tSET @i = @i +1\r\n",
                "\tEND;\r\n",
                "END\r\n",
                "GO\r\n",
                "\r\n",
                "UPDATE Fact.OrderHistoryExtended\r\n",
                "SET [WWI Order ID] = [Order Key];\r\n",
                "GO\r\n",
                "\r\n",
                "-- Repeat the following until log shrinks. These demos don't require much log space.\r\n",
                "CHECKPOINT\r\n",
                "GO\r\n",
                "DBCC SHRINKFILE (N'WWI_Log' , 0, TRUNCATEONLY)\r\n",
                "GO\r\n",
                "SELECT * FROM sys.dm_db_log_space_usage\r\n",
                "GO"
            ],
            "metadata": {
                "azdata_cell_guid": "a7421321-3652-49c5-b83a-e25e69c48aed"
            },
            "outputs": [],
            "execution_count": 3
        },
        {
            "cell_type": "markdown",
            "source": [
                "## Step 3: Create a T-SQL Scalar UDF"
            ],
            "metadata": {
                "azdata_cell_guid": "b6a3b9a9-b172-478b-bdac-75d70136f556"
            }
        },
        {
            "cell_type": "code",
            "source": [
                "USE [WideWorldImportersDW];\r\n",
                "GO\r\n",
                "\r\n",
                "CREATE OR ALTER FUNCTION dbo.ufn_customer_category(@CustomerKey INT) \r\n",
                "RETURNS CHAR(10) AS\r\n",
                "BEGIN\r\n",
                "    DECLARE @total_amount DECIMAL(18,2);\r\n",
                "    DECLARE @category CHAR(10);\r\n",
                "\r\n",
                "    SELECT @total_amount = \r\n",
                "    SUM([Total Including Tax]) \r\n",
                "    FROM [Fact].[OrderHistory]\r\n",
                "    WHERE [Customer Key] = @CustomerKey;\r\n",
                "\r\n",
                "    IF @total_amount < 500000\r\n",
                "    SET @category = 'REGULAR';\r\n",
                "    ELSE IF @total_amount < 1000000\r\n",
                "    SET @category = 'GOLD';\r\n",
                "    ELSE \r\n",
                "    SET @category = 'PLATINUM';\r\n",
                "\r\n",
                "    RETURN @category;\r\n",
                "END\r\n",
                "GO"
            ],
            "metadata": {
                "azdata_cell_guid": "bcddef75-691a-4815-aaa6-5d0ec63a7140"
            },
            "outputs": [
                {
                    "output_type": "display_data",
                    "data": {
                        "text/html": "Commands completed successfully."
                    },
                    "metadata": {}
                },
                {
                    "output_type": "display_data",
                    "data": {
                        "text/html": "Commands completed successfully."
                    },
                    "metadata": {}
                },
                {
                    "output_type": "display_data",
                    "data": {
                        "text/html": "Total execution time: 00:00:00.027"
                    },
                    "metadata": {}
                }
            ],
            "execution_count": 4
        },
        {
            "cell_type": "markdown",
            "source": [
                "## Step 4: Finding if your T-SQL UDFs is inlineable\n",
                "\n",
                "In the result set, scroll to the left and notice the value of the *is_inlineable* column. The value **1** shows that the UDF has inlineable constructs, meaning imperative statements that can be expressed in relational expressions. For example, an `IF <expression> ELSE` statement can be expressed as an inline `SELECT CASE WHEN <expression> THE 1 ELSE 0 END AS <column>` statement, or a `SET @var = <expression>` can be inlined as `SELECT <expression> AS var`.\n",
                "\n",
                "The relational expressions for imperative statements handled by the Scalar UDF Inlining feature can be found in the [“Froid: Optimization of Imperative Programs in a Relational Database”](http://www.vldb.org/pvldb/vol11/p432-ramachandra.pdf) paper by Microsoft’s Gray Systems Lab in Madison Wisconsin.\n",
                ""
            ],
            "metadata": {
                "azdata_cell_guid": "d1c04baa-efaa-49cb-8d09-de80e5d9dcc6"
            }
        },
        {
            "cell_type": "code",
            "source": [
                "USE [WideWorldImportersDW];\n",
                "GO\n",
                "SELECT * FROM sys.sql_modules\n",
                "WHERE object_id = OBJECT_ID('ufn_customer_category')\n",
                "GO"
            ],
            "metadata": {
                "azdata_cell_guid": "6e49fd7c-28b1-4121-9143-75fcc29a2a0f"
            },
            "outputs": [
                {
                    "output_type": "display_data",
                    "data": {
                        "text/html": "Commands completed successfully."
                    },
                    "metadata": {}
                },
                {
                    "output_type": "display_data",
                    "data": {
                        "text/html": "(1 row affected)"
                    },
                    "metadata": {}
                },
                {
                    "output_type": "display_data",
                    "data": {
                        "text/html": "Total execution time: 00:00:00.043"
                    },
                    "metadata": {}
                },
                {
                    "output_type": "execute_result",
                    "execution_count": 5,
                    "data": {
                        "application/vnd.dataresource+json": {
                            "schema": {
                                "fields": [
                                    {
                                        "name": "object_id"
                                    },
                                    {
                                        "name": "definition"
                                    },
                                    {
                                        "name": "uses_ansi_nulls"
                                    },
                                    {
                                        "name": "uses_quoted_identifier"
                                    },
                                    {
                                        "name": "is_schema_bound"
                                    },
                                    {
                                        "name": "uses_database_collation"
                                    },
                                    {
                                        "name": "is_recompiled"
                                    },
                                    {
                                        "name": "null_on_null_input"
                                    },
                                    {
                                        "name": "execute_as_principal_id"
                                    },
                                    {
                                        "name": "uses_native_compilation"
                                    },
                                    {
                                        "name": "inline_type"
                                    },
                                    {
                                        "name": "is_inlineable"
                                    }
                                ]
                            },
                            "data": [
                                {
                                    "0": "1954106002",
                                    "1": "\r\nCREATE   FUNCTION dbo.ufn_customer_category(@CustomerKey INT) \r\nRETURNS CHAR(10) AS\r\nBEGIN\r\n    DECLARE @total_amount DECIMAL(18,2);\r\n    DECLARE @category CHAR(10);\r\n\r\n    SELECT @total_amount = \r\n    SUM([Total Including Tax]) \r\n    FROM [Fact].[OrderHistory]\r\n    WHERE [Customer Key] = @CustomerKey;\r\n\r\n    IF @total_amount < 500000\r\n    SET @category = 'REGULAR';\r\n    ELSE IF @total_amount < 1000000\r\n    SET @category = 'GOLD';\r\n    ELSE \r\n    SET @category = 'PLATINUM';\r\n\r\n    RETURN @category;\r\nEND\r\n",
                                    "2": "1",
                                    "3": "1",
                                    "4": "0",
                                    "5": "0",
                                    "6": "0",
                                    "7": "0",
                                    "8": "NULL",
                                    "9": "0",
                                    "10": "1",
                                    "11": "1"
                                }
                            ]
                        },
                        "text/html": "<table><tr><th>object_id</th><th>definition</th><th>uses_ansi_nulls</th><th>uses_quoted_identifier</th><th>is_schema_bound</th><th>uses_database_collation</th><th>is_recompiled</th><th>null_on_null_input</th><th>execute_as_principal_id</th><th>uses_native_compilation</th><th>inline_type</th><th>is_inlineable</th></tr><tr><td>1954106002</td><td>\r\nCREATE   FUNCTION dbo.ufn_customer_category(@CustomerKey INT) \r\nRETURNS CHAR(10) AS\r\nBEGIN\r\n    DECLARE @total_amount DECIMAL(18,2);\r\n    DECLARE @category CHAR(10);\r\n\r\n    SELECT @total_amount = \r\n    SUM([Total Including Tax]) \r\n    FROM [Fact].[OrderHistory]\r\n    WHERE [Customer Key] = @CustomerKey;\r\n\r\n    IF @total_amount &lt; 500000\r\n    SET @category = 'REGULAR';\r\n    ELSE IF @total_amount &lt; 1000000\r\n    SET @category = 'GOLD';\r\n    ELSE \r\n    SET @category = 'PLATINUM';\r\n\r\n    RETURN @category;\r\nEND\r\n</td><td>1</td><td>1</td><td>0</td><td>0</td><td>0</td><td>0</td><td>NULL</td><td>0</td><td>1</td><td>1</td></tr></table>"
                    },
                    "metadata": {}
                }
            ],
            "execution_count": 5
        },
        {
            "cell_type": "markdown",
            "source": [
                "## Step 5: Execute the query without Scalar UDF Inlining\r\n",
                "\r\n",
                "\r\n",
                "Even when the database compatibility level is set to the defauult (150), this can be done by using the USE HINT **DISABLE_TSQL_SCALAR_UDF_INLINING** query hint to disable the feature.\r\n",
                ""
            ],
            "metadata": {
                "azdata_cell_guid": "cc613f99-f3c2-462f-93df-bd197de31bbc"
            }
        },
        {
            "cell_type": "code",
            "source": [
                "USE [WideWorldImportersDW];\r\n",
                "GO\r\n",
                "ALTER DATABASE [WideWorldImportersDW] SET COMPATIBILITY_LEVEL = 150;\r\n",
                "GO\r\n",
                "ALTER DATABASE SCOPED CONFIGURATION CLEAR PROCEDURE_CACHE;\r\n",
                "GO\r\n",
                "\r\n",
                "SELECT TOP 100 [Customer Key], [Customer],\r\n",
                "       dbo.ufn_customer_category([Customer Key]) AS [Discount Price]\r\n",
                "FROM [Dimension].[Customer]\r\n",
                "ORDER BY [Customer Key]\r\n",
                "OPTION (RECOMPILE,USE HINT('DISABLE_TSQL_SCALAR_UDF_INLINING'));\r\n",
                "GO"
            ],
            "metadata": {
                "azdata_cell_guid": "71483984-6bdd-4866-8ddc-e40fe692c0db"
            },
            "outputs": [
                {
                    "output_type": "display_data",
                    "data": {
                        "text/html": "Commands completed successfully."
                    },
                    "metadata": {}
                },
                {
                    "output_type": "display_data",
                    "data": {
                        "text/html": "Commands completed successfully."
                    },
                    "metadata": {}
                },
                {
                    "output_type": "display_data",
                    "data": {
                        "text/html": "Commands completed successfully."
                    },
                    "metadata": {}
                },
                {
                    "output_type": "display_data",
                    "data": {
                        "text/html": "(100 rows affected)"
                    },
                    "metadata": {}
                },
                {
                    "output_type": "display_data",
                    "data": {
                        "text/html": "Total execution time: 00:00:09.630"
                    },
                    "metadata": {}
                },
                {
                    "output_type": "execute_result",
                    "metadata": {},
                    "execution_count": 3,
                    "data": {
                        "application/vnd.dataresource+json": {
                            "schema": {
                                "fields": [
                                    {
                                        "name": "Customer Key"
                                    },
                                    {
                                        "name": "Customer"
                                    },
                                    {
                                        "name": "Discount Price"
                                    }
                                ]
                            },
                            "data": [
                                {
                                    "0": "0",
                                    "1": "Unknown",
                                    "2": "PLATINUM  "
                                },
                                {
                                    "0": "1",
                                    "1": "Tailspin Toys (Head Office)",
                                    "2": "PLATINUM  "
                                },
                                {
                                    "0": "2",
                                    "1": "Tailspin Toys (Sylvanite, MT)",
                                    "2": "PLATINUM  "
                                },
                                {
                                    "0": "3",
                                    "1": "Tailspin Toys (Peeples Valley, AZ)",
                                    "2": "PLATINUM  "
                                },
                                {
                                    "0": "4",
                                    "1": "Tailspin Toys (Medicine Lodge, KS)",
                                    "2": "PLATINUM  "
                                },
                                {
                                    "0": "5",
                                    "1": "Tailspin Toys (Gasport, NY)",
                                    "2": "PLATINUM  "
                                },
                                {
                                    "0": "6",
                                    "1": "Tailspin Toys (Jessie, ND)",
                                    "2": "PLATINUM  "
                                },
                                {
                                    "0": "7",
                                    "1": "Tailspin Toys (Frankewing, TN)",
                                    "2": "PLATINUM  "
                                },
                                {
                                    "0": "8",
                                    "1": "Tailspin Toys (Bow Mar, CO)",
                                    "2": "PLATINUM  "
                                },
                                {
                                    "0": "9",
                                    "1": "Tailspin Toys (Netcong, NJ)",
                                    "2": "PLATINUM  "
                                },
                                {
                                    "0": "10",
                                    "1": "Tailspin Toys (Wimbledon, ND)",
                                    "2": "PLATINUM  "
                                },
                                {
                                    "0": "11",
                                    "1": "Tailspin Toys (Devault, PA)",
                                    "2": "PLATINUM  "
                                },
                                {
                                    "0": "12",
                                    "1": "Tailspin Toys (Biscay, MN)",
                                    "2": "PLATINUM  "
                                },
                                {
                                    "0": "13",
                                    "1": "Tailspin Toys (Stonefort, IL)",
                                    "2": "PLATINUM  "
                                },
                                {
                                    "0": "14",
                                    "1": "Tailspin Toys (Long Meadow, MD)",
                                    "2": "PLATINUM  "
                                },
                                {
                                    "0": "15",
                                    "1": "Tailspin Toys (Batson, TX)",
                                    "2": "PLATINUM  "
                                },
                                {
                                    "0": "16",
                                    "1": "Tailspin Toys (Coney Island, MO)",
                                    "2": "PLATINUM  "
                                },
                                {
                                    "0": "17",
                                    "1": "Tailspin Toys (East Fultonham, OH)",
                                    "2": "PLATINUM  "
                                },
                                {
                                    "0": "18",
                                    "1": "Tailspin Toys (Goffstown, NH)",
                                    "2": "PLATINUM  "
                                },
                                {
                                    "0": "19",
                                    "1": "Tailspin Toys (Lemeta, AK)",
                                    "2": "PLATINUM  "
                                },
                                {
                                    "0": "20",
                                    "1": "Tailspin Toys (College Place, WA)",
                                    "2": "PLATINUM  "
                                },
                                {
                                    "0": "21",
                                    "1": "Tailspin Toys (Tresckow, PA)",
                                    "2": "PLATINUM  "
                                },
                                {
                                    "0": "22",
                                    "1": "Tailspin Toys (Ward Ridge, FL)",
                                    "2": "PLATINUM  "
                                },
                                {
                                    "0": "23",
                                    "1": "Tailspin Toys (Ikatan, AK)",
                                    "2": "PLATINUM  "
                                },
                                {
                                    "0": "24",
                                    "1": "Tailspin Toys (Dundarrach, NC)",
                                    "2": "PLATINUM  "
                                },
                                {
                                    "0": "25",
                                    "1": "Tailspin Toys (Avenal, CA)",
                                    "2": "PLATINUM  "
                                },
                                {
                                    "0": "26",
                                    "1": "Tailspin Toys (Hedrick, IA)",
                                    "2": "PLATINUM  "
                                },
                                {
                                    "0": "27",
                                    "1": "Tailspin Toys (Bowlus, MN)",
                                    "2": "PLATINUM  "
                                },
                                {
                                    "0": "28",
                                    "1": "Tailspin Toys (North Ridge, NY)",
                                    "2": "PLATINUM  "
                                },
                                {
                                    "0": "29",
                                    "1": "Tailspin Toys (Eulaton, AL)",
                                    "2": "PLATINUM  "
                                },
                                {
                                    "0": "30",
                                    "1": "Tailspin Toys (Koontzville, WA)",
                                    "2": "PLATINUM  "
                                },
                                {
                                    "0": "31",
                                    "1": "Tailspin Toys (Lake Stevens, WA)",
                                    "2": "PLATINUM  "
                                },
                                {
                                    "0": "32",
                                    "1": "Tailspin Toys (Maypearl, TX)",
                                    "2": "PLATINUM  "
                                },
                                {
                                    "0": "33",
                                    "1": "Tailspin Toys (Boyden Arbor, SC)",
                                    "2": "PLATINUM  "
                                },
                                {
                                    "0": "34",
                                    "1": "Tailspin Toys (Dallardsville, TX)",
                                    "2": "PLATINUM  "
                                },
                                {
                                    "0": "35",
                                    "1": "Tailspin Toys (Slanesville, WV)",
                                    "2": "PLATINUM  "
                                },
                                {
                                    "0": "36",
                                    "1": "Tailspin Toys (Ekron, KY)",
                                    "2": "PLATINUM  "
                                },
                                {
                                    "0": "37",
                                    "1": "Tailspin Toys (Kerby, OR)",
                                    "2": "PLATINUM  "
                                },
                                {
                                    "0": "38",
                                    "1": "Tailspin Toys (Airport Drive, MO)",
                                    "2": "PLATINUM  "
                                },
                                {
                                    "0": "39",
                                    "1": "Tailspin Toys (Diablock, KY)",
                                    "2": "PLATINUM  "
                                },
                                {
                                    "0": "40",
                                    "1": "Tailspin Toys (Impact, TX)",
                                    "2": "PLATINUM  "
                                },
                                {
                                    "0": "41",
                                    "1": "Tailspin Toys (Olivette, MO)",
                                    "2": "PLATINUM  "
                                },
                                {
                                    "0": "42",
                                    "1": "Tailspin Toys (Arietta, NY)",
                                    "2": "PLATINUM  "
                                },
                                {
                                    "0": "43",
                                    "1": "Tailspin Toys (Upper Preston, WA)",
                                    "2": "PLATINUM  "
                                },
                                {
                                    "0": "44",
                                    "1": "Tailspin Toys (Amanda Park, WA)",
                                    "2": "PLATINUM  "
                                },
                                {
                                    "0": "45",
                                    "1": "Tailspin Toys (Severna Park, MD)",
                                    "2": "PLATINUM  "
                                },
                                {
                                    "0": "46",
                                    "1": "Tailspin Toys (Jemison, AL)",
                                    "2": "PLATINUM  "
                                },
                                {
                                    "0": "47",
                                    "1": "Tailspin Toys (Lake Hughes, CA)",
                                    "2": "PLATINUM  "
                                },
                                {
                                    "0": "48",
                                    "1": "Tailspin Toys (Trentwood, WA)",
                                    "2": "PLATINUM  "
                                },
                                {
                                    "0": "49",
                                    "1": "Tailspin Toys (Muir, MI)",
                                    "2": "PLATINUM  "
                                },
                                {
                                    "0": "50",
                                    "1": "Tailspin Toys (Hambleton, WV)",
                                    "2": "PLATINUM  "
                                },
                                {
                                    "0": "51",
                                    "1": "Tailspin Toys (Imlaystown, NJ)",
                                    "2": "PLATINUM  "
                                },
                                {
                                    "0": "52",
                                    "1": "Tailspin Toys (Idria, CA)",
                                    "2": "PLATINUM  "
                                },
                                {
                                    "0": "53",
                                    "1": "Tailspin Toys (Nanafalia, AL)",
                                    "2": "PLATINUM  "
                                },
                                {
                                    "0": "54",
                                    "1": "Tailspin Toys (Railroad, PA)",
                                    "2": "PLATINUM  "
                                },
                                {
                                    "0": "55",
                                    "1": "Tailspin Toys (Gum Branch, GA)",
                                    "2": "PLATINUM  "
                                },
                                {
                                    "0": "56",
                                    "1": "Tailspin Toys (Royal City, WA)",
                                    "2": "PLATINUM  "
                                },
                                {
                                    "0": "57",
                                    "1": "Tailspin Toys (Lakemore, OH)",
                                    "2": "PLATINUM  "
                                },
                                {
                                    "0": "58",
                                    "1": "Tailspin Toys (Mappsburg, VA)",
                                    "2": "PLATINUM  "
                                },
                                {
                                    "0": "59",
                                    "1": "Tailspin Toys (Edgartown, MA)",
                                    "2": "PLATINUM  "
                                },
                                {
                                    "0": "60",
                                    "1": "Tailspin Toys (East Dailey, WV)",
                                    "2": "PLATINUM  "
                                },
                                {
                                    "0": "61",
                                    "1": "Tailspin Toys (Fairfield Glade, TN)",
                                    "2": "PLATINUM  "
                                },
                                {
                                    "0": "62",
                                    "1": "Tailspin Toys (Great Neck Estates, NY)",
                                    "2": "PLATINUM  "
                                },
                                {
                                    "0": "63",
                                    "1": "Tailspin Toys (Stallion Springs, CA)",
                                    "2": "PLATINUM  "
                                },
                                {
                                    "0": "64",
                                    "1": "Tailspin Toys (Hodgdon, ME)",
                                    "2": "PLATINUM  "
                                },
                                {
                                    "0": "65",
                                    "1": "Tailspin Toys (North Cowden, TX)",
                                    "2": "PLATINUM  "
                                },
                                {
                                    "0": "66",
                                    "1": "Tailspin Toys (Madaket, MA)",
                                    "2": "PLATINUM  "
                                },
                                {
                                    "0": "67",
                                    "1": "Tailspin Toys (Sentinel Butte, ND)",
                                    "2": "PLATINUM  "
                                },
                                {
                                    "0": "68",
                                    "1": "Tailspin Toys (Gardere, LA)",
                                    "2": "PLATINUM  "
                                },
                                {
                                    "0": "69",
                                    "1": "Tailspin Toys (Lytle Creek, CA)",
                                    "2": "PLATINUM  "
                                },
                                {
                                    "0": "70",
                                    "1": "Tailspin Toys (New Baden, IL)",
                                    "2": "PLATINUM  "
                                },
                                {
                                    "0": "71",
                                    "1": "Tailspin Toys (Good Hart, MI)",
                                    "2": "PLATINUM  "
                                },
                                {
                                    "0": "72",
                                    "1": "Tailspin Toys (Cortaro, AZ)",
                                    "2": "PLATINUM  "
                                },
                                {
                                    "0": "73",
                                    "1": "Tailspin Toys (Cokato, MN)",
                                    "2": "PLATINUM  "
                                },
                                {
                                    "0": "74",
                                    "1": "Tailspin Toys (Indios, PR)",
                                    "2": "PLATINUM  "
                                },
                                {
                                    "0": "75",
                                    "1": "Tailspin Toys (Windsor Locks, CT)",
                                    "2": "PLATINUM  "
                                },
                                {
                                    "0": "76",
                                    "1": "Tailspin Toys (Yewed, OK)",
                                    "2": "PLATINUM  "
                                },
                                {
                                    "0": "77",
                                    "1": "Tailspin Toys (Hahira, GA)",
                                    "2": "PLATINUM  "
                                },
                                {
                                    "0": "78",
                                    "1": "Tailspin Toys (Sekiu, WA)",
                                    "2": "PLATINUM  "
                                },
                                {
                                    "0": "79",
                                    "1": "Tailspin Toys (Page City, KS)",
                                    "2": "PLATINUM  "
                                },
                                {
                                    "0": "80",
                                    "1": "Tailspin Toys (Valdese, NC)",
                                    "2": "PLATINUM  "
                                },
                                {
                                    "0": "81",
                                    "1": "Tailspin Toys (Big Moose, NY)",
                                    "2": "PLATINUM  "
                                },
                                {
                                    "0": "82",
                                    "1": "Tailspin Toys (La Cueva, NM)",
                                    "2": "PLATINUM  "
                                },
                                {
                                    "0": "83",
                                    "1": "Tailspin Toys (Absecon, NJ)",
                                    "2": "PLATINUM  "
                                },
                                {
                                    "0": "84",
                                    "1": "Tailspin Toys (Aceitunas, PR)",
                                    "2": "PLATINUM  "
                                },
                                {
                                    "0": "85",
                                    "1": "Tailspin Toys (Andrix, CO)",
                                    "2": "PLATINUM  "
                                },
                                {
                                    "0": "86",
                                    "1": "Tailspin Toys (New Lexington, OH)",
                                    "2": "PLATINUM  "
                                },
                                {
                                    "0": "87",
                                    "1": "Tailspin Toys (Sauquoit, NY)",
                                    "2": "PLATINUM  "
                                },
                                {
                                    "0": "88",
                                    "1": "Tailspin Toys (Dracut, MA)",
                                    "2": "PLATINUM  "
                                },
                                {
                                    "0": "89",
                                    "1": "Tailspin Toys (Victory Gardens, NJ)",
                                    "2": "PLATINUM  "
                                },
                                {
                                    "0": "90",
                                    "1": "Tailspin Toys (Tolna, ND)",
                                    "2": "PLATINUM  "
                                },
                                {
                                    "0": "91",
                                    "1": "Tailspin Toys (Alstead, NH)",
                                    "2": "PLATINUM  "
                                },
                                {
                                    "0": "92",
                                    "1": "Tailspin Toys (Sans Souci, SC)",
                                    "2": "PLATINUM  "
                                },
                                {
                                    "0": "93",
                                    "1": "Tailspin Toys (Clewiston, FL)",
                                    "2": "PLATINUM  "
                                },
                                {
                                    "0": "94",
                                    "1": "Tailspin Toys (Cheyenne Wells, CO)",
                                    "2": "PLATINUM  "
                                },
                                {
                                    "0": "95",
                                    "1": "Tailspin Toys (Lavon, TX)",
                                    "2": "PLATINUM  "
                                },
                                {
                                    "0": "96",
                                    "1": "Tailspin Toys (South La Paloma, TX)",
                                    "2": "PLATINUM  "
                                },
                                {
                                    "0": "97",
                                    "1": "Tailspin Toys (Manchester Center, VT)",
                                    "2": "PLATINUM  "
                                },
                                {
                                    "0": "98",
                                    "1": "Tailspin Toys (El Centro, CA)",
                                    "2": "PLATINUM  "
                                },
                                {
                                    "0": "99",
                                    "1": "Tailspin Toys (Guin, AL)",
                                    "2": "PLATINUM  "
                                }
                            ]
                        },
                        "text/html": "<table><tr><th>Customer Key</th><th>Customer</th><th>Discount Price</th></tr><tr><td>0</td><td>Unknown</td><td>PLATINUM  </td></tr><tr><td>1</td><td>Tailspin Toys (Head Office)</td><td>PLATINUM  </td></tr><tr><td>2</td><td>Tailspin Toys (Sylvanite, MT)</td><td>PLATINUM  </td></tr><tr><td>3</td><td>Tailspin Toys (Peeples Valley, AZ)</td><td>PLATINUM  </td></tr><tr><td>4</td><td>Tailspin Toys (Medicine Lodge, KS)</td><td>PLATINUM  </td></tr><tr><td>5</td><td>Tailspin Toys (Gasport, NY)</td><td>PLATINUM  </td></tr><tr><td>6</td><td>Tailspin Toys (Jessie, ND)</td><td>PLATINUM  </td></tr><tr><td>7</td><td>Tailspin Toys (Frankewing, TN)</td><td>PLATINUM  </td></tr><tr><td>8</td><td>Tailspin Toys (Bow Mar, CO)</td><td>PLATINUM  </td></tr><tr><td>9</td><td>Tailspin Toys (Netcong, NJ)</td><td>PLATINUM  </td></tr><tr><td>10</td><td>Tailspin Toys (Wimbledon, ND)</td><td>PLATINUM  </td></tr><tr><td>11</td><td>Tailspin Toys (Devault, PA)</td><td>PLATINUM  </td></tr><tr><td>12</td><td>Tailspin Toys (Biscay, MN)</td><td>PLATINUM  </td></tr><tr><td>13</td><td>Tailspin Toys (Stonefort, IL)</td><td>PLATINUM  </td></tr><tr><td>14</td><td>Tailspin Toys (Long Meadow, MD)</td><td>PLATINUM  </td></tr><tr><td>15</td><td>Tailspin Toys (Batson, TX)</td><td>PLATINUM  </td></tr><tr><td>16</td><td>Tailspin Toys (Coney Island, MO)</td><td>PLATINUM  </td></tr><tr><td>17</td><td>Tailspin Toys (East Fultonham, OH)</td><td>PLATINUM  </td></tr><tr><td>18</td><td>Tailspin Toys (Goffstown, NH)</td><td>PLATINUM  </td></tr><tr><td>19</td><td>Tailspin Toys (Lemeta, AK)</td><td>PLATINUM  </td></tr><tr><td>20</td><td>Tailspin Toys (College Place, WA)</td><td>PLATINUM  </td></tr><tr><td>21</td><td>Tailspin Toys (Tresckow, PA)</td><td>PLATINUM  </td></tr><tr><td>22</td><td>Tailspin Toys (Ward Ridge, FL)</td><td>PLATINUM  </td></tr><tr><td>23</td><td>Tailspin Toys (Ikatan, AK)</td><td>PLATINUM  </td></tr><tr><td>24</td><td>Tailspin Toys (Dundarrach, NC)</td><td>PLATINUM  </td></tr><tr><td>25</td><td>Tailspin Toys (Avenal, CA)</td><td>PLATINUM  </td></tr><tr><td>26</td><td>Tailspin Toys (Hedrick, IA)</td><td>PLATINUM  </td></tr><tr><td>27</td><td>Tailspin Toys (Bowlus, MN)</td><td>PLATINUM  </td></tr><tr><td>28</td><td>Tailspin Toys (North Ridge, NY)</td><td>PLATINUM  </td></tr><tr><td>29</td><td>Tailspin Toys (Eulaton, AL)</td><td>PLATINUM  </td></tr><tr><td>30</td><td>Tailspin Toys (Koontzville, WA)</td><td>PLATINUM  </td></tr><tr><td>31</td><td>Tailspin Toys (Lake Stevens, WA)</td><td>PLATINUM  </td></tr><tr><td>32</td><td>Tailspin Toys (Maypearl, TX)</td><td>PLATINUM  </td></tr><tr><td>33</td><td>Tailspin Toys (Boyden Arbor, SC)</td><td>PLATINUM  </td></tr><tr><td>34</td><td>Tailspin Toys (Dallardsville, TX)</td><td>PLATINUM  </td></tr><tr><td>35</td><td>Tailspin Toys (Slanesville, WV)</td><td>PLATINUM  </td></tr><tr><td>36</td><td>Tailspin Toys (Ekron, KY)</td><td>PLATINUM  </td></tr><tr><td>37</td><td>Tailspin Toys (Kerby, OR)</td><td>PLATINUM  </td></tr><tr><td>38</td><td>Tailspin Toys (Airport Drive, MO)</td><td>PLATINUM  </td></tr><tr><td>39</td><td>Tailspin Toys (Diablock, KY)</td><td>PLATINUM  </td></tr><tr><td>40</td><td>Tailspin Toys (Impact, TX)</td><td>PLATINUM  </td></tr><tr><td>41</td><td>Tailspin Toys (Olivette, MO)</td><td>PLATINUM  </td></tr><tr><td>42</td><td>Tailspin Toys (Arietta, NY)</td><td>PLATINUM  </td></tr><tr><td>43</td><td>Tailspin Toys (Upper Preston, WA)</td><td>PLATINUM  </td></tr><tr><td>44</td><td>Tailspin Toys (Amanda Park, WA)</td><td>PLATINUM  </td></tr><tr><td>45</td><td>Tailspin Toys (Severna Park, MD)</td><td>PLATINUM  </td></tr><tr><td>46</td><td>Tailspin Toys (Jemison, AL)</td><td>PLATINUM  </td></tr><tr><td>47</td><td>Tailspin Toys (Lake Hughes, CA)</td><td>PLATINUM  </td></tr><tr><td>48</td><td>Tailspin Toys (Trentwood, WA)</td><td>PLATINUM  </td></tr><tr><td>49</td><td>Tailspin Toys (Muir, MI)</td><td>PLATINUM  </td></tr><tr><td>50</td><td>Tailspin Toys (Hambleton, WV)</td><td>PLATINUM  </td></tr><tr><td>51</td><td>Tailspin Toys (Imlaystown, NJ)</td><td>PLATINUM  </td></tr><tr><td>52</td><td>Tailspin Toys (Idria, CA)</td><td>PLATINUM  </td></tr><tr><td>53</td><td>Tailspin Toys (Nanafalia, AL)</td><td>PLATINUM  </td></tr><tr><td>54</td><td>Tailspin Toys (Railroad, PA)</td><td>PLATINUM  </td></tr><tr><td>55</td><td>Tailspin Toys (Gum Branch, GA)</td><td>PLATINUM  </td></tr><tr><td>56</td><td>Tailspin Toys (Royal City, WA)</td><td>PLATINUM  </td></tr><tr><td>57</td><td>Tailspin Toys (Lakemore, OH)</td><td>PLATINUM  </td></tr><tr><td>58</td><td>Tailspin Toys (Mappsburg, VA)</td><td>PLATINUM  </td></tr><tr><td>59</td><td>Tailspin Toys (Edgartown, MA)</td><td>PLATINUM  </td></tr><tr><td>60</td><td>Tailspin Toys (East Dailey, WV)</td><td>PLATINUM  </td></tr><tr><td>61</td><td>Tailspin Toys (Fairfield Glade, TN)</td><td>PLATINUM  </td></tr><tr><td>62</td><td>Tailspin Toys (Great Neck Estates, NY)</td><td>PLATINUM  </td></tr><tr><td>63</td><td>Tailspin Toys (Stallion Springs, CA)</td><td>PLATINUM  </td></tr><tr><td>64</td><td>Tailspin Toys (Hodgdon, ME)</td><td>PLATINUM  </td></tr><tr><td>65</td><td>Tailspin Toys (North Cowden, TX)</td><td>PLATINUM  </td></tr><tr><td>66</td><td>Tailspin Toys (Madaket, MA)</td><td>PLATINUM  </td></tr><tr><td>67</td><td>Tailspin Toys (Sentinel Butte, ND)</td><td>PLATINUM  </td></tr><tr><td>68</td><td>Tailspin Toys (Gardere, LA)</td><td>PLATINUM  </td></tr><tr><td>69</td><td>Tailspin Toys (Lytle Creek, CA)</td><td>PLATINUM  </td></tr><tr><td>70</td><td>Tailspin Toys (New Baden, IL)</td><td>PLATINUM  </td></tr><tr><td>71</td><td>Tailspin Toys (Good Hart, MI)</td><td>PLATINUM  </td></tr><tr><td>72</td><td>Tailspin Toys (Cortaro, AZ)</td><td>PLATINUM  </td></tr><tr><td>73</td><td>Tailspin Toys (Cokato, MN)</td><td>PLATINUM  </td></tr><tr><td>74</td><td>Tailspin Toys (Indios, PR)</td><td>PLATINUM  </td></tr><tr><td>75</td><td>Tailspin Toys (Windsor Locks, CT)</td><td>PLATINUM  </td></tr><tr><td>76</td><td>Tailspin Toys (Yewed, OK)</td><td>PLATINUM  </td></tr><tr><td>77</td><td>Tailspin Toys (Hahira, GA)</td><td>PLATINUM  </td></tr><tr><td>78</td><td>Tailspin Toys (Sekiu, WA)</td><td>PLATINUM  </td></tr><tr><td>79</td><td>Tailspin Toys (Page City, KS)</td><td>PLATINUM  </td></tr><tr><td>80</td><td>Tailspin Toys (Valdese, NC)</td><td>PLATINUM  </td></tr><tr><td>81</td><td>Tailspin Toys (Big Moose, NY)</td><td>PLATINUM  </td></tr><tr><td>82</td><td>Tailspin Toys (La Cueva, NM)</td><td>PLATINUM  </td></tr><tr><td>83</td><td>Tailspin Toys (Absecon, NJ)</td><td>PLATINUM  </td></tr><tr><td>84</td><td>Tailspin Toys (Aceitunas, PR)</td><td>PLATINUM  </td></tr><tr><td>85</td><td>Tailspin Toys (Andrix, CO)</td><td>PLATINUM  </td></tr><tr><td>86</td><td>Tailspin Toys (New Lexington, OH)</td><td>PLATINUM  </td></tr><tr><td>87</td><td>Tailspin Toys (Sauquoit, NY)</td><td>PLATINUM  </td></tr><tr><td>88</td><td>Tailspin Toys (Dracut, MA)</td><td>PLATINUM  </td></tr><tr><td>89</td><td>Tailspin Toys (Victory Gardens, NJ)</td><td>PLATINUM  </td></tr><tr><td>90</td><td>Tailspin Toys (Tolna, ND)</td><td>PLATINUM  </td></tr><tr><td>91</td><td>Tailspin Toys (Alstead, NH)</td><td>PLATINUM  </td></tr><tr><td>92</td><td>Tailspin Toys (Sans Souci, SC)</td><td>PLATINUM  </td></tr><tr><td>93</td><td>Tailspin Toys (Clewiston, FL)</td><td>PLATINUM  </td></tr><tr><td>94</td><td>Tailspin Toys (Cheyenne Wells, CO)</td><td>PLATINUM  </td></tr><tr><td>95</td><td>Tailspin Toys (Lavon, TX)</td><td>PLATINUM  </td></tr><tr><td>96</td><td>Tailspin Toys (South La Paloma, TX)</td><td>PLATINUM  </td></tr><tr><td>97</td><td>Tailspin Toys (Manchester Center, VT)</td><td>PLATINUM  </td></tr><tr><td>98</td><td>Tailspin Toys (El Centro, CA)</td><td>PLATINUM  </td></tr><tr><td>99</td><td>Tailspin Toys (Guin, AL)</td><td>PLATINUM  </td></tr></table>"
                    }
                }
            ],
            "execution_count": 3
        },
        {
            "cell_type": "markdown",
            "source": [
                "Observe the query execution plan (or actual plan).\r\n",
                "\r\n",
                "![ScalarUDF_Disabled_Plan](./media/ScalarUDF_disabled_plan.PNG)\r\n",
                "\r\n",
                "Notice the simplicity of the plan and estimated cost percentage for each operator. There is no cost estimated for the Compute Scalar because these are not realistically costed. \r\n",
                "\r\n",
                "The iterative invocation nature of the UDF is also obfuscated from the plan:\r\n",
                "- Possibly complex logic that may be inside the UDF is not surfaced to the plan. \r\n",
                "- The time spent in a scalar UDF invocation is also not surfaced in the Compute Scalar. As seen in the *QueryTimeStats* property of the *SELECT*, the UDF was responsible for the bulk of the elasped and CPU time in this query's execution, and at first glance that CPU cost is not identifiable in the plan.\r\n",
                "\r\n",
                "![ScalarUDF_Disabled_Properties](./media/ScalarUDF_disabled_properties.PNG)\r\n",
                "\r\n",
                "Also note that the plan was executed serially. Scalar UDFs are parallelism inhibitors."
            ],
            "metadata": {
                "azdata_cell_guid": "7898e074-2d93-472b-84a5-2e52e3e43144"
            }
        },
        {
            "cell_type": "markdown",
            "source": [
                "## Step 4: Execute the query by removing any hint restriction\r\n",
                "\r\n",
                "Run the same query from Step 3, but now without any hint, allowing SQL Server to operate as default."
            ],
            "metadata": {
                "azdata_cell_guid": "6140b74a-e79d-4108-9cba-415f66ed85a3"
            }
        },
        {
            "cell_type": "code",
            "source": [
                "USE [WideWorldImportersDW];\r\n",
                "GO\r\n",
                "ALTER DATABASE [WideWorldImportersDW] SET COMPATIBILITY_LEVEL = 150;\r\n",
                "GO\r\n",
                "ALTER DATABASE SCOPED CONFIGURATION CLEAR PROCEDURE_CACHE;\r\n",
                "GO\r\n",
                "\r\n",
                "SELECT TOP 100 [Customer Key], [Customer],\r\n",
                "       dbo.ufn_customer_category([Customer Key]) AS [Discount Price]\r\n",
                "FROM [Dimension].[Customer]\r\n",
                "ORDER BY [Customer Key]\r\n",
                "OPTION (RECOMPILE);\r\n",
                "GO"
            ],
            "metadata": {
                "azdata_cell_guid": "d37ad2f6-5a09-4418-8ba2-47f954af18e8"
            },
            "outputs": [
                {
                    "output_type": "display_data",
                    "data": {
                        "text/html": "Commands completed successfully."
                    },
                    "metadata": {}
                },
                {
                    "output_type": "display_data",
                    "data": {
                        "text/html": "Commands completed successfully."
                    },
                    "metadata": {}
                },
                {
                    "output_type": "display_data",
                    "data": {
                        "text/html": "Commands completed successfully."
                    },
                    "metadata": {}
                },
                {
                    "output_type": "display_data",
                    "data": {
                        "text/html": "(100 rows affected)"
                    },
                    "metadata": {}
                },
                {
                    "output_type": "display_data",
                    "data": {
                        "text/html": "Total execution time: 00:00:01.089"
                    },
                    "metadata": {}
                },
                {
                    "output_type": "execute_result",
                    "metadata": {},
                    "execution_count": 5,
                    "data": {
                        "application/vnd.dataresource+json": {
                            "schema": {
                                "fields": [
                                    {
                                        "name": "Customer Key"
                                    },
                                    {
                                        "name": "Customer"
                                    },
                                    {
                                        "name": "Discount Price"
                                    }
                                ]
                            },
                            "data": [
                                {
                                    "0": "0",
                                    "1": "Unknown",
                                    "2": "PLATINUM  "
                                },
                                {
                                    "0": "1",
                                    "1": "Tailspin Toys (Head Office)",
                                    "2": "PLATINUM  "
                                },
                                {
                                    "0": "2",
                                    "1": "Tailspin Toys (Sylvanite, MT)",
                                    "2": "PLATINUM  "
                                },
                                {
                                    "0": "3",
                                    "1": "Tailspin Toys (Peeples Valley, AZ)",
                                    "2": "PLATINUM  "
                                },
                                {
                                    "0": "4",
                                    "1": "Tailspin Toys (Medicine Lodge, KS)",
                                    "2": "PLATINUM  "
                                },
                                {
                                    "0": "5",
                                    "1": "Tailspin Toys (Gasport, NY)",
                                    "2": "PLATINUM  "
                                },
                                {
                                    "0": "6",
                                    "1": "Tailspin Toys (Jessie, ND)",
                                    "2": "PLATINUM  "
                                },
                                {
                                    "0": "7",
                                    "1": "Tailspin Toys (Frankewing, TN)",
                                    "2": "PLATINUM  "
                                },
                                {
                                    "0": "8",
                                    "1": "Tailspin Toys (Bow Mar, CO)",
                                    "2": "PLATINUM  "
                                },
                                {
                                    "0": "9",
                                    "1": "Tailspin Toys (Netcong, NJ)",
                                    "2": "PLATINUM  "
                                },
                                {
                                    "0": "10",
                                    "1": "Tailspin Toys (Wimbledon, ND)",
                                    "2": "PLATINUM  "
                                },
                                {
                                    "0": "11",
                                    "1": "Tailspin Toys (Devault, PA)",
                                    "2": "PLATINUM  "
                                },
                                {
                                    "0": "12",
                                    "1": "Tailspin Toys (Biscay, MN)",
                                    "2": "PLATINUM  "
                                },
                                {
                                    "0": "13",
                                    "1": "Tailspin Toys (Stonefort, IL)",
                                    "2": "PLATINUM  "
                                },
                                {
                                    "0": "14",
                                    "1": "Tailspin Toys (Long Meadow, MD)",
                                    "2": "PLATINUM  "
                                },
                                {
                                    "0": "15",
                                    "1": "Tailspin Toys (Batson, TX)",
                                    "2": "PLATINUM  "
                                },
                                {
                                    "0": "16",
                                    "1": "Tailspin Toys (Coney Island, MO)",
                                    "2": "PLATINUM  "
                                },
                                {
                                    "0": "17",
                                    "1": "Tailspin Toys (East Fultonham, OH)",
                                    "2": "PLATINUM  "
                                },
                                {
                                    "0": "18",
                                    "1": "Tailspin Toys (Goffstown, NH)",
                                    "2": "PLATINUM  "
                                },
                                {
                                    "0": "19",
                                    "1": "Tailspin Toys (Lemeta, AK)",
                                    "2": "PLATINUM  "
                                },
                                {
                                    "0": "20",
                                    "1": "Tailspin Toys (College Place, WA)",
                                    "2": "PLATINUM  "
                                },
                                {
                                    "0": "21",
                                    "1": "Tailspin Toys (Tresckow, PA)",
                                    "2": "PLATINUM  "
                                },
                                {
                                    "0": "22",
                                    "1": "Tailspin Toys (Ward Ridge, FL)",
                                    "2": "PLATINUM  "
                                },
                                {
                                    "0": "23",
                                    "1": "Tailspin Toys (Ikatan, AK)",
                                    "2": "PLATINUM  "
                                },
                                {
                                    "0": "24",
                                    "1": "Tailspin Toys (Dundarrach, NC)",
                                    "2": "PLATINUM  "
                                },
                                {
                                    "0": "25",
                                    "1": "Tailspin Toys (Avenal, CA)",
                                    "2": "PLATINUM  "
                                },
                                {
                                    "0": "26",
                                    "1": "Tailspin Toys (Hedrick, IA)",
                                    "2": "PLATINUM  "
                                },
                                {
                                    "0": "27",
                                    "1": "Tailspin Toys (Bowlus, MN)",
                                    "2": "PLATINUM  "
                                },
                                {
                                    "0": "28",
                                    "1": "Tailspin Toys (North Ridge, NY)",
                                    "2": "PLATINUM  "
                                },
                                {
                                    "0": "29",
                                    "1": "Tailspin Toys (Eulaton, AL)",
                                    "2": "PLATINUM  "
                                },
                                {
                                    "0": "30",
                                    "1": "Tailspin Toys (Koontzville, WA)",
                                    "2": "PLATINUM  "
                                },
                                {
                                    "0": "31",
                                    "1": "Tailspin Toys (Lake Stevens, WA)",
                                    "2": "PLATINUM  "
                                },
                                {
                                    "0": "32",
                                    "1": "Tailspin Toys (Maypearl, TX)",
                                    "2": "PLATINUM  "
                                },
                                {
                                    "0": "33",
                                    "1": "Tailspin Toys (Boyden Arbor, SC)",
                                    "2": "PLATINUM  "
                                },
                                {
                                    "0": "34",
                                    "1": "Tailspin Toys (Dallardsville, TX)",
                                    "2": "PLATINUM  "
                                },
                                {
                                    "0": "35",
                                    "1": "Tailspin Toys (Slanesville, WV)",
                                    "2": "PLATINUM  "
                                },
                                {
                                    "0": "36",
                                    "1": "Tailspin Toys (Ekron, KY)",
                                    "2": "PLATINUM  "
                                },
                                {
                                    "0": "37",
                                    "1": "Tailspin Toys (Kerby, OR)",
                                    "2": "PLATINUM  "
                                },
                                {
                                    "0": "38",
                                    "1": "Tailspin Toys (Airport Drive, MO)",
                                    "2": "PLATINUM  "
                                },
                                {
                                    "0": "39",
                                    "1": "Tailspin Toys (Diablock, KY)",
                                    "2": "PLATINUM  "
                                },
                                {
                                    "0": "40",
                                    "1": "Tailspin Toys (Impact, TX)",
                                    "2": "PLATINUM  "
                                },
                                {
                                    "0": "41",
                                    "1": "Tailspin Toys (Olivette, MO)",
                                    "2": "PLATINUM  "
                                },
                                {
                                    "0": "42",
                                    "1": "Tailspin Toys (Arietta, NY)",
                                    "2": "PLATINUM  "
                                },
                                {
                                    "0": "43",
                                    "1": "Tailspin Toys (Upper Preston, WA)",
                                    "2": "PLATINUM  "
                                },
                                {
                                    "0": "44",
                                    "1": "Tailspin Toys (Amanda Park, WA)",
                                    "2": "PLATINUM  "
                                },
                                {
                                    "0": "45",
                                    "1": "Tailspin Toys (Severna Park, MD)",
                                    "2": "PLATINUM  "
                                },
                                {
                                    "0": "46",
                                    "1": "Tailspin Toys (Jemison, AL)",
                                    "2": "PLATINUM  "
                                },
                                {
                                    "0": "47",
                                    "1": "Tailspin Toys (Lake Hughes, CA)",
                                    "2": "PLATINUM  "
                                },
                                {
                                    "0": "48",
                                    "1": "Tailspin Toys (Trentwood, WA)",
                                    "2": "PLATINUM  "
                                },
                                {
                                    "0": "49",
                                    "1": "Tailspin Toys (Muir, MI)",
                                    "2": "PLATINUM  "
                                },
                                {
                                    "0": "50",
                                    "1": "Tailspin Toys (Hambleton, WV)",
                                    "2": "PLATINUM  "
                                },
                                {
                                    "0": "51",
                                    "1": "Tailspin Toys (Imlaystown, NJ)",
                                    "2": "PLATINUM  "
                                },
                                {
                                    "0": "52",
                                    "1": "Tailspin Toys (Idria, CA)",
                                    "2": "PLATINUM  "
                                },
                                {
                                    "0": "53",
                                    "1": "Tailspin Toys (Nanafalia, AL)",
                                    "2": "PLATINUM  "
                                },
                                {
                                    "0": "54",
                                    "1": "Tailspin Toys (Railroad, PA)",
                                    "2": "PLATINUM  "
                                },
                                {
                                    "0": "55",
                                    "1": "Tailspin Toys (Gum Branch, GA)",
                                    "2": "PLATINUM  "
                                },
                                {
                                    "0": "56",
                                    "1": "Tailspin Toys (Royal City, WA)",
                                    "2": "PLATINUM  "
                                },
                                {
                                    "0": "57",
                                    "1": "Tailspin Toys (Lakemore, OH)",
                                    "2": "PLATINUM  "
                                },
                                {
                                    "0": "58",
                                    "1": "Tailspin Toys (Mappsburg, VA)",
                                    "2": "PLATINUM  "
                                },
                                {
                                    "0": "59",
                                    "1": "Tailspin Toys (Edgartown, MA)",
                                    "2": "PLATINUM  "
                                },
                                {
                                    "0": "60",
                                    "1": "Tailspin Toys (East Dailey, WV)",
                                    "2": "PLATINUM  "
                                },
                                {
                                    "0": "61",
                                    "1": "Tailspin Toys (Fairfield Glade, TN)",
                                    "2": "PLATINUM  "
                                },
                                {
                                    "0": "62",
                                    "1": "Tailspin Toys (Great Neck Estates, NY)",
                                    "2": "PLATINUM  "
                                },
                                {
                                    "0": "63",
                                    "1": "Tailspin Toys (Stallion Springs, CA)",
                                    "2": "PLATINUM  "
                                },
                                {
                                    "0": "64",
                                    "1": "Tailspin Toys (Hodgdon, ME)",
                                    "2": "PLATINUM  "
                                },
                                {
                                    "0": "65",
                                    "1": "Tailspin Toys (North Cowden, TX)",
                                    "2": "PLATINUM  "
                                },
                                {
                                    "0": "66",
                                    "1": "Tailspin Toys (Madaket, MA)",
                                    "2": "PLATINUM  "
                                },
                                {
                                    "0": "67",
                                    "1": "Tailspin Toys (Sentinel Butte, ND)",
                                    "2": "PLATINUM  "
                                },
                                {
                                    "0": "68",
                                    "1": "Tailspin Toys (Gardere, LA)",
                                    "2": "PLATINUM  "
                                },
                                {
                                    "0": "69",
                                    "1": "Tailspin Toys (Lytle Creek, CA)",
                                    "2": "PLATINUM  "
                                },
                                {
                                    "0": "70",
                                    "1": "Tailspin Toys (New Baden, IL)",
                                    "2": "PLATINUM  "
                                },
                                {
                                    "0": "71",
                                    "1": "Tailspin Toys (Good Hart, MI)",
                                    "2": "PLATINUM  "
                                },
                                {
                                    "0": "72",
                                    "1": "Tailspin Toys (Cortaro, AZ)",
                                    "2": "PLATINUM  "
                                },
                                {
                                    "0": "73",
                                    "1": "Tailspin Toys (Cokato, MN)",
                                    "2": "PLATINUM  "
                                },
                                {
                                    "0": "74",
                                    "1": "Tailspin Toys (Indios, PR)",
                                    "2": "PLATINUM  "
                                },
                                {
                                    "0": "75",
                                    "1": "Tailspin Toys (Windsor Locks, CT)",
                                    "2": "PLATINUM  "
                                },
                                {
                                    "0": "76",
                                    "1": "Tailspin Toys (Yewed, OK)",
                                    "2": "PLATINUM  "
                                },
                                {
                                    "0": "77",
                                    "1": "Tailspin Toys (Hahira, GA)",
                                    "2": "PLATINUM  "
                                },
                                {
                                    "0": "78",
                                    "1": "Tailspin Toys (Sekiu, WA)",
                                    "2": "PLATINUM  "
                                },
                                {
                                    "0": "79",
                                    "1": "Tailspin Toys (Page City, KS)",
                                    "2": "PLATINUM  "
                                },
                                {
                                    "0": "80",
                                    "1": "Tailspin Toys (Valdese, NC)",
                                    "2": "PLATINUM  "
                                },
                                {
                                    "0": "81",
                                    "1": "Tailspin Toys (Big Moose, NY)",
                                    "2": "PLATINUM  "
                                },
                                {
                                    "0": "82",
                                    "1": "Tailspin Toys (La Cueva, NM)",
                                    "2": "PLATINUM  "
                                },
                                {
                                    "0": "83",
                                    "1": "Tailspin Toys (Absecon, NJ)",
                                    "2": "PLATINUM  "
                                },
                                {
                                    "0": "84",
                                    "1": "Tailspin Toys (Aceitunas, PR)",
                                    "2": "PLATINUM  "
                                },
                                {
                                    "0": "85",
                                    "1": "Tailspin Toys (Andrix, CO)",
                                    "2": "PLATINUM  "
                                },
                                {
                                    "0": "86",
                                    "1": "Tailspin Toys (New Lexington, OH)",
                                    "2": "PLATINUM  "
                                },
                                {
                                    "0": "87",
                                    "1": "Tailspin Toys (Sauquoit, NY)",
                                    "2": "PLATINUM  "
                                },
                                {
                                    "0": "88",
                                    "1": "Tailspin Toys (Dracut, MA)",
                                    "2": "PLATINUM  "
                                },
                                {
                                    "0": "89",
                                    "1": "Tailspin Toys (Victory Gardens, NJ)",
                                    "2": "PLATINUM  "
                                },
                                {
                                    "0": "90",
                                    "1": "Tailspin Toys (Tolna, ND)",
                                    "2": "PLATINUM  "
                                },
                                {
                                    "0": "91",
                                    "1": "Tailspin Toys (Alstead, NH)",
                                    "2": "PLATINUM  "
                                },
                                {
                                    "0": "92",
                                    "1": "Tailspin Toys (Sans Souci, SC)",
                                    "2": "PLATINUM  "
                                },
                                {
                                    "0": "93",
                                    "1": "Tailspin Toys (Clewiston, FL)",
                                    "2": "PLATINUM  "
                                },
                                {
                                    "0": "94",
                                    "1": "Tailspin Toys (Cheyenne Wells, CO)",
                                    "2": "PLATINUM  "
                                },
                                {
                                    "0": "95",
                                    "1": "Tailspin Toys (Lavon, TX)",
                                    "2": "PLATINUM  "
                                },
                                {
                                    "0": "96",
                                    "1": "Tailspin Toys (South La Paloma, TX)",
                                    "2": "PLATINUM  "
                                },
                                {
                                    "0": "97",
                                    "1": "Tailspin Toys (Manchester Center, VT)",
                                    "2": "PLATINUM  "
                                },
                                {
                                    "0": "98",
                                    "1": "Tailspin Toys (El Centro, CA)",
                                    "2": "PLATINUM  "
                                },
                                {
                                    "0": "99",
                                    "1": "Tailspin Toys (Guin, AL)",
                                    "2": "PLATINUM  "
                                }
                            ]
                        },
                        "text/html": "<table><tr><th>Customer Key</th><th>Customer</th><th>Discount Price</th></tr><tr><td>0</td><td>Unknown</td><td>PLATINUM  </td></tr><tr><td>1</td><td>Tailspin Toys (Head Office)</td><td>PLATINUM  </td></tr><tr><td>2</td><td>Tailspin Toys (Sylvanite, MT)</td><td>PLATINUM  </td></tr><tr><td>3</td><td>Tailspin Toys (Peeples Valley, AZ)</td><td>PLATINUM  </td></tr><tr><td>4</td><td>Tailspin Toys (Medicine Lodge, KS)</td><td>PLATINUM  </td></tr><tr><td>5</td><td>Tailspin Toys (Gasport, NY)</td><td>PLATINUM  </td></tr><tr><td>6</td><td>Tailspin Toys (Jessie, ND)</td><td>PLATINUM  </td></tr><tr><td>7</td><td>Tailspin Toys (Frankewing, TN)</td><td>PLATINUM  </td></tr><tr><td>8</td><td>Tailspin Toys (Bow Mar, CO)</td><td>PLATINUM  </td></tr><tr><td>9</td><td>Tailspin Toys (Netcong, NJ)</td><td>PLATINUM  </td></tr><tr><td>10</td><td>Tailspin Toys (Wimbledon, ND)</td><td>PLATINUM  </td></tr><tr><td>11</td><td>Tailspin Toys (Devault, PA)</td><td>PLATINUM  </td></tr><tr><td>12</td><td>Tailspin Toys (Biscay, MN)</td><td>PLATINUM  </td></tr><tr><td>13</td><td>Tailspin Toys (Stonefort, IL)</td><td>PLATINUM  </td></tr><tr><td>14</td><td>Tailspin Toys (Long Meadow, MD)</td><td>PLATINUM  </td></tr><tr><td>15</td><td>Tailspin Toys (Batson, TX)</td><td>PLATINUM  </td></tr><tr><td>16</td><td>Tailspin Toys (Coney Island, MO)</td><td>PLATINUM  </td></tr><tr><td>17</td><td>Tailspin Toys (East Fultonham, OH)</td><td>PLATINUM  </td></tr><tr><td>18</td><td>Tailspin Toys (Goffstown, NH)</td><td>PLATINUM  </td></tr><tr><td>19</td><td>Tailspin Toys (Lemeta, AK)</td><td>PLATINUM  </td></tr><tr><td>20</td><td>Tailspin Toys (College Place, WA)</td><td>PLATINUM  </td></tr><tr><td>21</td><td>Tailspin Toys (Tresckow, PA)</td><td>PLATINUM  </td></tr><tr><td>22</td><td>Tailspin Toys (Ward Ridge, FL)</td><td>PLATINUM  </td></tr><tr><td>23</td><td>Tailspin Toys (Ikatan, AK)</td><td>PLATINUM  </td></tr><tr><td>24</td><td>Tailspin Toys (Dundarrach, NC)</td><td>PLATINUM  </td></tr><tr><td>25</td><td>Tailspin Toys (Avenal, CA)</td><td>PLATINUM  </td></tr><tr><td>26</td><td>Tailspin Toys (Hedrick, IA)</td><td>PLATINUM  </td></tr><tr><td>27</td><td>Tailspin Toys (Bowlus, MN)</td><td>PLATINUM  </td></tr><tr><td>28</td><td>Tailspin Toys (North Ridge, NY)</td><td>PLATINUM  </td></tr><tr><td>29</td><td>Tailspin Toys (Eulaton, AL)</td><td>PLATINUM  </td></tr><tr><td>30</td><td>Tailspin Toys (Koontzville, WA)</td><td>PLATINUM  </td></tr><tr><td>31</td><td>Tailspin Toys (Lake Stevens, WA)</td><td>PLATINUM  </td></tr><tr><td>32</td><td>Tailspin Toys (Maypearl, TX)</td><td>PLATINUM  </td></tr><tr><td>33</td><td>Tailspin Toys (Boyden Arbor, SC)</td><td>PLATINUM  </td></tr><tr><td>34</td><td>Tailspin Toys (Dallardsville, TX)</td><td>PLATINUM  </td></tr><tr><td>35</td><td>Tailspin Toys (Slanesville, WV)</td><td>PLATINUM  </td></tr><tr><td>36</td><td>Tailspin Toys (Ekron, KY)</td><td>PLATINUM  </td></tr><tr><td>37</td><td>Tailspin Toys (Kerby, OR)</td><td>PLATINUM  </td></tr><tr><td>38</td><td>Tailspin Toys (Airport Drive, MO)</td><td>PLATINUM  </td></tr><tr><td>39</td><td>Tailspin Toys (Diablock, KY)</td><td>PLATINUM  </td></tr><tr><td>40</td><td>Tailspin Toys (Impact, TX)</td><td>PLATINUM  </td></tr><tr><td>41</td><td>Tailspin Toys (Olivette, MO)</td><td>PLATINUM  </td></tr><tr><td>42</td><td>Tailspin Toys (Arietta, NY)</td><td>PLATINUM  </td></tr><tr><td>43</td><td>Tailspin Toys (Upper Preston, WA)</td><td>PLATINUM  </td></tr><tr><td>44</td><td>Tailspin Toys (Amanda Park, WA)</td><td>PLATINUM  </td></tr><tr><td>45</td><td>Tailspin Toys (Severna Park, MD)</td><td>PLATINUM  </td></tr><tr><td>46</td><td>Tailspin Toys (Jemison, AL)</td><td>PLATINUM  </td></tr><tr><td>47</td><td>Tailspin Toys (Lake Hughes, CA)</td><td>PLATINUM  </td></tr><tr><td>48</td><td>Tailspin Toys (Trentwood, WA)</td><td>PLATINUM  </td></tr><tr><td>49</td><td>Tailspin Toys (Muir, MI)</td><td>PLATINUM  </td></tr><tr><td>50</td><td>Tailspin Toys (Hambleton, WV)</td><td>PLATINUM  </td></tr><tr><td>51</td><td>Tailspin Toys (Imlaystown, NJ)</td><td>PLATINUM  </td></tr><tr><td>52</td><td>Tailspin Toys (Idria, CA)</td><td>PLATINUM  </td></tr><tr><td>53</td><td>Tailspin Toys (Nanafalia, AL)</td><td>PLATINUM  </td></tr><tr><td>54</td><td>Tailspin Toys (Railroad, PA)</td><td>PLATINUM  </td></tr><tr><td>55</td><td>Tailspin Toys (Gum Branch, GA)</td><td>PLATINUM  </td></tr><tr><td>56</td><td>Tailspin Toys (Royal City, WA)</td><td>PLATINUM  </td></tr><tr><td>57</td><td>Tailspin Toys (Lakemore, OH)</td><td>PLATINUM  </td></tr><tr><td>58</td><td>Tailspin Toys (Mappsburg, VA)</td><td>PLATINUM  </td></tr><tr><td>59</td><td>Tailspin Toys (Edgartown, MA)</td><td>PLATINUM  </td></tr><tr><td>60</td><td>Tailspin Toys (East Dailey, WV)</td><td>PLATINUM  </td></tr><tr><td>61</td><td>Tailspin Toys (Fairfield Glade, TN)</td><td>PLATINUM  </td></tr><tr><td>62</td><td>Tailspin Toys (Great Neck Estates, NY)</td><td>PLATINUM  </td></tr><tr><td>63</td><td>Tailspin Toys (Stallion Springs, CA)</td><td>PLATINUM  </td></tr><tr><td>64</td><td>Tailspin Toys (Hodgdon, ME)</td><td>PLATINUM  </td></tr><tr><td>65</td><td>Tailspin Toys (North Cowden, TX)</td><td>PLATINUM  </td></tr><tr><td>66</td><td>Tailspin Toys (Madaket, MA)</td><td>PLATINUM  </td></tr><tr><td>67</td><td>Tailspin Toys (Sentinel Butte, ND)</td><td>PLATINUM  </td></tr><tr><td>68</td><td>Tailspin Toys (Gardere, LA)</td><td>PLATINUM  </td></tr><tr><td>69</td><td>Tailspin Toys (Lytle Creek, CA)</td><td>PLATINUM  </td></tr><tr><td>70</td><td>Tailspin Toys (New Baden, IL)</td><td>PLATINUM  </td></tr><tr><td>71</td><td>Tailspin Toys (Good Hart, MI)</td><td>PLATINUM  </td></tr><tr><td>72</td><td>Tailspin Toys (Cortaro, AZ)</td><td>PLATINUM  </td></tr><tr><td>73</td><td>Tailspin Toys (Cokato, MN)</td><td>PLATINUM  </td></tr><tr><td>74</td><td>Tailspin Toys (Indios, PR)</td><td>PLATINUM  </td></tr><tr><td>75</td><td>Tailspin Toys (Windsor Locks, CT)</td><td>PLATINUM  </td></tr><tr><td>76</td><td>Tailspin Toys (Yewed, OK)</td><td>PLATINUM  </td></tr><tr><td>77</td><td>Tailspin Toys (Hahira, GA)</td><td>PLATINUM  </td></tr><tr><td>78</td><td>Tailspin Toys (Sekiu, WA)</td><td>PLATINUM  </td></tr><tr><td>79</td><td>Tailspin Toys (Page City, KS)</td><td>PLATINUM  </td></tr><tr><td>80</td><td>Tailspin Toys (Valdese, NC)</td><td>PLATINUM  </td></tr><tr><td>81</td><td>Tailspin Toys (Big Moose, NY)</td><td>PLATINUM  </td></tr><tr><td>82</td><td>Tailspin Toys (La Cueva, NM)</td><td>PLATINUM  </td></tr><tr><td>83</td><td>Tailspin Toys (Absecon, NJ)</td><td>PLATINUM  </td></tr><tr><td>84</td><td>Tailspin Toys (Aceitunas, PR)</td><td>PLATINUM  </td></tr><tr><td>85</td><td>Tailspin Toys (Andrix, CO)</td><td>PLATINUM  </td></tr><tr><td>86</td><td>Tailspin Toys (New Lexington, OH)</td><td>PLATINUM  </td></tr><tr><td>87</td><td>Tailspin Toys (Sauquoit, NY)</td><td>PLATINUM  </td></tr><tr><td>88</td><td>Tailspin Toys (Dracut, MA)</td><td>PLATINUM  </td></tr><tr><td>89</td><td>Tailspin Toys (Victory Gardens, NJ)</td><td>PLATINUM  </td></tr><tr><td>90</td><td>Tailspin Toys (Tolna, ND)</td><td>PLATINUM  </td></tr><tr><td>91</td><td>Tailspin Toys (Alstead, NH)</td><td>PLATINUM  </td></tr><tr><td>92</td><td>Tailspin Toys (Sans Souci, SC)</td><td>PLATINUM  </td></tr><tr><td>93</td><td>Tailspin Toys (Clewiston, FL)</td><td>PLATINUM  </td></tr><tr><td>94</td><td>Tailspin Toys (Cheyenne Wells, CO)</td><td>PLATINUM  </td></tr><tr><td>95</td><td>Tailspin Toys (Lavon, TX)</td><td>PLATINUM  </td></tr><tr><td>96</td><td>Tailspin Toys (South La Paloma, TX)</td><td>PLATINUM  </td></tr><tr><td>97</td><td>Tailspin Toys (Manchester Center, VT)</td><td>PLATINUM  </td></tr><tr><td>98</td><td>Tailspin Toys (El Centro, CA)</td><td>PLATINUM  </td></tr><tr><td>99</td><td>Tailspin Toys (Guin, AL)</td><td>PLATINUM  </td></tr></table>"
                    }
                }
            ],
            "execution_count": 5
        },
        {
            "cell_type": "markdown",
            "source": [
                "Observe the query execution plan (or actual plan). Notice the plan now inlines the UDF logic, and SQL Server was able to optimize the plan adequately. As you can see from the execution times, the query with Batch Mode for Rowstore finished much faster! From **~9s** to **~1s**.\r\n",
                "\r\n",
                "![ScalarUDF_Enabled_Plan](./media/ScalarUDF_enabled_plan.PNG)\r\n",
                "\r\n",
                "Notice the *QueryTimeStats* property of the SELECT:\r\n",
                "- The query elapsed and CPU time are identical, which means there is no hidden cost and that is immediately apparent when looking at the plan (for example in the TOP operator. Remember the operator time is cumulative up the plan tree in [row mode execution](https://docs.microsoft.com/sql/relational-databases/query-processing-architecture-guide#execution-modes)).\r\n",
                "- There is no UDF-related execution statistic s, because the UDF was not executed. Instead, its logic was automatically inlined. \r\n",
                "\r\n",
                "![ScalarUDF_enabled_properties](./media/ScalarUDF_enabled_properties.PNG)\r\n",
                "\r\n",
                ""
            ],
            "metadata": {
                "azdata_cell_guid": "0992ad26-d475-47ef-9b3e-5b9ccd429013"
            }
        }
    ]
}