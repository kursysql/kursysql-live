{
    "metadata": {
        "kernelspec": {
            "name": "SQL",
            "display_name": "SQL",
            "language": "sql"
        },
        "language_info": {
            "name": "sql",
            "version": ""
        }
    },
    "nbformat_minor": 2,
    "nbformat": 4,
    "cells": [
        {
            "cell_type": "markdown",
            "source": [
                "# Azure Data Studio\r\n",
                "Tomasz Libera [libera@kursysql.pl](mailto:libera@kursysql.pl)\r\n",
                "\r\n",
                "## Agenda\r\n",
                "* Po co nam kolejne środowisko\r\n",
                "* Edytor\r\n",
                "* Integracja z GIT\r\n",
                "* Jupyter Notebooks\r\n",
                "* Rozszerzenia\r\n",
                "\r\n",
                "## Zasoby\r\n",
                "**[KursySQL](https://www.kursysql.pl)** - [bezpłatny kurs TSQL online, oparty o Azure Data Studio](https://www.kursysql.pl/kurs-t-sql-live-on-line/)\r\n",
                "\r\n",
                "### GitHub\r\n",
                "* [AzureDataStudio](https://github.com/microsoft/azuredatastudio)\r\n",
                "* [sql-server-samples](https://github.com/microsoft/sql-server-samples)"
            ],
            "metadata": {
                "azdata_cell_guid": "0dee7f16-3fb8-4916-a264-a60ff7da01d6"
            }
        },
        {
            "cell_type": "markdown",
            "source": [
                "## Po co nam kolejne środowisko\r\n",
                "### **Azure Data Studio** vs **SQL Server Management Studio** vs **SQL Server Data Tools**\r\n",
                "* Po co interesować się kolejnym narzędziem?\r\n",
                "* Czy Azure Data Studio zastępuje któreś z wyżej wymienionych?\r\n",
                "* Co dodatkowego otrzymujemy w Data Studio, czego nie miałem wcześniej?\r\n",
                "* Czy Data Studio ma jakieś wady, które mogą mi przeszkadzać?"
            ],
            "metadata": {
                "azdata_cell_guid": "0a6560cd-8a01-4a4b-b1d6-ebaeddede159"
            }
        },
        {
            "cell_type": "markdown",
            "source": [
                "## Edytor\r\n",
                "### Interfejs\r\n",
                "* **Connections** Ctrl+Shift+D\r\n",
                " * zarządzenie połączeniami, możliwość tworzenia ale nie edycji połączenia\r\n",
                "* **Search** Ctrl+Shift+S\r\n",
                "* **Jupyter** Books \r\n",
                "* **Explorer** Ctrl+Shift+E\r\n",
                " * otwieranie folderów i repozytoriów\r\n",
                "* **Source Control** Ctrl+Shift+G\r\n",
                "* **Extensions** (Ctr+Shift+X)\r\n",
                "\r\n",
                "### Ustawienia - Manage\r\n",
                "* Settings\r\n",
                " * User %APPDATA%\\azuredatastudio\\User\\settings.json\r\n",
                " * Workspace \r\n",
                "* Color Theme\r\n",
                "* Settings (Ctrl+,)\r\n",
                " * Mouse Wheel Zoom\r\n",
                "\r\n",
                "### Skrypt SQL\r\n",
                "* Intellisense\r\n",
                "* Export do CSV, Excel, JSON, XML\r\n",
                "* Wykresy\r\n",
                "* Command Palette - Ctrl+Shift+P\r\n",
                " * Go to Definition\r\n",
                " * Format Document\r\n",
                " * Settings (Workspace/ User)\r\n",
                "\r\n",
                "### Dashboard\r\n",
                "* Krok po kroku...\r\n",
                " * Utwórz wykres\r\n",
                " * Create Insight\r\n",
                " * Zmiana nazwy, skopiuj\r\n",
                " * Settings - Dashboard : Server/Database : Widgets\r\n",
                " * na końcu wkleić snippet dashboard.database.widgets\r\n",
                " * nadpisać kod wygenerowanym wcześniej Insight\r\n",
                "* [performance monitoring insight](https://docs.microsoft.com/pl-pl/sql/azure-data-studio/tutorial-qds-sql-server?view=sql-server-ver15)\r\n",
                "* [Enable the table space usage insight](https://docs.microsoft.com/pl-pl/sql/azure-data-studio/tutorial-table-space-sql-server?view=sql-server-ver15)\r\n",
                "\r\n",
                "\r\n",
                "\r\n",
                "\r\n",
                "\r\n",
                "\r\n",
                ""
            ],
            "metadata": {
                "azdata_cell_guid": "ec6aac27-5091-496a-b540-7d04f3788541"
            }
        },
        {
            "cell_type": "markdown",
            "source": [
                "## Integracja z GIT"
            ],
            "metadata": {
                "azdata_cell_guid": "e7e5cdb1-8652-4273-b9da-d090048839df"
            }
        },
        {
            "cell_type": "markdown",
            "source": [
                "## Jupyter Notebooks\r\n",
                "### Przykłady\r\n",
                "[SampleTSQLNotebook.ipynb](https://github.com/microsoft/azuredatastudio/blob/master/samples/notebookSamples/SampleTSQLNotebook.ipynb)\r\n",
                "### Markup Language\r\n",
                "TODO\r\n",
                ""
            ],
            "metadata": {
                "azdata_cell_guid": "39db5331-194d-481e-8cd8-fa677a25c443"
            }
        },
        {
            "cell_type": "markdown",
            "source": [
                "## Rozszerzenia"
            ],
            "metadata": {
                "azdata_cell_guid": "dd300e85-4fa1-45a6-a559-bf82e467f77b"
            }
        }
    ]
}