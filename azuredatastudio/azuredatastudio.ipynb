{
    "metadata": {
        "kernelspec": {
            "name": "SQL",
            "display_name": "SQL",
            "language": "sql"
        },
        "language_info": {
            "name": "sql",
            "version": ""
        }
    },
    "nbformat_minor": 2,
    "nbformat": 4,
    "cells": [
        {
            "cell_type": "markdown",
            "source": [
                "# Azure Data Studio\r\n",
                "Tomasz Libera libera@kursysql.pl\r\n",
                "\r\n",
                "\r\n",
                "\r\n",
                "GitHub\r\n",
                "https://github.com/microsoft/azuredatastudio\r\n",
                ""
            ],
            "metadata": {
                "azdata_cell_guid": "0dee7f16-3fb8-4916-a264-a60ff7da01d6"
            }
        }
    ]
}