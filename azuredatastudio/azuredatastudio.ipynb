{
    "metadata": {
        "kernelspec": {
            "name": "SQL",
            "display_name": "SQL",
            "language": "sql"
        },
        "language_info": {
            "name": "sql",
            "version": ""
        }
    },
    "nbformat_minor": 2,
    "nbformat": 4,
    "cells": [
        {
            "cell_type": "markdown",
            "source": [
                "# Azure Data Studio\r\n",
                "Tomasz Libera [libera@kursysql.pl](mailto:libera@kursysql.pl)\r\n",
                "\r\n",
                "## Agenda\r\n",
                "* Po co nam kolejne środowisko\r\n",
                "* Edytor\r\n",
                "* Integracja z GIT\r\n",
                "* Jupyter Notebooks\r\n",
                "* Rozszerzenia\r\n",
                "\r\n",
                "## Zasoby\r\n",
                "**[KursySQL](https://www.kursysql.pl)** - [bezpłatny kurs TSQL online, oparty o Azure Data Studio](https://www.kursysql.pl/kurs-t-sql-live-on-line/)\r\n",
                "\r\n",
                "### GitHub\r\n",
                "* [AzureDataStudio](https://github.com/microsoft/azuredatastudio)\r\n",
                "* [sql-server-samples](https://github.com/microsoft/sql-server-samples)"
            ],
            "metadata": {
                "azdata_cell_guid": "0dee7f16-3fb8-4916-a264-a60ff7da01d6"
            }
        },
        {
            "cell_type": "markdown",
            "source": [
                "## Po co nam kolejne środowisko\r\n",
                "### **Azure Data Studio** vs **SQL Server Management Studio** vs **SQL Server Data Tools**\r\n",
                "* Po co interesować się kolejnym narzędziem?\r\n",
                "* Czy Azure Data Studio zastępuje któreś z wyżej wymienionych?\r\n",
                "* Co dodatkowego otrzymujemy w Data Studio, czego nie miałem wcześniej?\r\n",
                "* Czy Data Studio ma jakieś wady, które mogą mi przeszkadzać?"
            ],
            "metadata": {
                "azdata_cell_guid": "0a6560cd-8a01-4a4b-b1d6-ebaeddede159"
            }
        },
        {
            "cell_type": "markdown",
            "source": [
                "## Edytor\r\n",
                "### Interfejs\r\n",
                "* **Connections** Ctrl+Shift+D\r\n",
                " * zarządzenie połączeniami, możliwość tworzenia ale nie edycja połączenia\r\n",
                "* **Search** Ctrl+Shift+S\r\n",
                "* **Jupyter** Books \r\n",
                "* **Explorer** Ctrl+Shift+E\r\n",
                " * otwieranie folderów i repozytoriów\r\n",
                "* **Source Control** Ctrl+Shift+G\r\n",
                "* **Extensions** (Ctr+Shift+X)\r\n",
                "\r\n",
                "### Ustawienia - Manage\r\n",
                "* Settings\r\n",
                " * User %APPDATA%\\azuredatastudio\\User\\settings.json\r\n",
                " * Workspace \r\n",
                "* Color Theme\r\n",
                "* Settings (Ctrl+,)\r\n",
                " * Mouse Wheel Zoom\r\n",
                "\r\n",
                "### Skrypt SQL\r\n",
                "* Intellisense\r\n",
                "* Export do CSV, Excel, JSON, XML\r\n",
                "* Wykresy\r\n",
                "* Command Palette - Ctrl+Shift+P\r\n",
                " * Go to Definition\r\n",
                " * Peak Definition VS sp_help\r\n",
                " * Format Document\r\n",
                " * Settings (Workspace/ User)\r\n",
                "* Snippet - sql - parametry\r\n",
                "* Plany wykonania zapytań\r\n",
                "\r\n",
                "### Dashboard\r\n",
                "* Select Top 100\r\n",
                "* Edit Data\r\n",
                "* Script As Create\r\n",
                "* Nowy - krok po kroku...\r\n",
                " * Utwórz wykres\r\n",
                " * Create Insight\r\n",
                " * Zmiana nazwy, skopiuj\r\n",
                " * Settings - Dashboard : Server/Database : Widgets\r\n",
                " * na końcu wkleić snippet dashboard.database.widgets\r\n",
                " * nadpisać kod wygenerowanym wcześniej Insight\r\n",
                "* [performance monitoring insight](https://docs.microsoft.com/pl-pl/sql/azure-data-studio/tutorial-qds-sql-server?view=sql-server-ver15)\r\n",
                "* [Enable the table space usage insight](https://docs.microsoft.com/pl-pl/sql/azure-data-studio/tutorial-table-space-sql-server?view=sql-server-ver15)\r\n",
                "\r\n",
                "\r\n",
                "\r\n",
                "\r\n",
                "\r\n",
                "\r\n",
                ""
            ],
            "metadata": {
                "azdata_cell_guid": "ec6aac27-5091-496a-b540-7d04f3788541"
            }
        },
        {
            "cell_type": "markdown",
            "source": [
                "## Integracja z GIT\r\n",
                "GIT nie wymaga instalowania żadnego dodatku/ roszerzenia do ADS, ale trzeba zainstalować git-a\r\n",
                "https://git-scm.com/download/win\r\n",
                "\r\n",
                "* **Commit** - zatwierdzenie zmioenionych plików, zawiera komunikat opisujący zmiany i wskaźnik do poprzedniego commit-a (dzięki temu można przeglądać historię zmian)\r\n",
                "* **Push** - współdzielenie kodu z innymi, wysłanie do repozytorium\r\n",
                "* **Fetch** - pobieranie wszystkich zmian ze zdalnego repo\r\n",
                "* **Merge** - scalenie zmian z lokalnymi plikami\r\n",
                "* **Pull** - Fetch + Merge\r\n",
                "* **Sync** - Pull + Push"
            ],
            "metadata": {
                "azdata_cell_guid": "e7e5cdb1-8652-4273-b9da-d090048839df"
            }
        },
        {
            "cell_type": "markdown",
            "source": [
                "## Jupyter Notebooks\r\n",
                "### Przykłady\r\n",
                "* [SampleTSQLNotebook.ipynb](https://github.com/microsoft/azuredatastudio/blob/master/samples/notebookSamples/SampleTSQLNotebook.ipynb)\r\n",
                "* [sql2019notebooks](sql2019notebooks)\r\n",
                "\r\n",
                "### Markup Language\r\n",
                "\r\n",
                "# H1\r\n",
                "## H2\r\n",
                "### H3\r\n",
                "\r\n",
                "\r\n",
                "**pogrubienie**\r\n",
                "\r\n",
                "*kursywa*\r\n",
                "\r\n",
                "_podkreślenie_\r\n",
                "\r\n",
                "[link](http://kursysql.pl)\r\n",
                "\r\n",
                "* Lista wypunktowana\r\n",
                " * podpunkt 1\r\n",
                " * podpunkt 2\r\n",
                "   * 2a\r\n",
                "   * 2b\r\n",
                " * podpunkt 3\r\n",
                "\r\n",
                "Lista numerowana\r\n",
                "1. Jeden\r\n",
                "2. Dwa\r\n",
                "3. Trzy\r\n",
                "\r\n",
                "\r\n",
                "Fragment kodu\r\n",
                "\r\n",
                "`SELECT database_id, name FROM sys.databases`\r\n",
                "\r\n",
                "Cytowanie\r\n",
                "\r\n",
                "> In this folder, you will find various notebooks that you can use in Azure Data Studio to guide \r\n",
                "\r\n",
                "> you through the new features of SQL Server 2019.\r\n",
                "\r\n",
                "Obrazek\r\n",
                "\r\n",
                "![KursySQL.pl](https://www.kursysql.pl/wp-content/uploads/2019/10/logo.png) \r\n",
                ""
            ],
            "metadata": {
                "azdata_cell_guid": "39db5331-194d-481e-8cd8-fa677a25c443"
            }
        },
        {
            "cell_type": "code",
            "source": [
                "USE AdventureWorks2017\r\n",
                "GO\r\n",
                "\r\n",
                "SELECT TOP 10 p.ProductID, p.Name, p.Color, ps.Name AS SubCategoryName\r\n",
                "FROM Production.Product AS p\r\n",
                "JOIN Production.ProductSubcategory AS ps ON ps.ProductSubcategoryID = p.ProductSubcategoryID\r\n",
                ""
            ],
            "metadata": {
                "azdata_cell_guid": "5a449b5e-bfdd-40cb-9c27-e6897a052c36"
            },
            "outputs": [
                {
                    "output_type": "display_data",
                    "data": {
                        "text/html": "Commands completed successfully."
                    },
                    "metadata": {}
                },
                {
                    "output_type": "display_data",
                    "data": {
                        "text/html": "(10 rows affected)"
                    },
                    "metadata": {}
                },
                {
                    "output_type": "display_data",
                    "data": {
                        "text/html": "Total execution time: 00:00:00.008"
                    },
                    "metadata": {}
                },
                {
                    "output_type": "execute_result",
                    "metadata": {},
                    "execution_count": 3,
                    "data": {
                        "application/vnd.dataresource+json": {
                            "schema": {
                                "fields": [
                                    {
                                        "name": "ProductID"
                                    },
                                    {
                                        "name": "Name"
                                    },
                                    {
                                        "name": "Color"
                                    },
                                    {
                                        "name": "SubCategoryName"
                                    }
                                ]
                            },
                            "data": [
                                {
                                    "0": "680",
                                    "1": "HL Road Frame - Black, 58",
                                    "2": "Black",
                                    "3": "Road Frames"
                                },
                                {
                                    "0": "706",
                                    "1": "HL Road Frame - Red, 58",
                                    "2": "Red",
                                    "3": "Road Frames"
                                },
                                {
                                    "0": "707",
                                    "1": "Sport-100 Helmet, Red",
                                    "2": "Red",
                                    "3": "Helmets"
                                },
                                {
                                    "0": "708",
                                    "1": "Sport-100 Helmet, Black",
                                    "2": "Black",
                                    "3": "Helmets"
                                },
                                {
                                    "0": "709",
                                    "1": "Mountain Bike Socks, M",
                                    "2": "White",
                                    "3": "Socks"
                                },
                                {
                                    "0": "710",
                                    "1": "Mountain Bike Socks, L",
                                    "2": "White",
                                    "3": "Socks"
                                },
                                {
                                    "0": "711",
                                    "1": "Sport-100 Helmet, Blue",
                                    "2": "Blue",
                                    "3": "Helmets"
                                },
                                {
                                    "0": "712",
                                    "1": "AWC Logo Cap",
                                    "2": "Multi",
                                    "3": "Caps"
                                },
                                {
                                    "0": "713",
                                    "1": "Long-Sleeve Logo Jersey, S",
                                    "2": "Multi",
                                    "3": "Jerseys"
                                },
                                {
                                    "0": "714",
                                    "1": "Long-Sleeve Logo Jersey, M",
                                    "2": "Multi",
                                    "3": "Jerseys"
                                }
                            ]
                        },
                        "text/html": "<table><tr><th>ProductID</th><th>Name</th><th>Color</th><th>SubCategoryName</th></tr><tr><td>680</td><td>HL Road Frame - Black, 58</td><td>Black</td><td>Road Frames</td></tr><tr><td>706</td><td>HL Road Frame - Red, 58</td><td>Red</td><td>Road Frames</td></tr><tr><td>707</td><td>Sport-100 Helmet, Red</td><td>Red</td><td>Helmets</td></tr><tr><td>708</td><td>Sport-100 Helmet, Black</td><td>Black</td><td>Helmets</td></tr><tr><td>709</td><td>Mountain Bike Socks, M</td><td>White</td><td>Socks</td></tr><tr><td>710</td><td>Mountain Bike Socks, L</td><td>White</td><td>Socks</td></tr><tr><td>711</td><td>Sport-100 Helmet, Blue</td><td>Blue</td><td>Helmets</td></tr><tr><td>712</td><td>AWC Logo Cap</td><td>Multi</td><td>Caps</td></tr><tr><td>713</td><td>Long-Sleeve Logo Jersey, S</td><td>Multi</td><td>Jerseys</td></tr><tr><td>714</td><td>Long-Sleeve Logo Jersey, M</td><td>Multi</td><td>Jerseys</td></tr></table>"
                    }
                }
            ],
            "execution_count": 3
        },
        {
            "cell_type": "markdown",
            "source": [
                "## Rozszerzenia\r\n",
                "### Admin Pack for SQL Server (Agent, Profiler, Import, dacpac)\r\n",
                "### RedGate SQL Search\r\n",
                "* Install\r\n",
                "* File - Install Extension from VSIX Package\r\n",
                "* Szukanie: Ctrl+Shift+P  \"SQL S\"\r\n",
                "\r\n",
                "### SentryOne PlanExplorer\r\n",
                "W celu instalacji należy się zarejestrować https://www.sentryone.com/products/sentryone-plan-explorer-extension-azure-data-studio\r\n",
                "\r\n",
                "### SSMS Keymap\r\n",
                "Jeśli lubisz swoje skróty z SSMS"
            ],
            "metadata": {
                "azdata_cell_guid": "dd300e85-4fa1-45a6-a559-bf82e467f77b"
            }
        }
    ]
}