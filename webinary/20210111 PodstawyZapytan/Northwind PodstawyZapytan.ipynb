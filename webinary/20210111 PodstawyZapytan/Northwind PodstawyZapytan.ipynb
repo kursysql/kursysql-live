{
    "metadata": {
        "kernelspec": {
            "name": "SQL",
            "display_name": "SQL",
            "language": "sql"
        },
        "language_info": {
            "name": "sql",
            "version": ""
        }
    },
    "nbformat_minor": 2,
    "nbformat": 4,
    "cells": [
        {
            "cell_type": "markdown",
            "source": [
                "![Kursysql.pl](.\\logo.jpg)\n",
                "\n",
                "# Podstawy zapytań\n",
                "\n",
                "11 stycznia 2021 - webinar dla uczestników szkolenia [SQL w 120 min](https://www.kursysql.pl/szkolenie-sql-w-120-minut/)\n",
                "\n",
                "Tomasz Libera [libera@kursysql.pl](mailto:libera@kursysql.pl)\n",
                "\n",
                "## Agenda\n",
                "\n",
                "- SSMS i ADS - szybkie wprowadzenie\n",
                "- Northwind - szybkie wprowadzenie do bazy\n",
                "- Pierwsze zapytania\n",
                "- Sortowanie danych\n",
                "- Zadania A\n",
                "- Filtrowanie danych\n",
                "- Zadania B\n",
                "\n",
                "## Zasoby\n",
                "\n",
                "- [SQL w 120 min](https://www.kursysql.pl/szkolenie-sql-w-120-minut/)\n",
                "- [SQL od podstaw](https://www.kursysql.pl/szkolenie-sql-od-podstaw/) (zapisy do 29 stycznia)\n",
                "- [Instalacja i konfiguracja SQL Server](https://www.youtube.com/watch?v=d_iApF0FC9Q) (zapis webinaru)\n",
                "- [Pobierz: SQL Serveer 2019](https://www.microsoft.com/pl-pl/sql-server/sql-server-downloads)\n",
                "\n",
                "## SSMS i ADS\n",
                "\n",
                "[**SQL Server Management Studio**](https://docs.microsoft.com/pl-pl/sql/ssms/download-sql-server-management-studio-ssms?view=sql-server-ver15) - SSMS\n",
                "\n",
                "- podstawowe środowisko dla administratorów i programistów SQL Server\n",
                "- wiele kreatorów, graficzne tworzenie tabel i widoków, diagramy\n",
                "- konfiguracja instancji i baz danych\n",
                "- wersja tylko dla systemu Windows)\n",
                "\n",
                "[**Azure Data Studio**](https://docs.microsoft.com/en-us/sql/azure-data-studio/download-azure-data-studio?view=sql-server-ver15) - ADS\n",
                "\n",
                "- wieloplatformowe narzędzie Windows/ Linux/ Mac\n",
                "- integracja z Git\n",
                "- obsługuje Jupyter Notebooks\n",
                "- instalowany wraz SSMS\n",
                "\n",
                "## Northwind\n",
                "\n",
                "- [Northwind and pubs sample databases for Microsoft SQL Server](https://github.com/microsoft/sql-server-samples/tree/master/samples/databases/northwind-pubs)\n",
                "- nie trzeba odtwarzać kopii zapasowej - wystarczy wykonać [ten](https://raw.githubusercontent.com/microsoft/sql-server-samples/master/samples/databases/northwind-pubs/instnwnd.sql) skrypt\n",
                "- przykładowa baza danych dołączana do SQL Server 2000 i MS Access\n",
                "- prosta, tylko 13 tabel, wszystkie w schemacie dbo\n",
                "- obecnie jako przykładowe bazy danych częściej wykorzystywane\n",
                "    - [AdventureWorks](https://github.com/Microsoft/sql-server-samples/releases/tag/adventureworks)\n",
                "    - [Wide World Importers](https://github.com/Microsoft/sql-server-samples/releases/tag/wide-world-importers-v1.0)\n",
                "- Tabele: Orders, OrderDetails, Territories, Region, Employees, Product, Categories...\n",
                "\n",
                "## Pierwsze zapytania"
            ],
            "metadata": {
                "azdata_cell_guid": "bc310f0b-6e65-4950-954f-cf3106599bf4"
            }
        },
        {
            "cell_type": "code",
            "source": [
                "-- wszystkie kolumny\r\n",
                "SELECT * FROM Region"
            ],
            "metadata": {
                "azdata_cell_guid": "69a15628-a057-40ac-9ba1-565221c71c21"
            },
            "outputs": [
{
    "output_type": "display_data",
    "data": {
        "text/html": "(4 rows affected)"
    },
    "metadata": {}
}, {
    "output_type": "display_data",
    "data": {
        "text/html": "Total execution time: 00:00:00.004"
    },
    "metadata": {}
}, {
    "output_type": "execute_result",
    "metadata": {
        "resultSet": {
            "id": 0,
            "batchId": 0,
            "rowCount": 4,
            "complete": true,
            "columnInfo": [
                {
                    "isBytes": false,
                    "isChars": false,
                    "isSqlVariant": false,
                    "isUdt": false,
                    "isXml": false,
                    "isJson": false,
                    "sqlDbType": 8,
                    "isHierarchyId": false,
                    "isSqlXmlType": false,
                    "isUnknownType": false,
                    "isUpdatable": true,
                    "allowDBNull": false,
                    "baseCatalogName": null,
                    "baseColumnName": null,
                    "baseSchemaName": null,
                    "baseServerName": null,
                    "baseTableName": null,
                    "columnName": "RegionID",
                    "columnOrdinal": 0,
                    "columnSize": 4,
                    "isAliased": null,
                    "isAutoIncrement": false,
                    "isExpression": null,
                    "isHidden": null,
                    "isIdentity": false,
                    "isKey": null,
                    "isLong": false,
                    "isReadOnly": false,
                    "isUnique": false,
                    "numericPrecision": 10,
                    "numericScale": 255,
                    "udtAssemblyQualifiedName": null,
                    "dataType": "System.Int32, System.Private.CoreLib, Version=4.0.0.0, Culture=neutral, PublicKeyToken=7cec85d7bea7798e",
                    "dataTypeName": "int"
                },
                {
                    "isBytes": false,
                    "isChars": false,
                    "isSqlVariant": false,
                    "isUdt": false,
                    "isXml": false,
                    "isJson": false,
                    "sqlDbType": 10,
                    "isHierarchyId": false,
                    "isSqlXmlType": false,
                    "isUnknownType": false,
                    "isUpdatable": true,
                    "allowDBNull": false,
                    "baseCatalogName": null,
                    "baseColumnName": null,
                    "baseSchemaName": null,
                    "baseServerName": null,
                    "baseTableName": null,
                    "columnName": "RegionDescription",
                    "columnOrdinal": 1,
                    "columnSize": 50,
                    "isAliased": null,
                    "isAutoIncrement": false,
                    "isExpression": null,
                    "isHidden": null,
                    "isIdentity": false,
                    "isKey": null,
                    "isLong": false,
                    "isReadOnly": false,
                    "isUnique": false,
                    "numericPrecision": 255,
                    "numericScale": 255,
                    "udtAssemblyQualifiedName": null,
                    "dataType": "System.String, System.Private.CoreLib, Version=4.0.0.0, Culture=neutral, PublicKeyToken=7cec85d7bea7798e",
                    "dataTypeName": "nchar"
                }
            ],
            "specialAction": {
                "none": true,
                "expectYukonXMLShowPlan": false
            }
        }
    },
    "execution_count": 9,
    "data": {
        "application/vnd.dataresource+json": {
            "schema": {
                "fields": [
                    {
                        "name": "RegionID"
                    },
                    {
                        "name": "RegionDescription"
                    }
                ]
            },
            "data": [
                {
                    "0": "1",
                    "1": "Eastern                                           "
                },
                {
                    "0": "2",
                    "1": "Western                                           "
                },
                {
                    "0": "3",
                    "1": "Northern                                          "
                },
                {
                    "0": "4",
                    "1": "Southern                                          "
                }
            ]
        },
        "text/html": [
            "<table>",
            "<tr><th>RegionID</th><th>RegionDescription</th></tr>",
            "<tr><td>1</td><td>Eastern                                           </td></tr>",
            "<tr><td>2</td><td>Western                                           </td></tr>",
            "<tr><td>3</td><td>Northern                                          </td></tr>",
            "<tr><td>4</td><td>Southern                                          </td></tr>",
            "</table>"
        ]
    }
}
],
            "execution_count": 9
        },
        {
            "cell_type": "code",
            "source": [
                "-- wybrane kolumny\r\n",
                "SELECT EmployeeID, FirstName, LastName, City,  Region, Country \r\n",
                "FROM Employees"
            ],
            "metadata": {
                "azdata_cell_guid": "449627ae-57fb-4bd0-bb1d-0654d2084634"
            },
            "outputs": [
{
    "output_type": "display_data",
    "data": {
        "text/html": "(9 rows affected)"
    },
    "metadata": {}
}, {
    "output_type": "display_data",
    "data": {
        "text/html": "Total execution time: 00:00:00.002"
    },
    "metadata": {}
}, {
    "output_type": "execute_result",
    "metadata": {
        "resultSet": {
            "id": 0,
            "batchId": 0,
            "rowCount": 9,
            "complete": true,
            "columnInfo": [
                {
                    "isBytes": false,
                    "isChars": false,
                    "isSqlVariant": false,
                    "isUdt": false,
                    "isXml": false,
                    "isJson": false,
                    "sqlDbType": 8,
                    "isHierarchyId": false,
                    "isSqlXmlType": false,
                    "isUnknownType": false,
                    "isUpdatable": false,
                    "allowDBNull": false,
                    "baseCatalogName": null,
                    "baseColumnName": null,
                    "baseSchemaName": null,
                    "baseServerName": null,
                    "baseTableName": null,
                    "columnName": "EmployeeID",
                    "columnOrdinal": 0,
                    "columnSize": 4,
                    "isAliased": null,
                    "isAutoIncrement": true,
                    "isExpression": null,
                    "isHidden": null,
                    "isIdentity": true,
                    "isKey": null,
                    "isLong": false,
                    "isReadOnly": true,
                    "isUnique": false,
                    "numericPrecision": 10,
                    "numericScale": 255,
                    "udtAssemblyQualifiedName": null,
                    "dataType": "System.Int32, System.Private.CoreLib, Version=4.0.0.0, Culture=neutral, PublicKeyToken=7cec85d7bea7798e",
                    "dataTypeName": "int"
                },
                {
                    "isBytes": false,
                    "isChars": true,
                    "isSqlVariant": false,
                    "isUdt": false,
                    "isXml": false,
                    "isJson": false,
                    "sqlDbType": 12,
                    "isHierarchyId": false,
                    "isSqlXmlType": false,
                    "isUnknownType": false,
                    "isUpdatable": true,
                    "allowDBNull": false,
                    "baseCatalogName": null,
                    "baseColumnName": null,
                    "baseSchemaName": null,
                    "baseServerName": null,
                    "baseTableName": null,
                    "columnName": "FirstName",
                    "columnOrdinal": 1,
                    "columnSize": 10,
                    "isAliased": null,
                    "isAutoIncrement": false,
                    "isExpression": null,
                    "isHidden": null,
                    "isIdentity": false,
                    "isKey": null,
                    "isLong": false,
                    "isReadOnly": false,
                    "isUnique": false,
                    "numericPrecision": 255,
                    "numericScale": 255,
                    "udtAssemblyQualifiedName": null,
                    "dataType": "System.String, System.Private.CoreLib, Version=4.0.0.0, Culture=neutral, PublicKeyToken=7cec85d7bea7798e",
                    "dataTypeName": "nvarchar"
                },
                {
                    "isBytes": false,
                    "isChars": true,
                    "isSqlVariant": false,
                    "isUdt": false,
                    "isXml": false,
                    "isJson": false,
                    "sqlDbType": 12,
                    "isHierarchyId": false,
                    "isSqlXmlType": false,
                    "isUnknownType": false,
                    "isUpdatable": true,
                    "allowDBNull": false,
                    "baseCatalogName": null,
                    "baseColumnName": null,
                    "baseSchemaName": null,
                    "baseServerName": null,
                    "baseTableName": null,
                    "columnName": "LastName",
                    "columnOrdinal": 2,
                    "columnSize": 20,
                    "isAliased": null,
                    "isAutoIncrement": false,
                    "isExpression": null,
                    "isHidden": null,
                    "isIdentity": false,
                    "isKey": null,
                    "isLong": false,
                    "isReadOnly": false,
                    "isUnique": false,
                    "numericPrecision": 255,
                    "numericScale": 255,
                    "udtAssemblyQualifiedName": null,
                    "dataType": "System.String, System.Private.CoreLib, Version=4.0.0.0, Culture=neutral, PublicKeyToken=7cec85d7bea7798e",
                    "dataTypeName": "nvarchar"
                },
                {
                    "isBytes": false,
                    "isChars": true,
                    "isSqlVariant": false,
                    "isUdt": false,
                    "isXml": false,
                    "isJson": false,
                    "sqlDbType": 12,
                    "isHierarchyId": false,
                    "isSqlXmlType": false,
                    "isUnknownType": false,
                    "isUpdatable": true,
                    "allowDBNull": true,
                    "baseCatalogName": null,
                    "baseColumnName": null,
                    "baseSchemaName": null,
                    "baseServerName": null,
                    "baseTableName": null,
                    "columnName": "City",
                    "columnOrdinal": 3,
                    "columnSize": 15,
                    "isAliased": null,
                    "isAutoIncrement": false,
                    "isExpression": null,
                    "isHidden": null,
                    "isIdentity": false,
                    "isKey": null,
                    "isLong": false,
                    "isReadOnly": false,
                    "isUnique": false,
                    "numericPrecision": 255,
                    "numericScale": 255,
                    "udtAssemblyQualifiedName": null,
                    "dataType": "System.String, System.Private.CoreLib, Version=4.0.0.0, Culture=neutral, PublicKeyToken=7cec85d7bea7798e",
                    "dataTypeName": "nvarchar"
                },
                {
                    "isBytes": false,
                    "isChars": true,
                    "isSqlVariant": false,
                    "isUdt": false,
                    "isXml": false,
                    "isJson": false,
                    "sqlDbType": 12,
                    "isHierarchyId": false,
                    "isSqlXmlType": false,
                    "isUnknownType": false,
                    "isUpdatable": true,
                    "allowDBNull": true,
                    "baseCatalogName": null,
                    "baseColumnName": null,
                    "baseSchemaName": null,
                    "baseServerName": null,
                    "baseTableName": null,
                    "columnName": "Region",
                    "columnOrdinal": 4,
                    "columnSize": 15,
                    "isAliased": null,
                    "isAutoIncrement": false,
                    "isExpression": null,
                    "isHidden": null,
                    "isIdentity": false,
                    "isKey": null,
                    "isLong": false,
                    "isReadOnly": false,
                    "isUnique": false,
                    "numericPrecision": 255,
                    "numericScale": 255,
                    "udtAssemblyQualifiedName": null,
                    "dataType": "System.String, System.Private.CoreLib, Version=4.0.0.0, Culture=neutral, PublicKeyToken=7cec85d7bea7798e",
                    "dataTypeName": "nvarchar"
                },
                {
                    "isBytes": false,
                    "isChars": true,
                    "isSqlVariant": false,
                    "isUdt": false,
                    "isXml": false,
                    "isJson": false,
                    "sqlDbType": 12,
                    "isHierarchyId": false,
                    "isSqlXmlType": false,
                    "isUnknownType": false,
                    "isUpdatable": true,
                    "allowDBNull": true,
                    "baseCatalogName": null,
                    "baseColumnName": null,
                    "baseSchemaName": null,
                    "baseServerName": null,
                    "baseTableName": null,
                    "columnName": "Country",
                    "columnOrdinal": 5,
                    "columnSize": 15,
                    "isAliased": null,
                    "isAutoIncrement": false,
                    "isExpression": null,
                    "isHidden": null,
                    "isIdentity": false,
                    "isKey": null,
                    "isLong": false,
                    "isReadOnly": false,
                    "isUnique": false,
                    "numericPrecision": 255,
                    "numericScale": 255,
                    "udtAssemblyQualifiedName": null,
                    "dataType": "System.String, System.Private.CoreLib, Version=4.0.0.0, Culture=neutral, PublicKeyToken=7cec85d7bea7798e",
                    "dataTypeName": "nvarchar"
                }
            ],
            "specialAction": {
                "none": true,
                "expectYukonXMLShowPlan": false
            }
        }
    },
    "execution_count": 10,
    "data": {
        "application/vnd.dataresource+json": {
            "schema": {
                "fields": [
                    {
                        "name": "EmployeeID"
                    },
                    {
                        "name": "FirstName"
                    },
                    {
                        "name": "LastName"
                    },
                    {
                        "name": "City"
                    },
                    {
                        "name": "Region"
                    },
                    {
                        "name": "Country"
                    }
                ]
            },
            "data": [
                {
                    "0": "1",
                    "1": "Nancy",
                    "2": "Davolio",
                    "3": "Seattle",
                    "4": "WA",
                    "5": "USA"
                },
                {
                    "0": "2",
                    "1": "Andrew",
                    "2": "Fuller",
                    "3": "Tacoma",
                    "4": "WA",
                    "5": "USA"
                },
                {
                    "0": "3",
                    "1": "Janet",
                    "2": "Leverling",
                    "3": "Kirkland",
                    "4": "WA",
                    "5": "USA"
                },
                {
                    "0": "4",
                    "1": "Margaret",
                    "2": "Peacock",
                    "3": "Redmond",
                    "4": "WA",
                    "5": "USA"
                },
                {
                    "0": "5",
                    "1": "Steven",
                    "2": "Buchanan",
                    "3": "London",
                    "4": "NULL",
                    "5": "UK"
                },
                {
                    "0": "6",
                    "1": "Michael",
                    "2": "Suyama",
                    "3": "London",
                    "4": "NULL",
                    "5": "UK"
                },
                {
                    "0": "7",
                    "1": "Robert",
                    "2": "King",
                    "3": "London",
                    "4": "NULL",
                    "5": "UK"
                },
                {
                    "0": "8",
                    "1": "Laura",
                    "2": "Callahan",
                    "3": "Seattle",
                    "4": "WA",
                    "5": "USA"
                },
                {
                    "0": "9",
                    "1": "Anne",
                    "2": "Dodsworth",
                    "3": "London",
                    "4": "NULL",
                    "5": "UK"
                }
            ]
        },
        "text/html": [
            "<table>",
            "<tr><th>EmployeeID</th><th>FirstName</th><th>LastName</th><th>City</th><th>Region</th><th>Country</th></tr>",
            "<tr><td>1</td><td>Nancy</td><td>Davolio</td><td>Seattle</td><td>WA</td><td>USA</td></tr>",
            "<tr><td>2</td><td>Andrew</td><td>Fuller</td><td>Tacoma</td><td>WA</td><td>USA</td></tr>",
            "<tr><td>3</td><td>Janet</td><td>Leverling</td><td>Kirkland</td><td>WA</td><td>USA</td></tr>",
            "<tr><td>4</td><td>Margaret</td><td>Peacock</td><td>Redmond</td><td>WA</td><td>USA</td></tr>",
            "<tr><td>5</td><td>Steven</td><td>Buchanan</td><td>London</td><td>NULL</td><td>UK</td></tr>",
            "<tr><td>6</td><td>Michael</td><td>Suyama</td><td>London</td><td>NULL</td><td>UK</td></tr>",
            "<tr><td>7</td><td>Robert</td><td>King</td><td>London</td><td>NULL</td><td>UK</td></tr>",
            "<tr><td>8</td><td>Laura</td><td>Callahan</td><td>Seattle</td><td>WA</td><td>USA</td></tr>",
            "<tr><td>9</td><td>Anne</td><td>Dodsworth</td><td>London</td><td>NULL</td><td>UK</td></tr>",
            "</table>"
        ]
    }
}
],
            "execution_count": 10
        },
        {
            "cell_type": "code",
            "source": [
                "-- aliasy kolumn\r\n",
                "SELECT EmployeeID AS PracownikID, FirstName AS Imie, LastName AS Nazwisko, City AS Miasto,  Region AS Region, Country AS Panstwo\r\n",
                "FROM Employees"
            ],
            "metadata": {
                "azdata_cell_guid": "ec9fd6ab-1905-4f66-859a-85313b4d5d9b"
            },
            "outputs": [
{
    "output_type": "display_data",
    "data": {
        "text/html": "(9 rows affected)"
    },
    "metadata": {}
}, {
    "output_type": "display_data",
    "data": {
        "text/html": "Total execution time: 00:00:00.008"
    },
    "metadata": {}
}, {
    "output_type": "execute_result",
    "metadata": {
        "resultSet": {
            "id": 0,
            "batchId": 0,
            "rowCount": 9,
            "complete": true,
            "columnInfo": [
                {
                    "isBytes": false,
                    "isChars": false,
                    "isSqlVariant": false,
                    "isUdt": false,
                    "isXml": false,
                    "isJson": false,
                    "sqlDbType": 8,
                    "isHierarchyId": false,
                    "isSqlXmlType": false,
                    "isUnknownType": false,
                    "isUpdatable": false,
                    "allowDBNull": false,
                    "baseCatalogName": null,
                    "baseColumnName": null,
                    "baseSchemaName": null,
                    "baseServerName": null,
                    "baseTableName": null,
                    "columnName": "PracownikID",
                    "columnOrdinal": 0,
                    "columnSize": 4,
                    "isAliased": null,
                    "isAutoIncrement": true,
                    "isExpression": null,
                    "isHidden": null,
                    "isIdentity": true,
                    "isKey": null,
                    "isLong": false,
                    "isReadOnly": true,
                    "isUnique": false,
                    "numericPrecision": 10,
                    "numericScale": 255,
                    "udtAssemblyQualifiedName": null,
                    "dataType": "System.Int32, System.Private.CoreLib, Version=4.0.0.0, Culture=neutral, PublicKeyToken=7cec85d7bea7798e",
                    "dataTypeName": "int"
                },
                {
                    "isBytes": false,
                    "isChars": true,
                    "isSqlVariant": false,
                    "isUdt": false,
                    "isXml": false,
                    "isJson": false,
                    "sqlDbType": 12,
                    "isHierarchyId": false,
                    "isSqlXmlType": false,
                    "isUnknownType": false,
                    "isUpdatable": true,
                    "allowDBNull": false,
                    "baseCatalogName": null,
                    "baseColumnName": null,
                    "baseSchemaName": null,
                    "baseServerName": null,
                    "baseTableName": null,
                    "columnName": "Imie",
                    "columnOrdinal": 1,
                    "columnSize": 10,
                    "isAliased": null,
                    "isAutoIncrement": false,
                    "isExpression": null,
                    "isHidden": null,
                    "isIdentity": false,
                    "isKey": null,
                    "isLong": false,
                    "isReadOnly": false,
                    "isUnique": false,
                    "numericPrecision": 255,
                    "numericScale": 255,
                    "udtAssemblyQualifiedName": null,
                    "dataType": "System.String, System.Private.CoreLib, Version=4.0.0.0, Culture=neutral, PublicKeyToken=7cec85d7bea7798e",
                    "dataTypeName": "nvarchar"
                },
                {
                    "isBytes": false,
                    "isChars": true,
                    "isSqlVariant": false,
                    "isUdt": false,
                    "isXml": false,
                    "isJson": false,
                    "sqlDbType": 12,
                    "isHierarchyId": false,
                    "isSqlXmlType": false,
                    "isUnknownType": false,
                    "isUpdatable": true,
                    "allowDBNull": false,
                    "baseCatalogName": null,
                    "baseColumnName": null,
                    "baseSchemaName": null,
                    "baseServerName": null,
                    "baseTableName": null,
                    "columnName": "Nazwisko",
                    "columnOrdinal": 2,
                    "columnSize": 20,
                    "isAliased": null,
                    "isAutoIncrement": false,
                    "isExpression": null,
                    "isHidden": null,
                    "isIdentity": false,
                    "isKey": null,
                    "isLong": false,
                    "isReadOnly": false,
                    "isUnique": false,
                    "numericPrecision": 255,
                    "numericScale": 255,
                    "udtAssemblyQualifiedName": null,
                    "dataType": "System.String, System.Private.CoreLib, Version=4.0.0.0, Culture=neutral, PublicKeyToken=7cec85d7bea7798e",
                    "dataTypeName": "nvarchar"
                },
                {
                    "isBytes": false,
                    "isChars": true,
                    "isSqlVariant": false,
                    "isUdt": false,
                    "isXml": false,
                    "isJson": false,
                    "sqlDbType": 12,
                    "isHierarchyId": false,
                    "isSqlXmlType": false,
                    "isUnknownType": false,
                    "isUpdatable": true,
                    "allowDBNull": true,
                    "baseCatalogName": null,
                    "baseColumnName": null,
                    "baseSchemaName": null,
                    "baseServerName": null,
                    "baseTableName": null,
                    "columnName": "Miasto",
                    "columnOrdinal": 3,
                    "columnSize": 15,
                    "isAliased": null,
                    "isAutoIncrement": false,
                    "isExpression": null,
                    "isHidden": null,
                    "isIdentity": false,
                    "isKey": null,
                    "isLong": false,
                    "isReadOnly": false,
                    "isUnique": false,
                    "numericPrecision": 255,
                    "numericScale": 255,
                    "udtAssemblyQualifiedName": null,
                    "dataType": "System.String, System.Private.CoreLib, Version=4.0.0.0, Culture=neutral, PublicKeyToken=7cec85d7bea7798e",
                    "dataTypeName": "nvarchar"
                },
                {
                    "isBytes": false,
                    "isChars": true,
                    "isSqlVariant": false,
                    "isUdt": false,
                    "isXml": false,
                    "isJson": false,
                    "sqlDbType": 12,
                    "isHierarchyId": false,
                    "isSqlXmlType": false,
                    "isUnknownType": false,
                    "isUpdatable": true,
                    "allowDBNull": true,
                    "baseCatalogName": null,
                    "baseColumnName": null,
                    "baseSchemaName": null,
                    "baseServerName": null,
                    "baseTableName": null,
                    "columnName": "Region",
                    "columnOrdinal": 4,
                    "columnSize": 15,
                    "isAliased": null,
                    "isAutoIncrement": false,
                    "isExpression": null,
                    "isHidden": null,
                    "isIdentity": false,
                    "isKey": null,
                    "isLong": false,
                    "isReadOnly": false,
                    "isUnique": false,
                    "numericPrecision": 255,
                    "numericScale": 255,
                    "udtAssemblyQualifiedName": null,
                    "dataType": "System.String, System.Private.CoreLib, Version=4.0.0.0, Culture=neutral, PublicKeyToken=7cec85d7bea7798e",
                    "dataTypeName": "nvarchar"
                },
                {
                    "isBytes": false,
                    "isChars": true,
                    "isSqlVariant": false,
                    "isUdt": false,
                    "isXml": false,
                    "isJson": false,
                    "sqlDbType": 12,
                    "isHierarchyId": false,
                    "isSqlXmlType": false,
                    "isUnknownType": false,
                    "isUpdatable": true,
                    "allowDBNull": true,
                    "baseCatalogName": null,
                    "baseColumnName": null,
                    "baseSchemaName": null,
                    "baseServerName": null,
                    "baseTableName": null,
                    "columnName": "Panstwo",
                    "columnOrdinal": 5,
                    "columnSize": 15,
                    "isAliased": null,
                    "isAutoIncrement": false,
                    "isExpression": null,
                    "isHidden": null,
                    "isIdentity": false,
                    "isKey": null,
                    "isLong": false,
                    "isReadOnly": false,
                    "isUnique": false,
                    "numericPrecision": 255,
                    "numericScale": 255,
                    "udtAssemblyQualifiedName": null,
                    "dataType": "System.String, System.Private.CoreLib, Version=4.0.0.0, Culture=neutral, PublicKeyToken=7cec85d7bea7798e",
                    "dataTypeName": "nvarchar"
                }
            ],
            "specialAction": {
                "none": true,
                "expectYukonXMLShowPlan": false
            }
        }
    },
    "execution_count": 11,
    "data": {
        "application/vnd.dataresource+json": {
            "schema": {
                "fields": [
                    {
                        "name": "PracownikID"
                    },
                    {
                        "name": "Imie"
                    },
                    {
                        "name": "Nazwisko"
                    },
                    {
                        "name": "Miasto"
                    },
                    {
                        "name": "Region"
                    },
                    {
                        "name": "Panstwo"
                    }
                ]
            },
            "data": [
                {
                    "0": "1",
                    "1": "Nancy",
                    "2": "Davolio",
                    "3": "Seattle",
                    "4": "WA",
                    "5": "USA"
                },
                {
                    "0": "2",
                    "1": "Andrew",
                    "2": "Fuller",
                    "3": "Tacoma",
                    "4": "WA",
                    "5": "USA"
                },
                {
                    "0": "3",
                    "1": "Janet",
                    "2": "Leverling",
                    "3": "Kirkland",
                    "4": "WA",
                    "5": "USA"
                },
                {
                    "0": "4",
                    "1": "Margaret",
                    "2": "Peacock",
                    "3": "Redmond",
                    "4": "WA",
                    "5": "USA"
                },
                {
                    "0": "5",
                    "1": "Steven",
                    "2": "Buchanan",
                    "3": "London",
                    "4": "NULL",
                    "5": "UK"
                },
                {
                    "0": "6",
                    "1": "Michael",
                    "2": "Suyama",
                    "3": "London",
                    "4": "NULL",
                    "5": "UK"
                },
                {
                    "0": "7",
                    "1": "Robert",
                    "2": "King",
                    "3": "London",
                    "4": "NULL",
                    "5": "UK"
                },
                {
                    "0": "8",
                    "1": "Laura",
                    "2": "Callahan",
                    "3": "Seattle",
                    "4": "WA",
                    "5": "USA"
                },
                {
                    "0": "9",
                    "1": "Anne",
                    "2": "Dodsworth",
                    "3": "London",
                    "4": "NULL",
                    "5": "UK"
                }
            ]
        },
        "text/html": [
            "<table>",
            "<tr><th>PracownikID</th><th>Imie</th><th>Nazwisko</th><th>Miasto</th><th>Region</th><th>Panstwo</th></tr>",
            "<tr><td>1</td><td>Nancy</td><td>Davolio</td><td>Seattle</td><td>WA</td><td>USA</td></tr>",
            "<tr><td>2</td><td>Andrew</td><td>Fuller</td><td>Tacoma</td><td>WA</td><td>USA</td></tr>",
            "<tr><td>3</td><td>Janet</td><td>Leverling</td><td>Kirkland</td><td>WA</td><td>USA</td></tr>",
            "<tr><td>4</td><td>Margaret</td><td>Peacock</td><td>Redmond</td><td>WA</td><td>USA</td></tr>",
            "<tr><td>5</td><td>Steven</td><td>Buchanan</td><td>London</td><td>NULL</td><td>UK</td></tr>",
            "<tr><td>6</td><td>Michael</td><td>Suyama</td><td>London</td><td>NULL</td><td>UK</td></tr>",
            "<tr><td>7</td><td>Robert</td><td>King</td><td>London</td><td>NULL</td><td>UK</td></tr>",
            "<tr><td>8</td><td>Laura</td><td>Callahan</td><td>Seattle</td><td>WA</td><td>USA</td></tr>",
            "<tr><td>9</td><td>Anne</td><td>Dodsworth</td><td>London</td><td>NULL</td><td>UK</td></tr>",
            "</table>"
        ]
    }
}
],
            "execution_count": 11
        },
        {
            "cell_type": "code",
            "source": [
                "-- zawartość jednej kolumny\r\n",
                "SELECT Country \r\n",
                "FROM Employees"
            ],
            "metadata": {
                "azdata_cell_guid": "15628b80-6378-43ae-8bcd-357ecab38baa"
            },
            "outputs": [
{
    "output_type": "display_data",
    "data": {
        "text/html": "(9 rows affected)"
    },
    "metadata": {}
}, {
    "output_type": "display_data",
    "data": {
        "text/html": "Total execution time: 00:00:00.004"
    },
    "metadata": {}
}, {
    "output_type": "execute_result",
    "metadata": {
        "resultSet": {
            "id": 0,
            "batchId": 0,
            "rowCount": 9,
            "complete": true,
            "columnInfo": [
                {
                    "isBytes": false,
                    "isChars": true,
                    "isSqlVariant": false,
                    "isUdt": false,
                    "isXml": false,
                    "isJson": false,
                    "sqlDbType": 12,
                    "isHierarchyId": false,
                    "isSqlXmlType": false,
                    "isUnknownType": false,
                    "isUpdatable": true,
                    "allowDBNull": true,
                    "baseCatalogName": null,
                    "baseColumnName": null,
                    "baseSchemaName": null,
                    "baseServerName": null,
                    "baseTableName": null,
                    "columnName": "Country",
                    "columnOrdinal": 0,
                    "columnSize": 15,
                    "isAliased": null,
                    "isAutoIncrement": false,
                    "isExpression": null,
                    "isHidden": null,
                    "isIdentity": false,
                    "isKey": null,
                    "isLong": false,
                    "isReadOnly": false,
                    "isUnique": false,
                    "numericPrecision": 255,
                    "numericScale": 255,
                    "udtAssemblyQualifiedName": null,
                    "dataType": "System.String, System.Private.CoreLib, Version=4.0.0.0, Culture=neutral, PublicKeyToken=7cec85d7bea7798e",
                    "dataTypeName": "nvarchar"
                }
            ],
            "specialAction": {
                "none": true,
                "expectYukonXMLShowPlan": false
            }
        }
    },
    "execution_count": 12,
    "data": {
        "application/vnd.dataresource+json": {
            "schema": {
                "fields": [
                    {
                        "name": "Country"
                    }
                ]
            },
            "data": [
                {
                    "0": "USA"
                },
                {
                    "0": "USA"
                },
                {
                    "0": "USA"
                },
                {
                    "0": "USA"
                },
                {
                    "0": "UK"
                },
                {
                    "0": "UK"
                },
                {
                    "0": "UK"
                },
                {
                    "0": "USA"
                },
                {
                    "0": "UK"
                }
            ]
        },
        "text/html": [
            "<table>",
            "<tr><th>Country</th></tr>",
            "<tr><td>USA</td></tr>",
            "<tr><td>USA</td></tr>",
            "<tr><td>USA</td></tr>",
            "<tr><td>USA</td></tr>",
            "<tr><td>UK</td></tr>",
            "<tr><td>UK</td></tr>",
            "<tr><td>UK</td></tr>",
            "<tr><td>USA</td></tr>",
            "<tr><td>UK</td></tr>",
            "</table>"
        ]
    }
}
],
            "execution_count": 12
        },
        {
            "cell_type": "code",
            "source": [
                "-- zawartość jednej kolumny, bez powtózeń\r\n",
                "SELECT DISTINCT Country \r\n",
                "FROM Employees"
            ],
            "metadata": {
                "azdata_cell_guid": "2e164551-60f4-45c7-a061-77f7ba770655"
            },
            "outputs": [
{
    "output_type": "display_data",
    "data": {
        "text/html": "(2 rows affected)"
    },
    "metadata": {}
}, {
    "output_type": "display_data",
    "data": {
        "text/html": "Total execution time: 00:00:00.002"
    },
    "metadata": {}
}, {
    "output_type": "execute_result",
    "metadata": {
        "resultSet": {
            "id": 0,
            "batchId": 0,
            "rowCount": 2,
            "complete": true,
            "columnInfo": [
                {
                    "isBytes": false,
                    "isChars": true,
                    "isSqlVariant": false,
                    "isUdt": false,
                    "isXml": false,
                    "isJson": false,
                    "sqlDbType": 12,
                    "isHierarchyId": false,
                    "isSqlXmlType": false,
                    "isUnknownType": false,
                    "isUpdatable": true,
                    "allowDBNull": true,
                    "baseCatalogName": null,
                    "baseColumnName": null,
                    "baseSchemaName": null,
                    "baseServerName": null,
                    "baseTableName": null,
                    "columnName": "Country",
                    "columnOrdinal": 0,
                    "columnSize": 15,
                    "isAliased": null,
                    "isAutoIncrement": false,
                    "isExpression": null,
                    "isHidden": null,
                    "isIdentity": false,
                    "isKey": null,
                    "isLong": false,
                    "isReadOnly": false,
                    "isUnique": false,
                    "numericPrecision": 255,
                    "numericScale": 255,
                    "udtAssemblyQualifiedName": null,
                    "dataType": "System.String, System.Private.CoreLib, Version=4.0.0.0, Culture=neutral, PublicKeyToken=7cec85d7bea7798e",
                    "dataTypeName": "nvarchar"
                }
            ],
            "specialAction": {
                "none": true,
                "expectYukonXMLShowPlan": false
            }
        }
    },
    "execution_count": 13,
    "data": {
        "application/vnd.dataresource+json": {
            "schema": {
                "fields": [
                    {
                        "name": "Country"
                    }
                ]
            },
            "data": [
                {
                    "0": "UK"
                },
                {
                    "0": "USA"
                }
            ]
        },
        "text/html": [
            "<table>",
            "<tr><th>Country</th></tr>",
            "<tr><td>UK</td></tr>",
            "<tr><td>USA</td></tr>",
            "</table>"
        ]
    }
}
],
            "execution_count": 13
        },
        {
            "cell_type": "code",
            "source": [
                "-- pierwszych 10 wierszy\r\n",
                "SELECT TOP 10 *\r\n",
                "FROM Orders"
            ],
            "metadata": {
                "azdata_cell_guid": "42facc88-2498-4a9d-a4ac-56fccaecaec6",
                "tags": []
            },
            "outputs": [
{
    "output_type": "display_data",
    "data": {
        "text/html": "(10 rows affected)"
    },
    "metadata": {}
}, {
    "output_type": "display_data",
    "data": {
        "text/html": "Total execution time: 00:00:00.004"
    },
    "metadata": {}
}, {
    "output_type": "execute_result",
    "metadata": {
        "resultSet": {
            "id": 0,
            "batchId": 0,
            "rowCount": 10,
            "complete": true,
            "columnInfo": [
                {
                    "isBytes": false,
                    "isChars": false,
                    "isSqlVariant": false,
                    "isUdt": false,
                    "isXml": false,
                    "isJson": false,
                    "sqlDbType": 8,
                    "isHierarchyId": false,
                    "isSqlXmlType": false,
                    "isUnknownType": false,
                    "isUpdatable": false,
                    "allowDBNull": false,
                    "baseCatalogName": null,
                    "baseColumnName": null,
                    "baseSchemaName": null,
                    "baseServerName": null,
                    "baseTableName": null,
                    "columnName": "OrderID",
                    "columnOrdinal": 0,
                    "columnSize": 4,
                    "isAliased": null,
                    "isAutoIncrement": true,
                    "isExpression": null,
                    "isHidden": null,
                    "isIdentity": true,
                    "isKey": null,
                    "isLong": false,
                    "isReadOnly": true,
                    "isUnique": false,
                    "numericPrecision": 10,
                    "numericScale": 255,
                    "udtAssemblyQualifiedName": null,
                    "dataType": "System.Int32, System.Private.CoreLib, Version=4.0.0.0, Culture=neutral, PublicKeyToken=7cec85d7bea7798e",
                    "dataTypeName": "int"
                },
                {
                    "isBytes": false,
                    "isChars": false,
                    "isSqlVariant": false,
                    "isUdt": false,
                    "isXml": false,
                    "isJson": false,
                    "sqlDbType": 10,
                    "isHierarchyId": false,
                    "isSqlXmlType": false,
                    "isUnknownType": false,
                    "isUpdatable": true,
                    "allowDBNull": true,
                    "baseCatalogName": null,
                    "baseColumnName": null,
                    "baseSchemaName": null,
                    "baseServerName": null,
                    "baseTableName": null,
                    "columnName": "CustomerID",
                    "columnOrdinal": 1,
                    "columnSize": 5,
                    "isAliased": null,
                    "isAutoIncrement": false,
                    "isExpression": null,
                    "isHidden": null,
                    "isIdentity": false,
                    "isKey": null,
                    "isLong": false,
                    "isReadOnly": false,
                    "isUnique": false,
                    "numericPrecision": 255,
                    "numericScale": 255,
                    "udtAssemblyQualifiedName": null,
                    "dataType": "System.String, System.Private.CoreLib, Version=4.0.0.0, Culture=neutral, PublicKeyToken=7cec85d7bea7798e",
                    "dataTypeName": "nchar"
                },
                {
                    "isBytes": false,
                    "isChars": false,
                    "isSqlVariant": false,
                    "isUdt": false,
                    "isXml": false,
                    "isJson": false,
                    "sqlDbType": 8,
                    "isHierarchyId": false,
                    "isSqlXmlType": false,
                    "isUnknownType": false,
                    "isUpdatable": true,
                    "allowDBNull": true,
                    "baseCatalogName": null,
                    "baseColumnName": null,
                    "baseSchemaName": null,
                    "baseServerName": null,
                    "baseTableName": null,
                    "columnName": "EmployeeID",
                    "columnOrdinal": 2,
                    "columnSize": 4,
                    "isAliased": null,
                    "isAutoIncrement": false,
                    "isExpression": null,
                    "isHidden": null,
                    "isIdentity": false,
                    "isKey": null,
                    "isLong": false,
                    "isReadOnly": false,
                    "isUnique": false,
                    "numericPrecision": 10,
                    "numericScale": 255,
                    "udtAssemblyQualifiedName": null,
                    "dataType": "System.Int32, System.Private.CoreLib, Version=4.0.0.0, Culture=neutral, PublicKeyToken=7cec85d7bea7798e",
                    "dataTypeName": "int"
                },
                {
                    "isBytes": false,
                    "isChars": false,
                    "isSqlVariant": false,
                    "isUdt": false,
                    "isXml": false,
                    "isJson": false,
                    "sqlDbType": 4,
                    "isHierarchyId": false,
                    "isSqlXmlType": false,
                    "isUnknownType": false,
                    "isUpdatable": true,
                    "allowDBNull": true,
                    "baseCatalogName": null,
                    "baseColumnName": null,
                    "baseSchemaName": null,
                    "baseServerName": null,
                    "baseTableName": null,
                    "columnName": "OrderDate",
                    "columnOrdinal": 3,
                    "columnSize": 8,
                    "isAliased": null,
                    "isAutoIncrement": false,
                    "isExpression": null,
                    "isHidden": null,
                    "isIdentity": false,
                    "isKey": null,
                    "isLong": false,
                    "isReadOnly": false,
                    "isUnique": false,
                    "numericPrecision": 23,
                    "numericScale": 3,
                    "udtAssemblyQualifiedName": null,
                    "dataType": "System.DateTime, System.Private.CoreLib, Version=4.0.0.0, Culture=neutral, PublicKeyToken=7cec85d7bea7798e",
                    "dataTypeName": "datetime"
                },
                {
                    "isBytes": false,
                    "isChars": false,
                    "isSqlVariant": false,
                    "isUdt": false,
                    "isXml": false,
                    "isJson": false,
                    "sqlDbType": 4,
                    "isHierarchyId": false,
                    "isSqlXmlType": false,
                    "isUnknownType": false,
                    "isUpdatable": true,
                    "allowDBNull": true,
                    "baseCatalogName": null,
                    "baseColumnName": null,
                    "baseSchemaName": null,
                    "baseServerName": null,
                    "baseTableName": null,
                    "columnName": "RequiredDate",
                    "columnOrdinal": 4,
                    "columnSize": 8,
                    "isAliased": null,
                    "isAutoIncrement": false,
                    "isExpression": null,
                    "isHidden": null,
                    "isIdentity": false,
                    "isKey": null,
                    "isLong": false,
                    "isReadOnly": false,
                    "isUnique": false,
                    "numericPrecision": 23,
                    "numericScale": 3,
                    "udtAssemblyQualifiedName": null,
                    "dataType": "System.DateTime, System.Private.CoreLib, Version=4.0.0.0, Culture=neutral, PublicKeyToken=7cec85d7bea7798e",
                    "dataTypeName": "datetime"
                },
                {
                    "isBytes": false,
                    "isChars": false,
                    "isSqlVariant": false,
                    "isUdt": false,
                    "isXml": false,
                    "isJson": false,
                    "sqlDbType": 4,
                    "isHierarchyId": false,
                    "isSqlXmlType": false,
                    "isUnknownType": false,
                    "isUpdatable": true,
                    "allowDBNull": true,
                    "baseCatalogName": null,
                    "baseColumnName": null,
                    "baseSchemaName": null,
                    "baseServerName": null,
                    "baseTableName": null,
                    "columnName": "ShippedDate",
                    "columnOrdinal": 5,
                    "columnSize": 8,
                    "isAliased": null,
                    "isAutoIncrement": false,
                    "isExpression": null,
                    "isHidden": null,
                    "isIdentity": false,
                    "isKey": null,
                    "isLong": false,
                    "isReadOnly": false,
                    "isUnique": false,
                    "numericPrecision": 23,
                    "numericScale": 3,
                    "udtAssemblyQualifiedName": null,
                    "dataType": "System.DateTime, System.Private.CoreLib, Version=4.0.0.0, Culture=neutral, PublicKeyToken=7cec85d7bea7798e",
                    "dataTypeName": "datetime"
                },
                {
                    "isBytes": false,
                    "isChars": false,
                    "isSqlVariant": false,
                    "isUdt": false,
                    "isXml": false,
                    "isJson": false,
                    "sqlDbType": 8,
                    "isHierarchyId": false,
                    "isSqlXmlType": false,
                    "isUnknownType": false,
                    "isUpdatable": true,
                    "allowDBNull": true,
                    "baseCatalogName": null,
                    "baseColumnName": null,
                    "baseSchemaName": null,
                    "baseServerName": null,
                    "baseTableName": null,
                    "columnName": "ShipVia",
                    "columnOrdinal": 6,
                    "columnSize": 4,
                    "isAliased": null,
                    "isAutoIncrement": false,
                    "isExpression": null,
                    "isHidden": null,
                    "isIdentity": false,
                    "isKey": null,
                    "isLong": false,
                    "isReadOnly": false,
                    "isUnique": false,
                    "numericPrecision": 10,
                    "numericScale": 255,
                    "udtAssemblyQualifiedName": null,
                    "dataType": "System.Int32, System.Private.CoreLib, Version=4.0.0.0, Culture=neutral, PublicKeyToken=7cec85d7bea7798e",
                    "dataTypeName": "int"
                },
                {
                    "isBytes": false,
                    "isChars": false,
                    "isSqlVariant": false,
                    "isUdt": false,
                    "isXml": false,
                    "isJson": false,
                    "sqlDbType": 9,
                    "isHierarchyId": false,
                    "isSqlXmlType": false,
                    "isUnknownType": false,
                    "isUpdatable": true,
                    "allowDBNull": true,
                    "baseCatalogName": null,
                    "baseColumnName": null,
                    "baseSchemaName": null,
                    "baseServerName": null,
                    "baseTableName": null,
                    "columnName": "Freight",
                    "columnOrdinal": 7,
                    "columnSize": 8,
                    "isAliased": null,
                    "isAutoIncrement": false,
                    "isExpression": null,
                    "isHidden": null,
                    "isIdentity": false,
                    "isKey": null,
                    "isLong": false,
                    "isReadOnly": false,
                    "isUnique": false,
                    "numericPrecision": 19,
                    "numericScale": 255,
                    "udtAssemblyQualifiedName": null,
                    "dataType": "System.Decimal, System.Private.CoreLib, Version=4.0.0.0, Culture=neutral, PublicKeyToken=7cec85d7bea7798e",
                    "dataTypeName": "money"
                },
                {
                    "isBytes": false,
                    "isChars": true,
                    "isSqlVariant": false,
                    "isUdt": false,
                    "isXml": false,
                    "isJson": false,
                    "sqlDbType": 12,
                    "isHierarchyId": false,
                    "isSqlXmlType": false,
                    "isUnknownType": false,
                    "isUpdatable": true,
                    "allowDBNull": true,
                    "baseCatalogName": null,
                    "baseColumnName": null,
                    "baseSchemaName": null,
                    "baseServerName": null,
                    "baseTableName": null,
                    "columnName": "ShipName",
                    "columnOrdinal": 8,
                    "columnSize": 40,
                    "isAliased": null,
                    "isAutoIncrement": false,
                    "isExpression": null,
                    "isHidden": null,
                    "isIdentity": false,
                    "isKey": null,
                    "isLong": false,
                    "isReadOnly": false,
                    "isUnique": false,
                    "numericPrecision": 255,
                    "numericScale": 255,
                    "udtAssemblyQualifiedName": null,
                    "dataType": "System.String, System.Private.CoreLib, Version=4.0.0.0, Culture=neutral, PublicKeyToken=7cec85d7bea7798e",
                    "dataTypeName": "nvarchar"
                },
                {
                    "isBytes": false,
                    "isChars": true,
                    "isSqlVariant": false,
                    "isUdt": false,
                    "isXml": false,
                    "isJson": false,
                    "sqlDbType": 12,
                    "isHierarchyId": false,
                    "isSqlXmlType": false,
                    "isUnknownType": false,
                    "isUpdatable": true,
                    "allowDBNull": true,
                    "baseCatalogName": null,
                    "baseColumnName": null,
                    "baseSchemaName": null,
                    "baseServerName": null,
                    "baseTableName": null,
                    "columnName": "ShipAddress",
                    "columnOrdinal": 9,
                    "columnSize": 60,
                    "isAliased": null,
                    "isAutoIncrement": false,
                    "isExpression": null,
                    "isHidden": null,
                    "isIdentity": false,
                    "isKey": null,
                    "isLong": false,
                    "isReadOnly": false,
                    "isUnique": false,
                    "numericPrecision": 255,
                    "numericScale": 255,
                    "udtAssemblyQualifiedName": null,
                    "dataType": "System.String, System.Private.CoreLib, Version=4.0.0.0, Culture=neutral, PublicKeyToken=7cec85d7bea7798e",
                    "dataTypeName": "nvarchar"
                },
                {
                    "isBytes": false,
                    "isChars": true,
                    "isSqlVariant": false,
                    "isUdt": false,
                    "isXml": false,
                    "isJson": false,
                    "sqlDbType": 12,
                    "isHierarchyId": false,
                    "isSqlXmlType": false,
                    "isUnknownType": false,
                    "isUpdatable": true,
                    "allowDBNull": true,
                    "baseCatalogName": null,
                    "baseColumnName": null,
                    "baseSchemaName": null,
                    "baseServerName": null,
                    "baseTableName": null,
                    "columnName": "ShipCity",
                    "columnOrdinal": 10,
                    "columnSize": 15,
                    "isAliased": null,
                    "isAutoIncrement": false,
                    "isExpression": null,
                    "isHidden": null,
                    "isIdentity": false,
                    "isKey": null,
                    "isLong": false,
                    "isReadOnly": false,
                    "isUnique": false,
                    "numericPrecision": 255,
                    "numericScale": 255,
                    "udtAssemblyQualifiedName": null,
                    "dataType": "System.String, System.Private.CoreLib, Version=4.0.0.0, Culture=neutral, PublicKeyToken=7cec85d7bea7798e",
                    "dataTypeName": "nvarchar"
                },
                {
                    "isBytes": false,
                    "isChars": true,
                    "isSqlVariant": false,
                    "isUdt": false,
                    "isXml": false,
                    "isJson": false,
                    "sqlDbType": 12,
                    "isHierarchyId": false,
                    "isSqlXmlType": false,
                    "isUnknownType": false,
                    "isUpdatable": true,
                    "allowDBNull": true,
                    "baseCatalogName": null,
                    "baseColumnName": null,
                    "baseSchemaName": null,
                    "baseServerName": null,
                    "baseTableName": null,
                    "columnName": "ShipRegion",
                    "columnOrdinal": 11,
                    "columnSize": 15,
                    "isAliased": null,
                    "isAutoIncrement": false,
                    "isExpression": null,
                    "isHidden": null,
                    "isIdentity": false,
                    "isKey": null,
                    "isLong": false,
                    "isReadOnly": false,
                    "isUnique": false,
                    "numericPrecision": 255,
                    "numericScale": 255,
                    "udtAssemblyQualifiedName": null,
                    "dataType": "System.String, System.Private.CoreLib, Version=4.0.0.0, Culture=neutral, PublicKeyToken=7cec85d7bea7798e",
                    "dataTypeName": "nvarchar"
                },
                {
                    "isBytes": false,
                    "isChars": true,
                    "isSqlVariant": false,
                    "isUdt": false,
                    "isXml": false,
                    "isJson": false,
                    "sqlDbType": 12,
                    "isHierarchyId": false,
                    "isSqlXmlType": false,
                    "isUnknownType": false,
                    "isUpdatable": true,
                    "allowDBNull": true,
                    "baseCatalogName": null,
                    "baseColumnName": null,
                    "baseSchemaName": null,
                    "baseServerName": null,
                    "baseTableName": null,
                    "columnName": "ShipPostalCode",
                    "columnOrdinal": 12,
                    "columnSize": 10,
                    "isAliased": null,
                    "isAutoIncrement": false,
                    "isExpression": null,
                    "isHidden": null,
                    "isIdentity": false,
                    "isKey": null,
                    "isLong": false,
                    "isReadOnly": false,
                    "isUnique": false,
                    "numericPrecision": 255,
                    "numericScale": 255,
                    "udtAssemblyQualifiedName": null,
                    "dataType": "System.String, System.Private.CoreLib, Version=4.0.0.0, Culture=neutral, PublicKeyToken=7cec85d7bea7798e",
                    "dataTypeName": "nvarchar"
                },
                {
                    "isBytes": false,
                    "isChars": true,
                    "isSqlVariant": false,
                    "isUdt": false,
                    "isXml": false,
                    "isJson": false,
                    "sqlDbType": 12,
                    "isHierarchyId": false,
                    "isSqlXmlType": false,
                    "isUnknownType": false,
                    "isUpdatable": true,
                    "allowDBNull": true,
                    "baseCatalogName": null,
                    "baseColumnName": null,
                    "baseSchemaName": null,
                    "baseServerName": null,
                    "baseTableName": null,
                    "columnName": "ShipCountry",
                    "columnOrdinal": 13,
                    "columnSize": 15,
                    "isAliased": null,
                    "isAutoIncrement": false,
                    "isExpression": null,
                    "isHidden": null,
                    "isIdentity": false,
                    "isKey": null,
                    "isLong": false,
                    "isReadOnly": false,
                    "isUnique": false,
                    "numericPrecision": 255,
                    "numericScale": 255,
                    "udtAssemblyQualifiedName": null,
                    "dataType": "System.String, System.Private.CoreLib, Version=4.0.0.0, Culture=neutral, PublicKeyToken=7cec85d7bea7798e",
                    "dataTypeName": "nvarchar"
                }
            ],
            "specialAction": {
                "none": true,
                "expectYukonXMLShowPlan": false
            }
        }
    },
    "execution_count": 14,
    "data": {
        "application/vnd.dataresource+json": {
            "schema": {
                "fields": [
                    {
                        "name": "OrderID"
                    },
                    {
                        "name": "CustomerID"
                    },
                    {
                        "name": "EmployeeID"
                    },
                    {
                        "name": "OrderDate"
                    },
                    {
                        "name": "RequiredDate"
                    },
                    {
                        "name": "ShippedDate"
                    },
                    {
                        "name": "ShipVia"
                    },
                    {
                        "name": "Freight"
                    },
                    {
                        "name": "ShipName"
                    },
                    {
                        "name": "ShipAddress"
                    },
                    {
                        "name": "ShipCity"
                    },
                    {
                        "name": "ShipRegion"
                    },
                    {
                        "name": "ShipPostalCode"
                    },
                    {
                        "name": "ShipCountry"
                    }
                ]
            },
            "data": [
                {
                    "0": "10248",
                    "1": "VINET",
                    "2": "5",
                    "3": "1996-07-04 00:00:00.000",
                    "4": "1996-08-01 00:00:00.000",
                    "5": "1996-07-16 00:00:00.000",
                    "6": "3",
                    "7": "32,3800",
                    "8": "Vins et alcools Chevalier",
                    "9": "59 rue de l'Abbaye",
                    "10": "Reims",
                    "11": "NULL",
                    "12": "51100",
                    "13": "France"
                },
                {
                    "0": "10249",
                    "1": "TOMSP",
                    "2": "6",
                    "3": "1996-07-05 00:00:00.000",
                    "4": "1996-08-16 00:00:00.000",
                    "5": "1996-07-10 00:00:00.000",
                    "6": "1",
                    "7": "11,6100",
                    "8": "Toms Spezialitäten",
                    "9": "Luisenstr. 48",
                    "10": "Münster",
                    "11": "NULL",
                    "12": "44087",
                    "13": "Germany"
                },
                {
                    "0": "10250",
                    "1": "HANAR",
                    "2": "4",
                    "3": "1996-07-08 00:00:00.000",
                    "4": "1996-08-05 00:00:00.000",
                    "5": "1996-07-12 00:00:00.000",
                    "6": "2",
                    "7": "65,8300",
                    "8": "Hanari Carnes",
                    "9": "Rua do Paço, 67",
                    "10": "Rio de Janeiro",
                    "11": "RJ",
                    "12": "05454-876",
                    "13": "Brazil"
                },
                {
                    "0": "10251",
                    "1": "VICTE",
                    "2": "3",
                    "3": "1996-07-08 00:00:00.000",
                    "4": "1996-08-05 00:00:00.000",
                    "5": "1996-07-15 00:00:00.000",
                    "6": "1",
                    "7": "41,3400",
                    "8": "Victuailles en stock",
                    "9": "2, rue du Commerce",
                    "10": "Lyon",
                    "11": "NULL",
                    "12": "69004",
                    "13": "France"
                },
                {
                    "0": "10252",
                    "1": "SUPRD",
                    "2": "4",
                    "3": "1996-07-09 00:00:00.000",
                    "4": "1996-08-06 00:00:00.000",
                    "5": "1996-07-11 00:00:00.000",
                    "6": "2",
                    "7": "51,3000",
                    "8": "Suprêmes délices",
                    "9": "Boulevard Tirou, 255",
                    "10": "Charleroi",
                    "11": "NULL",
                    "12": "B-6000",
                    "13": "Belgium"
                },
                {
                    "0": "10253",
                    "1": "HANAR",
                    "2": "3",
                    "3": "1996-07-10 00:00:00.000",
                    "4": "1996-07-24 00:00:00.000",
                    "5": "1996-07-16 00:00:00.000",
                    "6": "2",
                    "7": "58,1700",
                    "8": "Hanari Carnes",
                    "9": "Rua do Paço, 67",
                    "10": "Rio de Janeiro",
                    "11": "RJ",
                    "12": "05454-876",
                    "13": "Brazil"
                },
                {
                    "0": "10254",
                    "1": "CHOPS",
                    "2": "5",
                    "3": "1996-07-11 00:00:00.000",
                    "4": "1996-08-08 00:00:00.000",
                    "5": "1996-07-23 00:00:00.000",
                    "6": "2",
                    "7": "22,9800",
                    "8": "Chop-suey Chinese",
                    "9": "Hauptstr. 31",
                    "10": "Bern",
                    "11": "NULL",
                    "12": "3012",
                    "13": "Switzerland"
                },
                {
                    "0": "10255",
                    "1": "RICSU",
                    "2": "9",
                    "3": "1996-07-12 00:00:00.000",
                    "4": "1996-08-09 00:00:00.000",
                    "5": "1996-07-15 00:00:00.000",
                    "6": "3",
                    "7": "148,3300",
                    "8": "Richter Supermarkt",
                    "9": "Starenweg 5",
                    "10": "Genève",
                    "11": "NULL",
                    "12": "1204",
                    "13": "Switzerland"
                },
                {
                    "0": "10256",
                    "1": "WELLI",
                    "2": "3",
                    "3": "1996-07-15 00:00:00.000",
                    "4": "1996-08-12 00:00:00.000",
                    "5": "1996-07-17 00:00:00.000",
                    "6": "2",
                    "7": "13,9700",
                    "8": "Wellington Importadora",
                    "9": "Rua do Mercado, 12",
                    "10": "Resende",
                    "11": "SP",
                    "12": "08737-363",
                    "13": "Brazil"
                },
                {
                    "0": "10257",
                    "1": "HILAA",
                    "2": "4",
                    "3": "1996-07-16 00:00:00.000",
                    "4": "1996-08-13 00:00:00.000",
                    "5": "1996-07-22 00:00:00.000",
                    "6": "3",
                    "7": "81,9100",
                    "8": "HILARION-Abastos",
                    "9": "Carrera 22 con Ave. Carlos Soublette #8-35",
                    "10": "San Cristóbal",
                    "11": "Táchira",
                    "12": "5022",
                    "13": "Venezuela"
                }
            ]
        },
        "text/html": [
            "<table>",
            "<tr><th>OrderID</th><th>CustomerID</th><th>EmployeeID</th><th>OrderDate</th><th>RequiredDate</th><th>ShippedDate</th><th>ShipVia</th><th>Freight</th><th>ShipName</th><th>ShipAddress</th><th>ShipCity</th><th>ShipRegion</th><th>ShipPostalCode</th><th>ShipCountry</th></tr>",
            "<tr><td>10248</td><td>VINET</td><td>5</td><td>1996-07-04 00:00:00.000</td><td>1996-08-01 00:00:00.000</td><td>1996-07-16 00:00:00.000</td><td>3</td><td>32,3800</td><td>Vins et alcools Chevalier</td><td>59 rue de l'Abbaye</td><td>Reims</td><td>NULL</td><td>51100</td><td>France</td></tr>",
            "<tr><td>10249</td><td>TOMSP</td><td>6</td><td>1996-07-05 00:00:00.000</td><td>1996-08-16 00:00:00.000</td><td>1996-07-10 00:00:00.000</td><td>1</td><td>11,6100</td><td>Toms Spezialitäten</td><td>Luisenstr. 48</td><td>Münster</td><td>NULL</td><td>44087</td><td>Germany</td></tr>",
            "<tr><td>10250</td><td>HANAR</td><td>4</td><td>1996-07-08 00:00:00.000</td><td>1996-08-05 00:00:00.000</td><td>1996-07-12 00:00:00.000</td><td>2</td><td>65,8300</td><td>Hanari Carnes</td><td>Rua do Paço, 67</td><td>Rio de Janeiro</td><td>RJ</td><td>05454-876</td><td>Brazil</td></tr>",
            "<tr><td>10251</td><td>VICTE</td><td>3</td><td>1996-07-08 00:00:00.000</td><td>1996-08-05 00:00:00.000</td><td>1996-07-15 00:00:00.000</td><td>1</td><td>41,3400</td><td>Victuailles en stock</td><td>2, rue du Commerce</td><td>Lyon</td><td>NULL</td><td>69004</td><td>France</td></tr>",
            "<tr><td>10252</td><td>SUPRD</td><td>4</td><td>1996-07-09 00:00:00.000</td><td>1996-08-06 00:00:00.000</td><td>1996-07-11 00:00:00.000</td><td>2</td><td>51,3000</td><td>Suprêmes délices</td><td>Boulevard Tirou, 255</td><td>Charleroi</td><td>NULL</td><td>B-6000</td><td>Belgium</td></tr>",
            "<tr><td>10253</td><td>HANAR</td><td>3</td><td>1996-07-10 00:00:00.000</td><td>1996-07-24 00:00:00.000</td><td>1996-07-16 00:00:00.000</td><td>2</td><td>58,1700</td><td>Hanari Carnes</td><td>Rua do Paço, 67</td><td>Rio de Janeiro</td><td>RJ</td><td>05454-876</td><td>Brazil</td></tr>",
            "<tr><td>10254</td><td>CHOPS</td><td>5</td><td>1996-07-11 00:00:00.000</td><td>1996-08-08 00:00:00.000</td><td>1996-07-23 00:00:00.000</td><td>2</td><td>22,9800</td><td>Chop-suey Chinese</td><td>Hauptstr. 31</td><td>Bern</td><td>NULL</td><td>3012</td><td>Switzerland</td></tr>",
            "<tr><td>10255</td><td>RICSU</td><td>9</td><td>1996-07-12 00:00:00.000</td><td>1996-08-09 00:00:00.000</td><td>1996-07-15 00:00:00.000</td><td>3</td><td>148,3300</td><td>Richter Supermarkt</td><td>Starenweg 5</td><td>Genève</td><td>NULL</td><td>1204</td><td>Switzerland</td></tr>",
            "<tr><td>10256</td><td>WELLI</td><td>3</td><td>1996-07-15 00:00:00.000</td><td>1996-08-12 00:00:00.000</td><td>1996-07-17 00:00:00.000</td><td>2</td><td>13,9700</td><td>Wellington Importadora</td><td>Rua do Mercado, 12</td><td>Resende</td><td>SP</td><td>08737-363</td><td>Brazil</td></tr>",
            "<tr><td>10257</td><td>HILAA</td><td>4</td><td>1996-07-16 00:00:00.000</td><td>1996-08-13 00:00:00.000</td><td>1996-07-22 00:00:00.000</td><td>3</td><td>81,9100</td><td>HILARION-Abastos</td><td>Carrera 22 con Ave. Carlos Soublette #8-35</td><td>San Cristóbal</td><td>Táchira</td><td>5022</td><td>Venezuela</td></tr>",
            "</table>"
        ]
    }
}
],
            "execution_count": 14
        },
        {
            "cell_type": "code",
            "source": [
                "-- Wyrażenia\r\n",
                "SELECT EmployeeID, FirstName + ' ' + LastName AS FullName\r\n",
                "FROM Employees"
            ],
            "metadata": {
                "azdata_cell_guid": "24381283-3859-49de-aa62-50b8e404baa1"
            },
            "outputs": [
{
    "output_type": "display_data",
    "data": {
        "text/html": "(9 rows affected)"
    },
    "metadata": {}
}, {
    "output_type": "display_data",
    "data": {
        "text/html": "Total execution time: 00:00:00.001"
    },
    "metadata": {}
}, {
    "output_type": "execute_result",
    "metadata": {
        "resultSet": {
            "id": 0,
            "batchId": 0,
            "rowCount": 9,
            "complete": true,
            "columnInfo": [
                {
                    "isBytes": false,
                    "isChars": false,
                    "isSqlVariant": false,
                    "isUdt": false,
                    "isXml": false,
                    "isJson": false,
                    "sqlDbType": 8,
                    "isHierarchyId": false,
                    "isSqlXmlType": false,
                    "isUnknownType": false,
                    "isUpdatable": false,
                    "allowDBNull": false,
                    "baseCatalogName": null,
                    "baseColumnName": null,
                    "baseSchemaName": null,
                    "baseServerName": null,
                    "baseTableName": null,
                    "columnName": "EmployeeID",
                    "columnOrdinal": 0,
                    "columnSize": 4,
                    "isAliased": null,
                    "isAutoIncrement": true,
                    "isExpression": null,
                    "isHidden": null,
                    "isIdentity": true,
                    "isKey": null,
                    "isLong": false,
                    "isReadOnly": true,
                    "isUnique": false,
                    "numericPrecision": 10,
                    "numericScale": 255,
                    "udtAssemblyQualifiedName": null,
                    "dataType": "System.Int32, System.Private.CoreLib, Version=4.0.0.0, Culture=neutral, PublicKeyToken=7cec85d7bea7798e",
                    "dataTypeName": "int"
                },
                {
                    "isBytes": false,
                    "isChars": true,
                    "isSqlVariant": false,
                    "isUdt": false,
                    "isXml": false,
                    "isJson": false,
                    "sqlDbType": 12,
                    "isHierarchyId": false,
                    "isSqlXmlType": false,
                    "isUnknownType": false,
                    "isUpdatable": false,
                    "allowDBNull": false,
                    "baseCatalogName": null,
                    "baseColumnName": null,
                    "baseSchemaName": null,
                    "baseServerName": null,
                    "baseTableName": null,
                    "columnName": "FullName",
                    "columnOrdinal": 1,
                    "columnSize": 31,
                    "isAliased": null,
                    "isAutoIncrement": false,
                    "isExpression": null,
                    "isHidden": null,
                    "isIdentity": false,
                    "isKey": null,
                    "isLong": false,
                    "isReadOnly": true,
                    "isUnique": false,
                    "numericPrecision": 255,
                    "numericScale": 255,
                    "udtAssemblyQualifiedName": null,
                    "dataType": "System.String, System.Private.CoreLib, Version=4.0.0.0, Culture=neutral, PublicKeyToken=7cec85d7bea7798e",
                    "dataTypeName": "nvarchar"
                }
            ],
            "specialAction": {
                "none": true,
                "expectYukonXMLShowPlan": false
            }
        }
    },
    "execution_count": 15,
    "data": {
        "application/vnd.dataresource+json": {
            "schema": {
                "fields": [
                    {
                        "name": "EmployeeID"
                    },
                    {
                        "name": "FullName"
                    }
                ]
            },
            "data": [
                {
                    "0": "1",
                    "1": "Nancy Davolio"
                },
                {
                    "0": "2",
                    "1": "Andrew Fuller"
                },
                {
                    "0": "3",
                    "1": "Janet Leverling"
                },
                {
                    "0": "4",
                    "1": "Margaret Peacock"
                },
                {
                    "0": "5",
                    "1": "Steven Buchanan"
                },
                {
                    "0": "6",
                    "1": "Michael Suyama"
                },
                {
                    "0": "7",
                    "1": "Robert King"
                },
                {
                    "0": "8",
                    "1": "Laura Callahan"
                },
                {
                    "0": "9",
                    "1": "Anne Dodsworth"
                }
            ]
        },
        "text/html": [
            "<table>",
            "<tr><th>EmployeeID</th><th>FullName</th></tr>",
            "<tr><td>1</td><td>Nancy Davolio</td></tr>",
            "<tr><td>2</td><td>Andrew Fuller</td></tr>",
            "<tr><td>3</td><td>Janet Leverling</td></tr>",
            "<tr><td>4</td><td>Margaret Peacock</td></tr>",
            "<tr><td>5</td><td>Steven Buchanan</td></tr>",
            "<tr><td>6</td><td>Michael Suyama</td></tr>",
            "<tr><td>7</td><td>Robert King</td></tr>",
            "<tr><td>8</td><td>Laura Callahan</td></tr>",
            "<tr><td>9</td><td>Anne Dodsworth</td></tr>",
            "</table>"
        ]
    }
}
],
            "execution_count": 15
        },
        {
            "cell_type": "code",
            "source": [
                "-- Wyrażenia\r\n",
                "SELECT TOP 10 OrderID, ProductID, UnitPrice, Quantity, UnitPrice*Quantity AS Total\r\n",
                "FROM [Order Details]"
            ],
            "metadata": {
                "azdata_cell_guid": "809f5ff9-b1b8-4686-9e56-1f2223d987cb"
            },
            "outputs": [
{
    "output_type": "display_data",
    "data": {
        "text/html": "(10 rows affected)"
    },
    "metadata": {}
}, {
    "output_type": "display_data",
    "data": {
        "text/html": "Total execution time: 00:00:00.004"
    },
    "metadata": {}
}, {
    "output_type": "execute_result",
    "metadata": {
        "resultSet": {
            "id": 0,
            "batchId": 0,
            "rowCount": 10,
            "complete": true,
            "columnInfo": [
                {
                    "isBytes": false,
                    "isChars": false,
                    "isSqlVariant": false,
                    "isUdt": false,
                    "isXml": false,
                    "isJson": false,
                    "sqlDbType": 8,
                    "isHierarchyId": false,
                    "isSqlXmlType": false,
                    "isUnknownType": false,
                    "isUpdatable": true,
                    "allowDBNull": false,
                    "baseCatalogName": null,
                    "baseColumnName": null,
                    "baseSchemaName": null,
                    "baseServerName": null,
                    "baseTableName": null,
                    "columnName": "OrderID",
                    "columnOrdinal": 0,
                    "columnSize": 4,
                    "isAliased": null,
                    "isAutoIncrement": false,
                    "isExpression": null,
                    "isHidden": null,
                    "isIdentity": false,
                    "isKey": null,
                    "isLong": false,
                    "isReadOnly": false,
                    "isUnique": false,
                    "numericPrecision": 10,
                    "numericScale": 255,
                    "udtAssemblyQualifiedName": null,
                    "dataType": "System.Int32, System.Private.CoreLib, Version=4.0.0.0, Culture=neutral, PublicKeyToken=7cec85d7bea7798e",
                    "dataTypeName": "int"
                },
                {
                    "isBytes": false,
                    "isChars": false,
                    "isSqlVariant": false,
                    "isUdt": false,
                    "isXml": false,
                    "isJson": false,
                    "sqlDbType": 8,
                    "isHierarchyId": false,
                    "isSqlXmlType": false,
                    "isUnknownType": false,
                    "isUpdatable": true,
                    "allowDBNull": false,
                    "baseCatalogName": null,
                    "baseColumnName": null,
                    "baseSchemaName": null,
                    "baseServerName": null,
                    "baseTableName": null,
                    "columnName": "ProductID",
                    "columnOrdinal": 1,
                    "columnSize": 4,
                    "isAliased": null,
                    "isAutoIncrement": false,
                    "isExpression": null,
                    "isHidden": null,
                    "isIdentity": false,
                    "isKey": null,
                    "isLong": false,
                    "isReadOnly": false,
                    "isUnique": false,
                    "numericPrecision": 10,
                    "numericScale": 255,
                    "udtAssemblyQualifiedName": null,
                    "dataType": "System.Int32, System.Private.CoreLib, Version=4.0.0.0, Culture=neutral, PublicKeyToken=7cec85d7bea7798e",
                    "dataTypeName": "int"
                },
                {
                    "isBytes": false,
                    "isChars": false,
                    "isSqlVariant": false,
                    "isUdt": false,
                    "isXml": false,
                    "isJson": false,
                    "sqlDbType": 9,
                    "isHierarchyId": false,
                    "isSqlXmlType": false,
                    "isUnknownType": false,
                    "isUpdatable": true,
                    "allowDBNull": false,
                    "baseCatalogName": null,
                    "baseColumnName": null,
                    "baseSchemaName": null,
                    "baseServerName": null,
                    "baseTableName": null,
                    "columnName": "UnitPrice",
                    "columnOrdinal": 2,
                    "columnSize": 8,
                    "isAliased": null,
                    "isAutoIncrement": false,
                    "isExpression": null,
                    "isHidden": null,
                    "isIdentity": false,
                    "isKey": null,
                    "isLong": false,
                    "isReadOnly": false,
                    "isUnique": false,
                    "numericPrecision": 19,
                    "numericScale": 255,
                    "udtAssemblyQualifiedName": null,
                    "dataType": "System.Decimal, System.Private.CoreLib, Version=4.0.0.0, Culture=neutral, PublicKeyToken=7cec85d7bea7798e",
                    "dataTypeName": "money"
                },
                {
                    "isBytes": false,
                    "isChars": false,
                    "isSqlVariant": false,
                    "isUdt": false,
                    "isXml": false,
                    "isJson": false,
                    "sqlDbType": 16,
                    "isHierarchyId": false,
                    "isSqlXmlType": false,
                    "isUnknownType": false,
                    "isUpdatable": true,
                    "allowDBNull": false,
                    "baseCatalogName": null,
                    "baseColumnName": null,
                    "baseSchemaName": null,
                    "baseServerName": null,
                    "baseTableName": null,
                    "columnName": "Quantity",
                    "columnOrdinal": 3,
                    "columnSize": 2,
                    "isAliased": null,
                    "isAutoIncrement": false,
                    "isExpression": null,
                    "isHidden": null,
                    "isIdentity": false,
                    "isKey": null,
                    "isLong": false,
                    "isReadOnly": false,
                    "isUnique": false,
                    "numericPrecision": 5,
                    "numericScale": 255,
                    "udtAssemblyQualifiedName": null,
                    "dataType": "System.Int16, System.Private.CoreLib, Version=4.0.0.0, Culture=neutral, PublicKeyToken=7cec85d7bea7798e",
                    "dataTypeName": "smallint"
                },
                {
                    "isBytes": false,
                    "isChars": false,
                    "isSqlVariant": false,
                    "isUdt": false,
                    "isXml": false,
                    "isJson": false,
                    "sqlDbType": 9,
                    "isHierarchyId": false,
                    "isSqlXmlType": false,
                    "isUnknownType": false,
                    "isUpdatable": false,
                    "allowDBNull": true,
                    "baseCatalogName": null,
                    "baseColumnName": null,
                    "baseSchemaName": null,
                    "baseServerName": null,
                    "baseTableName": null,
                    "columnName": "Total",
                    "columnOrdinal": 4,
                    "columnSize": 8,
                    "isAliased": null,
                    "isAutoIncrement": false,
                    "isExpression": null,
                    "isHidden": null,
                    "isIdentity": false,
                    "isKey": null,
                    "isLong": false,
                    "isReadOnly": true,
                    "isUnique": false,
                    "numericPrecision": 19,
                    "numericScale": 255,
                    "udtAssemblyQualifiedName": null,
                    "dataType": "System.Decimal, System.Private.CoreLib, Version=4.0.0.0, Culture=neutral, PublicKeyToken=7cec85d7bea7798e",
                    "dataTypeName": "money"
                }
            ],
            "specialAction": {
                "none": true,
                "expectYukonXMLShowPlan": false
            }
        }
    },
    "execution_count": 16,
    "data": {
        "application/vnd.dataresource+json": {
            "schema": {
                "fields": [
                    {
                        "name": "OrderID"
                    },
                    {
                        "name": "ProductID"
                    },
                    {
                        "name": "UnitPrice"
                    },
                    {
                        "name": "Quantity"
                    },
                    {
                        "name": "Total"
                    }
                ]
            },
            "data": [
                {
                    "0": "10248",
                    "1": "11",
                    "2": "14,0000",
                    "3": "12",
                    "4": "168,0000"
                },
                {
                    "0": "10248",
                    "1": "42",
                    "2": "9,8000",
                    "3": "10",
                    "4": "98,0000"
                },
                {
                    "0": "10248",
                    "1": "72",
                    "2": "34,8000",
                    "3": "5",
                    "4": "174,0000"
                },
                {
                    "0": "10249",
                    "1": "14",
                    "2": "18,6000",
                    "3": "9",
                    "4": "167,4000"
                },
                {
                    "0": "10249",
                    "1": "51",
                    "2": "42,4000",
                    "3": "40",
                    "4": "1696,0000"
                },
                {
                    "0": "10250",
                    "1": "41",
                    "2": "7,7000",
                    "3": "10",
                    "4": "77,0000"
                },
                {
                    "0": "10250",
                    "1": "51",
                    "2": "42,4000",
                    "3": "35",
                    "4": "1484,0000"
                },
                {
                    "0": "10250",
                    "1": "65",
                    "2": "16,8000",
                    "3": "15",
                    "4": "252,0000"
                },
                {
                    "0": "10251",
                    "1": "22",
                    "2": "16,8000",
                    "3": "6",
                    "4": "100,8000"
                },
                {
                    "0": "10251",
                    "1": "57",
                    "2": "15,6000",
                    "3": "15",
                    "4": "234,0000"
                }
            ]
        },
        "text/html": [
            "<table>",
            "<tr><th>OrderID</th><th>ProductID</th><th>UnitPrice</th><th>Quantity</th><th>Total</th></tr>",
            "<tr><td>10248</td><td>11</td><td>14,0000</td><td>12</td><td>168,0000</td></tr>",
            "<tr><td>10248</td><td>42</td><td>9,8000</td><td>10</td><td>98,0000</td></tr>",
            "<tr><td>10248</td><td>72</td><td>34,8000</td><td>5</td><td>174,0000</td></tr>",
            "<tr><td>10249</td><td>14</td><td>18,6000</td><td>9</td><td>167,4000</td></tr>",
            "<tr><td>10249</td><td>51</td><td>42,4000</td><td>40</td><td>1696,0000</td></tr>",
            "<tr><td>10250</td><td>41</td><td>7,7000</td><td>10</td><td>77,0000</td></tr>",
            "<tr><td>10250</td><td>51</td><td>42,4000</td><td>35</td><td>1484,0000</td></tr>",
            "<tr><td>10250</td><td>65</td><td>16,8000</td><td>15</td><td>252,0000</td></tr>",
            "<tr><td>10251</td><td>22</td><td>16,8000</td><td>6</td><td>100,8000</td></tr>",
            "<tr><td>10251</td><td>57</td><td>15,6000</td><td>15</td><td>234,0000</td></tr>",
            "</table>"
        ]
    }
}
],
            "execution_count": 16
        },
        {
            "cell_type": "markdown",
            "source": [
                "## Sortowanie danych\r\n",
                "* ASC - rosnące (domyślne)\r\n",
                "* DESC - malejące"
            ],
            "metadata": {
                "azdata_cell_guid": "f280f871-14d7-4b64-8137-3b88e25e56af"
            }
        },
        {
            "cell_type": "code",
            "source": [
                "-- Pracownicy posortowanie wg nazwiska rosnąco\r\n",
                "SELECT EmployeeID, FirstName, LastName, City\r\n",
                "FROM Employees\r\n",
                "ORDER BY Lastname\r\n",
                "\r\n",
                "-- Pracownicy posortowanie wg nazwiska malejąco\r\n",
                "SELECT EmployeeID, FirstName, LastName, City\r\n",
                "FROM Employees\r\n",
                "ORDER BY Lastname DESC"
            ],
            "metadata": {
                "azdata_cell_guid": "5e3616a8-087b-4419-8e71-17159f075378",
                "tags": []
            },
            "outputs": [
{
    "output_type": "display_data",
    "data": {
        "text/html": "(9 rows affected)"
    },
    "metadata": {}
}, {
    "output_type": "display_data",
    "data": {
        "text/html": "(9 rows affected)"
    },
    "metadata": {}
}, {
    "output_type": "display_data",
    "data": {
        "text/html": "Total execution time: 00:00:00.004"
    },
    "metadata": {}
}, {
    "output_type": "execute_result",
    "metadata": {
        "resultSet": {
            "id": 0,
            "batchId": 0,
            "rowCount": 9,
            "complete": true,
            "columnInfo": [
                {
                    "isBytes": false,
                    "isChars": false,
                    "isSqlVariant": false,
                    "isUdt": false,
                    "isXml": false,
                    "isJson": false,
                    "sqlDbType": 8,
                    "isHierarchyId": false,
                    "isSqlXmlType": false,
                    "isUnknownType": false,
                    "isUpdatable": false,
                    "allowDBNull": false,
                    "baseCatalogName": null,
                    "baseColumnName": null,
                    "baseSchemaName": null,
                    "baseServerName": null,
                    "baseTableName": null,
                    "columnName": "EmployeeID",
                    "columnOrdinal": 0,
                    "columnSize": 4,
                    "isAliased": null,
                    "isAutoIncrement": true,
                    "isExpression": null,
                    "isHidden": null,
                    "isIdentity": true,
                    "isKey": null,
                    "isLong": false,
                    "isReadOnly": true,
                    "isUnique": false,
                    "numericPrecision": 10,
                    "numericScale": 255,
                    "udtAssemblyQualifiedName": null,
                    "dataType": "System.Int32, System.Private.CoreLib, Version=4.0.0.0, Culture=neutral, PublicKeyToken=7cec85d7bea7798e",
                    "dataTypeName": "int"
                },
                {
                    "isBytes": false,
                    "isChars": true,
                    "isSqlVariant": false,
                    "isUdt": false,
                    "isXml": false,
                    "isJson": false,
                    "sqlDbType": 12,
                    "isHierarchyId": false,
                    "isSqlXmlType": false,
                    "isUnknownType": false,
                    "isUpdatable": true,
                    "allowDBNull": false,
                    "baseCatalogName": null,
                    "baseColumnName": null,
                    "baseSchemaName": null,
                    "baseServerName": null,
                    "baseTableName": null,
                    "columnName": "FirstName",
                    "columnOrdinal": 1,
                    "columnSize": 10,
                    "isAliased": null,
                    "isAutoIncrement": false,
                    "isExpression": null,
                    "isHidden": null,
                    "isIdentity": false,
                    "isKey": null,
                    "isLong": false,
                    "isReadOnly": false,
                    "isUnique": false,
                    "numericPrecision": 255,
                    "numericScale": 255,
                    "udtAssemblyQualifiedName": null,
                    "dataType": "System.String, System.Private.CoreLib, Version=4.0.0.0, Culture=neutral, PublicKeyToken=7cec85d7bea7798e",
                    "dataTypeName": "nvarchar"
                },
                {
                    "isBytes": false,
                    "isChars": true,
                    "isSqlVariant": false,
                    "isUdt": false,
                    "isXml": false,
                    "isJson": false,
                    "sqlDbType": 12,
                    "isHierarchyId": false,
                    "isSqlXmlType": false,
                    "isUnknownType": false,
                    "isUpdatable": true,
                    "allowDBNull": false,
                    "baseCatalogName": null,
                    "baseColumnName": null,
                    "baseSchemaName": null,
                    "baseServerName": null,
                    "baseTableName": null,
                    "columnName": "LastName",
                    "columnOrdinal": 2,
                    "columnSize": 20,
                    "isAliased": null,
                    "isAutoIncrement": false,
                    "isExpression": null,
                    "isHidden": null,
                    "isIdentity": false,
                    "isKey": null,
                    "isLong": false,
                    "isReadOnly": false,
                    "isUnique": false,
                    "numericPrecision": 255,
                    "numericScale": 255,
                    "udtAssemblyQualifiedName": null,
                    "dataType": "System.String, System.Private.CoreLib, Version=4.0.0.0, Culture=neutral, PublicKeyToken=7cec85d7bea7798e",
                    "dataTypeName": "nvarchar"
                },
                {
                    "isBytes": false,
                    "isChars": true,
                    "isSqlVariant": false,
                    "isUdt": false,
                    "isXml": false,
                    "isJson": false,
                    "sqlDbType": 12,
                    "isHierarchyId": false,
                    "isSqlXmlType": false,
                    "isUnknownType": false,
                    "isUpdatable": true,
                    "allowDBNull": true,
                    "baseCatalogName": null,
                    "baseColumnName": null,
                    "baseSchemaName": null,
                    "baseServerName": null,
                    "baseTableName": null,
                    "columnName": "City",
                    "columnOrdinal": 3,
                    "columnSize": 15,
                    "isAliased": null,
                    "isAutoIncrement": false,
                    "isExpression": null,
                    "isHidden": null,
                    "isIdentity": false,
                    "isKey": null,
                    "isLong": false,
                    "isReadOnly": false,
                    "isUnique": false,
                    "numericPrecision": 255,
                    "numericScale": 255,
                    "udtAssemblyQualifiedName": null,
                    "dataType": "System.String, System.Private.CoreLib, Version=4.0.0.0, Culture=neutral, PublicKeyToken=7cec85d7bea7798e",
                    "dataTypeName": "nvarchar"
                }
            ],
            "specialAction": {
                "none": true,
                "expectYukonXMLShowPlan": false
            }
        }
    },
    "execution_count": 17,
    "data": {
        "application/vnd.dataresource+json": {
            "schema": {
                "fields": [
                    {
                        "name": "EmployeeID"
                    },
                    {
                        "name": "FirstName"
                    },
                    {
                        "name": "LastName"
                    },
                    {
                        "name": "City"
                    }
                ]
            },
            "data": [
                {
                    "0": "5",
                    "1": "Steven",
                    "2": "Buchanan",
                    "3": "London"
                },
                {
                    "0": "8",
                    "1": "Laura",
                    "2": "Callahan",
                    "3": "Seattle"
                },
                {
                    "0": "1",
                    "1": "Nancy",
                    "2": "Davolio",
                    "3": "Seattle"
                },
                {
                    "0": "9",
                    "1": "Anne",
                    "2": "Dodsworth",
                    "3": "London"
                },
                {
                    "0": "2",
                    "1": "Andrew",
                    "2": "Fuller",
                    "3": "Tacoma"
                },
                {
                    "0": "7",
                    "1": "Robert",
                    "2": "King",
                    "3": "London"
                },
                {
                    "0": "3",
                    "1": "Janet",
                    "2": "Leverling",
                    "3": "Kirkland"
                },
                {
                    "0": "4",
                    "1": "Margaret",
                    "2": "Peacock",
                    "3": "Redmond"
                },
                {
                    "0": "6",
                    "1": "Michael",
                    "2": "Suyama",
                    "3": "London"
                }
            ]
        },
        "text/html": [
            "<table>",
            "<tr><th>EmployeeID</th><th>FirstName</th><th>LastName</th><th>City</th></tr>",
            "<tr><td>5</td><td>Steven</td><td>Buchanan</td><td>London</td></tr>",
            "<tr><td>8</td><td>Laura</td><td>Callahan</td><td>Seattle</td></tr>",
            "<tr><td>1</td><td>Nancy</td><td>Davolio</td><td>Seattle</td></tr>",
            "<tr><td>9</td><td>Anne</td><td>Dodsworth</td><td>London</td></tr>",
            "<tr><td>2</td><td>Andrew</td><td>Fuller</td><td>Tacoma</td></tr>",
            "<tr><td>7</td><td>Robert</td><td>King</td><td>London</td></tr>",
            "<tr><td>3</td><td>Janet</td><td>Leverling</td><td>Kirkland</td></tr>",
            "<tr><td>4</td><td>Margaret</td><td>Peacock</td><td>Redmond</td></tr>",
            "<tr><td>6</td><td>Michael</td><td>Suyama</td><td>London</td></tr>",
            "</table>"
        ]
    }
}, {
    "output_type": "execute_result",
    "metadata": {
        "resultSet": {
            "id": 1,
            "batchId": 0,
            "rowCount": 9,
            "complete": true,
            "columnInfo": [
                {
                    "isBytes": false,
                    "isChars": false,
                    "isSqlVariant": false,
                    "isUdt": false,
                    "isXml": false,
                    "isJson": false,
                    "sqlDbType": 8,
                    "isHierarchyId": false,
                    "isSqlXmlType": false,
                    "isUnknownType": false,
                    "isUpdatable": false,
                    "allowDBNull": false,
                    "baseCatalogName": null,
                    "baseColumnName": null,
                    "baseSchemaName": null,
                    "baseServerName": null,
                    "baseTableName": null,
                    "columnName": "EmployeeID",
                    "columnOrdinal": 0,
                    "columnSize": 4,
                    "isAliased": null,
                    "isAutoIncrement": true,
                    "isExpression": null,
                    "isHidden": null,
                    "isIdentity": true,
                    "isKey": null,
                    "isLong": false,
                    "isReadOnly": true,
                    "isUnique": false,
                    "numericPrecision": 10,
                    "numericScale": 255,
                    "udtAssemblyQualifiedName": null,
                    "dataType": "System.Int32, System.Private.CoreLib, Version=4.0.0.0, Culture=neutral, PublicKeyToken=7cec85d7bea7798e",
                    "dataTypeName": "int"
                },
                {
                    "isBytes": false,
                    "isChars": true,
                    "isSqlVariant": false,
                    "isUdt": false,
                    "isXml": false,
                    "isJson": false,
                    "sqlDbType": 12,
                    "isHierarchyId": false,
                    "isSqlXmlType": false,
                    "isUnknownType": false,
                    "isUpdatable": true,
                    "allowDBNull": false,
                    "baseCatalogName": null,
                    "baseColumnName": null,
                    "baseSchemaName": null,
                    "baseServerName": null,
                    "baseTableName": null,
                    "columnName": "FirstName",
                    "columnOrdinal": 1,
                    "columnSize": 10,
                    "isAliased": null,
                    "isAutoIncrement": false,
                    "isExpression": null,
                    "isHidden": null,
                    "isIdentity": false,
                    "isKey": null,
                    "isLong": false,
                    "isReadOnly": false,
                    "isUnique": false,
                    "numericPrecision": 255,
                    "numericScale": 255,
                    "udtAssemblyQualifiedName": null,
                    "dataType": "System.String, System.Private.CoreLib, Version=4.0.0.0, Culture=neutral, PublicKeyToken=7cec85d7bea7798e",
                    "dataTypeName": "nvarchar"
                },
                {
                    "isBytes": false,
                    "isChars": true,
                    "isSqlVariant": false,
                    "isUdt": false,
                    "isXml": false,
                    "isJson": false,
                    "sqlDbType": 12,
                    "isHierarchyId": false,
                    "isSqlXmlType": false,
                    "isUnknownType": false,
                    "isUpdatable": true,
                    "allowDBNull": false,
                    "baseCatalogName": null,
                    "baseColumnName": null,
                    "baseSchemaName": null,
                    "baseServerName": null,
                    "baseTableName": null,
                    "columnName": "LastName",
                    "columnOrdinal": 2,
                    "columnSize": 20,
                    "isAliased": null,
                    "isAutoIncrement": false,
                    "isExpression": null,
                    "isHidden": null,
                    "isIdentity": false,
                    "isKey": null,
                    "isLong": false,
                    "isReadOnly": false,
                    "isUnique": false,
                    "numericPrecision": 255,
                    "numericScale": 255,
                    "udtAssemblyQualifiedName": null,
                    "dataType": "System.String, System.Private.CoreLib, Version=4.0.0.0, Culture=neutral, PublicKeyToken=7cec85d7bea7798e",
                    "dataTypeName": "nvarchar"
                },
                {
                    "isBytes": false,
                    "isChars": true,
                    "isSqlVariant": false,
                    "isUdt": false,
                    "isXml": false,
                    "isJson": false,
                    "sqlDbType": 12,
                    "isHierarchyId": false,
                    "isSqlXmlType": false,
                    "isUnknownType": false,
                    "isUpdatable": true,
                    "allowDBNull": true,
                    "baseCatalogName": null,
                    "baseColumnName": null,
                    "baseSchemaName": null,
                    "baseServerName": null,
                    "baseTableName": null,
                    "columnName": "City",
                    "columnOrdinal": 3,
                    "columnSize": 15,
                    "isAliased": null,
                    "isAutoIncrement": false,
                    "isExpression": null,
                    "isHidden": null,
                    "isIdentity": false,
                    "isKey": null,
                    "isLong": false,
                    "isReadOnly": false,
                    "isUnique": false,
                    "numericPrecision": 255,
                    "numericScale": 255,
                    "udtAssemblyQualifiedName": null,
                    "dataType": "System.String, System.Private.CoreLib, Version=4.0.0.0, Culture=neutral, PublicKeyToken=7cec85d7bea7798e",
                    "dataTypeName": "nvarchar"
                }
            ],
            "specialAction": {
                "none": true,
                "expectYukonXMLShowPlan": false
            }
        }
    },
    "execution_count": 17,
    "data": {
        "application/vnd.dataresource+json": {
            "schema": {
                "fields": [
                    {
                        "name": "EmployeeID"
                    },
                    {
                        "name": "FirstName"
                    },
                    {
                        "name": "LastName"
                    },
                    {
                        "name": "City"
                    }
                ]
            },
            "data": [
                {
                    "0": "6",
                    "1": "Michael",
                    "2": "Suyama",
                    "3": "London"
                },
                {
                    "0": "4",
                    "1": "Margaret",
                    "2": "Peacock",
                    "3": "Redmond"
                },
                {
                    "0": "3",
                    "1": "Janet",
                    "2": "Leverling",
                    "3": "Kirkland"
                },
                {
                    "0": "7",
                    "1": "Robert",
                    "2": "King",
                    "3": "London"
                },
                {
                    "0": "2",
                    "1": "Andrew",
                    "2": "Fuller",
                    "3": "Tacoma"
                },
                {
                    "0": "9",
                    "1": "Anne",
                    "2": "Dodsworth",
                    "3": "London"
                },
                {
                    "0": "1",
                    "1": "Nancy",
                    "2": "Davolio",
                    "3": "Seattle"
                },
                {
                    "0": "8",
                    "1": "Laura",
                    "2": "Callahan",
                    "3": "Seattle"
                },
                {
                    "0": "5",
                    "1": "Steven",
                    "2": "Buchanan",
                    "3": "London"
                }
            ]
        },
        "text/html": [
            "<table>",
            "<tr><th>EmployeeID</th><th>FirstName</th><th>LastName</th><th>City</th></tr>",
            "<tr><td>6</td><td>Michael</td><td>Suyama</td><td>London</td></tr>",
            "<tr><td>4</td><td>Margaret</td><td>Peacock</td><td>Redmond</td></tr>",
            "<tr><td>3</td><td>Janet</td><td>Leverling</td><td>Kirkland</td></tr>",
            "<tr><td>7</td><td>Robert</td><td>King</td><td>London</td></tr>",
            "<tr><td>2</td><td>Andrew</td><td>Fuller</td><td>Tacoma</td></tr>",
            "<tr><td>9</td><td>Anne</td><td>Dodsworth</td><td>London</td></tr>",
            "<tr><td>1</td><td>Nancy</td><td>Davolio</td><td>Seattle</td></tr>",
            "<tr><td>8</td><td>Laura</td><td>Callahan</td><td>Seattle</td></tr>",
            "<tr><td>5</td><td>Steven</td><td>Buchanan</td><td>London</td></tr>",
            "</table>"
        ]
    }
}
],
            "execution_count": 17
        },
        {
            "cell_type": "code",
            "source": [
                "-- Pracownicy posortowanie wg nazwiska i imienia rosnąco\r\n",
                "SELECT EmployeeID, FirstName, LastName, City\r\n",
                "FROM Employees\r\n",
                "ORDER BY Lastname, Firstname\r\n",
                "\r\n",
                "-- Pracownicy posortowanie wg miasto malejąco oraz nazwiska i imienia rosnąco\r\n",
                "SELECT EmployeeID, FirstName, LastName, City\r\n",
                "FROM Employees\r\n",
                "ORDER BY City DESC, Lastname, Firstname"
            ],
            "metadata": {
                "azdata_cell_guid": "59aa9157-a5ff-4e4d-9162-c430ab716359"
            },
            "outputs": [
{
    "output_type": "display_data",
    "data": {
        "text/html": "(9 rows affected)"
    },
    "metadata": {}
}, {
    "output_type": "display_data",
    "data": {
        "text/html": "(9 rows affected)"
    },
    "metadata": {}
}, {
    "output_type": "display_data",
    "data": {
        "text/html": "Total execution time: 00:00:00.003"
    },
    "metadata": {}
}, {
    "output_type": "execute_result",
    "metadata": {
        "resultSet": {
            "id": 0,
            "batchId": 0,
            "rowCount": 9,
            "complete": true,
            "columnInfo": [
                {
                    "isBytes": false,
                    "isChars": false,
                    "isSqlVariant": false,
                    "isUdt": false,
                    "isXml": false,
                    "isJson": false,
                    "sqlDbType": 8,
                    "isHierarchyId": false,
                    "isSqlXmlType": false,
                    "isUnknownType": false,
                    "isUpdatable": false,
                    "allowDBNull": false,
                    "baseCatalogName": null,
                    "baseColumnName": null,
                    "baseSchemaName": null,
                    "baseServerName": null,
                    "baseTableName": null,
                    "columnName": "EmployeeID",
                    "columnOrdinal": 0,
                    "columnSize": 4,
                    "isAliased": null,
                    "isAutoIncrement": true,
                    "isExpression": null,
                    "isHidden": null,
                    "isIdentity": true,
                    "isKey": null,
                    "isLong": false,
                    "isReadOnly": true,
                    "isUnique": false,
                    "numericPrecision": 10,
                    "numericScale": 255,
                    "udtAssemblyQualifiedName": null,
                    "dataType": "System.Int32, System.Private.CoreLib, Version=4.0.0.0, Culture=neutral, PublicKeyToken=7cec85d7bea7798e",
                    "dataTypeName": "int"
                },
                {
                    "isBytes": false,
                    "isChars": true,
                    "isSqlVariant": false,
                    "isUdt": false,
                    "isXml": false,
                    "isJson": false,
                    "sqlDbType": 12,
                    "isHierarchyId": false,
                    "isSqlXmlType": false,
                    "isUnknownType": false,
                    "isUpdatable": true,
                    "allowDBNull": false,
                    "baseCatalogName": null,
                    "baseColumnName": null,
                    "baseSchemaName": null,
                    "baseServerName": null,
                    "baseTableName": null,
                    "columnName": "FirstName",
                    "columnOrdinal": 1,
                    "columnSize": 10,
                    "isAliased": null,
                    "isAutoIncrement": false,
                    "isExpression": null,
                    "isHidden": null,
                    "isIdentity": false,
                    "isKey": null,
                    "isLong": false,
                    "isReadOnly": false,
                    "isUnique": false,
                    "numericPrecision": 255,
                    "numericScale": 255,
                    "udtAssemblyQualifiedName": null,
                    "dataType": "System.String, System.Private.CoreLib, Version=4.0.0.0, Culture=neutral, PublicKeyToken=7cec85d7bea7798e",
                    "dataTypeName": "nvarchar"
                },
                {
                    "isBytes": false,
                    "isChars": true,
                    "isSqlVariant": false,
                    "isUdt": false,
                    "isXml": false,
                    "isJson": false,
                    "sqlDbType": 12,
                    "isHierarchyId": false,
                    "isSqlXmlType": false,
                    "isUnknownType": false,
                    "isUpdatable": true,
                    "allowDBNull": false,
                    "baseCatalogName": null,
                    "baseColumnName": null,
                    "baseSchemaName": null,
                    "baseServerName": null,
                    "baseTableName": null,
                    "columnName": "LastName",
                    "columnOrdinal": 2,
                    "columnSize": 20,
                    "isAliased": null,
                    "isAutoIncrement": false,
                    "isExpression": null,
                    "isHidden": null,
                    "isIdentity": false,
                    "isKey": null,
                    "isLong": false,
                    "isReadOnly": false,
                    "isUnique": false,
                    "numericPrecision": 255,
                    "numericScale": 255,
                    "udtAssemblyQualifiedName": null,
                    "dataType": "System.String, System.Private.CoreLib, Version=4.0.0.0, Culture=neutral, PublicKeyToken=7cec85d7bea7798e",
                    "dataTypeName": "nvarchar"
                },
                {
                    "isBytes": false,
                    "isChars": true,
                    "isSqlVariant": false,
                    "isUdt": false,
                    "isXml": false,
                    "isJson": false,
                    "sqlDbType": 12,
                    "isHierarchyId": false,
                    "isSqlXmlType": false,
                    "isUnknownType": false,
                    "isUpdatable": true,
                    "allowDBNull": true,
                    "baseCatalogName": null,
                    "baseColumnName": null,
                    "baseSchemaName": null,
                    "baseServerName": null,
                    "baseTableName": null,
                    "columnName": "City",
                    "columnOrdinal": 3,
                    "columnSize": 15,
                    "isAliased": null,
                    "isAutoIncrement": false,
                    "isExpression": null,
                    "isHidden": null,
                    "isIdentity": false,
                    "isKey": null,
                    "isLong": false,
                    "isReadOnly": false,
                    "isUnique": false,
                    "numericPrecision": 255,
                    "numericScale": 255,
                    "udtAssemblyQualifiedName": null,
                    "dataType": "System.String, System.Private.CoreLib, Version=4.0.0.0, Culture=neutral, PublicKeyToken=7cec85d7bea7798e",
                    "dataTypeName": "nvarchar"
                }
            ],
            "specialAction": {
                "none": true,
                "expectYukonXMLShowPlan": false
            }
        }
    },
    "execution_count": 18,
    "data": {
        "application/vnd.dataresource+json": {
            "schema": {
                "fields": [
                    {
                        "name": "EmployeeID"
                    },
                    {
                        "name": "FirstName"
                    },
                    {
                        "name": "LastName"
                    },
                    {
                        "name": "City"
                    }
                ]
            },
            "data": [
                {
                    "0": "5",
                    "1": "Steven",
                    "2": "Buchanan",
                    "3": "London"
                },
                {
                    "0": "8",
                    "1": "Laura",
                    "2": "Callahan",
                    "3": "Seattle"
                },
                {
                    "0": "1",
                    "1": "Nancy",
                    "2": "Davolio",
                    "3": "Seattle"
                },
                {
                    "0": "9",
                    "1": "Anne",
                    "2": "Dodsworth",
                    "3": "London"
                },
                {
                    "0": "2",
                    "1": "Andrew",
                    "2": "Fuller",
                    "3": "Tacoma"
                },
                {
                    "0": "7",
                    "1": "Robert",
                    "2": "King",
                    "3": "London"
                },
                {
                    "0": "3",
                    "1": "Janet",
                    "2": "Leverling",
                    "3": "Kirkland"
                },
                {
                    "0": "4",
                    "1": "Margaret",
                    "2": "Peacock",
                    "3": "Redmond"
                },
                {
                    "0": "6",
                    "1": "Michael",
                    "2": "Suyama",
                    "3": "London"
                }
            ]
        },
        "text/html": [
            "<table>",
            "<tr><th>EmployeeID</th><th>FirstName</th><th>LastName</th><th>City</th></tr>",
            "<tr><td>5</td><td>Steven</td><td>Buchanan</td><td>London</td></tr>",
            "<tr><td>8</td><td>Laura</td><td>Callahan</td><td>Seattle</td></tr>",
            "<tr><td>1</td><td>Nancy</td><td>Davolio</td><td>Seattle</td></tr>",
            "<tr><td>9</td><td>Anne</td><td>Dodsworth</td><td>London</td></tr>",
            "<tr><td>2</td><td>Andrew</td><td>Fuller</td><td>Tacoma</td></tr>",
            "<tr><td>7</td><td>Robert</td><td>King</td><td>London</td></tr>",
            "<tr><td>3</td><td>Janet</td><td>Leverling</td><td>Kirkland</td></tr>",
            "<tr><td>4</td><td>Margaret</td><td>Peacock</td><td>Redmond</td></tr>",
            "<tr><td>6</td><td>Michael</td><td>Suyama</td><td>London</td></tr>",
            "</table>"
        ]
    }
}, {
    "output_type": "execute_result",
    "metadata": {
        "resultSet": {
            "id": 1,
            "batchId": 0,
            "rowCount": 9,
            "complete": true,
            "columnInfo": [
                {
                    "isBytes": false,
                    "isChars": false,
                    "isSqlVariant": false,
                    "isUdt": false,
                    "isXml": false,
                    "isJson": false,
                    "sqlDbType": 8,
                    "isHierarchyId": false,
                    "isSqlXmlType": false,
                    "isUnknownType": false,
                    "isUpdatable": false,
                    "allowDBNull": false,
                    "baseCatalogName": null,
                    "baseColumnName": null,
                    "baseSchemaName": null,
                    "baseServerName": null,
                    "baseTableName": null,
                    "columnName": "EmployeeID",
                    "columnOrdinal": 0,
                    "columnSize": 4,
                    "isAliased": null,
                    "isAutoIncrement": true,
                    "isExpression": null,
                    "isHidden": null,
                    "isIdentity": true,
                    "isKey": null,
                    "isLong": false,
                    "isReadOnly": true,
                    "isUnique": false,
                    "numericPrecision": 10,
                    "numericScale": 255,
                    "udtAssemblyQualifiedName": null,
                    "dataType": "System.Int32, System.Private.CoreLib, Version=4.0.0.0, Culture=neutral, PublicKeyToken=7cec85d7bea7798e",
                    "dataTypeName": "int"
                },
                {
                    "isBytes": false,
                    "isChars": true,
                    "isSqlVariant": false,
                    "isUdt": false,
                    "isXml": false,
                    "isJson": false,
                    "sqlDbType": 12,
                    "isHierarchyId": false,
                    "isSqlXmlType": false,
                    "isUnknownType": false,
                    "isUpdatable": true,
                    "allowDBNull": false,
                    "baseCatalogName": null,
                    "baseColumnName": null,
                    "baseSchemaName": null,
                    "baseServerName": null,
                    "baseTableName": null,
                    "columnName": "FirstName",
                    "columnOrdinal": 1,
                    "columnSize": 10,
                    "isAliased": null,
                    "isAutoIncrement": false,
                    "isExpression": null,
                    "isHidden": null,
                    "isIdentity": false,
                    "isKey": null,
                    "isLong": false,
                    "isReadOnly": false,
                    "isUnique": false,
                    "numericPrecision": 255,
                    "numericScale": 255,
                    "udtAssemblyQualifiedName": null,
                    "dataType": "System.String, System.Private.CoreLib, Version=4.0.0.0, Culture=neutral, PublicKeyToken=7cec85d7bea7798e",
                    "dataTypeName": "nvarchar"
                },
                {
                    "isBytes": false,
                    "isChars": true,
                    "isSqlVariant": false,
                    "isUdt": false,
                    "isXml": false,
                    "isJson": false,
                    "sqlDbType": 12,
                    "isHierarchyId": false,
                    "isSqlXmlType": false,
                    "isUnknownType": false,
                    "isUpdatable": true,
                    "allowDBNull": false,
                    "baseCatalogName": null,
                    "baseColumnName": null,
                    "baseSchemaName": null,
                    "baseServerName": null,
                    "baseTableName": null,
                    "columnName": "LastName",
                    "columnOrdinal": 2,
                    "columnSize": 20,
                    "isAliased": null,
                    "isAutoIncrement": false,
                    "isExpression": null,
                    "isHidden": null,
                    "isIdentity": false,
                    "isKey": null,
                    "isLong": false,
                    "isReadOnly": false,
                    "isUnique": false,
                    "numericPrecision": 255,
                    "numericScale": 255,
                    "udtAssemblyQualifiedName": null,
                    "dataType": "System.String, System.Private.CoreLib, Version=4.0.0.0, Culture=neutral, PublicKeyToken=7cec85d7bea7798e",
                    "dataTypeName": "nvarchar"
                },
                {
                    "isBytes": false,
                    "isChars": true,
                    "isSqlVariant": false,
                    "isUdt": false,
                    "isXml": false,
                    "isJson": false,
                    "sqlDbType": 12,
                    "isHierarchyId": false,
                    "isSqlXmlType": false,
                    "isUnknownType": false,
                    "isUpdatable": true,
                    "allowDBNull": true,
                    "baseCatalogName": null,
                    "baseColumnName": null,
                    "baseSchemaName": null,
                    "baseServerName": null,
                    "baseTableName": null,
                    "columnName": "City",
                    "columnOrdinal": 3,
                    "columnSize": 15,
                    "isAliased": null,
                    "isAutoIncrement": false,
                    "isExpression": null,
                    "isHidden": null,
                    "isIdentity": false,
                    "isKey": null,
                    "isLong": false,
                    "isReadOnly": false,
                    "isUnique": false,
                    "numericPrecision": 255,
                    "numericScale": 255,
                    "udtAssemblyQualifiedName": null,
                    "dataType": "System.String, System.Private.CoreLib, Version=4.0.0.0, Culture=neutral, PublicKeyToken=7cec85d7bea7798e",
                    "dataTypeName": "nvarchar"
                }
            ],
            "specialAction": {
                "none": true,
                "expectYukonXMLShowPlan": false
            }
        }
    },
    "execution_count": 18,
    "data": {
        "application/vnd.dataresource+json": {
            "schema": {
                "fields": [
                    {
                        "name": "EmployeeID"
                    },
                    {
                        "name": "FirstName"
                    },
                    {
                        "name": "LastName"
                    },
                    {
                        "name": "City"
                    }
                ]
            },
            "data": [
                {
                    "0": "2",
                    "1": "Andrew",
                    "2": "Fuller",
                    "3": "Tacoma"
                },
                {
                    "0": "8",
                    "1": "Laura",
                    "2": "Callahan",
                    "3": "Seattle"
                },
                {
                    "0": "1",
                    "1": "Nancy",
                    "2": "Davolio",
                    "3": "Seattle"
                },
                {
                    "0": "4",
                    "1": "Margaret",
                    "2": "Peacock",
                    "3": "Redmond"
                },
                {
                    "0": "5",
                    "1": "Steven",
                    "2": "Buchanan",
                    "3": "London"
                },
                {
                    "0": "9",
                    "1": "Anne",
                    "2": "Dodsworth",
                    "3": "London"
                },
                {
                    "0": "7",
                    "1": "Robert",
                    "2": "King",
                    "3": "London"
                },
                {
                    "0": "6",
                    "1": "Michael",
                    "2": "Suyama",
                    "3": "London"
                },
                {
                    "0": "3",
                    "1": "Janet",
                    "2": "Leverling",
                    "3": "Kirkland"
                }
            ]
        },
        "text/html": [
            "<table>",
            "<tr><th>EmployeeID</th><th>FirstName</th><th>LastName</th><th>City</th></tr>",
            "<tr><td>2</td><td>Andrew</td><td>Fuller</td><td>Tacoma</td></tr>",
            "<tr><td>8</td><td>Laura</td><td>Callahan</td><td>Seattle</td></tr>",
            "<tr><td>1</td><td>Nancy</td><td>Davolio</td><td>Seattle</td></tr>",
            "<tr><td>4</td><td>Margaret</td><td>Peacock</td><td>Redmond</td></tr>",
            "<tr><td>5</td><td>Steven</td><td>Buchanan</td><td>London</td></tr>",
            "<tr><td>9</td><td>Anne</td><td>Dodsworth</td><td>London</td></tr>",
            "<tr><td>7</td><td>Robert</td><td>King</td><td>London</td></tr>",
            "<tr><td>6</td><td>Michael</td><td>Suyama</td><td>London</td></tr>",
            "<tr><td>3</td><td>Janet</td><td>Leverling</td><td>Kirkland</td></tr>",
            "</table>"
        ]
    }
}
],
            "execution_count": 18
        },
        {
            "cell_type": "code",
            "source": [
                "-- 10 najnowszych zamówień\r\n",
                "SELECT TOP 10 OrderID, CustomerID, OrderDate, ShipCity, ShipCountry\r\n",
                "FROM Orders\r\n",
                "ORDER BY OrderDate DESC"
            ],
            "metadata": {
                "azdata_cell_guid": "4edabab2-60fe-42e4-907c-6103e7a9d2ed"
            },
            "outputs": [
{
    "output_type": "display_data",
    "data": {
        "text/html": "(10 rows affected)"
    },
    "metadata": {}
}, {
    "output_type": "display_data",
    "data": {
        "text/html": "Total execution time: 00:00:00.003"
    },
    "metadata": {}
}, {
    "output_type": "execute_result",
    "metadata": {
        "resultSet": {
            "id": 0,
            "batchId": 0,
            "rowCount": 10,
            "complete": true,
            "columnInfo": [
                {
                    "isBytes": false,
                    "isChars": false,
                    "isSqlVariant": false,
                    "isUdt": false,
                    "isXml": false,
                    "isJson": false,
                    "sqlDbType": 8,
                    "isHierarchyId": false,
                    "isSqlXmlType": false,
                    "isUnknownType": false,
                    "isUpdatable": false,
                    "allowDBNull": false,
                    "baseCatalogName": null,
                    "baseColumnName": null,
                    "baseSchemaName": null,
                    "baseServerName": null,
                    "baseTableName": null,
                    "columnName": "OrderID",
                    "columnOrdinal": 0,
                    "columnSize": 4,
                    "isAliased": null,
                    "isAutoIncrement": true,
                    "isExpression": null,
                    "isHidden": null,
                    "isIdentity": true,
                    "isKey": null,
                    "isLong": false,
                    "isReadOnly": true,
                    "isUnique": false,
                    "numericPrecision": 10,
                    "numericScale": 255,
                    "udtAssemblyQualifiedName": null,
                    "dataType": "System.Int32, System.Private.CoreLib, Version=4.0.0.0, Culture=neutral, PublicKeyToken=7cec85d7bea7798e",
                    "dataTypeName": "int"
                },
                {
                    "isBytes": false,
                    "isChars": false,
                    "isSqlVariant": false,
                    "isUdt": false,
                    "isXml": false,
                    "isJson": false,
                    "sqlDbType": 10,
                    "isHierarchyId": false,
                    "isSqlXmlType": false,
                    "isUnknownType": false,
                    "isUpdatable": true,
                    "allowDBNull": true,
                    "baseCatalogName": null,
                    "baseColumnName": null,
                    "baseSchemaName": null,
                    "baseServerName": null,
                    "baseTableName": null,
                    "columnName": "CustomerID",
                    "columnOrdinal": 1,
                    "columnSize": 5,
                    "isAliased": null,
                    "isAutoIncrement": false,
                    "isExpression": null,
                    "isHidden": null,
                    "isIdentity": false,
                    "isKey": null,
                    "isLong": false,
                    "isReadOnly": false,
                    "isUnique": false,
                    "numericPrecision": 255,
                    "numericScale": 255,
                    "udtAssemblyQualifiedName": null,
                    "dataType": "System.String, System.Private.CoreLib, Version=4.0.0.0, Culture=neutral, PublicKeyToken=7cec85d7bea7798e",
                    "dataTypeName": "nchar"
                },
                {
                    "isBytes": false,
                    "isChars": false,
                    "isSqlVariant": false,
                    "isUdt": false,
                    "isXml": false,
                    "isJson": false,
                    "sqlDbType": 4,
                    "isHierarchyId": false,
                    "isSqlXmlType": false,
                    "isUnknownType": false,
                    "isUpdatable": true,
                    "allowDBNull": true,
                    "baseCatalogName": null,
                    "baseColumnName": null,
                    "baseSchemaName": null,
                    "baseServerName": null,
                    "baseTableName": null,
                    "columnName": "OrderDate",
                    "columnOrdinal": 2,
                    "columnSize": 8,
                    "isAliased": null,
                    "isAutoIncrement": false,
                    "isExpression": null,
                    "isHidden": null,
                    "isIdentity": false,
                    "isKey": null,
                    "isLong": false,
                    "isReadOnly": false,
                    "isUnique": false,
                    "numericPrecision": 23,
                    "numericScale": 3,
                    "udtAssemblyQualifiedName": null,
                    "dataType": "System.DateTime, System.Private.CoreLib, Version=4.0.0.0, Culture=neutral, PublicKeyToken=7cec85d7bea7798e",
                    "dataTypeName": "datetime"
                },
                {
                    "isBytes": false,
                    "isChars": true,
                    "isSqlVariant": false,
                    "isUdt": false,
                    "isXml": false,
                    "isJson": false,
                    "sqlDbType": 12,
                    "isHierarchyId": false,
                    "isSqlXmlType": false,
                    "isUnknownType": false,
                    "isUpdatable": true,
                    "allowDBNull": true,
                    "baseCatalogName": null,
                    "baseColumnName": null,
                    "baseSchemaName": null,
                    "baseServerName": null,
                    "baseTableName": null,
                    "columnName": "ShipCity",
                    "columnOrdinal": 3,
                    "columnSize": 15,
                    "isAliased": null,
                    "isAutoIncrement": false,
                    "isExpression": null,
                    "isHidden": null,
                    "isIdentity": false,
                    "isKey": null,
                    "isLong": false,
                    "isReadOnly": false,
                    "isUnique": false,
                    "numericPrecision": 255,
                    "numericScale": 255,
                    "udtAssemblyQualifiedName": null,
                    "dataType": "System.String, System.Private.CoreLib, Version=4.0.0.0, Culture=neutral, PublicKeyToken=7cec85d7bea7798e",
                    "dataTypeName": "nvarchar"
                },
                {
                    "isBytes": false,
                    "isChars": true,
                    "isSqlVariant": false,
                    "isUdt": false,
                    "isXml": false,
                    "isJson": false,
                    "sqlDbType": 12,
                    "isHierarchyId": false,
                    "isSqlXmlType": false,
                    "isUnknownType": false,
                    "isUpdatable": true,
                    "allowDBNull": true,
                    "baseCatalogName": null,
                    "baseColumnName": null,
                    "baseSchemaName": null,
                    "baseServerName": null,
                    "baseTableName": null,
                    "columnName": "ShipCountry",
                    "columnOrdinal": 4,
                    "columnSize": 15,
                    "isAliased": null,
                    "isAutoIncrement": false,
                    "isExpression": null,
                    "isHidden": null,
                    "isIdentity": false,
                    "isKey": null,
                    "isLong": false,
                    "isReadOnly": false,
                    "isUnique": false,
                    "numericPrecision": 255,
                    "numericScale": 255,
                    "udtAssemblyQualifiedName": null,
                    "dataType": "System.String, System.Private.CoreLib, Version=4.0.0.0, Culture=neutral, PublicKeyToken=7cec85d7bea7798e",
                    "dataTypeName": "nvarchar"
                }
            ],
            "specialAction": {
                "none": true,
                "expectYukonXMLShowPlan": false
            }
        }
    },
    "execution_count": 19,
    "data": {
        "application/vnd.dataresource+json": {
            "schema": {
                "fields": [
                    {
                        "name": "OrderID"
                    },
                    {
                        "name": "CustomerID"
                    },
                    {
                        "name": "OrderDate"
                    },
                    {
                        "name": "ShipCity"
                    },
                    {
                        "name": "ShipCountry"
                    }
                ]
            },
            "data": [
                {
                    "0": "11077",
                    "1": "RATTC",
                    "2": "1998-05-06 00:00:00.000",
                    "3": "Albuquerque",
                    "4": "USA"
                },
                {
                    "0": "11076",
                    "1": "BONAP",
                    "2": "1998-05-06 00:00:00.000",
                    "3": "Marseille",
                    "4": "France"
                },
                {
                    "0": "11075",
                    "1": "RICSU",
                    "2": "1998-05-06 00:00:00.000",
                    "3": "Genève",
                    "4": "Switzerland"
                },
                {
                    "0": "11074",
                    "1": "SIMOB",
                    "2": "1998-05-06 00:00:00.000",
                    "3": "Kobenhavn",
                    "4": "Denmark"
                },
                {
                    "0": "11073",
                    "1": "PERIC",
                    "2": "1998-05-05 00:00:00.000",
                    "3": "México D.F.",
                    "4": "Mexico"
                },
                {
                    "0": "11072",
                    "1": "ERNSH",
                    "2": "1998-05-05 00:00:00.000",
                    "3": "Graz",
                    "4": "Austria"
                },
                {
                    "0": "11071",
                    "1": "LILAS",
                    "2": "1998-05-05 00:00:00.000",
                    "3": "Barquisimeto",
                    "4": "Venezuela"
                },
                {
                    "0": "11070",
                    "1": "LEHMS",
                    "2": "1998-05-05 00:00:00.000",
                    "3": "Frankfurt a.M.",
                    "4": "Germany"
                },
                {
                    "0": "11069",
                    "1": "TORTU",
                    "2": "1998-05-04 00:00:00.000",
                    "3": "México D.F.",
                    "4": "Mexico"
                },
                {
                    "0": "11068",
                    "1": "QUEEN",
                    "2": "1998-05-04 00:00:00.000",
                    "3": "Sao Paulo",
                    "4": "Brazil"
                }
            ]
        },
        "text/html": [
            "<table>",
            "<tr><th>OrderID</th><th>CustomerID</th><th>OrderDate</th><th>ShipCity</th><th>ShipCountry</th></tr>",
            "<tr><td>11077</td><td>RATTC</td><td>1998-05-06 00:00:00.000</td><td>Albuquerque</td><td>USA</td></tr>",
            "<tr><td>11076</td><td>BONAP</td><td>1998-05-06 00:00:00.000</td><td>Marseille</td><td>France</td></tr>",
            "<tr><td>11075</td><td>RICSU</td><td>1998-05-06 00:00:00.000</td><td>Genève</td><td>Switzerland</td></tr>",
            "<tr><td>11074</td><td>SIMOB</td><td>1998-05-06 00:00:00.000</td><td>Kobenhavn</td><td>Denmark</td></tr>",
            "<tr><td>11073</td><td>PERIC</td><td>1998-05-05 00:00:00.000</td><td>México D.F.</td><td>Mexico</td></tr>",
            "<tr><td>11072</td><td>ERNSH</td><td>1998-05-05 00:00:00.000</td><td>Graz</td><td>Austria</td></tr>",
            "<tr><td>11071</td><td>LILAS</td><td>1998-05-05 00:00:00.000</td><td>Barquisimeto</td><td>Venezuela</td></tr>",
            "<tr><td>11070</td><td>LEHMS</td><td>1998-05-05 00:00:00.000</td><td>Frankfurt a.M.</td><td>Germany</td></tr>",
            "<tr><td>11069</td><td>TORTU</td><td>1998-05-04 00:00:00.000</td><td>México D.F.</td><td>Mexico</td></tr>",
            "<tr><td>11068</td><td>QUEEN</td><td>1998-05-04 00:00:00.000</td><td>Sao Paulo</td><td>Brazil</td></tr>",
            "</table>"
        ]
    }
}
],
            "execution_count": 19
        },
        {
            "cell_type": "markdown",
            "source": [
                "## Zadania A\n",
                "\n",
                "1. Wyświetl listę produktów \n",
                "2. Wyświetl listę klientów\n",
                "3. Wyświetl kolumnę CustomerID oraz City i Country z tabeli z klientami\n",
                "4. Wyświetl niepowtarzalną nazwę kraju z tabeli z klientami\n",
                "5. Wyświetl niepowtarzalną nazwę miasta z tabeli z klientami\n",
                "6. Wyświetl niepowtarzalną kombinację kraju i miasta z tabeli z klientami\n",
                "7. Wyświetl dane pracowników - imię i nazwisko, stanowisko, datę urodzenia, datę zatrudnienia oraz miasto korzystając z aliastów przetłumacz nazwy kolumn na język polski\n",
                "8. Wyświetl informację o klientach, posortowanych wg nazwy firmy rosnąco\n",
                "9. Wyświetl informację o klientach, posortowanych wg państwa i miasta rosnąco oraz nazwy firmy malejąco\n",
                "10. Wyświetl 20 klientaów o najwyższych identyfikatorach"
            ],
            "metadata": {
                "azdata_cell_guid": "baf3921c-e6b5-4332-a8d9-3a2203b51fc0"
            }
        },
        {
            "cell_type": "markdown",
            "source": [
                "## Filtrowanie danych\r\n",
                "### Operatory porównań\r\n",
                "* =, <, >, >=, <=, <>, !=, LIKE\r\n",
                "\r\n",
                "### Operatory logiczne\r\n",
                "* AND, OR\r\n",
                "\r\n",
                "### Pozostałe\r\n",
                "* BETWEEN, IN\r\n",
                "\r\n",
                "### Wartości nieokreślone\r\n",
                "* IS NULL, IS NOT NULL\r\n",
                "\r\n",
                "### Operator LIKE i wieloznaczniki\r\n",
                "* % dowolna liczba dowolnych znaków (lub brak)\r\n",
                "* _ dowolny pojedynczy znak\r\n",
                "* [ACG] lista znaków\r\n",
                "* [A-G] zakres znaków"
            ],
            "metadata": {
                "azdata_cell_guid": "1e858758-bb75-4212-8b02-d54443f08dec"
            }
        },
        {
            "cell_type": "code",
            "source": [
                "-- liczby\r\n",
                "SELECT EmployeeID, FirstName, LastName, Title, BirthDate, Address, City, Country \r\n",
                "FROM Employees \r\n",
                "WHERE EmployeeID = 5\r\n",
                "\r\n",
                "SELECT EmployeeID, FirstName, LastName, Title, BirthDate, Address, City, Country \r\n",
                "FROM Employees \r\n",
                "WHERE EmployeeID < 6"
            ],
            "metadata": {
                "azdata_cell_guid": "05ae4819-d556-4231-8146-4ba4e0950886"
            },
            "outputs": [
{
    "output_type": "display_data",
    "data": {
        "text/html": "(1 row affected)"
    },
    "metadata": {}
}, {
    "output_type": "display_data",
    "data": {
        "text/html": "(5 rows affected)"
    },
    "metadata": {}
}, {
    "output_type": "display_data",
    "data": {
        "text/html": "Total execution time: 00:00:00.004"
    },
    "metadata": {}
}, {
    "output_type": "execute_result",
    "metadata": {
        "resultSet": {
            "id": 0,
            "batchId": 0,
            "rowCount": 1,
            "complete": true,
            "columnInfo": [
                {
                    "isBytes": false,
                    "isChars": false,
                    "isSqlVariant": false,
                    "isUdt": false,
                    "isXml": false,
                    "isJson": false,
                    "sqlDbType": 8,
                    "isHierarchyId": false,
                    "isSqlXmlType": false,
                    "isUnknownType": false,
                    "isUpdatable": false,
                    "allowDBNull": false,
                    "baseCatalogName": null,
                    "baseColumnName": null,
                    "baseSchemaName": null,
                    "baseServerName": null,
                    "baseTableName": null,
                    "columnName": "EmployeeID",
                    "columnOrdinal": 0,
                    "columnSize": 4,
                    "isAliased": null,
                    "isAutoIncrement": true,
                    "isExpression": null,
                    "isHidden": null,
                    "isIdentity": true,
                    "isKey": null,
                    "isLong": false,
                    "isReadOnly": true,
                    "isUnique": false,
                    "numericPrecision": 10,
                    "numericScale": 255,
                    "udtAssemblyQualifiedName": null,
                    "dataType": "System.Int32, System.Private.CoreLib, Version=4.0.0.0, Culture=neutral, PublicKeyToken=7cec85d7bea7798e",
                    "dataTypeName": "int"
                },
                {
                    "isBytes": false,
                    "isChars": true,
                    "isSqlVariant": false,
                    "isUdt": false,
                    "isXml": false,
                    "isJson": false,
                    "sqlDbType": 12,
                    "isHierarchyId": false,
                    "isSqlXmlType": false,
                    "isUnknownType": false,
                    "isUpdatable": true,
                    "allowDBNull": false,
                    "baseCatalogName": null,
                    "baseColumnName": null,
                    "baseSchemaName": null,
                    "baseServerName": null,
                    "baseTableName": null,
                    "columnName": "FirstName",
                    "columnOrdinal": 1,
                    "columnSize": 10,
                    "isAliased": null,
                    "isAutoIncrement": false,
                    "isExpression": null,
                    "isHidden": null,
                    "isIdentity": false,
                    "isKey": null,
                    "isLong": false,
                    "isReadOnly": false,
                    "isUnique": false,
                    "numericPrecision": 255,
                    "numericScale": 255,
                    "udtAssemblyQualifiedName": null,
                    "dataType": "System.String, System.Private.CoreLib, Version=4.0.0.0, Culture=neutral, PublicKeyToken=7cec85d7bea7798e",
                    "dataTypeName": "nvarchar"
                },
                {
                    "isBytes": false,
                    "isChars": true,
                    "isSqlVariant": false,
                    "isUdt": false,
                    "isXml": false,
                    "isJson": false,
                    "sqlDbType": 12,
                    "isHierarchyId": false,
                    "isSqlXmlType": false,
                    "isUnknownType": false,
                    "isUpdatable": true,
                    "allowDBNull": false,
                    "baseCatalogName": null,
                    "baseColumnName": null,
                    "baseSchemaName": null,
                    "baseServerName": null,
                    "baseTableName": null,
                    "columnName": "LastName",
                    "columnOrdinal": 2,
                    "columnSize": 20,
                    "isAliased": null,
                    "isAutoIncrement": false,
                    "isExpression": null,
                    "isHidden": null,
                    "isIdentity": false,
                    "isKey": null,
                    "isLong": false,
                    "isReadOnly": false,
                    "isUnique": false,
                    "numericPrecision": 255,
                    "numericScale": 255,
                    "udtAssemblyQualifiedName": null,
                    "dataType": "System.String, System.Private.CoreLib, Version=4.0.0.0, Culture=neutral, PublicKeyToken=7cec85d7bea7798e",
                    "dataTypeName": "nvarchar"
                },
                {
                    "isBytes": false,
                    "isChars": true,
                    "isSqlVariant": false,
                    "isUdt": false,
                    "isXml": false,
                    "isJson": false,
                    "sqlDbType": 12,
                    "isHierarchyId": false,
                    "isSqlXmlType": false,
                    "isUnknownType": false,
                    "isUpdatable": true,
                    "allowDBNull": true,
                    "baseCatalogName": null,
                    "baseColumnName": null,
                    "baseSchemaName": null,
                    "baseServerName": null,
                    "baseTableName": null,
                    "columnName": "Title",
                    "columnOrdinal": 3,
                    "columnSize": 30,
                    "isAliased": null,
                    "isAutoIncrement": false,
                    "isExpression": null,
                    "isHidden": null,
                    "isIdentity": false,
                    "isKey": null,
                    "isLong": false,
                    "isReadOnly": false,
                    "isUnique": false,
                    "numericPrecision": 255,
                    "numericScale": 255,
                    "udtAssemblyQualifiedName": null,
                    "dataType": "System.String, System.Private.CoreLib, Version=4.0.0.0, Culture=neutral, PublicKeyToken=7cec85d7bea7798e",
                    "dataTypeName": "nvarchar"
                },
                {
                    "isBytes": false,
                    "isChars": false,
                    "isSqlVariant": false,
                    "isUdt": false,
                    "isXml": false,
                    "isJson": false,
                    "sqlDbType": 4,
                    "isHierarchyId": false,
                    "isSqlXmlType": false,
                    "isUnknownType": false,
                    "isUpdatable": true,
                    "allowDBNull": true,
                    "baseCatalogName": null,
                    "baseColumnName": null,
                    "baseSchemaName": null,
                    "baseServerName": null,
                    "baseTableName": null,
                    "columnName": "BirthDate",
                    "columnOrdinal": 4,
                    "columnSize": 8,
                    "isAliased": null,
                    "isAutoIncrement": false,
                    "isExpression": null,
                    "isHidden": null,
                    "isIdentity": false,
                    "isKey": null,
                    "isLong": false,
                    "isReadOnly": false,
                    "isUnique": false,
                    "numericPrecision": 23,
                    "numericScale": 3,
                    "udtAssemblyQualifiedName": null,
                    "dataType": "System.DateTime, System.Private.CoreLib, Version=4.0.0.0, Culture=neutral, PublicKeyToken=7cec85d7bea7798e",
                    "dataTypeName": "datetime"
                },
                {
                    "isBytes": false,
                    "isChars": true,
                    "isSqlVariant": false,
                    "isUdt": false,
                    "isXml": false,
                    "isJson": false,
                    "sqlDbType": 12,
                    "isHierarchyId": false,
                    "isSqlXmlType": false,
                    "isUnknownType": false,
                    "isUpdatable": true,
                    "allowDBNull": true,
                    "baseCatalogName": null,
                    "baseColumnName": null,
                    "baseSchemaName": null,
                    "baseServerName": null,
                    "baseTableName": null,
                    "columnName": "Address",
                    "columnOrdinal": 5,
                    "columnSize": 60,
                    "isAliased": null,
                    "isAutoIncrement": false,
                    "isExpression": null,
                    "isHidden": null,
                    "isIdentity": false,
                    "isKey": null,
                    "isLong": false,
                    "isReadOnly": false,
                    "isUnique": false,
                    "numericPrecision": 255,
                    "numericScale": 255,
                    "udtAssemblyQualifiedName": null,
                    "dataType": "System.String, System.Private.CoreLib, Version=4.0.0.0, Culture=neutral, PublicKeyToken=7cec85d7bea7798e",
                    "dataTypeName": "nvarchar"
                },
                {
                    "isBytes": false,
                    "isChars": true,
                    "isSqlVariant": false,
                    "isUdt": false,
                    "isXml": false,
                    "isJson": false,
                    "sqlDbType": 12,
                    "isHierarchyId": false,
                    "isSqlXmlType": false,
                    "isUnknownType": false,
                    "isUpdatable": true,
                    "allowDBNull": true,
                    "baseCatalogName": null,
                    "baseColumnName": null,
                    "baseSchemaName": null,
                    "baseServerName": null,
                    "baseTableName": null,
                    "columnName": "City",
                    "columnOrdinal": 6,
                    "columnSize": 15,
                    "isAliased": null,
                    "isAutoIncrement": false,
                    "isExpression": null,
                    "isHidden": null,
                    "isIdentity": false,
                    "isKey": null,
                    "isLong": false,
                    "isReadOnly": false,
                    "isUnique": false,
                    "numericPrecision": 255,
                    "numericScale": 255,
                    "udtAssemblyQualifiedName": null,
                    "dataType": "System.String, System.Private.CoreLib, Version=4.0.0.0, Culture=neutral, PublicKeyToken=7cec85d7bea7798e",
                    "dataTypeName": "nvarchar"
                },
                {
                    "isBytes": false,
                    "isChars": true,
                    "isSqlVariant": false,
                    "isUdt": false,
                    "isXml": false,
                    "isJson": false,
                    "sqlDbType": 12,
                    "isHierarchyId": false,
                    "isSqlXmlType": false,
                    "isUnknownType": false,
                    "isUpdatable": true,
                    "allowDBNull": true,
                    "baseCatalogName": null,
                    "baseColumnName": null,
                    "baseSchemaName": null,
                    "baseServerName": null,
                    "baseTableName": null,
                    "columnName": "Country",
                    "columnOrdinal": 7,
                    "columnSize": 15,
                    "isAliased": null,
                    "isAutoIncrement": false,
                    "isExpression": null,
                    "isHidden": null,
                    "isIdentity": false,
                    "isKey": null,
                    "isLong": false,
                    "isReadOnly": false,
                    "isUnique": false,
                    "numericPrecision": 255,
                    "numericScale": 255,
                    "udtAssemblyQualifiedName": null,
                    "dataType": "System.String, System.Private.CoreLib, Version=4.0.0.0, Culture=neutral, PublicKeyToken=7cec85d7bea7798e",
                    "dataTypeName": "nvarchar"
                }
            ],
            "specialAction": {
                "none": true,
                "expectYukonXMLShowPlan": false
            }
        }
    },
    "execution_count": 20,
    "data": {
        "application/vnd.dataresource+json": {
            "schema": {
                "fields": [
                    {
                        "name": "EmployeeID"
                    },
                    {
                        "name": "FirstName"
                    },
                    {
                        "name": "LastName"
                    },
                    {
                        "name": "Title"
                    },
                    {
                        "name": "BirthDate"
                    },
                    {
                        "name": "Address"
                    },
                    {
                        "name": "City"
                    },
                    {
                        "name": "Country"
                    }
                ]
            },
            "data": [
                {
                    "0": "5",
                    "1": "Steven",
                    "2": "Buchanan",
                    "3": "Sales Manager",
                    "4": "1955-03-04 00:00:00.000",
                    "5": "14 Garrett Hill",
                    "6": "London",
                    "7": "UK"
                }
            ]
        },
        "text/html": [
            "<table>",
            "<tr><th>EmployeeID</th><th>FirstName</th><th>LastName</th><th>Title</th><th>BirthDate</th><th>Address</th><th>City</th><th>Country</th></tr>",
            "<tr><td>5</td><td>Steven</td><td>Buchanan</td><td>Sales Manager</td><td>1955-03-04 00:00:00.000</td><td>14 Garrett Hill</td><td>London</td><td>UK</td></tr>",
            "</table>"
        ]
    }
}, {
    "output_type": "execute_result",
    "metadata": {
        "resultSet": {
            "id": 1,
            "batchId": 0,
            "rowCount": 5,
            "complete": true,
            "columnInfo": [
                {
                    "isBytes": false,
                    "isChars": false,
                    "isSqlVariant": false,
                    "isUdt": false,
                    "isXml": false,
                    "isJson": false,
                    "sqlDbType": 8,
                    "isHierarchyId": false,
                    "isSqlXmlType": false,
                    "isUnknownType": false,
                    "isUpdatable": false,
                    "allowDBNull": false,
                    "baseCatalogName": null,
                    "baseColumnName": null,
                    "baseSchemaName": null,
                    "baseServerName": null,
                    "baseTableName": null,
                    "columnName": "EmployeeID",
                    "columnOrdinal": 0,
                    "columnSize": 4,
                    "isAliased": null,
                    "isAutoIncrement": true,
                    "isExpression": null,
                    "isHidden": null,
                    "isIdentity": true,
                    "isKey": null,
                    "isLong": false,
                    "isReadOnly": true,
                    "isUnique": false,
                    "numericPrecision": 10,
                    "numericScale": 255,
                    "udtAssemblyQualifiedName": null,
                    "dataType": "System.Int32, System.Private.CoreLib, Version=4.0.0.0, Culture=neutral, PublicKeyToken=7cec85d7bea7798e",
                    "dataTypeName": "int"
                },
                {
                    "isBytes": false,
                    "isChars": true,
                    "isSqlVariant": false,
                    "isUdt": false,
                    "isXml": false,
                    "isJson": false,
                    "sqlDbType": 12,
                    "isHierarchyId": false,
                    "isSqlXmlType": false,
                    "isUnknownType": false,
                    "isUpdatable": true,
                    "allowDBNull": false,
                    "baseCatalogName": null,
                    "baseColumnName": null,
                    "baseSchemaName": null,
                    "baseServerName": null,
                    "baseTableName": null,
                    "columnName": "FirstName",
                    "columnOrdinal": 1,
                    "columnSize": 10,
                    "isAliased": null,
                    "isAutoIncrement": false,
                    "isExpression": null,
                    "isHidden": null,
                    "isIdentity": false,
                    "isKey": null,
                    "isLong": false,
                    "isReadOnly": false,
                    "isUnique": false,
                    "numericPrecision": 255,
                    "numericScale": 255,
                    "udtAssemblyQualifiedName": null,
                    "dataType": "System.String, System.Private.CoreLib, Version=4.0.0.0, Culture=neutral, PublicKeyToken=7cec85d7bea7798e",
                    "dataTypeName": "nvarchar"
                },
                {
                    "isBytes": false,
                    "isChars": true,
                    "isSqlVariant": false,
                    "isUdt": false,
                    "isXml": false,
                    "isJson": false,
                    "sqlDbType": 12,
                    "isHierarchyId": false,
                    "isSqlXmlType": false,
                    "isUnknownType": false,
                    "isUpdatable": true,
                    "allowDBNull": false,
                    "baseCatalogName": null,
                    "baseColumnName": null,
                    "baseSchemaName": null,
                    "baseServerName": null,
                    "baseTableName": null,
                    "columnName": "LastName",
                    "columnOrdinal": 2,
                    "columnSize": 20,
                    "isAliased": null,
                    "isAutoIncrement": false,
                    "isExpression": null,
                    "isHidden": null,
                    "isIdentity": false,
                    "isKey": null,
                    "isLong": false,
                    "isReadOnly": false,
                    "isUnique": false,
                    "numericPrecision": 255,
                    "numericScale": 255,
                    "udtAssemblyQualifiedName": null,
                    "dataType": "System.String, System.Private.CoreLib, Version=4.0.0.0, Culture=neutral, PublicKeyToken=7cec85d7bea7798e",
                    "dataTypeName": "nvarchar"
                },
                {
                    "isBytes": false,
                    "isChars": true,
                    "isSqlVariant": false,
                    "isUdt": false,
                    "isXml": false,
                    "isJson": false,
                    "sqlDbType": 12,
                    "isHierarchyId": false,
                    "isSqlXmlType": false,
                    "isUnknownType": false,
                    "isUpdatable": true,
                    "allowDBNull": true,
                    "baseCatalogName": null,
                    "baseColumnName": null,
                    "baseSchemaName": null,
                    "baseServerName": null,
                    "baseTableName": null,
                    "columnName": "Title",
                    "columnOrdinal": 3,
                    "columnSize": 30,
                    "isAliased": null,
                    "isAutoIncrement": false,
                    "isExpression": null,
                    "isHidden": null,
                    "isIdentity": false,
                    "isKey": null,
                    "isLong": false,
                    "isReadOnly": false,
                    "isUnique": false,
                    "numericPrecision": 255,
                    "numericScale": 255,
                    "udtAssemblyQualifiedName": null,
                    "dataType": "System.String, System.Private.CoreLib, Version=4.0.0.0, Culture=neutral, PublicKeyToken=7cec85d7bea7798e",
                    "dataTypeName": "nvarchar"
                },
                {
                    "isBytes": false,
                    "isChars": false,
                    "isSqlVariant": false,
                    "isUdt": false,
                    "isXml": false,
                    "isJson": false,
                    "sqlDbType": 4,
                    "isHierarchyId": false,
                    "isSqlXmlType": false,
                    "isUnknownType": false,
                    "isUpdatable": true,
                    "allowDBNull": true,
                    "baseCatalogName": null,
                    "baseColumnName": null,
                    "baseSchemaName": null,
                    "baseServerName": null,
                    "baseTableName": null,
                    "columnName": "BirthDate",
                    "columnOrdinal": 4,
                    "columnSize": 8,
                    "isAliased": null,
                    "isAutoIncrement": false,
                    "isExpression": null,
                    "isHidden": null,
                    "isIdentity": false,
                    "isKey": null,
                    "isLong": false,
                    "isReadOnly": false,
                    "isUnique": false,
                    "numericPrecision": 23,
                    "numericScale": 3,
                    "udtAssemblyQualifiedName": null,
                    "dataType": "System.DateTime, System.Private.CoreLib, Version=4.0.0.0, Culture=neutral, PublicKeyToken=7cec85d7bea7798e",
                    "dataTypeName": "datetime"
                },
                {
                    "isBytes": false,
                    "isChars": true,
                    "isSqlVariant": false,
                    "isUdt": false,
                    "isXml": false,
                    "isJson": false,
                    "sqlDbType": 12,
                    "isHierarchyId": false,
                    "isSqlXmlType": false,
                    "isUnknownType": false,
                    "isUpdatable": true,
                    "allowDBNull": true,
                    "baseCatalogName": null,
                    "baseColumnName": null,
                    "baseSchemaName": null,
                    "baseServerName": null,
                    "baseTableName": null,
                    "columnName": "Address",
                    "columnOrdinal": 5,
                    "columnSize": 60,
                    "isAliased": null,
                    "isAutoIncrement": false,
                    "isExpression": null,
                    "isHidden": null,
                    "isIdentity": false,
                    "isKey": null,
                    "isLong": false,
                    "isReadOnly": false,
                    "isUnique": false,
                    "numericPrecision": 255,
                    "numericScale": 255,
                    "udtAssemblyQualifiedName": null,
                    "dataType": "System.String, System.Private.CoreLib, Version=4.0.0.0, Culture=neutral, PublicKeyToken=7cec85d7bea7798e",
                    "dataTypeName": "nvarchar"
                },
                {
                    "isBytes": false,
                    "isChars": true,
                    "isSqlVariant": false,
                    "isUdt": false,
                    "isXml": false,
                    "isJson": false,
                    "sqlDbType": 12,
                    "isHierarchyId": false,
                    "isSqlXmlType": false,
                    "isUnknownType": false,
                    "isUpdatable": true,
                    "allowDBNull": true,
                    "baseCatalogName": null,
                    "baseColumnName": null,
                    "baseSchemaName": null,
                    "baseServerName": null,
                    "baseTableName": null,
                    "columnName": "City",
                    "columnOrdinal": 6,
                    "columnSize": 15,
                    "isAliased": null,
                    "isAutoIncrement": false,
                    "isExpression": null,
                    "isHidden": null,
                    "isIdentity": false,
                    "isKey": null,
                    "isLong": false,
                    "isReadOnly": false,
                    "isUnique": false,
                    "numericPrecision": 255,
                    "numericScale": 255,
                    "udtAssemblyQualifiedName": null,
                    "dataType": "System.String, System.Private.CoreLib, Version=4.0.0.0, Culture=neutral, PublicKeyToken=7cec85d7bea7798e",
                    "dataTypeName": "nvarchar"
                },
                {
                    "isBytes": false,
                    "isChars": true,
                    "isSqlVariant": false,
                    "isUdt": false,
                    "isXml": false,
                    "isJson": false,
                    "sqlDbType": 12,
                    "isHierarchyId": false,
                    "isSqlXmlType": false,
                    "isUnknownType": false,
                    "isUpdatable": true,
                    "allowDBNull": true,
                    "baseCatalogName": null,
                    "baseColumnName": null,
                    "baseSchemaName": null,
                    "baseServerName": null,
                    "baseTableName": null,
                    "columnName": "Country",
                    "columnOrdinal": 7,
                    "columnSize": 15,
                    "isAliased": null,
                    "isAutoIncrement": false,
                    "isExpression": null,
                    "isHidden": null,
                    "isIdentity": false,
                    "isKey": null,
                    "isLong": false,
                    "isReadOnly": false,
                    "isUnique": false,
                    "numericPrecision": 255,
                    "numericScale": 255,
                    "udtAssemblyQualifiedName": null,
                    "dataType": "System.String, System.Private.CoreLib, Version=4.0.0.0, Culture=neutral, PublicKeyToken=7cec85d7bea7798e",
                    "dataTypeName": "nvarchar"
                }
            ],
            "specialAction": {
                "none": true,
                "expectYukonXMLShowPlan": false
            }
        }
    },
    "execution_count": 20,
    "data": {
        "application/vnd.dataresource+json": {
            "schema": {
                "fields": [
                    {
                        "name": "EmployeeID"
                    },
                    {
                        "name": "FirstName"
                    },
                    {
                        "name": "LastName"
                    },
                    {
                        "name": "Title"
                    },
                    {
                        "name": "BirthDate"
                    },
                    {
                        "name": "Address"
                    },
                    {
                        "name": "City"
                    },
                    {
                        "name": "Country"
                    }
                ]
            },
            "data": [
                {
                    "0": "1",
                    "1": "Nancy",
                    "2": "Davolio",
                    "3": "Sales Representative",
                    "4": "1948-12-08 00:00:00.000",
                    "5": "507 - 20th Ave. E.\r\nApt. 2A",
                    "6": "Seattle",
                    "7": "USA"
                },
                {
                    "0": "2",
                    "1": "Andrew",
                    "2": "Fuller",
                    "3": "Vice President, Sales",
                    "4": "1952-02-19 00:00:00.000",
                    "5": "908 W. Capital Way",
                    "6": "Tacoma",
                    "7": "USA"
                },
                {
                    "0": "3",
                    "1": "Janet",
                    "2": "Leverling",
                    "3": "Sales Representative",
                    "4": "1963-08-30 00:00:00.000",
                    "5": "722 Moss Bay Blvd.",
                    "6": "Kirkland",
                    "7": "USA"
                },
                {
                    "0": "4",
                    "1": "Margaret",
                    "2": "Peacock",
                    "3": "Sales Representative",
                    "4": "1937-09-19 00:00:00.000",
                    "5": "4110 Old Redmond Rd.",
                    "6": "Redmond",
                    "7": "USA"
                },
                {
                    "0": "5",
                    "1": "Steven",
                    "2": "Buchanan",
                    "3": "Sales Manager",
                    "4": "1955-03-04 00:00:00.000",
                    "5": "14 Garrett Hill",
                    "6": "London",
                    "7": "UK"
                }
            ]
        },
        "text/html": [
            "<table>",
            "<tr><th>EmployeeID</th><th>FirstName</th><th>LastName</th><th>Title</th><th>BirthDate</th><th>Address</th><th>City</th><th>Country</th></tr>",
            "<tr><td>1</td><td>Nancy</td><td>Davolio</td><td>Sales Representative</td><td>1948-12-08 00:00:00.000</td><td>507 - 20th Ave. E.\r\nApt. 2A</td><td>Seattle</td><td>USA</td></tr>",
            "<tr><td>2</td><td>Andrew</td><td>Fuller</td><td>Vice President, Sales</td><td>1952-02-19 00:00:00.000</td><td>908 W. Capital Way</td><td>Tacoma</td><td>USA</td></tr>",
            "<tr><td>3</td><td>Janet</td><td>Leverling</td><td>Sales Representative</td><td>1963-08-30 00:00:00.000</td><td>722 Moss Bay Blvd.</td><td>Kirkland</td><td>USA</td></tr>",
            "<tr><td>4</td><td>Margaret</td><td>Peacock</td><td>Sales Representative</td><td>1937-09-19 00:00:00.000</td><td>4110 Old Redmond Rd.</td><td>Redmond</td><td>USA</td></tr>",
            "<tr><td>5</td><td>Steven</td><td>Buchanan</td><td>Sales Manager</td><td>1955-03-04 00:00:00.000</td><td>14 Garrett Hill</td><td>London</td><td>UK</td></tr>",
            "</table>"
        ]
    }
}
],
            "execution_count": 20
        },
        {
            "cell_type": "code",
            "source": [
                "-- tekst\r\n",
                "SELECT EmployeeID, FirstName, LastName, Title, BirthDate, Address, City, Country \r\n",
                "FROM Employees \r\n",
                "WHERE Country = 'USA'\r\n",
                "\r\n",
                "SELECT EmployeeID, FirstName, LastName, Title, BirthDate, Address, City, Country \r\n",
                "FROM Employees \r\n",
                "WHERE LastName LIKE 'B%'"
            ],
            "metadata": {
                "azdata_cell_guid": "5eee2e1e-fd73-46b7-ad90-a1edd15a495e"
            },
            "outputs": [
{
    "output_type": "display_data",
    "data": {
        "text/html": "(5 rows affected)"
    },
    "metadata": {}
}, {
    "output_type": "display_data",
    "data": {
        "text/html": "(1 row affected)"
    },
    "metadata": {}
}, {
    "output_type": "display_data",
    "data": {
        "text/html": "Total execution time: 00:00:00.005"
    },
    "metadata": {}
}, {
    "output_type": "execute_result",
    "metadata": {
        "resultSet": {
            "id": 0,
            "batchId": 0,
            "rowCount": 5,
            "complete": true,
            "columnInfo": [
                {
                    "isBytes": false,
                    "isChars": false,
                    "isSqlVariant": false,
                    "isUdt": false,
                    "isXml": false,
                    "isJson": false,
                    "sqlDbType": 8,
                    "isHierarchyId": false,
                    "isSqlXmlType": false,
                    "isUnknownType": false,
                    "isUpdatable": false,
                    "allowDBNull": false,
                    "baseCatalogName": null,
                    "baseColumnName": null,
                    "baseSchemaName": null,
                    "baseServerName": null,
                    "baseTableName": null,
                    "columnName": "EmployeeID",
                    "columnOrdinal": 0,
                    "columnSize": 4,
                    "isAliased": null,
                    "isAutoIncrement": true,
                    "isExpression": null,
                    "isHidden": null,
                    "isIdentity": true,
                    "isKey": null,
                    "isLong": false,
                    "isReadOnly": true,
                    "isUnique": false,
                    "numericPrecision": 10,
                    "numericScale": 255,
                    "udtAssemblyQualifiedName": null,
                    "dataType": "System.Int32, System.Private.CoreLib, Version=4.0.0.0, Culture=neutral, PublicKeyToken=7cec85d7bea7798e",
                    "dataTypeName": "int"
                },
                {
                    "isBytes": false,
                    "isChars": true,
                    "isSqlVariant": false,
                    "isUdt": false,
                    "isXml": false,
                    "isJson": false,
                    "sqlDbType": 12,
                    "isHierarchyId": false,
                    "isSqlXmlType": false,
                    "isUnknownType": false,
                    "isUpdatable": true,
                    "allowDBNull": false,
                    "baseCatalogName": null,
                    "baseColumnName": null,
                    "baseSchemaName": null,
                    "baseServerName": null,
                    "baseTableName": null,
                    "columnName": "FirstName",
                    "columnOrdinal": 1,
                    "columnSize": 10,
                    "isAliased": null,
                    "isAutoIncrement": false,
                    "isExpression": null,
                    "isHidden": null,
                    "isIdentity": false,
                    "isKey": null,
                    "isLong": false,
                    "isReadOnly": false,
                    "isUnique": false,
                    "numericPrecision": 255,
                    "numericScale": 255,
                    "udtAssemblyQualifiedName": null,
                    "dataType": "System.String, System.Private.CoreLib, Version=4.0.0.0, Culture=neutral, PublicKeyToken=7cec85d7bea7798e",
                    "dataTypeName": "nvarchar"
                },
                {
                    "isBytes": false,
                    "isChars": true,
                    "isSqlVariant": false,
                    "isUdt": false,
                    "isXml": false,
                    "isJson": false,
                    "sqlDbType": 12,
                    "isHierarchyId": false,
                    "isSqlXmlType": false,
                    "isUnknownType": false,
                    "isUpdatable": true,
                    "allowDBNull": false,
                    "baseCatalogName": null,
                    "baseColumnName": null,
                    "baseSchemaName": null,
                    "baseServerName": null,
                    "baseTableName": null,
                    "columnName": "LastName",
                    "columnOrdinal": 2,
                    "columnSize": 20,
                    "isAliased": null,
                    "isAutoIncrement": false,
                    "isExpression": null,
                    "isHidden": null,
                    "isIdentity": false,
                    "isKey": null,
                    "isLong": false,
                    "isReadOnly": false,
                    "isUnique": false,
                    "numericPrecision": 255,
                    "numericScale": 255,
                    "udtAssemblyQualifiedName": null,
                    "dataType": "System.String, System.Private.CoreLib, Version=4.0.0.0, Culture=neutral, PublicKeyToken=7cec85d7bea7798e",
                    "dataTypeName": "nvarchar"
                },
                {
                    "isBytes": false,
                    "isChars": true,
                    "isSqlVariant": false,
                    "isUdt": false,
                    "isXml": false,
                    "isJson": false,
                    "sqlDbType": 12,
                    "isHierarchyId": false,
                    "isSqlXmlType": false,
                    "isUnknownType": false,
                    "isUpdatable": true,
                    "allowDBNull": true,
                    "baseCatalogName": null,
                    "baseColumnName": null,
                    "baseSchemaName": null,
                    "baseServerName": null,
                    "baseTableName": null,
                    "columnName": "Title",
                    "columnOrdinal": 3,
                    "columnSize": 30,
                    "isAliased": null,
                    "isAutoIncrement": false,
                    "isExpression": null,
                    "isHidden": null,
                    "isIdentity": false,
                    "isKey": null,
                    "isLong": false,
                    "isReadOnly": false,
                    "isUnique": false,
                    "numericPrecision": 255,
                    "numericScale": 255,
                    "udtAssemblyQualifiedName": null,
                    "dataType": "System.String, System.Private.CoreLib, Version=4.0.0.0, Culture=neutral, PublicKeyToken=7cec85d7bea7798e",
                    "dataTypeName": "nvarchar"
                },
                {
                    "isBytes": false,
                    "isChars": false,
                    "isSqlVariant": false,
                    "isUdt": false,
                    "isXml": false,
                    "isJson": false,
                    "sqlDbType": 4,
                    "isHierarchyId": false,
                    "isSqlXmlType": false,
                    "isUnknownType": false,
                    "isUpdatable": true,
                    "allowDBNull": true,
                    "baseCatalogName": null,
                    "baseColumnName": null,
                    "baseSchemaName": null,
                    "baseServerName": null,
                    "baseTableName": null,
                    "columnName": "BirthDate",
                    "columnOrdinal": 4,
                    "columnSize": 8,
                    "isAliased": null,
                    "isAutoIncrement": false,
                    "isExpression": null,
                    "isHidden": null,
                    "isIdentity": false,
                    "isKey": null,
                    "isLong": false,
                    "isReadOnly": false,
                    "isUnique": false,
                    "numericPrecision": 23,
                    "numericScale": 3,
                    "udtAssemblyQualifiedName": null,
                    "dataType": "System.DateTime, System.Private.CoreLib, Version=4.0.0.0, Culture=neutral, PublicKeyToken=7cec85d7bea7798e",
                    "dataTypeName": "datetime"
                },
                {
                    "isBytes": false,
                    "isChars": true,
                    "isSqlVariant": false,
                    "isUdt": false,
                    "isXml": false,
                    "isJson": false,
                    "sqlDbType": 12,
                    "isHierarchyId": false,
                    "isSqlXmlType": false,
                    "isUnknownType": false,
                    "isUpdatable": true,
                    "allowDBNull": true,
                    "baseCatalogName": null,
                    "baseColumnName": null,
                    "baseSchemaName": null,
                    "baseServerName": null,
                    "baseTableName": null,
                    "columnName": "Address",
                    "columnOrdinal": 5,
                    "columnSize": 60,
                    "isAliased": null,
                    "isAutoIncrement": false,
                    "isExpression": null,
                    "isHidden": null,
                    "isIdentity": false,
                    "isKey": null,
                    "isLong": false,
                    "isReadOnly": false,
                    "isUnique": false,
                    "numericPrecision": 255,
                    "numericScale": 255,
                    "udtAssemblyQualifiedName": null,
                    "dataType": "System.String, System.Private.CoreLib, Version=4.0.0.0, Culture=neutral, PublicKeyToken=7cec85d7bea7798e",
                    "dataTypeName": "nvarchar"
                },
                {
                    "isBytes": false,
                    "isChars": true,
                    "isSqlVariant": false,
                    "isUdt": false,
                    "isXml": false,
                    "isJson": false,
                    "sqlDbType": 12,
                    "isHierarchyId": false,
                    "isSqlXmlType": false,
                    "isUnknownType": false,
                    "isUpdatable": true,
                    "allowDBNull": true,
                    "baseCatalogName": null,
                    "baseColumnName": null,
                    "baseSchemaName": null,
                    "baseServerName": null,
                    "baseTableName": null,
                    "columnName": "City",
                    "columnOrdinal": 6,
                    "columnSize": 15,
                    "isAliased": null,
                    "isAutoIncrement": false,
                    "isExpression": null,
                    "isHidden": null,
                    "isIdentity": false,
                    "isKey": null,
                    "isLong": false,
                    "isReadOnly": false,
                    "isUnique": false,
                    "numericPrecision": 255,
                    "numericScale": 255,
                    "udtAssemblyQualifiedName": null,
                    "dataType": "System.String, System.Private.CoreLib, Version=4.0.0.0, Culture=neutral, PublicKeyToken=7cec85d7bea7798e",
                    "dataTypeName": "nvarchar"
                },
                {
                    "isBytes": false,
                    "isChars": true,
                    "isSqlVariant": false,
                    "isUdt": false,
                    "isXml": false,
                    "isJson": false,
                    "sqlDbType": 12,
                    "isHierarchyId": false,
                    "isSqlXmlType": false,
                    "isUnknownType": false,
                    "isUpdatable": true,
                    "allowDBNull": true,
                    "baseCatalogName": null,
                    "baseColumnName": null,
                    "baseSchemaName": null,
                    "baseServerName": null,
                    "baseTableName": null,
                    "columnName": "Country",
                    "columnOrdinal": 7,
                    "columnSize": 15,
                    "isAliased": null,
                    "isAutoIncrement": false,
                    "isExpression": null,
                    "isHidden": null,
                    "isIdentity": false,
                    "isKey": null,
                    "isLong": false,
                    "isReadOnly": false,
                    "isUnique": false,
                    "numericPrecision": 255,
                    "numericScale": 255,
                    "udtAssemblyQualifiedName": null,
                    "dataType": "System.String, System.Private.CoreLib, Version=4.0.0.0, Culture=neutral, PublicKeyToken=7cec85d7bea7798e",
                    "dataTypeName": "nvarchar"
                }
            ],
            "specialAction": {
                "none": true,
                "expectYukonXMLShowPlan": false
            }
        }
    },
    "execution_count": 21,
    "data": {
        "application/vnd.dataresource+json": {
            "schema": {
                "fields": [
                    {
                        "name": "EmployeeID"
                    },
                    {
                        "name": "FirstName"
                    },
                    {
                        "name": "LastName"
                    },
                    {
                        "name": "Title"
                    },
                    {
                        "name": "BirthDate"
                    },
                    {
                        "name": "Address"
                    },
                    {
                        "name": "City"
                    },
                    {
                        "name": "Country"
                    }
                ]
            },
            "data": [
                {
                    "0": "1",
                    "1": "Nancy",
                    "2": "Davolio",
                    "3": "Sales Representative",
                    "4": "1948-12-08 00:00:00.000",
                    "5": "507 - 20th Ave. E.\r\nApt. 2A",
                    "6": "Seattle",
                    "7": "USA"
                },
                {
                    "0": "2",
                    "1": "Andrew",
                    "2": "Fuller",
                    "3": "Vice President, Sales",
                    "4": "1952-02-19 00:00:00.000",
                    "5": "908 W. Capital Way",
                    "6": "Tacoma",
                    "7": "USA"
                },
                {
                    "0": "3",
                    "1": "Janet",
                    "2": "Leverling",
                    "3": "Sales Representative",
                    "4": "1963-08-30 00:00:00.000",
                    "5": "722 Moss Bay Blvd.",
                    "6": "Kirkland",
                    "7": "USA"
                },
                {
                    "0": "4",
                    "1": "Margaret",
                    "2": "Peacock",
                    "3": "Sales Representative",
                    "4": "1937-09-19 00:00:00.000",
                    "5": "4110 Old Redmond Rd.",
                    "6": "Redmond",
                    "7": "USA"
                },
                {
                    "0": "8",
                    "1": "Laura",
                    "2": "Callahan",
                    "3": "Inside Sales Coordinator",
                    "4": "1958-01-09 00:00:00.000",
                    "5": "4726 - 11th Ave. N.E.",
                    "6": "Seattle",
                    "7": "USA"
                }
            ]
        },
        "text/html": [
            "<table>",
            "<tr><th>EmployeeID</th><th>FirstName</th><th>LastName</th><th>Title</th><th>BirthDate</th><th>Address</th><th>City</th><th>Country</th></tr>",
            "<tr><td>1</td><td>Nancy</td><td>Davolio</td><td>Sales Representative</td><td>1948-12-08 00:00:00.000</td><td>507 - 20th Ave. E.\r\nApt. 2A</td><td>Seattle</td><td>USA</td></tr>",
            "<tr><td>2</td><td>Andrew</td><td>Fuller</td><td>Vice President, Sales</td><td>1952-02-19 00:00:00.000</td><td>908 W. Capital Way</td><td>Tacoma</td><td>USA</td></tr>",
            "<tr><td>3</td><td>Janet</td><td>Leverling</td><td>Sales Representative</td><td>1963-08-30 00:00:00.000</td><td>722 Moss Bay Blvd.</td><td>Kirkland</td><td>USA</td></tr>",
            "<tr><td>4</td><td>Margaret</td><td>Peacock</td><td>Sales Representative</td><td>1937-09-19 00:00:00.000</td><td>4110 Old Redmond Rd.</td><td>Redmond</td><td>USA</td></tr>",
            "<tr><td>8</td><td>Laura</td><td>Callahan</td><td>Inside Sales Coordinator</td><td>1958-01-09 00:00:00.000</td><td>4726 - 11th Ave. N.E.</td><td>Seattle</td><td>USA</td></tr>",
            "</table>"
        ]
    }
}, {
    "output_type": "execute_result",
    "metadata": {
        "resultSet": {
            "id": 1,
            "batchId": 0,
            "rowCount": 1,
            "complete": true,
            "columnInfo": [
                {
                    "isBytes": false,
                    "isChars": false,
                    "isSqlVariant": false,
                    "isUdt": false,
                    "isXml": false,
                    "isJson": false,
                    "sqlDbType": 8,
                    "isHierarchyId": false,
                    "isSqlXmlType": false,
                    "isUnknownType": false,
                    "isUpdatable": false,
                    "allowDBNull": false,
                    "baseCatalogName": null,
                    "baseColumnName": null,
                    "baseSchemaName": null,
                    "baseServerName": null,
                    "baseTableName": null,
                    "columnName": "EmployeeID",
                    "columnOrdinal": 0,
                    "columnSize": 4,
                    "isAliased": null,
                    "isAutoIncrement": true,
                    "isExpression": null,
                    "isHidden": null,
                    "isIdentity": true,
                    "isKey": null,
                    "isLong": false,
                    "isReadOnly": true,
                    "isUnique": false,
                    "numericPrecision": 10,
                    "numericScale": 255,
                    "udtAssemblyQualifiedName": null,
                    "dataType": "System.Int32, System.Private.CoreLib, Version=4.0.0.0, Culture=neutral, PublicKeyToken=7cec85d7bea7798e",
                    "dataTypeName": "int"
                },
                {
                    "isBytes": false,
                    "isChars": true,
                    "isSqlVariant": false,
                    "isUdt": false,
                    "isXml": false,
                    "isJson": false,
                    "sqlDbType": 12,
                    "isHierarchyId": false,
                    "isSqlXmlType": false,
                    "isUnknownType": false,
                    "isUpdatable": true,
                    "allowDBNull": false,
                    "baseCatalogName": null,
                    "baseColumnName": null,
                    "baseSchemaName": null,
                    "baseServerName": null,
                    "baseTableName": null,
                    "columnName": "FirstName",
                    "columnOrdinal": 1,
                    "columnSize": 10,
                    "isAliased": null,
                    "isAutoIncrement": false,
                    "isExpression": null,
                    "isHidden": null,
                    "isIdentity": false,
                    "isKey": null,
                    "isLong": false,
                    "isReadOnly": false,
                    "isUnique": false,
                    "numericPrecision": 255,
                    "numericScale": 255,
                    "udtAssemblyQualifiedName": null,
                    "dataType": "System.String, System.Private.CoreLib, Version=4.0.0.0, Culture=neutral, PublicKeyToken=7cec85d7bea7798e",
                    "dataTypeName": "nvarchar"
                },
                {
                    "isBytes": false,
                    "isChars": true,
                    "isSqlVariant": false,
                    "isUdt": false,
                    "isXml": false,
                    "isJson": false,
                    "sqlDbType": 12,
                    "isHierarchyId": false,
                    "isSqlXmlType": false,
                    "isUnknownType": false,
                    "isUpdatable": true,
                    "allowDBNull": false,
                    "baseCatalogName": null,
                    "baseColumnName": null,
                    "baseSchemaName": null,
                    "baseServerName": null,
                    "baseTableName": null,
                    "columnName": "LastName",
                    "columnOrdinal": 2,
                    "columnSize": 20,
                    "isAliased": null,
                    "isAutoIncrement": false,
                    "isExpression": null,
                    "isHidden": null,
                    "isIdentity": false,
                    "isKey": null,
                    "isLong": false,
                    "isReadOnly": false,
                    "isUnique": false,
                    "numericPrecision": 255,
                    "numericScale": 255,
                    "udtAssemblyQualifiedName": null,
                    "dataType": "System.String, System.Private.CoreLib, Version=4.0.0.0, Culture=neutral, PublicKeyToken=7cec85d7bea7798e",
                    "dataTypeName": "nvarchar"
                },
                {
                    "isBytes": false,
                    "isChars": true,
                    "isSqlVariant": false,
                    "isUdt": false,
                    "isXml": false,
                    "isJson": false,
                    "sqlDbType": 12,
                    "isHierarchyId": false,
                    "isSqlXmlType": false,
                    "isUnknownType": false,
                    "isUpdatable": true,
                    "allowDBNull": true,
                    "baseCatalogName": null,
                    "baseColumnName": null,
                    "baseSchemaName": null,
                    "baseServerName": null,
                    "baseTableName": null,
                    "columnName": "Title",
                    "columnOrdinal": 3,
                    "columnSize": 30,
                    "isAliased": null,
                    "isAutoIncrement": false,
                    "isExpression": null,
                    "isHidden": null,
                    "isIdentity": false,
                    "isKey": null,
                    "isLong": false,
                    "isReadOnly": false,
                    "isUnique": false,
                    "numericPrecision": 255,
                    "numericScale": 255,
                    "udtAssemblyQualifiedName": null,
                    "dataType": "System.String, System.Private.CoreLib, Version=4.0.0.0, Culture=neutral, PublicKeyToken=7cec85d7bea7798e",
                    "dataTypeName": "nvarchar"
                },
                {
                    "isBytes": false,
                    "isChars": false,
                    "isSqlVariant": false,
                    "isUdt": false,
                    "isXml": false,
                    "isJson": false,
                    "sqlDbType": 4,
                    "isHierarchyId": false,
                    "isSqlXmlType": false,
                    "isUnknownType": false,
                    "isUpdatable": true,
                    "allowDBNull": true,
                    "baseCatalogName": null,
                    "baseColumnName": null,
                    "baseSchemaName": null,
                    "baseServerName": null,
                    "baseTableName": null,
                    "columnName": "BirthDate",
                    "columnOrdinal": 4,
                    "columnSize": 8,
                    "isAliased": null,
                    "isAutoIncrement": false,
                    "isExpression": null,
                    "isHidden": null,
                    "isIdentity": false,
                    "isKey": null,
                    "isLong": false,
                    "isReadOnly": false,
                    "isUnique": false,
                    "numericPrecision": 23,
                    "numericScale": 3,
                    "udtAssemblyQualifiedName": null,
                    "dataType": "System.DateTime, System.Private.CoreLib, Version=4.0.0.0, Culture=neutral, PublicKeyToken=7cec85d7bea7798e",
                    "dataTypeName": "datetime"
                },
                {
                    "isBytes": false,
                    "isChars": true,
                    "isSqlVariant": false,
                    "isUdt": false,
                    "isXml": false,
                    "isJson": false,
                    "sqlDbType": 12,
                    "isHierarchyId": false,
                    "isSqlXmlType": false,
                    "isUnknownType": false,
                    "isUpdatable": true,
                    "allowDBNull": true,
                    "baseCatalogName": null,
                    "baseColumnName": null,
                    "baseSchemaName": null,
                    "baseServerName": null,
                    "baseTableName": null,
                    "columnName": "Address",
                    "columnOrdinal": 5,
                    "columnSize": 60,
                    "isAliased": null,
                    "isAutoIncrement": false,
                    "isExpression": null,
                    "isHidden": null,
                    "isIdentity": false,
                    "isKey": null,
                    "isLong": false,
                    "isReadOnly": false,
                    "isUnique": false,
                    "numericPrecision": 255,
                    "numericScale": 255,
                    "udtAssemblyQualifiedName": null,
                    "dataType": "System.String, System.Private.CoreLib, Version=4.0.0.0, Culture=neutral, PublicKeyToken=7cec85d7bea7798e",
                    "dataTypeName": "nvarchar"
                },
                {
                    "isBytes": false,
                    "isChars": true,
                    "isSqlVariant": false,
                    "isUdt": false,
                    "isXml": false,
                    "isJson": false,
                    "sqlDbType": 12,
                    "isHierarchyId": false,
                    "isSqlXmlType": false,
                    "isUnknownType": false,
                    "isUpdatable": true,
                    "allowDBNull": true,
                    "baseCatalogName": null,
                    "baseColumnName": null,
                    "baseSchemaName": null,
                    "baseServerName": null,
                    "baseTableName": null,
                    "columnName": "City",
                    "columnOrdinal": 6,
                    "columnSize": 15,
                    "isAliased": null,
                    "isAutoIncrement": false,
                    "isExpression": null,
                    "isHidden": null,
                    "isIdentity": false,
                    "isKey": null,
                    "isLong": false,
                    "isReadOnly": false,
                    "isUnique": false,
                    "numericPrecision": 255,
                    "numericScale": 255,
                    "udtAssemblyQualifiedName": null,
                    "dataType": "System.String, System.Private.CoreLib, Version=4.0.0.0, Culture=neutral, PublicKeyToken=7cec85d7bea7798e",
                    "dataTypeName": "nvarchar"
                },
                {
                    "isBytes": false,
                    "isChars": true,
                    "isSqlVariant": false,
                    "isUdt": false,
                    "isXml": false,
                    "isJson": false,
                    "sqlDbType": 12,
                    "isHierarchyId": false,
                    "isSqlXmlType": false,
                    "isUnknownType": false,
                    "isUpdatable": true,
                    "allowDBNull": true,
                    "baseCatalogName": null,
                    "baseColumnName": null,
                    "baseSchemaName": null,
                    "baseServerName": null,
                    "baseTableName": null,
                    "columnName": "Country",
                    "columnOrdinal": 7,
                    "columnSize": 15,
                    "isAliased": null,
                    "isAutoIncrement": false,
                    "isExpression": null,
                    "isHidden": null,
                    "isIdentity": false,
                    "isKey": null,
                    "isLong": false,
                    "isReadOnly": false,
                    "isUnique": false,
                    "numericPrecision": 255,
                    "numericScale": 255,
                    "udtAssemblyQualifiedName": null,
                    "dataType": "System.String, System.Private.CoreLib, Version=4.0.0.0, Culture=neutral, PublicKeyToken=7cec85d7bea7798e",
                    "dataTypeName": "nvarchar"
                }
            ],
            "specialAction": {
                "none": true,
                "expectYukonXMLShowPlan": false
            }
        }
    },
    "execution_count": 21,
    "data": {
        "application/vnd.dataresource+json": {
            "schema": {
                "fields": [
                    {
                        "name": "EmployeeID"
                    },
                    {
                        "name": "FirstName"
                    },
                    {
                        "name": "LastName"
                    },
                    {
                        "name": "Title"
                    },
                    {
                        "name": "BirthDate"
                    },
                    {
                        "name": "Address"
                    },
                    {
                        "name": "City"
                    },
                    {
                        "name": "Country"
                    }
                ]
            },
            "data": [
                {
                    "0": "5",
                    "1": "Steven",
                    "2": "Buchanan",
                    "3": "Sales Manager",
                    "4": "1955-03-04 00:00:00.000",
                    "5": "14 Garrett Hill",
                    "6": "London",
                    "7": "UK"
                }
            ]
        },
        "text/html": [
            "<table>",
            "<tr><th>EmployeeID</th><th>FirstName</th><th>LastName</th><th>Title</th><th>BirthDate</th><th>Address</th><th>City</th><th>Country</th></tr>",
            "<tr><td>5</td><td>Steven</td><td>Buchanan</td><td>Sales Manager</td><td>1955-03-04 00:00:00.000</td><td>14 Garrett Hill</td><td>London</td><td>UK</td></tr>",
            "</table>"
        ]
    }
}
],
            "execution_count": 21
        },
        {
            "cell_type": "code",
            "source": [
                "-- daty\r\n",
                "SELECT EmployeeID, FirstName, LastName, Title, BirthDate, Address, City, Country \r\n",
                "FROM Employees\r\n",
                "WHERE BirthDate >= '19630101' AND BirthDate <= '19631231'\r\n",
                "\r\n",
                "SELECT EmployeeID, FirstName, LastName, Title, BirthDate, Address, City, Country \r\n",
                "FROM Employees\r\n",
                "WHERE BirthDate BETWEEN '19630101' AND '19631231'\r\n",
                "\r\n",
                "SELECT EmployeeID, FirstName, LastName, Title, BirthDate, Address, City, Country \r\n",
                "FROM Employees\r\n",
                "WHERE YEAR(BirthDate) = 1963\r\n",
                ""
            ],
            "metadata": {
                "azdata_cell_guid": "a3fa83aa-9ca6-4871-b251-622f41c69707"
            },
            "outputs": [
{
    "output_type": "display_data",
    "data": {
        "text/html": "(2 rows affected)"
    },
    "metadata": {}
}, {
    "output_type": "display_data",
    "data": {
        "text/html": "(2 rows affected)"
    },
    "metadata": {}
}, {
    "output_type": "display_data",
    "data": {
        "text/html": "(2 rows affected)"
    },
    "metadata": {}
}, {
    "output_type": "display_data",
    "data": {
        "text/html": "Total execution time: 00:00:00.006"
    },
    "metadata": {}
}, {
    "output_type": "execute_result",
    "metadata": {
        "resultSet": {
            "id": 0,
            "batchId": 0,
            "rowCount": 2,
            "complete": true,
            "columnInfo": [
                {
                    "isBytes": false,
                    "isChars": false,
                    "isSqlVariant": false,
                    "isUdt": false,
                    "isXml": false,
                    "isJson": false,
                    "sqlDbType": 8,
                    "isHierarchyId": false,
                    "isSqlXmlType": false,
                    "isUnknownType": false,
                    "isUpdatable": false,
                    "allowDBNull": false,
                    "baseCatalogName": null,
                    "baseColumnName": null,
                    "baseSchemaName": null,
                    "baseServerName": null,
                    "baseTableName": null,
                    "columnName": "EmployeeID",
                    "columnOrdinal": 0,
                    "columnSize": 4,
                    "isAliased": null,
                    "isAutoIncrement": true,
                    "isExpression": null,
                    "isHidden": null,
                    "isIdentity": true,
                    "isKey": null,
                    "isLong": false,
                    "isReadOnly": true,
                    "isUnique": false,
                    "numericPrecision": 10,
                    "numericScale": 255,
                    "udtAssemblyQualifiedName": null,
                    "dataType": "System.Int32, System.Private.CoreLib, Version=4.0.0.0, Culture=neutral, PublicKeyToken=7cec85d7bea7798e",
                    "dataTypeName": "int"
                },
                {
                    "isBytes": false,
                    "isChars": true,
                    "isSqlVariant": false,
                    "isUdt": false,
                    "isXml": false,
                    "isJson": false,
                    "sqlDbType": 12,
                    "isHierarchyId": false,
                    "isSqlXmlType": false,
                    "isUnknownType": false,
                    "isUpdatable": true,
                    "allowDBNull": false,
                    "baseCatalogName": null,
                    "baseColumnName": null,
                    "baseSchemaName": null,
                    "baseServerName": null,
                    "baseTableName": null,
                    "columnName": "FirstName",
                    "columnOrdinal": 1,
                    "columnSize": 10,
                    "isAliased": null,
                    "isAutoIncrement": false,
                    "isExpression": null,
                    "isHidden": null,
                    "isIdentity": false,
                    "isKey": null,
                    "isLong": false,
                    "isReadOnly": false,
                    "isUnique": false,
                    "numericPrecision": 255,
                    "numericScale": 255,
                    "udtAssemblyQualifiedName": null,
                    "dataType": "System.String, System.Private.CoreLib, Version=4.0.0.0, Culture=neutral, PublicKeyToken=7cec85d7bea7798e",
                    "dataTypeName": "nvarchar"
                },
                {
                    "isBytes": false,
                    "isChars": true,
                    "isSqlVariant": false,
                    "isUdt": false,
                    "isXml": false,
                    "isJson": false,
                    "sqlDbType": 12,
                    "isHierarchyId": false,
                    "isSqlXmlType": false,
                    "isUnknownType": false,
                    "isUpdatable": true,
                    "allowDBNull": false,
                    "baseCatalogName": null,
                    "baseColumnName": null,
                    "baseSchemaName": null,
                    "baseServerName": null,
                    "baseTableName": null,
                    "columnName": "LastName",
                    "columnOrdinal": 2,
                    "columnSize": 20,
                    "isAliased": null,
                    "isAutoIncrement": false,
                    "isExpression": null,
                    "isHidden": null,
                    "isIdentity": false,
                    "isKey": null,
                    "isLong": false,
                    "isReadOnly": false,
                    "isUnique": false,
                    "numericPrecision": 255,
                    "numericScale": 255,
                    "udtAssemblyQualifiedName": null,
                    "dataType": "System.String, System.Private.CoreLib, Version=4.0.0.0, Culture=neutral, PublicKeyToken=7cec85d7bea7798e",
                    "dataTypeName": "nvarchar"
                },
                {
                    "isBytes": false,
                    "isChars": true,
                    "isSqlVariant": false,
                    "isUdt": false,
                    "isXml": false,
                    "isJson": false,
                    "sqlDbType": 12,
                    "isHierarchyId": false,
                    "isSqlXmlType": false,
                    "isUnknownType": false,
                    "isUpdatable": true,
                    "allowDBNull": true,
                    "baseCatalogName": null,
                    "baseColumnName": null,
                    "baseSchemaName": null,
                    "baseServerName": null,
                    "baseTableName": null,
                    "columnName": "Title",
                    "columnOrdinal": 3,
                    "columnSize": 30,
                    "isAliased": null,
                    "isAutoIncrement": false,
                    "isExpression": null,
                    "isHidden": null,
                    "isIdentity": false,
                    "isKey": null,
                    "isLong": false,
                    "isReadOnly": false,
                    "isUnique": false,
                    "numericPrecision": 255,
                    "numericScale": 255,
                    "udtAssemblyQualifiedName": null,
                    "dataType": "System.String, System.Private.CoreLib, Version=4.0.0.0, Culture=neutral, PublicKeyToken=7cec85d7bea7798e",
                    "dataTypeName": "nvarchar"
                },
                {
                    "isBytes": false,
                    "isChars": false,
                    "isSqlVariant": false,
                    "isUdt": false,
                    "isXml": false,
                    "isJson": false,
                    "sqlDbType": 4,
                    "isHierarchyId": false,
                    "isSqlXmlType": false,
                    "isUnknownType": false,
                    "isUpdatable": true,
                    "allowDBNull": true,
                    "baseCatalogName": null,
                    "baseColumnName": null,
                    "baseSchemaName": null,
                    "baseServerName": null,
                    "baseTableName": null,
                    "columnName": "BirthDate",
                    "columnOrdinal": 4,
                    "columnSize": 8,
                    "isAliased": null,
                    "isAutoIncrement": false,
                    "isExpression": null,
                    "isHidden": null,
                    "isIdentity": false,
                    "isKey": null,
                    "isLong": false,
                    "isReadOnly": false,
                    "isUnique": false,
                    "numericPrecision": 23,
                    "numericScale": 3,
                    "udtAssemblyQualifiedName": null,
                    "dataType": "System.DateTime, System.Private.CoreLib, Version=4.0.0.0, Culture=neutral, PublicKeyToken=7cec85d7bea7798e",
                    "dataTypeName": "datetime"
                },
                {
                    "isBytes": false,
                    "isChars": true,
                    "isSqlVariant": false,
                    "isUdt": false,
                    "isXml": false,
                    "isJson": false,
                    "sqlDbType": 12,
                    "isHierarchyId": false,
                    "isSqlXmlType": false,
                    "isUnknownType": false,
                    "isUpdatable": true,
                    "allowDBNull": true,
                    "baseCatalogName": null,
                    "baseColumnName": null,
                    "baseSchemaName": null,
                    "baseServerName": null,
                    "baseTableName": null,
                    "columnName": "Address",
                    "columnOrdinal": 5,
                    "columnSize": 60,
                    "isAliased": null,
                    "isAutoIncrement": false,
                    "isExpression": null,
                    "isHidden": null,
                    "isIdentity": false,
                    "isKey": null,
                    "isLong": false,
                    "isReadOnly": false,
                    "isUnique": false,
                    "numericPrecision": 255,
                    "numericScale": 255,
                    "udtAssemblyQualifiedName": null,
                    "dataType": "System.String, System.Private.CoreLib, Version=4.0.0.0, Culture=neutral, PublicKeyToken=7cec85d7bea7798e",
                    "dataTypeName": "nvarchar"
                },
                {
                    "isBytes": false,
                    "isChars": true,
                    "isSqlVariant": false,
                    "isUdt": false,
                    "isXml": false,
                    "isJson": false,
                    "sqlDbType": 12,
                    "isHierarchyId": false,
                    "isSqlXmlType": false,
                    "isUnknownType": false,
                    "isUpdatable": true,
                    "allowDBNull": true,
                    "baseCatalogName": null,
                    "baseColumnName": null,
                    "baseSchemaName": null,
                    "baseServerName": null,
                    "baseTableName": null,
                    "columnName": "City",
                    "columnOrdinal": 6,
                    "columnSize": 15,
                    "isAliased": null,
                    "isAutoIncrement": false,
                    "isExpression": null,
                    "isHidden": null,
                    "isIdentity": false,
                    "isKey": null,
                    "isLong": false,
                    "isReadOnly": false,
                    "isUnique": false,
                    "numericPrecision": 255,
                    "numericScale": 255,
                    "udtAssemblyQualifiedName": null,
                    "dataType": "System.String, System.Private.CoreLib, Version=4.0.0.0, Culture=neutral, PublicKeyToken=7cec85d7bea7798e",
                    "dataTypeName": "nvarchar"
                },
                {
                    "isBytes": false,
                    "isChars": true,
                    "isSqlVariant": false,
                    "isUdt": false,
                    "isXml": false,
                    "isJson": false,
                    "sqlDbType": 12,
                    "isHierarchyId": false,
                    "isSqlXmlType": false,
                    "isUnknownType": false,
                    "isUpdatable": true,
                    "allowDBNull": true,
                    "baseCatalogName": null,
                    "baseColumnName": null,
                    "baseSchemaName": null,
                    "baseServerName": null,
                    "baseTableName": null,
                    "columnName": "Country",
                    "columnOrdinal": 7,
                    "columnSize": 15,
                    "isAliased": null,
                    "isAutoIncrement": false,
                    "isExpression": null,
                    "isHidden": null,
                    "isIdentity": false,
                    "isKey": null,
                    "isLong": false,
                    "isReadOnly": false,
                    "isUnique": false,
                    "numericPrecision": 255,
                    "numericScale": 255,
                    "udtAssemblyQualifiedName": null,
                    "dataType": "System.String, System.Private.CoreLib, Version=4.0.0.0, Culture=neutral, PublicKeyToken=7cec85d7bea7798e",
                    "dataTypeName": "nvarchar"
                }
            ],
            "specialAction": {
                "none": true,
                "expectYukonXMLShowPlan": false
            }
        }
    },
    "execution_count": 22,
    "data": {
        "application/vnd.dataresource+json": {
            "schema": {
                "fields": [
                    {
                        "name": "EmployeeID"
                    },
                    {
                        "name": "FirstName"
                    },
                    {
                        "name": "LastName"
                    },
                    {
                        "name": "Title"
                    },
                    {
                        "name": "BirthDate"
                    },
                    {
                        "name": "Address"
                    },
                    {
                        "name": "City"
                    },
                    {
                        "name": "Country"
                    }
                ]
            },
            "data": [
                {
                    "0": "3",
                    "1": "Janet",
                    "2": "Leverling",
                    "3": "Sales Representative",
                    "4": "1963-08-30 00:00:00.000",
                    "5": "722 Moss Bay Blvd.",
                    "6": "Kirkland",
                    "7": "USA"
                },
                {
                    "0": "6",
                    "1": "Michael",
                    "2": "Suyama",
                    "3": "Sales Representative",
                    "4": "1963-07-02 00:00:00.000",
                    "5": "Coventry House\r\nMiner Rd.",
                    "6": "London",
                    "7": "UK"
                }
            ]
        },
        "text/html": [
            "<table>",
            "<tr><th>EmployeeID</th><th>FirstName</th><th>LastName</th><th>Title</th><th>BirthDate</th><th>Address</th><th>City</th><th>Country</th></tr>",
            "<tr><td>3</td><td>Janet</td><td>Leverling</td><td>Sales Representative</td><td>1963-08-30 00:00:00.000</td><td>722 Moss Bay Blvd.</td><td>Kirkland</td><td>USA</td></tr>",
            "<tr><td>6</td><td>Michael</td><td>Suyama</td><td>Sales Representative</td><td>1963-07-02 00:00:00.000</td><td>Coventry House\r\nMiner Rd.</td><td>London</td><td>UK</td></tr>",
            "</table>"
        ]
    }
}, {
    "output_type": "execute_result",
    "metadata": {
        "resultSet": {
            "id": 1,
            "batchId": 0,
            "rowCount": 2,
            "complete": true,
            "columnInfo": [
                {
                    "isBytes": false,
                    "isChars": false,
                    "isSqlVariant": false,
                    "isUdt": false,
                    "isXml": false,
                    "isJson": false,
                    "sqlDbType": 8,
                    "isHierarchyId": false,
                    "isSqlXmlType": false,
                    "isUnknownType": false,
                    "isUpdatable": false,
                    "allowDBNull": false,
                    "baseCatalogName": null,
                    "baseColumnName": null,
                    "baseSchemaName": null,
                    "baseServerName": null,
                    "baseTableName": null,
                    "columnName": "EmployeeID",
                    "columnOrdinal": 0,
                    "columnSize": 4,
                    "isAliased": null,
                    "isAutoIncrement": true,
                    "isExpression": null,
                    "isHidden": null,
                    "isIdentity": true,
                    "isKey": null,
                    "isLong": false,
                    "isReadOnly": true,
                    "isUnique": false,
                    "numericPrecision": 10,
                    "numericScale": 255,
                    "udtAssemblyQualifiedName": null,
                    "dataType": "System.Int32, System.Private.CoreLib, Version=4.0.0.0, Culture=neutral, PublicKeyToken=7cec85d7bea7798e",
                    "dataTypeName": "int"
                },
                {
                    "isBytes": false,
                    "isChars": true,
                    "isSqlVariant": false,
                    "isUdt": false,
                    "isXml": false,
                    "isJson": false,
                    "sqlDbType": 12,
                    "isHierarchyId": false,
                    "isSqlXmlType": false,
                    "isUnknownType": false,
                    "isUpdatable": true,
                    "allowDBNull": false,
                    "baseCatalogName": null,
                    "baseColumnName": null,
                    "baseSchemaName": null,
                    "baseServerName": null,
                    "baseTableName": null,
                    "columnName": "FirstName",
                    "columnOrdinal": 1,
                    "columnSize": 10,
                    "isAliased": null,
                    "isAutoIncrement": false,
                    "isExpression": null,
                    "isHidden": null,
                    "isIdentity": false,
                    "isKey": null,
                    "isLong": false,
                    "isReadOnly": false,
                    "isUnique": false,
                    "numericPrecision": 255,
                    "numericScale": 255,
                    "udtAssemblyQualifiedName": null,
                    "dataType": "System.String, System.Private.CoreLib, Version=4.0.0.0, Culture=neutral, PublicKeyToken=7cec85d7bea7798e",
                    "dataTypeName": "nvarchar"
                },
                {
                    "isBytes": false,
                    "isChars": true,
                    "isSqlVariant": false,
                    "isUdt": false,
                    "isXml": false,
                    "isJson": false,
                    "sqlDbType": 12,
                    "isHierarchyId": false,
                    "isSqlXmlType": false,
                    "isUnknownType": false,
                    "isUpdatable": true,
                    "allowDBNull": false,
                    "baseCatalogName": null,
                    "baseColumnName": null,
                    "baseSchemaName": null,
                    "baseServerName": null,
                    "baseTableName": null,
                    "columnName": "LastName",
                    "columnOrdinal": 2,
                    "columnSize": 20,
                    "isAliased": null,
                    "isAutoIncrement": false,
                    "isExpression": null,
                    "isHidden": null,
                    "isIdentity": false,
                    "isKey": null,
                    "isLong": false,
                    "isReadOnly": false,
                    "isUnique": false,
                    "numericPrecision": 255,
                    "numericScale": 255,
                    "udtAssemblyQualifiedName": null,
                    "dataType": "System.String, System.Private.CoreLib, Version=4.0.0.0, Culture=neutral, PublicKeyToken=7cec85d7bea7798e",
                    "dataTypeName": "nvarchar"
                },
                {
                    "isBytes": false,
                    "isChars": true,
                    "isSqlVariant": false,
                    "isUdt": false,
                    "isXml": false,
                    "isJson": false,
                    "sqlDbType": 12,
                    "isHierarchyId": false,
                    "isSqlXmlType": false,
                    "isUnknownType": false,
                    "isUpdatable": true,
                    "allowDBNull": true,
                    "baseCatalogName": null,
                    "baseColumnName": null,
                    "baseSchemaName": null,
                    "baseServerName": null,
                    "baseTableName": null,
                    "columnName": "Title",
                    "columnOrdinal": 3,
                    "columnSize": 30,
                    "isAliased": null,
                    "isAutoIncrement": false,
                    "isExpression": null,
                    "isHidden": null,
                    "isIdentity": false,
                    "isKey": null,
                    "isLong": false,
                    "isReadOnly": false,
                    "isUnique": false,
                    "numericPrecision": 255,
                    "numericScale": 255,
                    "udtAssemblyQualifiedName": null,
                    "dataType": "System.String, System.Private.CoreLib, Version=4.0.0.0, Culture=neutral, PublicKeyToken=7cec85d7bea7798e",
                    "dataTypeName": "nvarchar"
                },
                {
                    "isBytes": false,
                    "isChars": false,
                    "isSqlVariant": false,
                    "isUdt": false,
                    "isXml": false,
                    "isJson": false,
                    "sqlDbType": 4,
                    "isHierarchyId": false,
                    "isSqlXmlType": false,
                    "isUnknownType": false,
                    "isUpdatable": true,
                    "allowDBNull": true,
                    "baseCatalogName": null,
                    "baseColumnName": null,
                    "baseSchemaName": null,
                    "baseServerName": null,
                    "baseTableName": null,
                    "columnName": "BirthDate",
                    "columnOrdinal": 4,
                    "columnSize": 8,
                    "isAliased": null,
                    "isAutoIncrement": false,
                    "isExpression": null,
                    "isHidden": null,
                    "isIdentity": false,
                    "isKey": null,
                    "isLong": false,
                    "isReadOnly": false,
                    "isUnique": false,
                    "numericPrecision": 23,
                    "numericScale": 3,
                    "udtAssemblyQualifiedName": null,
                    "dataType": "System.DateTime, System.Private.CoreLib, Version=4.0.0.0, Culture=neutral, PublicKeyToken=7cec85d7bea7798e",
                    "dataTypeName": "datetime"
                },
                {
                    "isBytes": false,
                    "isChars": true,
                    "isSqlVariant": false,
                    "isUdt": false,
                    "isXml": false,
                    "isJson": false,
                    "sqlDbType": 12,
                    "isHierarchyId": false,
                    "isSqlXmlType": false,
                    "isUnknownType": false,
                    "isUpdatable": true,
                    "allowDBNull": true,
                    "baseCatalogName": null,
                    "baseColumnName": null,
                    "baseSchemaName": null,
                    "baseServerName": null,
                    "baseTableName": null,
                    "columnName": "Address",
                    "columnOrdinal": 5,
                    "columnSize": 60,
                    "isAliased": null,
                    "isAutoIncrement": false,
                    "isExpression": null,
                    "isHidden": null,
                    "isIdentity": false,
                    "isKey": null,
                    "isLong": false,
                    "isReadOnly": false,
                    "isUnique": false,
                    "numericPrecision": 255,
                    "numericScale": 255,
                    "udtAssemblyQualifiedName": null,
                    "dataType": "System.String, System.Private.CoreLib, Version=4.0.0.0, Culture=neutral, PublicKeyToken=7cec85d7bea7798e",
                    "dataTypeName": "nvarchar"
                },
                {
                    "isBytes": false,
                    "isChars": true,
                    "isSqlVariant": false,
                    "isUdt": false,
                    "isXml": false,
                    "isJson": false,
                    "sqlDbType": 12,
                    "isHierarchyId": false,
                    "isSqlXmlType": false,
                    "isUnknownType": false,
                    "isUpdatable": true,
                    "allowDBNull": true,
                    "baseCatalogName": null,
                    "baseColumnName": null,
                    "baseSchemaName": null,
                    "baseServerName": null,
                    "baseTableName": null,
                    "columnName": "City",
                    "columnOrdinal": 6,
                    "columnSize": 15,
                    "isAliased": null,
                    "isAutoIncrement": false,
                    "isExpression": null,
                    "isHidden": null,
                    "isIdentity": false,
                    "isKey": null,
                    "isLong": false,
                    "isReadOnly": false,
                    "isUnique": false,
                    "numericPrecision": 255,
                    "numericScale": 255,
                    "udtAssemblyQualifiedName": null,
                    "dataType": "System.String, System.Private.CoreLib, Version=4.0.0.0, Culture=neutral, PublicKeyToken=7cec85d7bea7798e",
                    "dataTypeName": "nvarchar"
                },
                {
                    "isBytes": false,
                    "isChars": true,
                    "isSqlVariant": false,
                    "isUdt": false,
                    "isXml": false,
                    "isJson": false,
                    "sqlDbType": 12,
                    "isHierarchyId": false,
                    "isSqlXmlType": false,
                    "isUnknownType": false,
                    "isUpdatable": true,
                    "allowDBNull": true,
                    "baseCatalogName": null,
                    "baseColumnName": null,
                    "baseSchemaName": null,
                    "baseServerName": null,
                    "baseTableName": null,
                    "columnName": "Country",
                    "columnOrdinal": 7,
                    "columnSize": 15,
                    "isAliased": null,
                    "isAutoIncrement": false,
                    "isExpression": null,
                    "isHidden": null,
                    "isIdentity": false,
                    "isKey": null,
                    "isLong": false,
                    "isReadOnly": false,
                    "isUnique": false,
                    "numericPrecision": 255,
                    "numericScale": 255,
                    "udtAssemblyQualifiedName": null,
                    "dataType": "System.String, System.Private.CoreLib, Version=4.0.0.0, Culture=neutral, PublicKeyToken=7cec85d7bea7798e",
                    "dataTypeName": "nvarchar"
                }
            ],
            "specialAction": {
                "none": true,
                "expectYukonXMLShowPlan": false
            }
        }
    },
    "execution_count": 22,
    "data": {
        "application/vnd.dataresource+json": {
            "schema": {
                "fields": [
                    {
                        "name": "EmployeeID"
                    },
                    {
                        "name": "FirstName"
                    },
                    {
                        "name": "LastName"
                    },
                    {
                        "name": "Title"
                    },
                    {
                        "name": "BirthDate"
                    },
                    {
                        "name": "Address"
                    },
                    {
                        "name": "City"
                    },
                    {
                        "name": "Country"
                    }
                ]
            },
            "data": [
                {
                    "0": "3",
                    "1": "Janet",
                    "2": "Leverling",
                    "3": "Sales Representative",
                    "4": "1963-08-30 00:00:00.000",
                    "5": "722 Moss Bay Blvd.",
                    "6": "Kirkland",
                    "7": "USA"
                },
                {
                    "0": "6",
                    "1": "Michael",
                    "2": "Suyama",
                    "3": "Sales Representative",
                    "4": "1963-07-02 00:00:00.000",
                    "5": "Coventry House\r\nMiner Rd.",
                    "6": "London",
                    "7": "UK"
                }
            ]
        },
        "text/html": [
            "<table>",
            "<tr><th>EmployeeID</th><th>FirstName</th><th>LastName</th><th>Title</th><th>BirthDate</th><th>Address</th><th>City</th><th>Country</th></tr>",
            "<tr><td>3</td><td>Janet</td><td>Leverling</td><td>Sales Representative</td><td>1963-08-30 00:00:00.000</td><td>722 Moss Bay Blvd.</td><td>Kirkland</td><td>USA</td></tr>",
            "<tr><td>6</td><td>Michael</td><td>Suyama</td><td>Sales Representative</td><td>1963-07-02 00:00:00.000</td><td>Coventry House\r\nMiner Rd.</td><td>London</td><td>UK</td></tr>",
            "</table>"
        ]
    }
}, {
    "output_type": "execute_result",
    "metadata": {
        "resultSet": {
            "id": 2,
            "batchId": 0,
            "rowCount": 2,
            "complete": true,
            "columnInfo": [
                {
                    "isBytes": false,
                    "isChars": false,
                    "isSqlVariant": false,
                    "isUdt": false,
                    "isXml": false,
                    "isJson": false,
                    "sqlDbType": 8,
                    "isHierarchyId": false,
                    "isSqlXmlType": false,
                    "isUnknownType": false,
                    "isUpdatable": false,
                    "allowDBNull": false,
                    "baseCatalogName": null,
                    "baseColumnName": null,
                    "baseSchemaName": null,
                    "baseServerName": null,
                    "baseTableName": null,
                    "columnName": "EmployeeID",
                    "columnOrdinal": 0,
                    "columnSize": 4,
                    "isAliased": null,
                    "isAutoIncrement": true,
                    "isExpression": null,
                    "isHidden": null,
                    "isIdentity": true,
                    "isKey": null,
                    "isLong": false,
                    "isReadOnly": true,
                    "isUnique": false,
                    "numericPrecision": 10,
                    "numericScale": 255,
                    "udtAssemblyQualifiedName": null,
                    "dataType": "System.Int32, System.Private.CoreLib, Version=4.0.0.0, Culture=neutral, PublicKeyToken=7cec85d7bea7798e",
                    "dataTypeName": "int"
                },
                {
                    "isBytes": false,
                    "isChars": true,
                    "isSqlVariant": false,
                    "isUdt": false,
                    "isXml": false,
                    "isJson": false,
                    "sqlDbType": 12,
                    "isHierarchyId": false,
                    "isSqlXmlType": false,
                    "isUnknownType": false,
                    "isUpdatable": true,
                    "allowDBNull": false,
                    "baseCatalogName": null,
                    "baseColumnName": null,
                    "baseSchemaName": null,
                    "baseServerName": null,
                    "baseTableName": null,
                    "columnName": "FirstName",
                    "columnOrdinal": 1,
                    "columnSize": 10,
                    "isAliased": null,
                    "isAutoIncrement": false,
                    "isExpression": null,
                    "isHidden": null,
                    "isIdentity": false,
                    "isKey": null,
                    "isLong": false,
                    "isReadOnly": false,
                    "isUnique": false,
                    "numericPrecision": 255,
                    "numericScale": 255,
                    "udtAssemblyQualifiedName": null,
                    "dataType": "System.String, System.Private.CoreLib, Version=4.0.0.0, Culture=neutral, PublicKeyToken=7cec85d7bea7798e",
                    "dataTypeName": "nvarchar"
                },
                {
                    "isBytes": false,
                    "isChars": true,
                    "isSqlVariant": false,
                    "isUdt": false,
                    "isXml": false,
                    "isJson": false,
                    "sqlDbType": 12,
                    "isHierarchyId": false,
                    "isSqlXmlType": false,
                    "isUnknownType": false,
                    "isUpdatable": true,
                    "allowDBNull": false,
                    "baseCatalogName": null,
                    "baseColumnName": null,
                    "baseSchemaName": null,
                    "baseServerName": null,
                    "baseTableName": null,
                    "columnName": "LastName",
                    "columnOrdinal": 2,
                    "columnSize": 20,
                    "isAliased": null,
                    "isAutoIncrement": false,
                    "isExpression": null,
                    "isHidden": null,
                    "isIdentity": false,
                    "isKey": null,
                    "isLong": false,
                    "isReadOnly": false,
                    "isUnique": false,
                    "numericPrecision": 255,
                    "numericScale": 255,
                    "udtAssemblyQualifiedName": null,
                    "dataType": "System.String, System.Private.CoreLib, Version=4.0.0.0, Culture=neutral, PublicKeyToken=7cec85d7bea7798e",
                    "dataTypeName": "nvarchar"
                },
                {
                    "isBytes": false,
                    "isChars": true,
                    "isSqlVariant": false,
                    "isUdt": false,
                    "isXml": false,
                    "isJson": false,
                    "sqlDbType": 12,
                    "isHierarchyId": false,
                    "isSqlXmlType": false,
                    "isUnknownType": false,
                    "isUpdatable": true,
                    "allowDBNull": true,
                    "baseCatalogName": null,
                    "baseColumnName": null,
                    "baseSchemaName": null,
                    "baseServerName": null,
                    "baseTableName": null,
                    "columnName": "Title",
                    "columnOrdinal": 3,
                    "columnSize": 30,
                    "isAliased": null,
                    "isAutoIncrement": false,
                    "isExpression": null,
                    "isHidden": null,
                    "isIdentity": false,
                    "isKey": null,
                    "isLong": false,
                    "isReadOnly": false,
                    "isUnique": false,
                    "numericPrecision": 255,
                    "numericScale": 255,
                    "udtAssemblyQualifiedName": null,
                    "dataType": "System.String, System.Private.CoreLib, Version=4.0.0.0, Culture=neutral, PublicKeyToken=7cec85d7bea7798e",
                    "dataTypeName": "nvarchar"
                },
                {
                    "isBytes": false,
                    "isChars": false,
                    "isSqlVariant": false,
                    "isUdt": false,
                    "isXml": false,
                    "isJson": false,
                    "sqlDbType": 4,
                    "isHierarchyId": false,
                    "isSqlXmlType": false,
                    "isUnknownType": false,
                    "isUpdatable": true,
                    "allowDBNull": true,
                    "baseCatalogName": null,
                    "baseColumnName": null,
                    "baseSchemaName": null,
                    "baseServerName": null,
                    "baseTableName": null,
                    "columnName": "BirthDate",
                    "columnOrdinal": 4,
                    "columnSize": 8,
                    "isAliased": null,
                    "isAutoIncrement": false,
                    "isExpression": null,
                    "isHidden": null,
                    "isIdentity": false,
                    "isKey": null,
                    "isLong": false,
                    "isReadOnly": false,
                    "isUnique": false,
                    "numericPrecision": 23,
                    "numericScale": 3,
                    "udtAssemblyQualifiedName": null,
                    "dataType": "System.DateTime, System.Private.CoreLib, Version=4.0.0.0, Culture=neutral, PublicKeyToken=7cec85d7bea7798e",
                    "dataTypeName": "datetime"
                },
                {
                    "isBytes": false,
                    "isChars": true,
                    "isSqlVariant": false,
                    "isUdt": false,
                    "isXml": false,
                    "isJson": false,
                    "sqlDbType": 12,
                    "isHierarchyId": false,
                    "isSqlXmlType": false,
                    "isUnknownType": false,
                    "isUpdatable": true,
                    "allowDBNull": true,
                    "baseCatalogName": null,
                    "baseColumnName": null,
                    "baseSchemaName": null,
                    "baseServerName": null,
                    "baseTableName": null,
                    "columnName": "Address",
                    "columnOrdinal": 5,
                    "columnSize": 60,
                    "isAliased": null,
                    "isAutoIncrement": false,
                    "isExpression": null,
                    "isHidden": null,
                    "isIdentity": false,
                    "isKey": null,
                    "isLong": false,
                    "isReadOnly": false,
                    "isUnique": false,
                    "numericPrecision": 255,
                    "numericScale": 255,
                    "udtAssemblyQualifiedName": null,
                    "dataType": "System.String, System.Private.CoreLib, Version=4.0.0.0, Culture=neutral, PublicKeyToken=7cec85d7bea7798e",
                    "dataTypeName": "nvarchar"
                },
                {
                    "isBytes": false,
                    "isChars": true,
                    "isSqlVariant": false,
                    "isUdt": false,
                    "isXml": false,
                    "isJson": false,
                    "sqlDbType": 12,
                    "isHierarchyId": false,
                    "isSqlXmlType": false,
                    "isUnknownType": false,
                    "isUpdatable": true,
                    "allowDBNull": true,
                    "baseCatalogName": null,
                    "baseColumnName": null,
                    "baseSchemaName": null,
                    "baseServerName": null,
                    "baseTableName": null,
                    "columnName": "City",
                    "columnOrdinal": 6,
                    "columnSize": 15,
                    "isAliased": null,
                    "isAutoIncrement": false,
                    "isExpression": null,
                    "isHidden": null,
                    "isIdentity": false,
                    "isKey": null,
                    "isLong": false,
                    "isReadOnly": false,
                    "isUnique": false,
                    "numericPrecision": 255,
                    "numericScale": 255,
                    "udtAssemblyQualifiedName": null,
                    "dataType": "System.String, System.Private.CoreLib, Version=4.0.0.0, Culture=neutral, PublicKeyToken=7cec85d7bea7798e",
                    "dataTypeName": "nvarchar"
                },
                {
                    "isBytes": false,
                    "isChars": true,
                    "isSqlVariant": false,
                    "isUdt": false,
                    "isXml": false,
                    "isJson": false,
                    "sqlDbType": 12,
                    "isHierarchyId": false,
                    "isSqlXmlType": false,
                    "isUnknownType": false,
                    "isUpdatable": true,
                    "allowDBNull": true,
                    "baseCatalogName": null,
                    "baseColumnName": null,
                    "baseSchemaName": null,
                    "baseServerName": null,
                    "baseTableName": null,
                    "columnName": "Country",
                    "columnOrdinal": 7,
                    "columnSize": 15,
                    "isAliased": null,
                    "isAutoIncrement": false,
                    "isExpression": null,
                    "isHidden": null,
                    "isIdentity": false,
                    "isKey": null,
                    "isLong": false,
                    "isReadOnly": false,
                    "isUnique": false,
                    "numericPrecision": 255,
                    "numericScale": 255,
                    "udtAssemblyQualifiedName": null,
                    "dataType": "System.String, System.Private.CoreLib, Version=4.0.0.0, Culture=neutral, PublicKeyToken=7cec85d7bea7798e",
                    "dataTypeName": "nvarchar"
                }
            ],
            "specialAction": {
                "none": true,
                "expectYukonXMLShowPlan": false
            }
        }
    },
    "execution_count": 22,
    "data": {
        "application/vnd.dataresource+json": {
            "schema": {
                "fields": [
                    {
                        "name": "EmployeeID"
                    },
                    {
                        "name": "FirstName"
                    },
                    {
                        "name": "LastName"
                    },
                    {
                        "name": "Title"
                    },
                    {
                        "name": "BirthDate"
                    },
                    {
                        "name": "Address"
                    },
                    {
                        "name": "City"
                    },
                    {
                        "name": "Country"
                    }
                ]
            },
            "data": [
                {
                    "0": "3",
                    "1": "Janet",
                    "2": "Leverling",
                    "3": "Sales Representative",
                    "4": "1963-08-30 00:00:00.000",
                    "5": "722 Moss Bay Blvd.",
                    "6": "Kirkland",
                    "7": "USA"
                },
                {
                    "0": "6",
                    "1": "Michael",
                    "2": "Suyama",
                    "3": "Sales Representative",
                    "4": "1963-07-02 00:00:00.000",
                    "5": "Coventry House\r\nMiner Rd.",
                    "6": "London",
                    "7": "UK"
                }
            ]
        },
        "text/html": [
            "<table>",
            "<tr><th>EmployeeID</th><th>FirstName</th><th>LastName</th><th>Title</th><th>BirthDate</th><th>Address</th><th>City</th><th>Country</th></tr>",
            "<tr><td>3</td><td>Janet</td><td>Leverling</td><td>Sales Representative</td><td>1963-08-30 00:00:00.000</td><td>722 Moss Bay Blvd.</td><td>Kirkland</td><td>USA</td></tr>",
            "<tr><td>6</td><td>Michael</td><td>Suyama</td><td>Sales Representative</td><td>1963-07-02 00:00:00.000</td><td>Coventry House\r\nMiner Rd.</td><td>London</td><td>UK</td></tr>",
            "</table>"
        ]
    }
}
],
            "execution_count": 22
        },
        {
            "cell_type": "code",
            "source": [
                "-- operatory logiczne\r\n",
                "SELECT EmployeeID, FirstName, LastName, Title, BirthDate, Address, City, Country \r\n",
                "FROM Employees\r\n",
                "WHERE Country = 'USA' AND City = 'Redmond'\r\n",
                "\r\n",
                "SELECT EmployeeID, FirstName, LastName, Title, BirthDate, Address, City, Country \r\n",
                "FROM Employees\r\n",
                "WHERE Country = 'USA' AND City <> 'Redmond'\r\n",
                "\r\n",
                "SELECT EmployeeID, FirstName, LastName, Title, BirthDate, Address, City, Country \r\n",
                "FROM Employees\r\n",
                "WHERE City = 'Redmond' OR City = 'Seattle'"
            ],
            "metadata": {
                "azdata_cell_guid": "e0f5a38c-47c3-4f60-8315-daf5fd3d5d3b"
            },
            "outputs": [
{
    "output_type": "display_data",
    "data": {
        "text/html": "(1 row affected)"
    },
    "metadata": {}
}, {
    "output_type": "display_data",
    "data": {
        "text/html": "(4 rows affected)"
    },
    "metadata": {}
}, {
    "output_type": "display_data",
    "data": {
        "text/html": "(3 rows affected)"
    },
    "metadata": {}
}, {
    "output_type": "display_data",
    "data": {
        "text/html": "Total execution time: 00:00:00.033"
    },
    "metadata": {}
}, {
    "output_type": "execute_result",
    "metadata": {
        "resultSet": {
            "id": 0,
            "batchId": 0,
            "rowCount": 1,
            "complete": true,
            "columnInfo": [
                {
                    "isBytes": false,
                    "isChars": false,
                    "isSqlVariant": false,
                    "isUdt": false,
                    "isXml": false,
                    "isJson": false,
                    "sqlDbType": 8,
                    "isHierarchyId": false,
                    "isSqlXmlType": false,
                    "isUnknownType": false,
                    "isUpdatable": false,
                    "allowDBNull": false,
                    "baseCatalogName": null,
                    "baseColumnName": null,
                    "baseSchemaName": null,
                    "baseServerName": null,
                    "baseTableName": null,
                    "columnName": "EmployeeID",
                    "columnOrdinal": 0,
                    "columnSize": 4,
                    "isAliased": null,
                    "isAutoIncrement": true,
                    "isExpression": null,
                    "isHidden": null,
                    "isIdentity": true,
                    "isKey": null,
                    "isLong": false,
                    "isReadOnly": true,
                    "isUnique": false,
                    "numericPrecision": 10,
                    "numericScale": 255,
                    "udtAssemblyQualifiedName": null,
                    "dataType": "System.Int32, System.Private.CoreLib, Version=4.0.0.0, Culture=neutral, PublicKeyToken=7cec85d7bea7798e",
                    "dataTypeName": "int"
                },
                {
                    "isBytes": false,
                    "isChars": true,
                    "isSqlVariant": false,
                    "isUdt": false,
                    "isXml": false,
                    "isJson": false,
                    "sqlDbType": 12,
                    "isHierarchyId": false,
                    "isSqlXmlType": false,
                    "isUnknownType": false,
                    "isUpdatable": true,
                    "allowDBNull": false,
                    "baseCatalogName": null,
                    "baseColumnName": null,
                    "baseSchemaName": null,
                    "baseServerName": null,
                    "baseTableName": null,
                    "columnName": "FirstName",
                    "columnOrdinal": 1,
                    "columnSize": 10,
                    "isAliased": null,
                    "isAutoIncrement": false,
                    "isExpression": null,
                    "isHidden": null,
                    "isIdentity": false,
                    "isKey": null,
                    "isLong": false,
                    "isReadOnly": false,
                    "isUnique": false,
                    "numericPrecision": 255,
                    "numericScale": 255,
                    "udtAssemblyQualifiedName": null,
                    "dataType": "System.String, System.Private.CoreLib, Version=4.0.0.0, Culture=neutral, PublicKeyToken=7cec85d7bea7798e",
                    "dataTypeName": "nvarchar"
                },
                {
                    "isBytes": false,
                    "isChars": true,
                    "isSqlVariant": false,
                    "isUdt": false,
                    "isXml": false,
                    "isJson": false,
                    "sqlDbType": 12,
                    "isHierarchyId": false,
                    "isSqlXmlType": false,
                    "isUnknownType": false,
                    "isUpdatable": true,
                    "allowDBNull": false,
                    "baseCatalogName": null,
                    "baseColumnName": null,
                    "baseSchemaName": null,
                    "baseServerName": null,
                    "baseTableName": null,
                    "columnName": "LastName",
                    "columnOrdinal": 2,
                    "columnSize": 20,
                    "isAliased": null,
                    "isAutoIncrement": false,
                    "isExpression": null,
                    "isHidden": null,
                    "isIdentity": false,
                    "isKey": null,
                    "isLong": false,
                    "isReadOnly": false,
                    "isUnique": false,
                    "numericPrecision": 255,
                    "numericScale": 255,
                    "udtAssemblyQualifiedName": null,
                    "dataType": "System.String, System.Private.CoreLib, Version=4.0.0.0, Culture=neutral, PublicKeyToken=7cec85d7bea7798e",
                    "dataTypeName": "nvarchar"
                },
                {
                    "isBytes": false,
                    "isChars": true,
                    "isSqlVariant": false,
                    "isUdt": false,
                    "isXml": false,
                    "isJson": false,
                    "sqlDbType": 12,
                    "isHierarchyId": false,
                    "isSqlXmlType": false,
                    "isUnknownType": false,
                    "isUpdatable": true,
                    "allowDBNull": true,
                    "baseCatalogName": null,
                    "baseColumnName": null,
                    "baseSchemaName": null,
                    "baseServerName": null,
                    "baseTableName": null,
                    "columnName": "Title",
                    "columnOrdinal": 3,
                    "columnSize": 30,
                    "isAliased": null,
                    "isAutoIncrement": false,
                    "isExpression": null,
                    "isHidden": null,
                    "isIdentity": false,
                    "isKey": null,
                    "isLong": false,
                    "isReadOnly": false,
                    "isUnique": false,
                    "numericPrecision": 255,
                    "numericScale": 255,
                    "udtAssemblyQualifiedName": null,
                    "dataType": "System.String, System.Private.CoreLib, Version=4.0.0.0, Culture=neutral, PublicKeyToken=7cec85d7bea7798e",
                    "dataTypeName": "nvarchar"
                },
                {
                    "isBytes": false,
                    "isChars": false,
                    "isSqlVariant": false,
                    "isUdt": false,
                    "isXml": false,
                    "isJson": false,
                    "sqlDbType": 4,
                    "isHierarchyId": false,
                    "isSqlXmlType": false,
                    "isUnknownType": false,
                    "isUpdatable": true,
                    "allowDBNull": true,
                    "baseCatalogName": null,
                    "baseColumnName": null,
                    "baseSchemaName": null,
                    "baseServerName": null,
                    "baseTableName": null,
                    "columnName": "BirthDate",
                    "columnOrdinal": 4,
                    "columnSize": 8,
                    "isAliased": null,
                    "isAutoIncrement": false,
                    "isExpression": null,
                    "isHidden": null,
                    "isIdentity": false,
                    "isKey": null,
                    "isLong": false,
                    "isReadOnly": false,
                    "isUnique": false,
                    "numericPrecision": 23,
                    "numericScale": 3,
                    "udtAssemblyQualifiedName": null,
                    "dataType": "System.DateTime, System.Private.CoreLib, Version=4.0.0.0, Culture=neutral, PublicKeyToken=7cec85d7bea7798e",
                    "dataTypeName": "datetime"
                },
                {
                    "isBytes": false,
                    "isChars": true,
                    "isSqlVariant": false,
                    "isUdt": false,
                    "isXml": false,
                    "isJson": false,
                    "sqlDbType": 12,
                    "isHierarchyId": false,
                    "isSqlXmlType": false,
                    "isUnknownType": false,
                    "isUpdatable": true,
                    "allowDBNull": true,
                    "baseCatalogName": null,
                    "baseColumnName": null,
                    "baseSchemaName": null,
                    "baseServerName": null,
                    "baseTableName": null,
                    "columnName": "Address",
                    "columnOrdinal": 5,
                    "columnSize": 60,
                    "isAliased": null,
                    "isAutoIncrement": false,
                    "isExpression": null,
                    "isHidden": null,
                    "isIdentity": false,
                    "isKey": null,
                    "isLong": false,
                    "isReadOnly": false,
                    "isUnique": false,
                    "numericPrecision": 255,
                    "numericScale": 255,
                    "udtAssemblyQualifiedName": null,
                    "dataType": "System.String, System.Private.CoreLib, Version=4.0.0.0, Culture=neutral, PublicKeyToken=7cec85d7bea7798e",
                    "dataTypeName": "nvarchar"
                },
                {
                    "isBytes": false,
                    "isChars": true,
                    "isSqlVariant": false,
                    "isUdt": false,
                    "isXml": false,
                    "isJson": false,
                    "sqlDbType": 12,
                    "isHierarchyId": false,
                    "isSqlXmlType": false,
                    "isUnknownType": false,
                    "isUpdatable": true,
                    "allowDBNull": true,
                    "baseCatalogName": null,
                    "baseColumnName": null,
                    "baseSchemaName": null,
                    "baseServerName": null,
                    "baseTableName": null,
                    "columnName": "City",
                    "columnOrdinal": 6,
                    "columnSize": 15,
                    "isAliased": null,
                    "isAutoIncrement": false,
                    "isExpression": null,
                    "isHidden": null,
                    "isIdentity": false,
                    "isKey": null,
                    "isLong": false,
                    "isReadOnly": false,
                    "isUnique": false,
                    "numericPrecision": 255,
                    "numericScale": 255,
                    "udtAssemblyQualifiedName": null,
                    "dataType": "System.String, System.Private.CoreLib, Version=4.0.0.0, Culture=neutral, PublicKeyToken=7cec85d7bea7798e",
                    "dataTypeName": "nvarchar"
                },
                {
                    "isBytes": false,
                    "isChars": true,
                    "isSqlVariant": false,
                    "isUdt": false,
                    "isXml": false,
                    "isJson": false,
                    "sqlDbType": 12,
                    "isHierarchyId": false,
                    "isSqlXmlType": false,
                    "isUnknownType": false,
                    "isUpdatable": true,
                    "allowDBNull": true,
                    "baseCatalogName": null,
                    "baseColumnName": null,
                    "baseSchemaName": null,
                    "baseServerName": null,
                    "baseTableName": null,
                    "columnName": "Country",
                    "columnOrdinal": 7,
                    "columnSize": 15,
                    "isAliased": null,
                    "isAutoIncrement": false,
                    "isExpression": null,
                    "isHidden": null,
                    "isIdentity": false,
                    "isKey": null,
                    "isLong": false,
                    "isReadOnly": false,
                    "isUnique": false,
                    "numericPrecision": 255,
                    "numericScale": 255,
                    "udtAssemblyQualifiedName": null,
                    "dataType": "System.String, System.Private.CoreLib, Version=4.0.0.0, Culture=neutral, PublicKeyToken=7cec85d7bea7798e",
                    "dataTypeName": "nvarchar"
                }
            ],
            "specialAction": {
                "none": true,
                "expectYukonXMLShowPlan": false
            }
        }
    },
    "execution_count": 23,
    "data": {
        "application/vnd.dataresource+json": {
            "schema": {
                "fields": [
                    {
                        "name": "EmployeeID"
                    },
                    {
                        "name": "FirstName"
                    },
                    {
                        "name": "LastName"
                    },
                    {
                        "name": "Title"
                    },
                    {
                        "name": "BirthDate"
                    },
                    {
                        "name": "Address"
                    },
                    {
                        "name": "City"
                    },
                    {
                        "name": "Country"
                    }
                ]
            },
            "data": [
                {
                    "0": "4",
                    "1": "Margaret",
                    "2": "Peacock",
                    "3": "Sales Representative",
                    "4": "1937-09-19 00:00:00.000",
                    "5": "4110 Old Redmond Rd.",
                    "6": "Redmond",
                    "7": "USA"
                }
            ]
        },
        "text/html": [
            "<table>",
            "<tr><th>EmployeeID</th><th>FirstName</th><th>LastName</th><th>Title</th><th>BirthDate</th><th>Address</th><th>City</th><th>Country</th></tr>",
            "<tr><td>4</td><td>Margaret</td><td>Peacock</td><td>Sales Representative</td><td>1937-09-19 00:00:00.000</td><td>4110 Old Redmond Rd.</td><td>Redmond</td><td>USA</td></tr>",
            "</table>"
        ]
    }
}, {
    "output_type": "execute_result",
    "metadata": {
        "resultSet": {
            "id": 1,
            "batchId": 0,
            "rowCount": 4,
            "complete": true,
            "columnInfo": [
                {
                    "isBytes": false,
                    "isChars": false,
                    "isSqlVariant": false,
                    "isUdt": false,
                    "isXml": false,
                    "isJson": false,
                    "sqlDbType": 8,
                    "isHierarchyId": false,
                    "isSqlXmlType": false,
                    "isUnknownType": false,
                    "isUpdatable": false,
                    "allowDBNull": false,
                    "baseCatalogName": null,
                    "baseColumnName": null,
                    "baseSchemaName": null,
                    "baseServerName": null,
                    "baseTableName": null,
                    "columnName": "EmployeeID",
                    "columnOrdinal": 0,
                    "columnSize": 4,
                    "isAliased": null,
                    "isAutoIncrement": true,
                    "isExpression": null,
                    "isHidden": null,
                    "isIdentity": true,
                    "isKey": null,
                    "isLong": false,
                    "isReadOnly": true,
                    "isUnique": false,
                    "numericPrecision": 10,
                    "numericScale": 255,
                    "udtAssemblyQualifiedName": null,
                    "dataType": "System.Int32, System.Private.CoreLib, Version=4.0.0.0, Culture=neutral, PublicKeyToken=7cec85d7bea7798e",
                    "dataTypeName": "int"
                },
                {
                    "isBytes": false,
                    "isChars": true,
                    "isSqlVariant": false,
                    "isUdt": false,
                    "isXml": false,
                    "isJson": false,
                    "sqlDbType": 12,
                    "isHierarchyId": false,
                    "isSqlXmlType": false,
                    "isUnknownType": false,
                    "isUpdatable": true,
                    "allowDBNull": false,
                    "baseCatalogName": null,
                    "baseColumnName": null,
                    "baseSchemaName": null,
                    "baseServerName": null,
                    "baseTableName": null,
                    "columnName": "FirstName",
                    "columnOrdinal": 1,
                    "columnSize": 10,
                    "isAliased": null,
                    "isAutoIncrement": false,
                    "isExpression": null,
                    "isHidden": null,
                    "isIdentity": false,
                    "isKey": null,
                    "isLong": false,
                    "isReadOnly": false,
                    "isUnique": false,
                    "numericPrecision": 255,
                    "numericScale": 255,
                    "udtAssemblyQualifiedName": null,
                    "dataType": "System.String, System.Private.CoreLib, Version=4.0.0.0, Culture=neutral, PublicKeyToken=7cec85d7bea7798e",
                    "dataTypeName": "nvarchar"
                },
                {
                    "isBytes": false,
                    "isChars": true,
                    "isSqlVariant": false,
                    "isUdt": false,
                    "isXml": false,
                    "isJson": false,
                    "sqlDbType": 12,
                    "isHierarchyId": false,
                    "isSqlXmlType": false,
                    "isUnknownType": false,
                    "isUpdatable": true,
                    "allowDBNull": false,
                    "baseCatalogName": null,
                    "baseColumnName": null,
                    "baseSchemaName": null,
                    "baseServerName": null,
                    "baseTableName": null,
                    "columnName": "LastName",
                    "columnOrdinal": 2,
                    "columnSize": 20,
                    "isAliased": null,
                    "isAutoIncrement": false,
                    "isExpression": null,
                    "isHidden": null,
                    "isIdentity": false,
                    "isKey": null,
                    "isLong": false,
                    "isReadOnly": false,
                    "isUnique": false,
                    "numericPrecision": 255,
                    "numericScale": 255,
                    "udtAssemblyQualifiedName": null,
                    "dataType": "System.String, System.Private.CoreLib, Version=4.0.0.0, Culture=neutral, PublicKeyToken=7cec85d7bea7798e",
                    "dataTypeName": "nvarchar"
                },
                {
                    "isBytes": false,
                    "isChars": true,
                    "isSqlVariant": false,
                    "isUdt": false,
                    "isXml": false,
                    "isJson": false,
                    "sqlDbType": 12,
                    "isHierarchyId": false,
                    "isSqlXmlType": false,
                    "isUnknownType": false,
                    "isUpdatable": true,
                    "allowDBNull": true,
                    "baseCatalogName": null,
                    "baseColumnName": null,
                    "baseSchemaName": null,
                    "baseServerName": null,
                    "baseTableName": null,
                    "columnName": "Title",
                    "columnOrdinal": 3,
                    "columnSize": 30,
                    "isAliased": null,
                    "isAutoIncrement": false,
                    "isExpression": null,
                    "isHidden": null,
                    "isIdentity": false,
                    "isKey": null,
                    "isLong": false,
                    "isReadOnly": false,
                    "isUnique": false,
                    "numericPrecision": 255,
                    "numericScale": 255,
                    "udtAssemblyQualifiedName": null,
                    "dataType": "System.String, System.Private.CoreLib, Version=4.0.0.0, Culture=neutral, PublicKeyToken=7cec85d7bea7798e",
                    "dataTypeName": "nvarchar"
                },
                {
                    "isBytes": false,
                    "isChars": false,
                    "isSqlVariant": false,
                    "isUdt": false,
                    "isXml": false,
                    "isJson": false,
                    "sqlDbType": 4,
                    "isHierarchyId": false,
                    "isSqlXmlType": false,
                    "isUnknownType": false,
                    "isUpdatable": true,
                    "allowDBNull": true,
                    "baseCatalogName": null,
                    "baseColumnName": null,
                    "baseSchemaName": null,
                    "baseServerName": null,
                    "baseTableName": null,
                    "columnName": "BirthDate",
                    "columnOrdinal": 4,
                    "columnSize": 8,
                    "isAliased": null,
                    "isAutoIncrement": false,
                    "isExpression": null,
                    "isHidden": null,
                    "isIdentity": false,
                    "isKey": null,
                    "isLong": false,
                    "isReadOnly": false,
                    "isUnique": false,
                    "numericPrecision": 23,
                    "numericScale": 3,
                    "udtAssemblyQualifiedName": null,
                    "dataType": "System.DateTime, System.Private.CoreLib, Version=4.0.0.0, Culture=neutral, PublicKeyToken=7cec85d7bea7798e",
                    "dataTypeName": "datetime"
                },
                {
                    "isBytes": false,
                    "isChars": true,
                    "isSqlVariant": false,
                    "isUdt": false,
                    "isXml": false,
                    "isJson": false,
                    "sqlDbType": 12,
                    "isHierarchyId": false,
                    "isSqlXmlType": false,
                    "isUnknownType": false,
                    "isUpdatable": true,
                    "allowDBNull": true,
                    "baseCatalogName": null,
                    "baseColumnName": null,
                    "baseSchemaName": null,
                    "baseServerName": null,
                    "baseTableName": null,
                    "columnName": "Address",
                    "columnOrdinal": 5,
                    "columnSize": 60,
                    "isAliased": null,
                    "isAutoIncrement": false,
                    "isExpression": null,
                    "isHidden": null,
                    "isIdentity": false,
                    "isKey": null,
                    "isLong": false,
                    "isReadOnly": false,
                    "isUnique": false,
                    "numericPrecision": 255,
                    "numericScale": 255,
                    "udtAssemblyQualifiedName": null,
                    "dataType": "System.String, System.Private.CoreLib, Version=4.0.0.0, Culture=neutral, PublicKeyToken=7cec85d7bea7798e",
                    "dataTypeName": "nvarchar"
                },
                {
                    "isBytes": false,
                    "isChars": true,
                    "isSqlVariant": false,
                    "isUdt": false,
                    "isXml": false,
                    "isJson": false,
                    "sqlDbType": 12,
                    "isHierarchyId": false,
                    "isSqlXmlType": false,
                    "isUnknownType": false,
                    "isUpdatable": true,
                    "allowDBNull": true,
                    "baseCatalogName": null,
                    "baseColumnName": null,
                    "baseSchemaName": null,
                    "baseServerName": null,
                    "baseTableName": null,
                    "columnName": "City",
                    "columnOrdinal": 6,
                    "columnSize": 15,
                    "isAliased": null,
                    "isAutoIncrement": false,
                    "isExpression": null,
                    "isHidden": null,
                    "isIdentity": false,
                    "isKey": null,
                    "isLong": false,
                    "isReadOnly": false,
                    "isUnique": false,
                    "numericPrecision": 255,
                    "numericScale": 255,
                    "udtAssemblyQualifiedName": null,
                    "dataType": "System.String, System.Private.CoreLib, Version=4.0.0.0, Culture=neutral, PublicKeyToken=7cec85d7bea7798e",
                    "dataTypeName": "nvarchar"
                },
                {
                    "isBytes": false,
                    "isChars": true,
                    "isSqlVariant": false,
                    "isUdt": false,
                    "isXml": false,
                    "isJson": false,
                    "sqlDbType": 12,
                    "isHierarchyId": false,
                    "isSqlXmlType": false,
                    "isUnknownType": false,
                    "isUpdatable": true,
                    "allowDBNull": true,
                    "baseCatalogName": null,
                    "baseColumnName": null,
                    "baseSchemaName": null,
                    "baseServerName": null,
                    "baseTableName": null,
                    "columnName": "Country",
                    "columnOrdinal": 7,
                    "columnSize": 15,
                    "isAliased": null,
                    "isAutoIncrement": false,
                    "isExpression": null,
                    "isHidden": null,
                    "isIdentity": false,
                    "isKey": null,
                    "isLong": false,
                    "isReadOnly": false,
                    "isUnique": false,
                    "numericPrecision": 255,
                    "numericScale": 255,
                    "udtAssemblyQualifiedName": null,
                    "dataType": "System.String, System.Private.CoreLib, Version=4.0.0.0, Culture=neutral, PublicKeyToken=7cec85d7bea7798e",
                    "dataTypeName": "nvarchar"
                }
            ],
            "specialAction": {
                "none": true,
                "expectYukonXMLShowPlan": false
            }
        }
    },
    "execution_count": 23,
    "data": {
        "application/vnd.dataresource+json": {
            "schema": {
                "fields": [
                    {
                        "name": "EmployeeID"
                    },
                    {
                        "name": "FirstName"
                    },
                    {
                        "name": "LastName"
                    },
                    {
                        "name": "Title"
                    },
                    {
                        "name": "BirthDate"
                    },
                    {
                        "name": "Address"
                    },
                    {
                        "name": "City"
                    },
                    {
                        "name": "Country"
                    }
                ]
            },
            "data": [
                {
                    "0": "1",
                    "1": "Nancy",
                    "2": "Davolio",
                    "3": "Sales Representative",
                    "4": "1948-12-08 00:00:00.000",
                    "5": "507 - 20th Ave. E.\r\nApt. 2A",
                    "6": "Seattle",
                    "7": "USA"
                },
                {
                    "0": "2",
                    "1": "Andrew",
                    "2": "Fuller",
                    "3": "Vice President, Sales",
                    "4": "1952-02-19 00:00:00.000",
                    "5": "908 W. Capital Way",
                    "6": "Tacoma",
                    "7": "USA"
                },
                {
                    "0": "3",
                    "1": "Janet",
                    "2": "Leverling",
                    "3": "Sales Representative",
                    "4": "1963-08-30 00:00:00.000",
                    "5": "722 Moss Bay Blvd.",
                    "6": "Kirkland",
                    "7": "USA"
                },
                {
                    "0": "8",
                    "1": "Laura",
                    "2": "Callahan",
                    "3": "Inside Sales Coordinator",
                    "4": "1958-01-09 00:00:00.000",
                    "5": "4726 - 11th Ave. N.E.",
                    "6": "Seattle",
                    "7": "USA"
                }
            ]
        },
        "text/html": [
            "<table>",
            "<tr><th>EmployeeID</th><th>FirstName</th><th>LastName</th><th>Title</th><th>BirthDate</th><th>Address</th><th>City</th><th>Country</th></tr>",
            "<tr><td>1</td><td>Nancy</td><td>Davolio</td><td>Sales Representative</td><td>1948-12-08 00:00:00.000</td><td>507 - 20th Ave. E.\r\nApt. 2A</td><td>Seattle</td><td>USA</td></tr>",
            "<tr><td>2</td><td>Andrew</td><td>Fuller</td><td>Vice President, Sales</td><td>1952-02-19 00:00:00.000</td><td>908 W. Capital Way</td><td>Tacoma</td><td>USA</td></tr>",
            "<tr><td>3</td><td>Janet</td><td>Leverling</td><td>Sales Representative</td><td>1963-08-30 00:00:00.000</td><td>722 Moss Bay Blvd.</td><td>Kirkland</td><td>USA</td></tr>",
            "<tr><td>8</td><td>Laura</td><td>Callahan</td><td>Inside Sales Coordinator</td><td>1958-01-09 00:00:00.000</td><td>4726 - 11th Ave. N.E.</td><td>Seattle</td><td>USA</td></tr>",
            "</table>"
        ]
    }
}, {
    "output_type": "execute_result",
    "metadata": {
        "resultSet": {
            "id": 2,
            "batchId": 0,
            "rowCount": 3,
            "complete": true,
            "columnInfo": [
                {
                    "isBytes": false,
                    "isChars": false,
                    "isSqlVariant": false,
                    "isUdt": false,
                    "isXml": false,
                    "isJson": false,
                    "sqlDbType": 8,
                    "isHierarchyId": false,
                    "isSqlXmlType": false,
                    "isUnknownType": false,
                    "isUpdatable": false,
                    "allowDBNull": false,
                    "baseCatalogName": null,
                    "baseColumnName": null,
                    "baseSchemaName": null,
                    "baseServerName": null,
                    "baseTableName": null,
                    "columnName": "EmployeeID",
                    "columnOrdinal": 0,
                    "columnSize": 4,
                    "isAliased": null,
                    "isAutoIncrement": true,
                    "isExpression": null,
                    "isHidden": null,
                    "isIdentity": true,
                    "isKey": null,
                    "isLong": false,
                    "isReadOnly": true,
                    "isUnique": false,
                    "numericPrecision": 10,
                    "numericScale": 255,
                    "udtAssemblyQualifiedName": null,
                    "dataType": "System.Int32, System.Private.CoreLib, Version=4.0.0.0, Culture=neutral, PublicKeyToken=7cec85d7bea7798e",
                    "dataTypeName": "int"
                },
                {
                    "isBytes": false,
                    "isChars": true,
                    "isSqlVariant": false,
                    "isUdt": false,
                    "isXml": false,
                    "isJson": false,
                    "sqlDbType": 12,
                    "isHierarchyId": false,
                    "isSqlXmlType": false,
                    "isUnknownType": false,
                    "isUpdatable": true,
                    "allowDBNull": false,
                    "baseCatalogName": null,
                    "baseColumnName": null,
                    "baseSchemaName": null,
                    "baseServerName": null,
                    "baseTableName": null,
                    "columnName": "FirstName",
                    "columnOrdinal": 1,
                    "columnSize": 10,
                    "isAliased": null,
                    "isAutoIncrement": false,
                    "isExpression": null,
                    "isHidden": null,
                    "isIdentity": false,
                    "isKey": null,
                    "isLong": false,
                    "isReadOnly": false,
                    "isUnique": false,
                    "numericPrecision": 255,
                    "numericScale": 255,
                    "udtAssemblyQualifiedName": null,
                    "dataType": "System.String, System.Private.CoreLib, Version=4.0.0.0, Culture=neutral, PublicKeyToken=7cec85d7bea7798e",
                    "dataTypeName": "nvarchar"
                },
                {
                    "isBytes": false,
                    "isChars": true,
                    "isSqlVariant": false,
                    "isUdt": false,
                    "isXml": false,
                    "isJson": false,
                    "sqlDbType": 12,
                    "isHierarchyId": false,
                    "isSqlXmlType": false,
                    "isUnknownType": false,
                    "isUpdatable": true,
                    "allowDBNull": false,
                    "baseCatalogName": null,
                    "baseColumnName": null,
                    "baseSchemaName": null,
                    "baseServerName": null,
                    "baseTableName": null,
                    "columnName": "LastName",
                    "columnOrdinal": 2,
                    "columnSize": 20,
                    "isAliased": null,
                    "isAutoIncrement": false,
                    "isExpression": null,
                    "isHidden": null,
                    "isIdentity": false,
                    "isKey": null,
                    "isLong": false,
                    "isReadOnly": false,
                    "isUnique": false,
                    "numericPrecision": 255,
                    "numericScale": 255,
                    "udtAssemblyQualifiedName": null,
                    "dataType": "System.String, System.Private.CoreLib, Version=4.0.0.0, Culture=neutral, PublicKeyToken=7cec85d7bea7798e",
                    "dataTypeName": "nvarchar"
                },
                {
                    "isBytes": false,
                    "isChars": true,
                    "isSqlVariant": false,
                    "isUdt": false,
                    "isXml": false,
                    "isJson": false,
                    "sqlDbType": 12,
                    "isHierarchyId": false,
                    "isSqlXmlType": false,
                    "isUnknownType": false,
                    "isUpdatable": true,
                    "allowDBNull": true,
                    "baseCatalogName": null,
                    "baseColumnName": null,
                    "baseSchemaName": null,
                    "baseServerName": null,
                    "baseTableName": null,
                    "columnName": "Title",
                    "columnOrdinal": 3,
                    "columnSize": 30,
                    "isAliased": null,
                    "isAutoIncrement": false,
                    "isExpression": null,
                    "isHidden": null,
                    "isIdentity": false,
                    "isKey": null,
                    "isLong": false,
                    "isReadOnly": false,
                    "isUnique": false,
                    "numericPrecision": 255,
                    "numericScale": 255,
                    "udtAssemblyQualifiedName": null,
                    "dataType": "System.String, System.Private.CoreLib, Version=4.0.0.0, Culture=neutral, PublicKeyToken=7cec85d7bea7798e",
                    "dataTypeName": "nvarchar"
                },
                {
                    "isBytes": false,
                    "isChars": false,
                    "isSqlVariant": false,
                    "isUdt": false,
                    "isXml": false,
                    "isJson": false,
                    "sqlDbType": 4,
                    "isHierarchyId": false,
                    "isSqlXmlType": false,
                    "isUnknownType": false,
                    "isUpdatable": true,
                    "allowDBNull": true,
                    "baseCatalogName": null,
                    "baseColumnName": null,
                    "baseSchemaName": null,
                    "baseServerName": null,
                    "baseTableName": null,
                    "columnName": "BirthDate",
                    "columnOrdinal": 4,
                    "columnSize": 8,
                    "isAliased": null,
                    "isAutoIncrement": false,
                    "isExpression": null,
                    "isHidden": null,
                    "isIdentity": false,
                    "isKey": null,
                    "isLong": false,
                    "isReadOnly": false,
                    "isUnique": false,
                    "numericPrecision": 23,
                    "numericScale": 3,
                    "udtAssemblyQualifiedName": null,
                    "dataType": "System.DateTime, System.Private.CoreLib, Version=4.0.0.0, Culture=neutral, PublicKeyToken=7cec85d7bea7798e",
                    "dataTypeName": "datetime"
                },
                {
                    "isBytes": false,
                    "isChars": true,
                    "isSqlVariant": false,
                    "isUdt": false,
                    "isXml": false,
                    "isJson": false,
                    "sqlDbType": 12,
                    "isHierarchyId": false,
                    "isSqlXmlType": false,
                    "isUnknownType": false,
                    "isUpdatable": true,
                    "allowDBNull": true,
                    "baseCatalogName": null,
                    "baseColumnName": null,
                    "baseSchemaName": null,
                    "baseServerName": null,
                    "baseTableName": null,
                    "columnName": "Address",
                    "columnOrdinal": 5,
                    "columnSize": 60,
                    "isAliased": null,
                    "isAutoIncrement": false,
                    "isExpression": null,
                    "isHidden": null,
                    "isIdentity": false,
                    "isKey": null,
                    "isLong": false,
                    "isReadOnly": false,
                    "isUnique": false,
                    "numericPrecision": 255,
                    "numericScale": 255,
                    "udtAssemblyQualifiedName": null,
                    "dataType": "System.String, System.Private.CoreLib, Version=4.0.0.0, Culture=neutral, PublicKeyToken=7cec85d7bea7798e",
                    "dataTypeName": "nvarchar"
                },
                {
                    "isBytes": false,
                    "isChars": true,
                    "isSqlVariant": false,
                    "isUdt": false,
                    "isXml": false,
                    "isJson": false,
                    "sqlDbType": 12,
                    "isHierarchyId": false,
                    "isSqlXmlType": false,
                    "isUnknownType": false,
                    "isUpdatable": true,
                    "allowDBNull": true,
                    "baseCatalogName": null,
                    "baseColumnName": null,
                    "baseSchemaName": null,
                    "baseServerName": null,
                    "baseTableName": null,
                    "columnName": "City",
                    "columnOrdinal": 6,
                    "columnSize": 15,
                    "isAliased": null,
                    "isAutoIncrement": false,
                    "isExpression": null,
                    "isHidden": null,
                    "isIdentity": false,
                    "isKey": null,
                    "isLong": false,
                    "isReadOnly": false,
                    "isUnique": false,
                    "numericPrecision": 255,
                    "numericScale": 255,
                    "udtAssemblyQualifiedName": null,
                    "dataType": "System.String, System.Private.CoreLib, Version=4.0.0.0, Culture=neutral, PublicKeyToken=7cec85d7bea7798e",
                    "dataTypeName": "nvarchar"
                },
                {
                    "isBytes": false,
                    "isChars": true,
                    "isSqlVariant": false,
                    "isUdt": false,
                    "isXml": false,
                    "isJson": false,
                    "sqlDbType": 12,
                    "isHierarchyId": false,
                    "isSqlXmlType": false,
                    "isUnknownType": false,
                    "isUpdatable": true,
                    "allowDBNull": true,
                    "baseCatalogName": null,
                    "baseColumnName": null,
                    "baseSchemaName": null,
                    "baseServerName": null,
                    "baseTableName": null,
                    "columnName": "Country",
                    "columnOrdinal": 7,
                    "columnSize": 15,
                    "isAliased": null,
                    "isAutoIncrement": false,
                    "isExpression": null,
                    "isHidden": null,
                    "isIdentity": false,
                    "isKey": null,
                    "isLong": false,
                    "isReadOnly": false,
                    "isUnique": false,
                    "numericPrecision": 255,
                    "numericScale": 255,
                    "udtAssemblyQualifiedName": null,
                    "dataType": "System.String, System.Private.CoreLib, Version=4.0.0.0, Culture=neutral, PublicKeyToken=7cec85d7bea7798e",
                    "dataTypeName": "nvarchar"
                }
            ],
            "specialAction": {
                "none": true,
                "expectYukonXMLShowPlan": false
            }
        }
    },
    "execution_count": 23,
    "data": {
        "application/vnd.dataresource+json": {
            "schema": {
                "fields": [
                    {
                        "name": "EmployeeID"
                    },
                    {
                        "name": "FirstName"
                    },
                    {
                        "name": "LastName"
                    },
                    {
                        "name": "Title"
                    },
                    {
                        "name": "BirthDate"
                    },
                    {
                        "name": "Address"
                    },
                    {
                        "name": "City"
                    },
                    {
                        "name": "Country"
                    }
                ]
            },
            "data": [
                {
                    "0": "1",
                    "1": "Nancy",
                    "2": "Davolio",
                    "3": "Sales Representative",
                    "4": "1948-12-08 00:00:00.000",
                    "5": "507 - 20th Ave. E.\r\nApt. 2A",
                    "6": "Seattle",
                    "7": "USA"
                },
                {
                    "0": "4",
                    "1": "Margaret",
                    "2": "Peacock",
                    "3": "Sales Representative",
                    "4": "1937-09-19 00:00:00.000",
                    "5": "4110 Old Redmond Rd.",
                    "6": "Redmond",
                    "7": "USA"
                },
                {
                    "0": "8",
                    "1": "Laura",
                    "2": "Callahan",
                    "3": "Inside Sales Coordinator",
                    "4": "1958-01-09 00:00:00.000",
                    "5": "4726 - 11th Ave. N.E.",
                    "6": "Seattle",
                    "7": "USA"
                }
            ]
        },
        "text/html": [
            "<table>",
            "<tr><th>EmployeeID</th><th>FirstName</th><th>LastName</th><th>Title</th><th>BirthDate</th><th>Address</th><th>City</th><th>Country</th></tr>",
            "<tr><td>1</td><td>Nancy</td><td>Davolio</td><td>Sales Representative</td><td>1948-12-08 00:00:00.000</td><td>507 - 20th Ave. E.\r\nApt. 2A</td><td>Seattle</td><td>USA</td></tr>",
            "<tr><td>4</td><td>Margaret</td><td>Peacock</td><td>Sales Representative</td><td>1937-09-19 00:00:00.000</td><td>4110 Old Redmond Rd.</td><td>Redmond</td><td>USA</td></tr>",
            "<tr><td>8</td><td>Laura</td><td>Callahan</td><td>Inside Sales Coordinator</td><td>1958-01-09 00:00:00.000</td><td>4726 - 11th Ave. N.E.</td><td>Seattle</td><td>USA</td></tr>",
            "</table>"
        ]
    }
}
],
            "execution_count": 23
        },
        {
            "cell_type": "markdown",
            "source": [
                "## Zadania B\r\n",
                "\r\n",
                "1. Wyświetl zamówienia przypisane do pracownika 9\r\n",
                "2. Wyświetl zamówienia złożone przez klienta QUICK\r\n",
                "3. Wyświetl zamówienia złożone przez klineta QUICK i przypisane do pracownika 9\r\n",
                "4. Wyświetl zamówienia z Polski, Niemiec i Francji\r\n",
                "5. Wyświetl zamówienia z 30 kwietnia 1997\r\n",
                "6. Wyświetl zamówienia z 1997 roku\r\n",
                "7. Wyświetl zamówienia złożone przez klientów, których kod zaczyna się na M i kończy na D\r\n",
                "8. Wyświetl klientów (tabela Customers), których nazwisko kończy się na ski\r\n",
                "9. Wyświetl klientów (tabela Customers), których nazwisko kończy się na ski lub wicz\r\n",
                "10. Wyświetl klientów którzy mają niezdefiniowaną informację o Regionie"
            ],
            "metadata": {
                "azdata_cell_guid": "5cfff5df-a01a-4852-9a7f-153bb960c7d8"
            }
        }
    ]
}